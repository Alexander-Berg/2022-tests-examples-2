{
 "cells": [
  {
   "cell_type": "code",
   "execution_count": 1,
   "metadata": {},
   "outputs": [],
   "source": [
    "import vault_client\n",
    "import getpass\n",
    "\n",
    "from os.path import expanduser\n",
    "import json\n",
    "\n",
    "def get_config():\n",
    "    home = expanduser(\"~\")\n",
    "    \n",
    "    with open(home + '/config.json') as f:\n",
    "        config_data = f.read()\n",
    "    config = json.loads(config_data)\n",
    "    return config\n",
    "\n",
    "yav = vault_client.instances.Production(\n",
    "    rsa_login='miptgirl', \n",
    "    authorization='OAuth {}'.format(get_config()['vault_api_token']),)\n",
    "\n",
    "ver = 'ver-01dssnc1zdezgbfd48xhj9j9xn'\n",
    "YT_TOKEN = yav.get_version(ver)['value']['yt_token']\n",
    "YQL_TOKEN = yav.get_version(ver)['value']['yql_token']\n",
    "SOLOMON_TOKEN = yav.get_version(ver)['value']['solomon_token']\n",
    "\n",
    "def df_to_wiki(df, show_index = False):\n",
    "    print('#|\\n ||' + df.to_csv(index = show_index, sep = '|').replace('|', ' | ').replace('\\n', '|| \\n ||')[:-2] + '|#')"
   ]
  },
  {
   "cell_type": "code",
   "execution_count": 2,
   "metadata": {},
   "outputs": [],
   "source": [
    "import io\n",
    "import time\n",
    "import pandas as pd\n",
    "import datetime\n",
    "\n",
    "HOST = 'http://mtgray03k.yandex.ru:8123'\n",
    "HOST = 'http://mtlog01-01-1.yandex.ru:8123'\n",
    "HOST = 'http://clickhouse.metrika.yandex.net:8123'\n",
    "#HOST = 'http://mtsmart001-1.yandex.ru:8123'\n",
    "HOST = 'http://mtch01k.metrika.yandex.net:8123'\n",
    "\n",
    "import requests\n",
    "import http.client  # or http.client if you're on Python 3\n",
    "http.client._MAXHEADERS = 100000\n",
    "\n",
    "def get_clickhouse_data(query, host = HOST, connection_timeout = 1500):\n",
    "    NUMBER_OF_TRIES = 30\n",
    "    DELAY = 10\n",
    "    \n",
    "    for i in range(NUMBER_OF_TRIES):\n",
    "        r = requests.post(host, \n",
    "                          params = {'timeout_before_checking_execution_speed': 120}, \n",
    "                          timeout = connection_timeout, data = query,\n",
    "                          auth = ('miptgirl', '1QwBgINk')\n",
    "                         )\n",
    "        if (r.status_code == 200) and ('DB:Exception' not in r.text):\n",
    "            return r.text\n",
    "        else:\n",
    "            print('ATTENTION: try #%d failed' % i)\n",
    "            if i != (NUMBER_OF_TRIES-1):\n",
    "                #print query\n",
    "                print(r.text)\n",
    "                time.sleep(DELAY*(i+1))\n",
    "            else:\n",
    "                raise ValueError(r.text)\n",
    "        \n",
    "def get_clickhouse_df(query, host = HOST, connection_timeout = 1500):\n",
    "    data = get_clickhouse_data(query, host, connection_timeout) \n",
    "    df = pd.read_csv(io.StringIO(data), sep = '\\t')\n",
    "    return df\n",
    "\n",
    "def upload(table, content, host=HOST):\n",
    "    '''Uploads data to table in ClickHous'''\n",
    "    content = content.encode('utf-8')\n",
    "    query_dict = {\n",
    "             'query': 'INSERT INTO ' + table + ' FORMAT TabSeparatedWithNames '\n",
    "        }\n",
    "    r = requests.post(host, data=content, params=query_dict, auth = ('miptgirl', '1QwBgINk'))\n",
    "    result = r.text\n",
    "    if r.status_code == 200:\n",
    "        return result\n",
    "    else:\n",
    "        raise ValueError(r.text)"
   ]
  },
  {
   "cell_type": "code",
   "execution_count": 52,
   "metadata": {},
   "outputs": [],
   "source": [
    "q = \"\"\"\n",
    "select extract(x, '\\\\(([0-9]+)\\\\)')\n",
    "from (select arrayJoin(['(0)', '(10)']) as x)\n",
    "format TSVWithNames\n",
    "\"\"\".format(date_start = '2020-09-10', date_end = '2020-09-10')\n",
    "\n",
    "q = \"\"\"\n",
    "select match(x, '^https?://yandex.[\\\\\\w\\\\\\.]{{2,}}/?$') as ya\n",
    "from (select arrayJoin(['http://yandex.ru', 'http://bla.com']) as x)\n",
    "format TSVWithNames\n",
    "\"\"\".format(date_start = '2020-09-10', date_end = '2020-09-10')\n",
    "\n"
   ]
  },
  {
   "cell_type": "code",
   "execution_count": 64,
   "metadata": {},
   "outputs": [],
   "source": [
    "q = \"\"\"\n",
    "select match(x, '^([a-z0-9]([a-z0-9_\\\\\\-]{{0,61}}[a-z0-9_])?\\\\\\.)+(xn\\\\\\-\\\\\\-[a-z0-9\\\\\\-]{{2,}}|[a-z]{{2,}})$') as ya\n",
    "from (select arrayJoin(['yandex.ru', 'bla.com']) as x)\n",
    "format TSVWithNames\n",
    "\"\"\".format(date_start = '2020-09-10', date_end = '2020-09-10')\n",
    "\n",
    "\n",
    "q = r\"\"\"\n",
    "select match(x, '(\\\\w+)') as ya\n",
    "from (select arrayJoin(['yandex', 'bla']) as x)\n",
    "format TSVWithNames\n",
    "\"\"\".format(date_start = '2020-09-10', date_end = '2020-09-10')"
   ]
  },
  {
   "cell_type": "code",
   "execution_count": 65,
   "metadata": {},
   "outputs": [
    {
     "data": {
      "text/html": [
       "<div>\n",
       "<style scoped>\n",
       "    .dataframe tbody tr th:only-of-type {\n",
       "        vertical-align: middle;\n",
       "    }\n",
       "\n",
       "    .dataframe tbody tr th {\n",
       "        vertical-align: top;\n",
       "    }\n",
       "\n",
       "    .dataframe thead th {\n",
       "        text-align: right;\n",
       "    }\n",
       "</style>\n",
       "<table border=\"1\" class=\"dataframe\">\n",
       "  <thead>\n",
       "    <tr style=\"text-align: right;\">\n",
       "      <th></th>\n",
       "      <th>ya</th>\n",
       "    </tr>\n",
       "  </thead>\n",
       "  <tbody>\n",
       "    <tr>\n",
       "      <th>0</th>\n",
       "      <td>1</td>\n",
       "    </tr>\n",
       "    <tr>\n",
       "      <th>1</th>\n",
       "      <td>1</td>\n",
       "    </tr>\n",
       "  </tbody>\n",
       "</table>\n",
       "</div>"
      ],
      "text/plain": [
       "   ya\n",
       "0   1\n",
       "1   1"
      ]
     },
     "execution_count": 65,
     "metadata": {},
     "output_type": "execute_result"
    }
   ],
   "source": [
    "get_clickhouse_df(q, 'http://mtgiga001-1.metrika.yandex.net:8123')"
   ]
  },
  {
   "cell_type": "code",
   "execution_count": 66,
   "metadata": {},
   "outputs": [
    {
     "data": {
      "text/html": [
       "<div>\n",
       "<style scoped>\n",
       "    .dataframe tbody tr th:only-of-type {\n",
       "        vertical-align: middle;\n",
       "    }\n",
       "\n",
       "    .dataframe tbody tr th {\n",
       "        vertical-align: top;\n",
       "    }\n",
       "\n",
       "    .dataframe thead th {\n",
       "        text-align: right;\n",
       "    }\n",
       "</style>\n",
       "<table border=\"1\" class=\"dataframe\">\n",
       "  <thead>\n",
       "    <tr style=\"text-align: right;\">\n",
       "      <th></th>\n",
       "      <th>ya</th>\n",
       "    </tr>\n",
       "  </thead>\n",
       "  <tbody>\n",
       "    <tr>\n",
       "      <th>0</th>\n",
       "      <td>1</td>\n",
       "    </tr>\n",
       "    <tr>\n",
       "      <th>1</th>\n",
       "      <td>1</td>\n",
       "    </tr>\n",
       "  </tbody>\n",
       "</table>\n",
       "</div>"
      ],
      "text/plain": [
       "   ya\n",
       "0   1\n",
       "1   1"
      ]
     },
     "execution_count": 66,
     "metadata": {},
     "output_type": "execute_result"
    }
   ],
   "source": [
    "get_clickhouse_df(q, 'http://mtgiga001-1t.metrika.yandex.net:8123')"
   ]
  },
  {
   "cell_type": "code",
   "execution_count": 39,
   "metadata": {},
   "outputs": [
    {
     "name": "stdout",
     "output_type": "stream",
     "text": [
      "\\\\w\n"
     ]
    }
   ],
   "source": [
    "print('\\\\\\\\w')"
   ]
  },
  {
   "cell_type": "code",
   "execution_count": null,
   "metadata": {},
   "outputs": [],
   "source": []
  }
 ],
 "metadata": {
  "kernelspec": {
   "display_name": "jupyterenv",
   "language": "python",
   "name": "jupyterenv"
  },
  "language_info": {
   "codemirror_mode": {
    "name": "ipython",
    "version": 3
   },
   "file_extension": ".py",
   "mimetype": "text/x-python",
   "name": "python",
   "nbconvert_exporter": "python",
   "pygments_lexer": "ipython3",
   "version": "3.7.8"
  }
 },
 "nbformat": 4,
 "nbformat_minor": 4
}
