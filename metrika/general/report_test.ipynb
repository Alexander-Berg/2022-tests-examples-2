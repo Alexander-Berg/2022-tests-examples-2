{
 "cells": [
  {
   "cell_type": "code",
   "execution_count": null,
   "metadata": {
    "collapsed": true
   },
   "outputs": [],
   "source": [
    "from os.path import expanduser\n",
    "import json\n",
    "\n",
    "def get_config():\n",
    "    home = expanduser(\"~\")\n",
    "    \n",
    "    with open(home + '/config.json') as f:\n",
    "        config_data = f.read()\n",
    "    config = json.loads(config_data)\n",
    "    return config\n",
    "\n",
    "YT_TOKEN = get_config()['miptgirl_yt_token']"
   ]
  },
  {
   "cell_type": "code",
   "execution_count": 17,
   "metadata": {
    "collapsed": true
   },
   "outputs": [],
   "source": [
    "# -*- coding: utf-8 -*-\n",
    "from yql.api.v1.client import YqlClient\n",
    "\n",
    "from nile.api.v1 import (\n",
    "    clusters,\n",
    "    aggregators as na,\n",
    "    extractors as ne,\n",
    "    filters as nf,\n",
    "    Record\n",
    ")\n",
    "\n",
    "import pandas as pd\n",
    "import datetime\n",
    "import requests\n",
    "\n",
    "yql_query_tmpl = '''\n",
    "use hahn;\n",
    "pragma yt.Pool = 'search-research';\n",
    "\n",
    "$is_page_view = Re2::Match('(?:^|.*:)pv:1(?:$|:.*)');\n",
    "\n",
    "$script = @@\n",
    "def get_date(datetime):\n",
    "    return datetime.split()[0]\n",
    "@@;\n",
    "\n",
    "$date = Python::get_date( \n",
    "    \"(String?)->String?\",  \n",
    "    $script                             \n",
    ");\n",
    "\n",
    "insert into [home/metrica-analytics/miptgirl/itp_wo_yuids_versions]\n",
    "with truncate\n",
    "    select\n",
    "        date,\n",
    "        browser,\n",
    "        os_family, \n",
    "        os_version,\n",
    "        count(*) as total_hits,\n",
    "        count_if(uniqid = '0') as hits_wo_yuid\n",
    "    from\n",
    "        (select\n",
    "        \t'<date>' as date,\n",
    "            uniqid,\n",
    "            UserAgent::Parse(useragent).BrowserName as browser,\n",
    "            UserAgent::Parse(useragent).OSFamily as os_family,\n",
    "            UserAgent::Parse(useragent).OSVersion as os_version\n",
    "        from range('statbox/bs-watch-log', '<date>', '<date>')\n",
    "        where $is_page_view(browserinfo)\n",
    "            and UserAgent::Parse(useragent).OSFamily in ('iOS', 'MacOS')\n",
    "            and UserAgent::Parse(useragent).BrowserName in ('Safari', 'MobileSafari')\n",
    "        )\n",
    "    group by \n",
    "        browser, \n",
    "        os_family, \n",
    "        date, \n",
    "        os_version;\n",
    "\t'''\n",
    "\n",
    "import time\n",
    "def post_to_stat(values, report):\n",
    "\n",
    "    \"\"\"POST new data for statisticts\"\"\"\n",
    "    headers = {\n",
    "        'User-Agent': 'Mozilla/4.0 (compatible; MSIE 7.0; Windows NT 6.0)',\n",
    "        'StatRobotUser': 'robot_miptgirl',\n",
    "        'StatRobotPassword': 'Poe1aich2D'\n",
    "    }\n",
    "\n",
    "    data = {\n",
    "        'name': 'Metrika/%s' % report,\n",
    "        'scale': 'd',\n",
    "        'tsv_data': values\n",
    "    }\n",
    "    NUMBER_OF_TRIES = 10\n",
    "    DELAY = 10\n",
    "    for i in range(NUMBER_OF_TRIES):\n",
    "        time.sleep(DELAY*i)\n",
    "        r = requests.post('https://upload.stat.yandex-team.ru/_api/report/data', data=data, headers=headers)\n",
    "        if r.status_code == 200:\n",
    "            return r.text\n",
    "        else:\n",
    "            print 'request failed, attemp %d' % (i+1)\n",
    "            \n",
    "            if i == NUMBER_OF_TRIES - 1:\n",
    "                print '#### operation failed'\n",
    "                raise ValueError, r.text "
   ]
  },
  {
   "cell_type": "code",
   "execution_count": 2,
   "metadata": {
    "collapsed": true
   },
   "outputs": [],
   "source": [
    "date = datetime.datetime.today() - datetime.timedelta(1)\n",
    "date_str = date.strftime('%Y-%m-%d')"
   ]
  },
  {
   "cell_type": "code",
   "execution_count": 4,
   "metadata": {
    "collapsed": true
   },
   "outputs": [],
   "source": [
    "yql_query = yql_query_tmpl.replace('<date>', date_str)"
   ]
  },
  {
   "cell_type": "code",
   "execution_count": 6,
   "metadata": {
    "collapsed": false
   },
   "outputs": [
    {
     "name": "stdout",
     "output_type": "stream",
     "text": [
      "\u001b[92mQuery completed successfully.\u001b[0m\n",
      "CPU times: user 1.42 s, sys: 80 ms, total: 1.5 s\n",
      "Wall time: 45min 19s\n"
     ]
    }
   ],
   "source": [
    "%%time\n",
    "with YqlClient(db=\"hahn\", token='AQAD-qJSJkXyAAADvoy7R0K3hEGjl1zFYdu5_m8') as client:\n",
    "    yql_insert = client.query(yql_query)\n",
    "    yql_insert.run()\n",
    "    print yql_insert"
   ]
  },
  {
   "cell_type": "code",
   "execution_count": 7,
   "metadata": {
    "collapsed": true
   },
   "outputs": [],
   "source": [
    "cluster = clusters.Hahn(token = YT_TOKEN).env()\n",
    "df = cluster.read('home/metrica-analytics/miptgirl/itp_wo_yuids_versions').as_dataframe()"
   ]
  },
  {
   "cell_type": "code",
   "execution_count": 9,
   "metadata": {
    "collapsed": true
   },
   "outputs": [],
   "source": [
    "ios_df = df[df.os_family == 'iOS'].copy()\n",
    "\n",
    "ios_df['os_version_group'] = map(\n",
    "    lambda x: '.'.join(x.split('.')[:2]) if str(x).startswith('11.') else 'older versions',\n",
    "    ios_df.os_version\n",
    ")"
   ]
  },
  {
   "cell_type": "code",
   "execution_count": 10,
   "metadata": {
    "collapsed": true
   },
   "outputs": [],
   "source": [
    "ios_versions_df = ios_df.pivot_table(index = 'date', columns = 'os_version_group', values = 'total_hits', aggfunc = sum)"
   ]
  },
  {
   "cell_type": "code",
   "execution_count": 11,
   "metadata": {
    "collapsed": true
   },
   "outputs": [],
   "source": [
    "ios_versions_df_wo_yuid = ios_df.pivot_table(index = 'date', columns = 'os_version_group', values = 'hits_wo_yuid', aggfunc = sum)"
   ]
  },
  {
   "cell_type": "code",
   "execution_count": 12,
   "metadata": {
    "collapsed": true
   },
   "outputs": [],
   "source": [
    "ios_df_aggr = ios_df.groupby(['date', 'os_version_group', 'browser', 'os_family'], as_index=False).sum()\n",
    "ios_df_aggr['hits_wo_yuid_share'] = ios_df_aggr.hits_wo_yuid/ios_df_aggr.total_hits\n",
    "ios_df_aggr_total = ios_df.groupby(['date', 'browser', 'os_family'], as_index = False)[['total_hits']].sum()\n",
    "ios_df_aggr_total.columns = [u'date', u'browser', u'os_family', u'slice_total_hits']\n",
    "ios_df_aggr_mrgd = ios_df_aggr.merge(ios_df_aggr_total, \n",
    "                 on = ['date', 'browser', 'os_family'])\n",
    "ios_df_aggr_mrgd['os_version_share'] = ios_df_aggr_mrgd.total_hits/ios_df_aggr_mrgd.slice_total_hits\n",
    "ios_df_aggr_mrgd.drop('slice_total_hits', axis = 1, inplace = True)"
   ]
  },
  {
   "cell_type": "code",
   "execution_count": 13,
   "metadata": {
    "collapsed": true
   },
   "outputs": [],
   "source": [
    "ios_df_aggr_mrgd.columns = map(lambda x: x if x != 'date' else 'fielddate', ios_df_aggr_mrgd.columns)\n",
    "ios_df_aggr_mrgd.columns = map(lambda x: x if x != 'os_version_group' else 'os_version', ios_df_aggr_mrgd.columns)"
   ]
  },
  {
   "cell_type": "code",
   "execution_count": 18,
   "metadata": {
    "collapsed": false
   },
   "outputs": [
    {
     "name": "stdout",
     "output_type": "stream",
     "text": [
      "{\"message\":\"Данные успешно загружены. Загружено строк: 6\"}\n"
     ]
    }
   ],
   "source": [
    "print post_to_stat(ios_df_aggr_mrgd.to_csv(index = False, sep = '\\t'), 'ITP/minor_version_stats')"
   ]
  },
  {
   "cell_type": "code",
   "execution_count": null,
   "metadata": {
    "collapsed": true
   },
   "outputs": [],
   "source": []
  }
 ],
 "metadata": {
  "kernelspec": {
   "display_name": "Python 2",
   "language": "python",
   "name": "python2"
  },
  "language_info": {
   "codemirror_mode": {
    "name": "ipython",
    "version": 2
   },
   "file_extension": ".py",
   "mimetype": "text/x-python",
   "name": "python",
   "nbconvert_exporter": "python",
   "pygments_lexer": "ipython2",
   "version": "2.7.13"
  }
 },
 "nbformat": 4,
 "nbformat_minor": 2
}
