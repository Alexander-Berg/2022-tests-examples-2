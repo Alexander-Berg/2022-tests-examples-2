{
 "cells": [
  {
   "cell_type": "code",
   "execution_count": 1,
   "metadata": {
    "collapsed": true
   },
   "outputs": [],
   "source": [
    "from nile.api.v1 import (\n",
    "    clusters,\n",
    "    aggregators as na,\n",
    "    filters as nf,\n",
    "    extractors as ne,\n",
    "    Record\n",
    ")\n",
    "\n",
    "import json\n",
    "from qb2.api.v1 import filters as sf, extractors as se\n",
    "\n",
    "import datetime\n",
    "import pandas as pd\n",
    "import re"
   ]
  },
  {
   "cell_type": "code",
   "execution_count": 2,
   "metadata": {
    "collapsed": true
   },
   "outputs": [],
   "source": [
    "cluster = clusters.Hahn().env(\n",
    "    templates=dict(\n",
    "        # date='{2017-01-16..2017-01-22}'\n",
    "        date='{2017-12-18..2017-12-18}'\n",
    "    )\n",
    ")"
   ]
  },
  {
   "cell_type": "code",
   "execution_count": 6,
   "metadata": {
    "collapsed": true
   },
   "outputs": [],
   "source": [
    "def extract(records):\n",
    "    for record in records:\n",
    "        if record.type != '2':\n",
    "            continue\n",
    "        url = record.url\n",
    "        try:\n",
    "            parsed = json.loads(record.data)\n",
    "        except:\n",
    "            continue\n",
    "            \n",
    "        if parsed is None:\n",
    "            continue \n",
    "            \n",
    "        for event in parsed:\n",
    "            if (event is not None) and ('type' in event) and (event['type'] == 'event'):\n",
    "#                 yield Record(event = event, url = url)\n",
    "                try:\n",
    "                    data_parsed = json.loads(event['data'])\n",
    "                except:\n",
    "                    data_parsed = {}\n",
    "                    \n",
    "                stamp = ''\n",
    "                if (event is not None) and ('stamp' in event):\n",
    "                    stamp = event['stamp']\n",
    "                    \n",
    "                event_type = ''\n",
    "                if (data_parsed is not None) and ('type' in data_parsed):\n",
    "                    event_type = data_parsed['type']\n",
    "                \n",
    "                yield Record(\n",
    "                    event = event, \n",
    "                    data_parsed = data_parsed, \n",
    "                    event_type = event_type,\n",
    "                    url = record.url,\n",
    "                    uniqid = record.uniqid,\n",
    "                    counterid = record.counterid,\n",
    "                    hit = record.hit,\n",
    "                    requestid = record.requestid,\n",
    "                    part = record.part,\n",
    "                    unixtime = record.unixtime,\n",
    "                    stamp = stamp\n",
    "                )\n"
   ]
  },
  {
   "cell_type": "code",
   "execution_count": 7,
   "metadata": {},
   "outputs": [
    {
     "data": {
      "image/png": "[encoded data removed]",
      "image/svg+xml": [
       "<?xml version=\"1.0\" encoding=\"UTF-8\" standalone=\"no\"?>\n",
       "<!DOCTYPE svg PUBLIC \"-//W3C//DTD SVG 1.1//EN\"\n",
       " \"http://www.w3.org/Graphics/SVG/1.1/DTD/svg11.dtd\">\n",
       "<!-- Generated by graphviz version 2.26.3 (20100126.1600)\n",
       " -->\n",
       "<!-- Title: G139832359152656 Pages: 1 -->\n",
       "<svg width=\"250pt\" height=\"184pt\"\n",
       " viewBox=\"0.00 0.00 250.00 184.00\" xmlns=\"http://www.w3.org/2000/svg\" xmlns:xlink=\"http://www.w3.org/1999/xlink\">\n",
       "<g id=\"graph1\" class=\"graph\" transform=\"scale(1 1) rotate(0) translate(4 180)\">\n",
       "<title>G139832359152656</title>\n",
       "<polygon fill=\"white\" stroke=\"white\" points=\"-4,5 -4,-180 247,-180 247,5 -4,5\"/>\n",
       "<!-- 139832359323472 -->\n",
       "<g id=\"node1\" class=\"node\"><title>139832359323472</title>\n",
       "<polygon fill=\"#eeeeee\" stroke=\"#eeeeee\" points=\"8,-90 8,-172 235,-172 235,-90 8,-90\"/>\n",
       "<polygon fill=\"#b2df8a\" stroke=\"#b2df8a\" points=\"13,-126 13,-167 230,-167 230,-126 13,-126\"/>\n",
       "<text text-anchor=\"start\" x=\"107.5\" y=\"-149.233\" font-family=\"arial\" font-size=\"14.00\">Map</text>\n",
       "<text text-anchor=\"start\" x=\"106\" y=\"-135.667\" font-family=\"arial\" font-size=\"10.00\">extract</text>\n",
       "<text text-anchor=\"start\" x=\"15.5\" y=\"-111.667\" font-family=\"arial\" font-size=\"10.00\">logs/bs&#45;webvisor&#45;log/1d/{2017&#45;12&#45;18..2017&#45;12&#45;18}</text>\n",
       "<text text-anchor=\"start\" x=\"16.5\" y=\"-99.6667\" font-family=\"arial\" font-size=\"10.00\">home/metrica&#45;analytics/miptgirl/wv2_notype_raw</text>\n",
       "</g>\n",
       "<!-- 139831201763152 -->\n",
       "<g id=\"node2\" class=\"node\"><title>139831201763152</title>\n",
       "<polygon fill=\"#eeeeee\" stroke=\"#eeeeee\" points=\"9,-4 9,-74 234,-74 234,-4 9,-4\"/>\n",
       "<polygon fill=\"#cab2d6\" stroke=\"#cab2d6\" points=\"14,-40 14,-69 229,-69 229,-40 14,-40\"/>\n",
       "<text text-anchor=\"start\" x=\"101\" y=\"-51.2333\" font-family=\"arial\" font-size=\"14.00\">Merge</text>\n",
       "<text text-anchor=\"start\" x=\"16.5\" y=\"-25.6667\" font-family=\"arial\" font-size=\"10.00\">home/metrica&#45;analytics/miptgirl/wv2_notype_raw</text>\n",
       "<text text-anchor=\"start\" x=\"16.5\" y=\"-13.6667\" font-family=\"arial\" font-size=\"10.00\">home/metrica&#45;analytics/miptgirl/wv2_notype_raw</text>\n",
       "</g>\n",
       "<!-- 139832359323472&#45;&gt;139831201763152 -->\n",
       "<g id=\"edge2\" class=\"edge\"><title>139832359323472:139832359323472&#45;&gt;139831201763152:139831201763152</title>\n",
       "<path fill=\"none\" stroke=\"#888888\" stroke-width=\"0.5\" d=\"M121,-89.8436C121,-84.5809 121,-79.2327 121,-74.0786\"/>\n",
       "</g>\n",
       "</g>\n",
       "</svg>\n"
      ],
      "text/plain": [
       "<nile.drivers.yt.command.YTCommandsGraph at 0x7f2d42186c10>"
      ]
     },
     "execution_count": 7,
     "metadata": {},
     "output_type": "execute_result"
    }
   ],
   "source": [
    "job = cluster.job()\n",
    "\n",
    "log =  job.table('logs/bs-webvisor-log/1d/@date').map(extract)\\\n",
    "    .put('home/metrica-analytics/miptgirl/wv2_notype_raw')\n",
    "    \n",
    "job.commands_graph"
   ]
  },
  {
   "cell_type": "code",
   "execution_count": null,
   "metadata": {
    "collapsed": true
   },
   "outputs": [],
   "source": [
    "job.run()"
   ]
  },
  {
   "cell_type": "code",
   "execution_count": null,
   "metadata": {},
   "outputs": [
    {
     "data": {
      "image/png": "[encoded data removed]",
      "image/svg+xml": [
       "<?xml version=\"1.0\" encoding=\"UTF-8\" standalone=\"no\"?>\n",
       "<!DOCTYPE svg PUBLIC \"-//W3C//DTD SVG 1.1//EN\"\n",
       " \"http://www.w3.org/Graphics/SVG/1.1/DTD/svg11.dtd\">\n",
       "<!-- Generated by graphviz version 2.26.3 (20100126.1600)\n",
       " -->\n",
       "<!-- Title: G139832359149968 Pages: 1 -->\n",
       "<svg width=\"352pt\" height=\"354pt\"\n",
       " viewBox=\"0.00 0.00 352.00 354.00\" xmlns=\"http://www.w3.org/2000/svg\" xmlns:xlink=\"http://www.w3.org/1999/xlink\">\n",
       "<g id=\"graph1\" class=\"graph\" transform=\"scale(1 1) rotate(0) translate(4 350)\">\n",
       "<title>G139832359149968</title>\n",
       "<polygon fill=\"white\" stroke=\"white\" points=\"-4,5 -4,-350 349,-350 349,5 -4,5\"/>\n",
       "<!-- 139832359378896 -->\n",
       "<g id=\"node1\" class=\"node\"><title>139832359378896</title>\n",
       "<polygon fill=\"#eeeeee\" stroke=\"#eeeeee\" points=\"8,-224 8,-342 337,-342 337,-224 8,-224\"/>\n",
       "<polygon fill=\"#fdbf6f\" stroke=\"#fdbf6f\" points=\"13,-298 13,-337 332,-337 332,-298 13,-298\"/>\n",
       "<text text-anchor=\"start\" x=\"152.5\" y=\"-321.233\" font-family=\"arial\" font-size=\"14.00\">Group</text>\n",
       "<text text-anchor=\"start\" x=\"149\" y=\"-307.367\" font-family=\"arial\" font-size=\"10.00\">event_type</text>\n",
       "<polygon fill=\"#b2df8a\" stroke=\"#b2df8a\" points=\"13,-260 13,-298 332,-298 332,-260 13,-260\"/>\n",
       "<text text-anchor=\"start\" x=\"143.5\" y=\"-282.733\" font-family=\"arial\" font-size=\"14.00\">Combine</text>\n",
       "<text text-anchor=\"start\" x=\"122\" y=\"-268.867\" font-family=\"arial\" font-size=\"10.00\">hits=SumAggregator(1)</text>\n",
       "<text text-anchor=\"start\" x=\"67.5\" y=\"-245.667\" font-family=\"arial\" font-size=\"10.00\">home/metrica&#45;analytics/miptgirl/wv2_notype_raw</text>\n",
       "<text text-anchor=\"start\" x=\"15.5\" y=\"-233.667\" font-family=\"arial\" font-size=\"10.00\">tmp/nile/miptgirl/by&#45;uuid/3617740a&#45;e952&#45;11e7&#45;88b6&#45;838e93229e42/tmp&#45;0</text>\n",
       "</g>\n",
       "<!-- 139832359377232 -->\n",
       "<g id=\"node2\" class=\"node\"><title>139832359377232</title>\n",
       "<polygon fill=\"#eeeeee\" stroke=\"#eeeeee\" points=\"8,-90 8,-208 337,-208 337,-90 8,-90\"/>\n",
       "<polygon fill=\"#fdbf6f\" stroke=\"#fdbf6f\" points=\"13,-164 13,-203 332,-203 332,-164 13,-164\"/>\n",
       "<text text-anchor=\"start\" x=\"152.5\" y=\"-187.233\" font-family=\"arial\" font-size=\"14.00\">Group</text>\n",
       "<text text-anchor=\"start\" x=\"149\" y=\"-173.367\" font-family=\"arial\" font-size=\"10.00\">event_type</text>\n",
       "<polygon fill=\"#fb9a99\" stroke=\"#fb9a99\" points=\"13,-126 13,-164 332,-164 332,-126 13,-126\"/>\n",
       "<text text-anchor=\"start\" x=\"122.5\" y=\"-148.733\" font-family=\"arial\" font-size=\"14.00\">AggregateBase</text>\n",
       "<text text-anchor=\"start\" x=\"122\" y=\"-134.867\" font-family=\"arial\" font-size=\"10.00\">hits=SumAggregator(1)</text>\n",
       "<text text-anchor=\"start\" x=\"15.5\" y=\"-111.667\" font-family=\"arial\" font-size=\"10.00\">tmp/nile/miptgirl/by&#45;uuid/3617740a&#45;e952&#45;11e7&#45;88b6&#45;838e93229e42/tmp&#45;0</text>\n",
       "<text text-anchor=\"start\" x=\"67\" y=\"-99.6667\" font-family=\"arial\" font-size=\"10.00\">home/metrica&#45;analytics/miptgirlwv2_notype_aggr</text>\n",
       "</g>\n",
       "<!-- 139832359378896&#45;&gt;139832359377232 -->\n",
       "<g id=\"edge2\" class=\"edge\"><title>139832359378896:139832359378896&#45;&gt;139832359377232:139832359377232</title>\n",
       "<path fill=\"none\" stroke=\"#888888\" stroke-width=\"0.5\" d=\"M172,-223.836C172,-218.647 172,-213.396 172,-208.207\"/>\n",
       "</g>\n",
       "<!-- 139832352989712 -->\n",
       "<g id=\"node3\" class=\"node\"><title>139832352989712</title>\n",
       "<polygon fill=\"#eeeeee\" stroke=\"#eeeeee\" points=\"59,-4 59,-74 285,-74 285,-4 59,-4\"/>\n",
       "<polygon fill=\"#cab2d6\" stroke=\"#cab2d6\" points=\"64,-40 64,-69 280,-69 280,-40 64,-40\"/>\n",
       "<text text-anchor=\"start\" x=\"151.5\" y=\"-51.2333\" font-family=\"arial\" font-size=\"14.00\">Merge</text>\n",
       "<text text-anchor=\"start\" x=\"66.5\" y=\"-25.6667\" font-family=\"arial\" font-size=\"10.00\">home/metrica&#45;analytics/miptgirlwv2_notype_aggr</text>\n",
       "<text text-anchor=\"start\" x=\"66.5\" y=\"-13.6667\" font-family=\"arial\" font-size=\"10.00\">home/metrica&#45;analytics/miptgirlwv2_notype_aggr</text>\n",
       "</g>\n",
       "<!-- 139832359377232&#45;&gt;139832352989712 -->\n",
       "<g id=\"edge4\" class=\"edge\"><title>139832359377232:139832359377232&#45;&gt;139832352989712:139832352989712</title>\n",
       "<path fill=\"none\" stroke=\"#888888\" stroke-width=\"0.5\" d=\"M172,-89.8141C172,-84.4238 172,-79.0875 172,-74.0137\"/>\n",
       "</g>\n",
       "</g>\n",
       "</svg>\n"
      ],
      "text/plain": [
       "<nile.drivers.yt.command.YTCommandsGraph at 0x7f2d42186190>"
      ]
     },
     "execution_count": 11,
     "metadata": {},
     "output_type": "execute_result"
    }
   ],
   "source": [
    "job = cluster.job()\n",
    "\n",
    "log = job.table('home/metrica-analytics/miptgirl/wv2_notype_raw')\\\n",
    "    .groupby('event_type').aggregate(hits = na.count())\\\n",
    "    .put('home/metrica-analytics/miptgirlwv2_notype_aggr')\n",
    "    \n",
    "    \n",
    "job.commands_graph"
   ]
  },
  {
   "cell_type": "code",
   "execution_count": null,
   "metadata": {
    "collapsed": true
   },
   "outputs": [],
   "source": [
    "job.run()"
   ]
  },
  {
   "cell_type": "code",
   "execution_count": 13,
   "metadata": {},
   "outputs": [
    {
     "data": {
      "text/html": [
       "<div>\n",
       "<table border=\"1\" class=\"dataframe\">\n",
       "  <thead>\n",
       "    <tr style=\"text-align: right;\">\n",
       "      <th></th>\n",
       "      <th>event_type</th>\n",
       "      <th>hits</th>\n",
       "    </tr>\n",
       "  </thead>\n",
       "  <tbody>\n",
       "    <tr>\n",
       "      <th>0</th>\n",
       "      <td></td>\n",
       "      <td>844244</td>\n",
       "    </tr>\n",
       "    <tr>\n",
       "      <th>1</th>\n",
       "      <td>blur</td>\n",
       "      <td>195975362</td>\n",
       "    </tr>\n",
       "    <tr>\n",
       "      <th>2</th>\n",
       "      <td>change</td>\n",
       "      <td>780990856</td>\n",
       "    </tr>\n",
       "    <tr>\n",
       "      <th>3</th>\n",
       "      <td>click</td>\n",
       "      <td>46933336</td>\n",
       "    </tr>\n",
       "    <tr>\n",
       "      <th>4</th>\n",
       "      <td>deviceRotation</td>\n",
       "      <td>383</td>\n",
       "    </tr>\n",
       "    <tr>\n",
       "      <th>5</th>\n",
       "      <td>eof</td>\n",
       "      <td>15729621</td>\n",
       "    </tr>\n",
       "    <tr>\n",
       "      <th>6</th>\n",
       "      <td>focus</td>\n",
       "      <td>201847008</td>\n",
       "    </tr>\n",
       "    <tr>\n",
       "      <th>7</th>\n",
       "      <td>keystroke</td>\n",
       "      <td>11783873</td>\n",
       "    </tr>\n",
       "    <tr>\n",
       "      <th>8</th>\n",
       "      <td>mousedown</td>\n",
       "      <td>50054127</td>\n",
       "    </tr>\n",
       "    <tr>\n",
       "      <th>9</th>\n",
       "      <td>mousemove</td>\n",
       "      <td>1404432333</td>\n",
       "    </tr>\n",
       "    <tr>\n",
       "      <th>10</th>\n",
       "      <td>mouseup</td>\n",
       "      <td>49746652</td>\n",
       "    </tr>\n",
       "    <tr>\n",
       "      <th>11</th>\n",
       "      <td>resize</td>\n",
       "      <td>42785811</td>\n",
       "    </tr>\n",
       "    <tr>\n",
       "      <th>12</th>\n",
       "      <td>scroll</td>\n",
       "      <td>472182758</td>\n",
       "    </tr>\n",
       "    <tr>\n",
       "      <th>13</th>\n",
       "      <td>selection</td>\n",
       "      <td>106536800</td>\n",
       "    </tr>\n",
       "    <tr>\n",
       "      <th>14</th>\n",
       "      <td>touchcancel</td>\n",
       "      <td>1017818</td>\n",
       "    </tr>\n",
       "    <tr>\n",
       "      <th>15</th>\n",
       "      <td>touchend</td>\n",
       "      <td>89026531</td>\n",
       "    </tr>\n",
       "    <tr>\n",
       "      <th>16</th>\n",
       "      <td>touchforcechange</td>\n",
       "      <td>94217000</td>\n",
       "    </tr>\n",
       "    <tr>\n",
       "      <th>17</th>\n",
       "      <td>touchmove</td>\n",
       "      <td>496845514</td>\n",
       "    </tr>\n",
       "    <tr>\n",
       "      <th>18</th>\n",
       "      <td>touchstart</td>\n",
       "      <td>90433758</td>\n",
       "    </tr>\n",
       "    <tr>\n",
       "      <th>19</th>\n",
       "      <td>windowblur</td>\n",
       "      <td>212709403</td>\n",
       "    </tr>\n",
       "    <tr>\n",
       "      <th>20</th>\n",
       "      <td>windowfocus</td>\n",
       "      <td>217915147</td>\n",
       "    </tr>\n",
       "    <tr>\n",
       "      <th>21</th>\n",
       "      <td>zoom</td>\n",
       "      <td>10612611</td>\n",
       "    </tr>\n",
       "  </tbody>\n",
       "</table>\n",
       "</div>"
      ],
      "text/plain": [
       "          event_type        hits\n",
       "0                         844244\n",
       "1               blur   195975362\n",
       "2             change   780990856\n",
       "3              click    46933336\n",
       "4     deviceRotation         383\n",
       "5                eof    15729621\n",
       "6              focus   201847008\n",
       "7          keystroke    11783873\n",
       "8          mousedown    50054127\n",
       "9          mousemove  1404432333\n",
       "10           mouseup    49746652\n",
       "11            resize    42785811\n",
       "12            scroll   472182758\n",
       "13         selection   106536800\n",
       "14       touchcancel     1017818\n",
       "15          touchend    89026531\n",
       "16  touchforcechange    94217000\n",
       "17         touchmove   496845514\n",
       "18        touchstart    90433758\n",
       "19        windowblur   212709403\n",
       "20       windowfocus   217915147\n",
       "21              zoom    10612611"
      ]
     },
     "execution_count": 13,
     "metadata": {},
     "output_type": "execute_result"
    }
   ],
   "source": [
    "cluster.read('home/metrica-analytics/miptgirlwv2_notype_aggr').as_dataframe()"
   ]
  },
  {
   "cell_type": "code",
   "execution_count": 14,
   "metadata": {},
   "outputs": [
    {
     "data": {
      "image/png": "[encoded data removed]",
      "image/svg+xml": [
       "<?xml version=\"1.0\" encoding=\"UTF-8\" standalone=\"no\"?>\n",
       "<!DOCTYPE svg PUBLIC \"-//W3C//DTD SVG 1.1//EN\"\n",
       " \"http://www.w3.org/Graphics/SVG/1.1/DTD/svg11.dtd\">\n",
       "<!-- Generated by graphviz version 2.26.3 (20100126.1600)\n",
       " -->\n",
       "<!-- Title: G139832356684944 Pages: 1 -->\n",
       "<svg width=\"248pt\" height=\"184pt\"\n",
       " viewBox=\"0.00 0.00 248.00 184.00\" xmlns=\"http://www.w3.org/2000/svg\" xmlns:xlink=\"http://www.w3.org/1999/xlink\">\n",
       "<g id=\"graph1\" class=\"graph\" transform=\"scale(1 1) rotate(0) translate(4 180)\">\n",
       "<title>G139832356684944</title>\n",
       "<polygon fill=\"white\" stroke=\"white\" points=\"-4,5 -4,-180 245,-180 245,5 -4,5\"/>\n",
       "<!-- 139832359543952 -->\n",
       "<g id=\"node1\" class=\"node\"><title>139832359543952</title>\n",
       "<polygon fill=\"#eeeeee\" stroke=\"#eeeeee\" points=\"8,-90 8,-172 233,-172 233,-90 8,-90\"/>\n",
       "<polygon fill=\"#b2df8a\" stroke=\"#b2df8a\" points=\"13,-126 13,-167 228,-167 228,-126 13,-126\"/>\n",
       "<text text-anchor=\"start\" x=\"104.5\" y=\"-149.233\" font-family=\"arial\" font-size=\"14.00\">Filter</text>\n",
       "<text text-anchor=\"start\" x=\"115.5\" y=\"-135.667\" font-family=\"arial\" font-size=\"10.00\">...</text>\n",
       "<text text-anchor=\"start\" x=\"15.5\" y=\"-111.667\" font-family=\"arial\" font-size=\"10.00\">home/metrica&#45;analytics/miptgirl/wv2_notype_raw</text>\n",
       "<text text-anchor=\"start\" x=\"19.5\" y=\"-99.6667\" font-family=\"arial\" font-size=\"10.00\">home/metrica&#45;analytics/miptgirlwv2_notype_fin</text>\n",
       "</g>\n",
       "<!-- 139832353142352 -->\n",
       "<g id=\"node2\" class=\"node\"><title>139832353142352</title>\n",
       "<polygon fill=\"#eeeeee\" stroke=\"#eeeeee\" points=\"12,-4 12,-74 229,-74 229,-4 12,-4\"/>\n",
       "<polygon fill=\"#cab2d6\" stroke=\"#cab2d6\" points=\"17,-40 17,-69 224,-69 224,-40 17,-40\"/>\n",
       "<text text-anchor=\"start\" x=\"100\" y=\"-51.2333\" font-family=\"arial\" font-size=\"14.00\">Merge</text>\n",
       "<text text-anchor=\"start\" x=\"19.5\" y=\"-25.6667\" font-family=\"arial\" font-size=\"10.00\">home/metrica&#45;analytics/miptgirlwv2_notype_fin</text>\n",
       "<text text-anchor=\"start\" x=\"19.5\" y=\"-13.6667\" font-family=\"arial\" font-size=\"10.00\">home/metrica&#45;analytics/miptgirlwv2_notype_fin</text>\n",
       "</g>\n",
       "<!-- 139832359543952&#45;&gt;139832353142352 -->\n",
       "<g id=\"edge2\" class=\"edge\"><title>139832359543952:139832359543952&#45;&gt;139832353142352:139832353142352</title>\n",
       "<path fill=\"none\" stroke=\"#888888\" stroke-width=\"0.5\" d=\"M120,-89.8436C120,-84.5809 120,-79.2327 120,-74.0786\"/>\n",
       "</g>\n",
       "</g>\n",
       "</svg>\n"
      ],
      "text/plain": [
       "<nile.drivers.yt.command.YTCommandsGraph at 0x7f2d41f2c490>"
      ]
     },
     "execution_count": 14,
     "metadata": {},
     "output_type": "execute_result"
    }
   ],
   "source": [
    "job = cluster.job()\n",
    "\n",
    "log = job.table('home/metrica-analytics/miptgirl/wv2_notype_raw')\\\n",
    "    .filter(nf.custom(lambda x: x == '', 'event_type'))\\\n",
    "    .put('home/metrica-analytics/miptgirlwv2_notype_fin')\n",
    "    \n",
    "job.commands_graph"
   ]
  },
  {
   "cell_type": "code",
   "execution_count": 15,
   "metadata": {
    "collapsed": true
   },
   "outputs": [],
   "source": [
    "job.run()"
   ]
  },
  {
   "cell_type": "code",
   "execution_count": null,
   "metadata": {
    "collapsed": true
   },
   "outputs": [],
   "source": []
  }
 ],
 "metadata": {
  "kernelspec": {
   "display_name": "Python 2",
   "language": "python",
   "name": "python2"
  },
  "language_info": {
   "codemirror_mode": {
    "name": "ipython",
    "version": 2
   },
   "file_extension": ".py",
   "mimetype": "text/x-python",
   "name": "python",
   "nbconvert_exporter": "python",
   "pygments_lexer": "ipython2",
   "version": "2.7.6"
  }
 },
 "nbformat": 4,
 "nbformat_minor": 2
}
