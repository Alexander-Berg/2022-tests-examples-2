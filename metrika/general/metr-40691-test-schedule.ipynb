{
 "cells": [
  {
   "cell_type": "code",
   "execution_count": 25,
   "metadata": {},
   "outputs": [],
   "source": [
    "import importlib\n",
    "import reports\n",
    "from reports.debug_for_run import *\n",
    "reports.debug_for_run = importlib.reload(reports.debug_for_run)\n",
    "from reports.debug_for_run import *\n"
   ]
  },
  {
   "cell_type": "code",
   "execution_count": 26,
   "metadata": {},
   "outputs": [],
   "source": [
    "from databases import yql_db, yt_db, clickhouse as ch, chyt\n",
    "from reports import generate_query\n",
    "import pandas as pd\n",
    "import datetime\n",
    "from upload_data import solomon\n"
   ]
  },
  {
   "cell_type": "code",
   "execution_count": 41,
   "metadata": {},
   "outputs": [],
   "source": []
  },
  {
   "cell_type": "code",
   "execution_count": 42,
   "metadata": {},
   "outputs": [],
   "source": []
  },
  {
   "cell_type": "code",
   "execution_count": 48,
   "metadata": {},
   "outputs": [],
   "source": [
    "opts.__init__({'date':'2021-07-13'})\n",
    "# now_time =datetime.datetime.now().strftime('%Y%m%dT%H%M%S')\n",
    "now_time = '20210713T065010'\n",
    "date_start = generate_query.get_query(\"{date_start}\", opts.type, opts.date, repeat, sample=opts.sample, format_query = '')\n"
   ]
  },
  {
   "cell_type": "code",
   "execution_count": 30,
   "metadata": {},
   "outputs": [],
   "source": [
    "# import reports\n",
    "from reports.metrika.counters_black_list import yql_grep_watch_log, yql_filter_and_join, yql_put_tables, yql_final_union, yql_get_stat"
   ]
  },
  {
   "cell_type": "code",
   "execution_count": 47,
   "metadata": {},
   "outputs": [],
   "source": []
  },
  {
   "cell_type": "code",
   "execution_count": 11,
   "metadata": {},
   "outputs": [
    {
     "name": "stdout",
     "output_type": "stream",
     "text": [
      "\n",
      "Share URL: https://yql.yandex-team.ru/Operations/YORj2ZqqaD4EBhxodrsitYxDtOZ04UjclE2U4EV4YwM=\n",
      "\n"
     ]
    }
   ],
   "source": [
    "yql_grep_watch_log_full = generate_query.get_query(yql_grep_watch_log, opts.type, opts.date, repeat, sample=opts.sample, format_query = '', format_dict={'now_time':now_time})\n",
    "yql_db.run_yql_wait_and_return(yql_grep_watch_log_full, token=opts.yql_oauth)"
   ]
  },
  {
   "cell_type": "code",
   "execution_count": 8,
   "metadata": {},
   "outputs": [
    {
     "name": "stdout",
     "output_type": "stream",
     "text": [
      "\n",
      "Share URL: https://yql.yandex-team.ru/Operations/YORW1ATfnXqxwuWfqsLh5JaeDE0zvxjcVcp9OPsjm7E=\n",
      "\n"
     ]
    }
   ],
   "source": [
    "yql_filter_and_join_full = generate_query.get_query(yql_filter_and_join, opts.type, opts.date, repeat, sample=opts.sample, format_query = '', format_dict={'now_time':now_time})\n",
    "yql_db.run_yql_wait_and_return(yql_filter_and_join_full, token=opts.yql_oauth)"
   ]
  },
  {
   "cell_type": "markdown",
   "metadata": {},
   "source": [
    "# Gen auto markup\n"
   ]
  },
  {
   "cell_type": "code",
   "execution_count": 9,
   "metadata": {},
   "outputs": [
    {
     "name": "stdout",
     "output_type": "stream",
     "text": [
      "\n",
      "Share URL: https://yql.yandex-team.ru/Operations/YORZzXJuvLM4ysqUisIrXwh9-Tc7AnMEuRp1ul_gZ9E=\n",
      "\n"
     ]
    }
   ],
   "source": [
    "yql_put_tables_full = generate_query.get_query(yql_put_tables, opts.type, opts.date, repeat, sample=opts.sample, format_query = '', format_dict={'now_time':now_time})\n",
    "yql_db.run_yql_wait_and_return(yql_put_tables_full, token=opts.yql_oauth)"
   ]
  },
  {
   "cell_type": "markdown",
   "metadata": {},
   "source": [
    "# debug for manual"
   ]
  },
  {
   "cell_type": "code",
   "execution_count": 38,
   "metadata": {},
   "outputs": [
    {
     "name": "stdout",
     "output_type": "stream",
     "text": [
      "Looking in indexes: https://pypi.yandex-team.ru/simple\n",
      "Requirement already satisfied: yandex-yt in /home/z-sergey/jupyterenv/lib/python3.7/site-packages (0.10.14)\n"
     ]
    },
    {
     "name": "stderr",
     "output_type": "stream",
     "text": [
      "WARNING: You are using pip version 21.0.1; however, version 21.1.3 is available.\n",
      "You should consider upgrading via the '/home/z-sergey/jupyterenv/bin/python3 -m pip install --upgrade pip' command.\n"
     ]
    }
   ],
   "source": [
    "%%bash\n",
    "pip3 install yandex-yt -i https://pypi.yandex-team.ru/simple --upgrade\n"
   ]
  },
  {
   "cell_type": "code",
   "execution_count": 118,
   "metadata": {},
   "outputs": [],
   "source": [
    "from databases import clickhouse as ch, chyt\n",
    "clickhouse = importlib.reload(ch)\n",
    "from databases import clickhouse as ch\n"
   ]
  },
  {
   "cell_type": "code",
   "execution_count": 54,
   "metadata": {},
   "outputs": [],
   "source": [
    "counter_id_candidate = 49128502"
   ]
  },
  {
   "cell_type": "code",
   "execution_count": null,
   "metadata": {
    "tags": []
   },
   "outputs": [],
   "source": [
    "ch.get_df(\"select URLDomain, count() as pvs from hits_all where EventDate = toDate('{date_start}')  and CounterID = {counter_id_candidate} and DontCountHits = 0 group by URLDomain order by pvs desc limit 20 FORMAT TSVWithNames\".format(**locals()),\n",
    "         user=opts.user, password=opts.password\n",
    "         )"
   ]
  },
  {
   "cell_type": "code",
   "execution_count": 37,
   "metadata": {
    "collapsed": true,
    "jupyter": {
     "outputs_hidden": true
    },
    "tags": []
   },
   "outputs": [
    {
     "data": {
      "text/html": [
       "<div>\n",
       "<style scoped>\n",
       "    .dataframe tbody tr th:only-of-type {\n",
       "        vertical-align: middle;\n",
       "    }\n",
       "\n",
       "    .dataframe tbody tr th {\n",
       "        vertical-align: top;\n",
       "    }\n",
       "\n",
       "    .dataframe thead th {\n",
       "        text-align: right;\n",
       "    }\n",
       "</style>\n",
       "<table border=\"1\" class=\"dataframe\">\n",
       "  <thead>\n",
       "    <tr style=\"text-align: right;\">\n",
       "      <th></th>\n",
       "      <th>domain</th>\n",
       "      <th>counter_class</th>\n",
       "      <th>counter_id</th>\n",
       "      <th>watchlog_counter_id</th>\n",
       "    </tr>\n",
       "  </thead>\n",
       "  <tbody>\n",
       "    <tr>\n",
       "      <th>0</th>\n",
       "      <td>belaya-kalitva.zagotovshik.ru</td>\n",
       "      <td>0</td>\n",
       "      <td>51547469</td>\n",
       "      <td>51547469</td>\n",
       "    </tr>\n",
       "    <tr>\n",
       "      <th>1</th>\n",
       "      <td>monino.zagotovshik.ru</td>\n",
       "      <td>0</td>\n",
       "      <td>51547469</td>\n",
       "      <td>51547469</td>\n",
       "    </tr>\n",
       "    <tr>\n",
       "      <th>2</th>\n",
       "      <td>belgorod.zagotovshik.ru</td>\n",
       "      <td>0</td>\n",
       "      <td>51547469</td>\n",
       "      <td>51547469</td>\n",
       "    </tr>\n",
       "    <tr>\n",
       "      <th>3</th>\n",
       "      <td>belorechensk.zagotovshik.ru</td>\n",
       "      <td>0</td>\n",
       "      <td>51547469</td>\n",
       "      <td>51547469</td>\n",
       "    </tr>\n",
       "    <tr>\n",
       "      <th>4</th>\n",
       "      <td>volkovysk.zagotovshik.ru</td>\n",
       "      <td>0</td>\n",
       "      <td>51547469</td>\n",
       "      <td>51547469</td>\n",
       "    </tr>\n",
       "    <tr>\n",
       "      <th>...</th>\n",
       "      <td>...</td>\n",
       "      <td>...</td>\n",
       "      <td>...</td>\n",
       "      <td>...</td>\n",
       "    </tr>\n",
       "    <tr>\n",
       "      <th>347</th>\n",
       "      <td>miass.zagotovshik.ru</td>\n",
       "      <td>0</td>\n",
       "      <td>51547469</td>\n",
       "      <td>51547469</td>\n",
       "    </tr>\n",
       "    <tr>\n",
       "      <th>348</th>\n",
       "      <td>michurinsk.zagotovshik.ru</td>\n",
       "      <td>0</td>\n",
       "      <td>51547469</td>\n",
       "      <td>51547469</td>\n",
       "    </tr>\n",
       "    <tr>\n",
       "      <th>349</th>\n",
       "      <td>minsk.zagotovshik.ru</td>\n",
       "      <td>0</td>\n",
       "      <td>51547469</td>\n",
       "      <td>51547469</td>\n",
       "    </tr>\n",
       "    <tr>\n",
       "      <th>350</th>\n",
       "      <td>minusinsk.zagotovshik.ru</td>\n",
       "      <td>0</td>\n",
       "      <td>51547469</td>\n",
       "      <td>51547469</td>\n",
       "    </tr>\n",
       "    <tr>\n",
       "      <th>351</th>\n",
       "      <td>mogilev.zagotovshik.ru</td>\n",
       "      <td>0</td>\n",
       "      <td>51547469</td>\n",
       "      <td>51547469</td>\n",
       "    </tr>\n",
       "  </tbody>\n",
       "</table>\n",
       "<p>352 rows × 4 columns</p>\n",
       "</div>"
      ],
      "text/plain": [
       "                            domain  counter_class  counter_id  \\\n",
       "0    belaya-kalitva.zagotovshik.ru              0    51547469   \n",
       "1            monino.zagotovshik.ru              0    51547469   \n",
       "2          belgorod.zagotovshik.ru              0    51547469   \n",
       "3      belorechensk.zagotovshik.ru              0    51547469   \n",
       "4         volkovysk.zagotovshik.ru              0    51547469   \n",
       "..                             ...            ...         ...   \n",
       "347           miass.zagotovshik.ru              0    51547469   \n",
       "348      michurinsk.zagotovshik.ru              0    51547469   \n",
       "349           minsk.zagotovshik.ru              0    51547469   \n",
       "350       minusinsk.zagotovshik.ru              0    51547469   \n",
       "351         mogilev.zagotovshik.ru              0    51547469   \n",
       "\n",
       "     watchlog_counter_id  \n",
       "0               51547469  \n",
       "1               51547469  \n",
       "2               51547469  \n",
       "3               51547469  \n",
       "4               51547469  \n",
       "..                   ...  \n",
       "347             51547469  \n",
       "348             51547469  \n",
       "349             51547469  \n",
       "350             51547469  \n",
       "351             51547469  \n",
       "\n",
       "[352 rows x 4 columns]"
      ]
     },
     "execution_count": 37,
     "metadata": {},
     "output_type": "execute_result"
    }
   ],
   "source": [
    "chyt.get_df(f'''select * from `//home/metrica-analytics/black_list/tmp/black_list_url_graph_raw_{date_start}_{now_time}` where counter_id = {counter_id_candidate}''')"
   ]
  },
  {
   "cell_type": "code",
   "execution_count": 53,
   "metadata": {
    "tags": []
   },
   "outputs": [
    {
     "data": {
      "text/html": [
       "<div>\n",
       "<style scoped>\n",
       "    .dataframe tbody tr th:only-of-type {\n",
       "        vertical-align: middle;\n",
       "    }\n",
       "\n",
       "    .dataframe tbody tr th {\n",
       "        vertical-align: top;\n",
       "    }\n",
       "\n",
       "    .dataframe thead th {\n",
       "        text-align: right;\n",
       "    }\n",
       "</style>\n",
       "<table border=\"1\" class=\"dataframe\">\n",
       "  <thead>\n",
       "    <tr style=\"text-align: right;\">\n",
       "      <th></th>\n",
       "      <th>left_counter_id</th>\n",
       "      <th>left_counter_class</th>\n",
       "      <th>domain</th>\n",
       "      <th>left_watchlog_counter_id</th>\n",
       "      <th>right_counter_class</th>\n",
       "      <th>right_counter_id</th>\n",
       "      <th>right_watchlog_counter_id</th>\n",
       "    </tr>\n",
       "  </thead>\n",
       "  <tbody>\n",
       "    <tr>\n",
       "      <th>0</th>\n",
       "      <td>42368719</td>\n",
       "      <td>1</td>\n",
       "      <td>mahachkala.russianrealty.ru</td>\n",
       "      <td>204911</td>\n",
       "      <td>0</td>\n",
       "      <td>82766992</td>\n",
       "      <td>82766992</td>\n",
       "    </tr>\n",
       "    <tr>\n",
       "      <th>1</th>\n",
       "      <td>42368719</td>\n",
       "      <td>1</td>\n",
       "      <td>dubna.russianrealty.ru</td>\n",
       "      <td>204911</td>\n",
       "      <td>0</td>\n",
       "      <td>82303468</td>\n",
       "      <td>82303468</td>\n",
       "    </tr>\n",
       "    <tr>\n",
       "      <th>2</th>\n",
       "      <td>42368719</td>\n",
       "      <td>1</td>\n",
       "      <td>mahachkala.russianrealty.ru</td>\n",
       "      <td>204911</td>\n",
       "      <td>0</td>\n",
       "      <td>2021170</td>\n",
       "      <td>2021170</td>\n",
       "    </tr>\n",
       "    <tr>\n",
       "      <th>3</th>\n",
       "      <td>42368719</td>\n",
       "      <td>1</td>\n",
       "      <td>pugachev.russianrealty.ru</td>\n",
       "      <td>204911</td>\n",
       "      <td>0</td>\n",
       "      <td>2021170</td>\n",
       "      <td>2021170</td>\n",
       "    </tr>\n",
       "    <tr>\n",
       "      <th>4</th>\n",
       "      <td>42368719</td>\n",
       "      <td>1</td>\n",
       "      <td>chernogolovka.russianrealty.ru</td>\n",
       "      <td>204911</td>\n",
       "      <td>0</td>\n",
       "      <td>82721602</td>\n",
       "      <td>82721602</td>\n",
       "    </tr>\n",
       "    <tr>\n",
       "      <th>...</th>\n",
       "      <td>...</td>\n",
       "      <td>...</td>\n",
       "      <td>...</td>\n",
       "      <td>...</td>\n",
       "      <td>...</td>\n",
       "      <td>...</td>\n",
       "      <td>...</td>\n",
       "    </tr>\n",
       "    <tr>\n",
       "      <th>970</th>\n",
       "      <td>42368719</td>\n",
       "      <td>1</td>\n",
       "      <td>balashov.russianrealty.ru</td>\n",
       "      <td>204911</td>\n",
       "      <td>0</td>\n",
       "      <td>82714528</td>\n",
       "      <td>82714528</td>\n",
       "    </tr>\n",
       "    <tr>\n",
       "      <th>971</th>\n",
       "      <td>42368719</td>\n",
       "      <td>1</td>\n",
       "      <td>novosibirsk.russianrealty.ru</td>\n",
       "      <td>204911</td>\n",
       "      <td>0</td>\n",
       "      <td>2021170</td>\n",
       "      <td>2021170</td>\n",
       "    </tr>\n",
       "    <tr>\n",
       "      <th>972</th>\n",
       "      <td>42368719</td>\n",
       "      <td>1</td>\n",
       "      <td>zarechny.russianrealty.ru</td>\n",
       "      <td>204911</td>\n",
       "      <td>0</td>\n",
       "      <td>2021170</td>\n",
       "      <td>2021170</td>\n",
       "    </tr>\n",
       "    <tr>\n",
       "      <th>973</th>\n",
       "      <td>42368719</td>\n",
       "      <td>1</td>\n",
       "      <td>novosibirsk.russianrealty.ru</td>\n",
       "      <td>204911</td>\n",
       "      <td>0</td>\n",
       "      <td>80363377</td>\n",
       "      <td>80363377</td>\n",
       "    </tr>\n",
       "    <tr>\n",
       "      <th>974</th>\n",
       "      <td>42368719</td>\n",
       "      <td>1</td>\n",
       "      <td>balashov.russianrealty.ru</td>\n",
       "      <td>204911</td>\n",
       "      <td>0</td>\n",
       "      <td>2021170</td>\n",
       "      <td>2021170</td>\n",
       "    </tr>\n",
       "  </tbody>\n",
       "</table>\n",
       "<p>975 rows × 7 columns</p>\n",
       "</div>"
      ],
      "text/plain": [
       "     left_counter_id  left_counter_class                          domain  \\\n",
       "0           42368719                   1     mahachkala.russianrealty.ru   \n",
       "1           42368719                   1          dubna.russianrealty.ru   \n",
       "2           42368719                   1     mahachkala.russianrealty.ru   \n",
       "3           42368719                   1       pugachev.russianrealty.ru   \n",
       "4           42368719                   1  chernogolovka.russianrealty.ru   \n",
       "..               ...                 ...                             ...   \n",
       "970         42368719                   1       balashov.russianrealty.ru   \n",
       "971         42368719                   1    novosibirsk.russianrealty.ru   \n",
       "972         42368719                   1       zarechny.russianrealty.ru   \n",
       "973         42368719                   1    novosibirsk.russianrealty.ru   \n",
       "974         42368719                   1       balashov.russianrealty.ru   \n",
       "\n",
       "     left_watchlog_counter_id  right_counter_class  right_counter_id  \\\n",
       "0                      204911                    0          82766992   \n",
       "1                      204911                    0          82303468   \n",
       "2                      204911                    0           2021170   \n",
       "3                      204911                    0           2021170   \n",
       "4                      204911                    0          82721602   \n",
       "..                        ...                  ...               ...   \n",
       "970                    204911                    0          82714528   \n",
       "971                    204911                    0           2021170   \n",
       "972                    204911                    0           2021170   \n",
       "973                    204911                    0          80363377   \n",
       "974                    204911                    0           2021170   \n",
       "\n",
       "     right_watchlog_counter_id  \n",
       "0                     82766992  \n",
       "1                     82303468  \n",
       "2                      2021170  \n",
       "3                      2021170  \n",
       "4                     82721602  \n",
       "..                         ...  \n",
       "970                   82714528  \n",
       "971                    2021170  \n",
       "972                    2021170  \n",
       "973                   80363377  \n",
       "974                    2021170  \n",
       "\n",
       "[975 rows x 7 columns]"
      ]
     },
     "execution_count": 53,
     "metadata": {},
     "output_type": "execute_result"
    }
   ],
   "source": [
    "chyt.get_df(f'''select * from `//home/metrica-analytics/black_list/tmp/black_list_url_graph_raw_{date_start}_selfjoined_{now_time}` where left_counter_id = {counter_id_candidate}''')"
   ]
  },
  {
   "cell_type": "code",
   "execution_count": 49,
   "metadata": {
    "tags": []
   },
   "outputs": [
    {
     "data": {
      "text/html": [
       "<div>\n",
       "<style scoped>\n",
       "    .dataframe tbody tr th:only-of-type {\n",
       "        vertical-align: middle;\n",
       "    }\n",
       "\n",
       "    .dataframe tbody tr th {\n",
       "        vertical-align: top;\n",
       "    }\n",
       "\n",
       "    .dataframe thead th {\n",
       "        text-align: right;\n",
       "    }\n",
       "</style>\n",
       "<table border=\"1\" class=\"dataframe\">\n",
       "  <thead>\n",
       "    <tr style=\"text-align: right;\">\n",
       "      <th></th>\n",
       "      <th>domain</th>\n",
       "      <th>cnt</th>\n",
       "    </tr>\n",
       "  </thead>\n",
       "  <tbody>\n",
       "    <tr>\n",
       "      <th>0</th>\n",
       "      <td>primorsk.russianrealty.ru</td>\n",
       "      <td>2</td>\n",
       "    </tr>\n",
       "    <tr>\n",
       "      <th>1</th>\n",
       "      <td>priozersk.russianrealty.ru</td>\n",
       "      <td>2</td>\n",
       "    </tr>\n",
       "    <tr>\n",
       "      <th>2</th>\n",
       "      <td>ishimbay.russianrealty.ru</td>\n",
       "      <td>2</td>\n",
       "    </tr>\n",
       "    <tr>\n",
       "      <th>3</th>\n",
       "      <td>taldom.russianrealty.ru</td>\n",
       "      <td>2</td>\n",
       "    </tr>\n",
       "    <tr>\n",
       "      <th>4</th>\n",
       "      <td>nefteyugansk.russianrealty.ru</td>\n",
       "      <td>2</td>\n",
       "    </tr>\n",
       "    <tr>\n",
       "      <th>...</th>\n",
       "      <td>...</td>\n",
       "      <td>...</td>\n",
       "    </tr>\n",
       "    <tr>\n",
       "      <th>619</th>\n",
       "      <td>zadonsk.russianrealty.ru</td>\n",
       "      <td>1</td>\n",
       "    </tr>\n",
       "    <tr>\n",
       "      <th>620</th>\n",
       "      <td>neftegorsk.russianrealty.ru</td>\n",
       "      <td>1</td>\n",
       "    </tr>\n",
       "    <tr>\n",
       "      <th>621</th>\n",
       "      <td>ocher.russianrealty.ru</td>\n",
       "      <td>1</td>\n",
       "    </tr>\n",
       "    <tr>\n",
       "      <th>622</th>\n",
       "      <td>anadyr.russianrealty.ru</td>\n",
       "      <td>1</td>\n",
       "    </tr>\n",
       "    <tr>\n",
       "      <th>623</th>\n",
       "      <td>lesosibirsk.russianrealty.ru</td>\n",
       "      <td>1</td>\n",
       "    </tr>\n",
       "  </tbody>\n",
       "</table>\n",
       "<p>624 rows × 2 columns</p>\n",
       "</div>"
      ],
      "text/plain": [
       "                            domain  cnt\n",
       "0        primorsk.russianrealty.ru    2\n",
       "1       priozersk.russianrealty.ru    2\n",
       "2        ishimbay.russianrealty.ru    2\n",
       "3          taldom.russianrealty.ru    2\n",
       "4    nefteyugansk.russianrealty.ru    2\n",
       "..                             ...  ...\n",
       "619       zadonsk.russianrealty.ru    1\n",
       "620    neftegorsk.russianrealty.ru    1\n",
       "621         ocher.russianrealty.ru    1\n",
       "622        anadyr.russianrealty.ru    1\n",
       "623   lesosibirsk.russianrealty.ru    1\n",
       "\n",
       "[624 rows x 2 columns]"
      ]
     },
     "execution_count": 49,
     "metadata": {},
     "output_type": "execute_result"
    }
   ],
   "source": [
    "chyt.get_df(f'''select domain, count() as cnt from `//home/metrica-analytics/black_list/tmp/black_list_url_graph_raw_{date_start}_selfjoined_{now_time}` \n",
    "where left_counter_id = {counter_id_candidate}\n",
    "group by domain order by cnt desc''')"
   ]
  },
  {
   "cell_type": "markdown",
   "metadata": {},
   "source": [
    "# Continue with marked"
   ]
  },
  {
   "cell_type": "code",
   "execution_count": 299,
   "metadata": {},
   "outputs": [],
   "source": [
    "new_marked_portion = pd.read_csv('~/black_list/for_manual_check/2021-05-31-marked-1.csv', sep =';')"
   ]
  },
  {
   "cell_type": "code",
   "execution_count": 300,
   "metadata": {},
   "outputs": [
    {
     "data": {
      "text/html": [
       "<div>\n",
       "<style scoped>\n",
       "    .dataframe tbody tr th:only-of-type {\n",
       "        vertical-align: middle;\n",
       "    }\n",
       "\n",
       "    .dataframe tbody tr th {\n",
       "        vertical-align: top;\n",
       "    }\n",
       "\n",
       "    .dataframe thead th {\n",
       "        text-align: right;\n",
       "    }\n",
       "</style>\n",
       "<table border=\"1\" class=\"dataframe\">\n",
       "  <thead>\n",
       "    <tr style=\"text-align: right;\">\n",
       "      <th></th>\n",
       "      <th>counter_class</th>\n",
       "      <th>counter_id</th>\n",
       "      <th>NEW_RESULT</th>\n",
       "    </tr>\n",
       "  </thead>\n",
       "  <tbody>\n",
       "    <tr>\n",
       "      <th>0</th>\n",
       "      <td>0</td>\n",
       "      <td>43810134</td>\n",
       "      <td>big_yandex_counter</td>\n",
       "    </tr>\n",
       "    <tr>\n",
       "      <th>1</th>\n",
       "      <td>0</td>\n",
       "      <td>20269972</td>\n",
       "      <td>plugin</td>\n",
       "    </tr>\n",
       "    <tr>\n",
       "      <th>2</th>\n",
       "      <td>0</td>\n",
       "      <td>24791165</td>\n",
       "      <td>plugin</td>\n",
       "    </tr>\n",
       "    <tr>\n",
       "      <th>3</th>\n",
       "      <td>0</td>\n",
       "      <td>20832499</td>\n",
       "      <td>blockpage</td>\n",
       "    </tr>\n",
       "    <tr>\n",
       "      <th>4</th>\n",
       "      <td>0</td>\n",
       "      <td>42839234</td>\n",
       "      <td>big_yandex_counter</td>\n",
       "    </tr>\n",
       "    <tr>\n",
       "      <th>5</th>\n",
       "      <td>0</td>\n",
       "      <td>30912901</td>\n",
       "      <td>videoplayer-ads</td>\n",
       "    </tr>\n",
       "    <tr>\n",
       "      <th>6</th>\n",
       "      <td>0</td>\n",
       "      <td>70014157</td>\n",
       "      <td>videoplayer</td>\n",
       "    </tr>\n",
       "    <tr>\n",
       "      <th>7</th>\n",
       "      <td>0</td>\n",
       "      <td>49390213</td>\n",
       "      <td>network</td>\n",
       "    </tr>\n",
       "    <tr>\n",
       "      <th>8</th>\n",
       "      <td>0</td>\n",
       "      <td>49660363</td>\n",
       "      <td>network</td>\n",
       "    </tr>\n",
       "    <tr>\n",
       "      <th>9</th>\n",
       "      <td>0</td>\n",
       "      <td>46630215</td>\n",
       "      <td>network</td>\n",
       "    </tr>\n",
       "    <tr>\n",
       "      <th>10</th>\n",
       "      <td>0</td>\n",
       "      <td>72695488</td>\n",
       "      <td>network</td>\n",
       "    </tr>\n",
       "  </tbody>\n",
       "</table>\n",
       "</div>"
      ],
      "text/plain": [
       "    counter_class  counter_id          NEW_RESULT\n",
       "0               0    43810134  big_yandex_counter\n",
       "1               0    20269972              plugin\n",
       "2               0    24791165              plugin\n",
       "3               0    20832499           blockpage\n",
       "4               0    42839234  big_yandex_counter\n",
       "5               0    30912901     videoplayer-ads\n",
       "6               0    70014157         videoplayer\n",
       "7               0    49390213             network\n",
       "8               0    49660363             network\n",
       "9               0    46630215             network\n",
       "10              0    72695488             network"
      ]
     },
     "execution_count": 300,
     "metadata": {},
     "output_type": "execute_result"
    }
   ],
   "source": [
    "new_marked_portion"
   ]
  },
  {
   "cell_type": "code",
   "execution_count": 301,
   "metadata": {},
   "outputs": [],
   "source": [
    "new_marked_portion.columns = ['CounterClass','CounterID','Result']"
   ]
  },
  {
   "cell_type": "code",
   "execution_count": 302,
   "metadata": {},
   "outputs": [],
   "source": [
    "new_marked_portion['AddDate'] = '2021-07-05'"
   ]
  },
  {
   "cell_type": "code",
   "execution_count": 303,
   "metadata": {},
   "outputs": [
    {
     "name": "stderr",
     "output_type": "stream",
     "text": [
      "100%|██████████| 1/1 [00:01<00:00,  1.55s/it]"
     ]
    },
    {
     "name": "stdout",
     "output_type": "stream",
     "text": [
      "\n",
      " success. \n",
      " path = https://yt.yandex-team.ru/hahn/navigation?path=//home/metrica-analytics/black_list/portions/2021-05-31-marked-2&\n"
     ]
    },
    {
     "name": "stderr",
     "output_type": "stream",
     "text": [
      "\n"
     ]
    }
   ],
   "source": [
    "yt_db.write_to_yt('//home/metrica-analytics/black_list/portions/{}'.format('2021-05-31-marked-2'), \n",
    "                new_marked_portion, ['CounterClass','CounterID','Result','AddDate'], ['uint8', 'uint32', 'string', 'string'])"
   ]
  },
  {
   "cell_type": "markdown",
   "metadata": {},
   "source": [
    "# Union all\n"
   ]
  },
  {
   "cell_type": "code",
   "execution_count": 52,
   "metadata": {},
   "outputs": [
    {
     "name": "stdout",
     "output_type": "stream",
     "text": [
      "\n",
      "Share URL: https://yql.yandex-team.ru/Operations/YORiUgTfnXqxwuhbXaxtXl5nfkjRapDetdPp4zSjuRI=\n",
      "\n"
     ]
    }
   ],
   "source": [
    "df_counters_markup_latest = yql_db.run_yql_wait_and_return(yql_final_union, token=opts.yql_oauth)"
   ]
  },
  {
   "cell_type": "code",
   "execution_count": 53,
   "metadata": {},
   "outputs": [
    {
     "data": {
      "text/html": [
       "<div>\n",
       "<style scoped>\n",
       "    .dataframe tbody tr th:only-of-type {\n",
       "        vertical-align: middle;\n",
       "    }\n",
       "\n",
       "    .dataframe tbody tr th {\n",
       "        vertical-align: top;\n",
       "    }\n",
       "\n",
       "    .dataframe thead th {\n",
       "        text-align: right;\n",
       "    }\n",
       "</style>\n",
       "<table border=\"1\" class=\"dataframe\">\n",
       "  <thead>\n",
       "    <tr style=\"text-align: right;\">\n",
       "      <th></th>\n",
       "      <th>CounterClass</th>\n",
       "      <th>CounterID</th>\n",
       "      <th>Result</th>\n",
       "      <th>AddDate</th>\n",
       "    </tr>\n",
       "  </thead>\n",
       "  <tbody>\n",
       "    <tr>\n",
       "      <th>0</th>\n",
       "      <td>0</td>\n",
       "      <td>1</td>\n",
       "      <td>technical</td>\n",
       "      <td>2020-11-27</td>\n",
       "    </tr>\n",
       "    <tr>\n",
       "      <th>1</th>\n",
       "      <td>0</td>\n",
       "      <td>3</td>\n",
       "      <td>technical</td>\n",
       "      <td>2020-11-27</td>\n",
       "    </tr>\n",
       "    <tr>\n",
       "      <th>2</th>\n",
       "      <td>0</td>\n",
       "      <td>37578</td>\n",
       "      <td>platform</td>\n",
       "      <td>2020-11-27</td>\n",
       "    </tr>\n",
       "    <tr>\n",
       "      <th>3</th>\n",
       "      <td>0</td>\n",
       "      <td>88259</td>\n",
       "      <td>platform</td>\n",
       "      <td>2020-11-27</td>\n",
       "    </tr>\n",
       "    <tr>\n",
       "      <th>4</th>\n",
       "      <td>0</td>\n",
       "      <td>200476</td>\n",
       "      <td>platform</td>\n",
       "      <td>2020-11-27</td>\n",
       "    </tr>\n",
       "    <tr>\n",
       "      <th>...</th>\n",
       "      <td>...</td>\n",
       "      <td>...</td>\n",
       "      <td>...</td>\n",
       "      <td>...</td>\n",
       "    </tr>\n",
       "    <tr>\n",
       "      <th>2121</th>\n",
       "      <td>0</td>\n",
       "      <td>82561498</td>\n",
       "      <td>ads</td>\n",
       "      <td>2021-07-05</td>\n",
       "    </tr>\n",
       "    <tr>\n",
       "      <th>2122</th>\n",
       "      <td>0</td>\n",
       "      <td>82561501</td>\n",
       "      <td>ads</td>\n",
       "      <td>2021-07-05</td>\n",
       "    </tr>\n",
       "    <tr>\n",
       "      <th>2123</th>\n",
       "      <td>0</td>\n",
       "      <td>51547469</td>\n",
       "      <td>network</td>\n",
       "      <td>2021-07-06</td>\n",
       "    </tr>\n",
       "    <tr>\n",
       "      <th>2124</th>\n",
       "      <td>0</td>\n",
       "      <td>53311306</td>\n",
       "      <td>plugin</td>\n",
       "      <td>2021-07-06</td>\n",
       "    </tr>\n",
       "    <tr>\n",
       "      <th>2125</th>\n",
       "      <td>0</td>\n",
       "      <td>71348983</td>\n",
       "      <td>ads</td>\n",
       "      <td>2021-07-06</td>\n",
       "    </tr>\n",
       "  </tbody>\n",
       "</table>\n",
       "<p>2126 rows × 4 columns</p>\n",
       "</div>"
      ],
      "text/plain": [
       "      CounterClass  CounterID     Result     AddDate\n",
       "0                0          1  technical  2020-11-27\n",
       "1                0          3  technical  2020-11-27\n",
       "2                0      37578   platform  2020-11-27\n",
       "3                0      88259   platform  2020-11-27\n",
       "4                0     200476   platform  2020-11-27\n",
       "...            ...        ...        ...         ...\n",
       "2121             0   82561498        ads  2021-07-05\n",
       "2122             0   82561501        ads  2021-07-05\n",
       "2123             0   51547469    network  2021-07-06\n",
       "2124             0   53311306     plugin  2021-07-06\n",
       "2125             0   71348983        ads  2021-07-06\n",
       "\n",
       "[2126 rows x 4 columns]"
      ]
     },
     "execution_count": 53,
     "metadata": {},
     "output_type": "execute_result"
    }
   ],
   "source": [
    "df_counters_markup_latest"
   ]
  },
  {
   "cell_type": "code",
   "execution_count": 54,
   "metadata": {},
   "outputs": [],
   "source": [
    "ch.create_and_put_df('metr.new_counters_markup', df_counters_markup_latest, 'CounterClass UInt8, CounterID UInt32, Result String, AddDate Date', host=ch.MTCH01K_HOST, user=opts.user, password=opts.password)\n",
    "ch.create_and_put_df('metr.new_counters_markup', df_counters_markup_latest, 'CounterClass UInt8, CounterID UInt32, Result String, AddDate Date', host=ch.MTCH01M_HOST, user=opts.user, password=opts.password)"
   ]
  },
  {
   "cell_type": "code",
   "execution_count": 121,
   "metadata": {},
   "outputs": [
    {
     "data": {
      "text/plain": [
       "''"
      ]
     },
     "execution_count": 121,
     "metadata": {},
     "output_type": "execute_result"
    }
   ],
   "source": [
    "# ch.get_data(query='drop view if exists metr.new_counters_black_list', host=ch.MTCH01K_HOST, user=opts.user, password=opts.password)\n",
    "# ch.get_data(query=\"create view  metr.new_counters_black_list as select * from metr.new_counters_markup where Result not in ('platform', 'network', 'videoplayer', 'mixed', 'big_yandex_counter')\", host=ch.MTCH01K_HOST, user=opts.user, password=opts.password)\n",
    "# ch.get_data(query='drop view if exists metr.new_counters_black_list', host=ch.MTCH01M_HOST, user=opts.user, password=opts.password)\n",
    "# ch.get_data(query=\"create view  metr.new_counters_black_list as select * from metr.new_counters_markup where Result not in ('platform', 'network', 'videoplayer', 'mixed', 'big_yandex_counter')\", host=ch.MTCH01M_HOST, user=opts.user, password=opts.password)"
   ]
  },
  {
   "cell_type": "code",
   "execution_count": 55,
   "metadata": {},
   "outputs": [
    {
     "name": "stdout",
     "output_type": "stream",
     "text": [
      "\n",
      "Share URL: https://yql.yandex-team.ru/Operations/YORjUZqqaD4EBhxGQcbZNisj8KB0CDvhVszYUBVVslE=\n",
      "\n"
     ]
    }
   ],
   "source": [
    "yql_get_stat_full = generate_query.get_query(yql_get_stat, opts.type, opts.date, repeat, sample=opts.sample, format_query = '', format_dict={'now_time':now_time})\n",
    "df_stat_counter_count = yql_db.run_yql_wait_and_return(yql_get_stat_full, token=opts.yql_oauth)\n"
   ]
  },
  {
   "cell_type": "code",
   "execution_count": 56,
   "metadata": {},
   "outputs": [
    {
     "data": {
      "text/html": [
       "<div>\n",
       "<style scoped>\n",
       "    .dataframe tbody tr th:only-of-type {\n",
       "        vertical-align: middle;\n",
       "    }\n",
       "\n",
       "    .dataframe tbody tr th {\n",
       "        vertical-align: top;\n",
       "    }\n",
       "\n",
       "    .dataframe thead th {\n",
       "        text-align: right;\n",
       "    }\n",
       "</style>\n",
       "<table border=\"1\" class=\"dataframe\">\n",
       "  <thead>\n",
       "    <tr style=\"text-align: right;\">\n",
       "      <th></th>\n",
       "      <th>fielddate</th>\n",
       "      <th>counter_type</th>\n",
       "      <th>counters</th>\n",
       "    </tr>\n",
       "  </thead>\n",
       "  <tbody>\n",
       "    <tr>\n",
       "      <th>0</th>\n",
       "      <td>1625432400</td>\n",
       "      <td>wts_buzz_koala</td>\n",
       "      <td>21</td>\n",
       "    </tr>\n",
       "    <tr>\n",
       "      <th>1</th>\n",
       "      <td>1625432400</td>\n",
       "      <td>old_bl</td>\n",
       "      <td>70</td>\n",
       "    </tr>\n",
       "    <tr>\n",
       "      <th>2</th>\n",
       "      <td>1625432400</td>\n",
       "      <td>g_200</td>\n",
       "      <td>2701</td>\n",
       "    </tr>\n",
       "  </tbody>\n",
       "</table>\n",
       "</div>"
      ],
      "text/plain": [
       "    fielddate    counter_type  counters\n",
       "0  1625432400  wts_buzz_koala        21\n",
       "1  1625432400          old_bl        70\n",
       "2  1625432400           g_200      2701"
      ]
     },
     "execution_count": 56,
     "metadata": {},
     "output_type": "execute_result"
    }
   ],
   "source": [
    "df_stat_counter_count"
   ]
  },
  {
   "cell_type": "code",
   "execution_count": 10,
   "metadata": {},
   "outputs": [
    {
     "name": "stdout",
     "output_type": "stream",
     "text": [
      "slices ['counter_type']\n",
      "counters\n",
      "solomon response {\"status\":\"OK\",\"sensorsProcessed\":3}\n"
     ]
    }
   ],
   "source": [
    "    solomon.push_df_to_solomon(df_stat_counter_count, ['counters'], \n",
    "        opts.solomon_oauth, project = 'metrika_analytics', cluster = 'black_list', service = 'metrika')\n"
   ]
  },
  {
   "cell_type": "code",
   "execution_count": null,
   "metadata": {},
   "outputs": [],
   "source": []
  }
 ],
 "metadata": {
  "kernelspec": {
   "display_name": "jupyterenv",
   "language": "python",
   "name": "jupyterenv"
  },
  "language_info": {
   "codemirror_mode": {
    "name": "ipython",
    "version": 3
   },
   "file_extension": ".py",
   "mimetype": "text/x-python",
   "name": "python",
   "nbconvert_exporter": "python",
   "pygments_lexer": "ipython3",
   "version": "3.7.7"
  }
 },
 "nbformat": 4,
 "nbformat_minor": 4
}
