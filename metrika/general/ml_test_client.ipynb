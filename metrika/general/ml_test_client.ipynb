{
 "cells": [
  {
   "cell_type": "code",
   "execution_count": 49,
   "metadata": {},
   "outputs": [
    {
     "name": "stdout",
     "output_type": "stream",
     "text": [
      "total 465M\r\n",
      "-rw-r--r-- 1 miptgirl dpt_yandex_monetize_metrica_dev_beh  60M Dec 15 17:51 2015-12-07.csv\r\n",
      "-rw-r--r-- 1 miptgirl dpt_yandex_monetize_metrica_dev_beh 157M Dec 15 17:51 2015-12-14.csv\r\n",
      "-rw-r--r-- 1 miptgirl dpt_yandex_monetize_metrica_dev_beh 250M Dec 15 17:52 2015-12-21.csv\r\n"
     ]
    }
   ],
   "source": [
    "! ls client_data -l --block-size=M"
   ]
  },
  {
   "cell_type": "code",
   "execution_count": 50,
   "metadata": {},
   "outputs": [],
   "source": [
    "import pandas as pd\n",
    "from sklearn import model_selection, preprocessing, linear_model, metrics, feature_extraction\n",
    "import numpy as np\n",
    "import os\n",
    "import json\n",
    "\n",
    "pd.set_option('display.max_columns', 500)"
   ]
  },
  {
   "cell_type": "code",
   "execution_count": 51,
   "metadata": {},
   "outputs": [
    {
     "name": "stdout",
     "output_type": "stream",
     "text": [
      "1.12.11\n"
     ]
    },
    {
     "data": {
      "text/html": [
       "<script>requirejs.config({paths: { 'plotly': ['https://cdn.plot.ly/plotly-latest.min']},});if(!window.Plotly) {{require(['plotly'],function(plotly) {window.Plotly=plotly;});}}</script>"
      ],
      "text/plain": [
       "<IPython.core.display.HTML object>"
      ]
     },
     "metadata": {},
     "output_type": "display_data"
    }
   ],
   "source": [
    "from plotly import __version__\n",
    "from plotly.offline import download_plotlyjs, init_notebook_mode, plot, iplot\n",
    "from plotly import graph_objs as go\n",
    "import requests\n",
    "import StringIO\n",
    "import pandas as pd\n",
    "import plotly\n",
    "\n",
    "print __version__ # need 1.9.0 or greater\n",
    "\n",
    "init_notebook_mode(connected = True)\n",
    "\n",
    "\n",
    "\n",
    "def plotly_df(df, title = '', filename = None):\n",
    "    data = []\n",
    "    \n",
    "    for column in df.columns:\n",
    "        trace = go.Scatter(\n",
    "            x = df.index,\n",
    "            y = df[column],\n",
    "            mode = 'lines',\n",
    "            name = column\n",
    "        )\n",
    "        data.append(trace)\n",
    "    \n",
    "    layout = dict(title = title)\n",
    "    fig = dict(data = data, layout = layout)\n",
    "    iplot(fig, show_link = False)\n",
    "    if filename:\n",
    "        plotly.offline.plot(fig, filename=filename)"
   ]
  },
  {
   "cell_type": "markdown",
   "metadata": {},
   "source": [
    "## Подготовка данных"
   ]
  },
  {
   "cell_type": "code",
   "execution_count": 52,
   "metadata": {},
   "outputs": [
    {
     "name": "stdout",
     "output_type": "stream",
     "text": [
      "(329387, 50)\n",
      "CPU times: user 1min 53s, sys: 19.8 s, total: 2min 13s\n",
      "Wall time: 2min 13s\n"
     ]
    }
   ],
   "source": [
    "%%time\n",
    "sample = 0.01\n",
    "\n",
    "dfs_sampled = []\n",
    "\n",
    "for filename in os.listdir('./client_data_new'):\n",
    "    df = pd.read_csv('./client_data_new/' + filename).fillna(0)\n",
    "    pos_df = df[df.target == 1]\n",
    "    neg_df = df[df.target == 0]\n",
    "\n",
    "    neg_df_sampled = neg_df.sample(frac = sample)\n",
    "    df_sampled = pd.concat([pos_df, neg_df_sampled])\n",
    "    dfs_sampled.append(df_sampled) \n",
    "\n",
    "df = pd.concat(dfs_sampled).drop_duplicates()\n",
    "X = df.drop(['target', 'user_id'], axis = 1)\n",
    "y = df.target\n",
    "\n",
    "print X.shape\n",
    "\n",
    "(X_train, X_test, y_train, y_test) = model_selection.train_test_split(X, y, \n",
    "                                                              test_size = 0.3, \n",
    "                                                              random_state = 0, \n",
    "                                                              stratify = y)\n",
    "\n",
    "scaler = preprocessing.StandardScaler()\n",
    "X_train_scaled = scaler.fit_transform(X_train)\n",
    "X_test_scaled = scaler.transform(X_test)"
   ]
  },
  {
   "cell_type": "markdown",
   "metadata": {},
   "source": [
    "## Логистическая регрессия\n",
    "### Базовая модель"
   ]
  },
  {
   "cell_type": "code",
   "execution_count": 5,
   "metadata": {
    "collapsed": true
   },
   "outputs": [],
   "source": [
    "param_grid = {'C': [0.01, 0.05, 0.1, 0.5, 1, 5, 10]}"
   ]
  },
  {
   "cell_type": "code",
   "execution_count": 6,
   "metadata": {},
   "outputs": [
    {
     "name": "stdout",
     "output_type": "stream",
     "text": [
      "CPU times: user 3min 12s, sys: 19.5 s, total: 3min 32s\n",
      "Wall time: 3min 14s\n"
     ]
    },
    {
     "data": {
      "text/plain": [
       "GridSearchCV(cv=5, error_score='raise',\n",
       "       estimator=LogisticRegression(C=1.0, class_weight='balanced', dual=False,\n",
       "          fit_intercept=True, intercept_scaling=1, max_iter=100,\n",
       "          multi_class='ovr', n_jobs=1, penalty='l2', random_state=None,\n",
       "          solver='liblinear', tol=0.0001, verbose=0, warm_start=False),\n",
       "       fit_params={}, iid=True, n_jobs=1,\n",
       "       param_grid={'C': [0.01, 0.05, 0.1, 0.5, 1, 5, 10]},\n",
       "       pre_dispatch='2*n_jobs', refit=True, return_train_score=True,\n",
       "       scoring='roc_auc', verbose=0)"
      ]
     },
     "execution_count": 6,
     "metadata": {},
     "output_type": "execute_result"
    }
   ],
   "source": [
    "estimator = linear_model.LogisticRegression(class_weight = 'balanced')\n",
    "clf_logit = model_selection.GridSearchCV(estimator, param_grid, cv = 5, scoring = 'roc_auc')\n",
    "%time clf_logit.fit(X_train_scaled, y_train)"
   ]
  },
  {
   "cell_type": "code",
   "execution_count": 7,
   "metadata": {},
   "outputs": [
    {
     "data": {
      "text/plain": [
       "LogisticRegression(C=0.01, class_weight='balanced', dual=False,\n",
       "          fit_intercept=True, intercept_scaling=1, max_iter=100,\n",
       "          multi_class='ovr', n_jobs=1, penalty='l2', random_state=None,\n",
       "          solver='liblinear', tol=0.0001, verbose=0, warm_start=False)"
      ]
     },
     "execution_count": 7,
     "metadata": {},
     "output_type": "execute_result"
    }
   ],
   "source": [
    "clf_logit.best_estimator_"
   ]
  },
  {
   "cell_type": "code",
   "execution_count": 8,
   "metadata": {},
   "outputs": [
    {
     "data": {
      "text/plain": [
       "0.84933781200171088"
      ]
     },
     "execution_count": 8,
     "metadata": {},
     "output_type": "execute_result"
    }
   ],
   "source": [
    "clf_logit.best_score_"
   ]
  },
  {
   "cell_type": "code",
   "execution_count": 9,
   "metadata": {},
   "outputs": [
    {
     "data": {
      "text/html": [
       "<div>\n",
       "<table border=\"1\" class=\"dataframe\">\n",
       "  <thead>\n",
       "    <tr style=\"text-align: right;\">\n",
       "      <th></th>\n",
       "      <th>feature</th>\n",
       "      <th>weight</th>\n",
       "      <th>abs_weight</th>\n",
       "    </tr>\n",
       "  </thead>\n",
       "  <tbody>\n",
       "    <tr>\n",
       "      <th>36</th>\n",
       "      <td>purchases</td>\n",
       "      <td>1.085225</td>\n",
       "      <td>1.085225</td>\n",
       "    </tr>\n",
       "    <tr>\n",
       "      <th>3</th>\n",
       "      <td>days_since_last_visit</td>\n",
       "      <td>-0.653453</td>\n",
       "      <td>0.653453</td>\n",
       "    </tr>\n",
       "    <tr>\n",
       "      <th>20</th>\n",
       "      <td>male</td>\n",
       "      <td>0.345543</td>\n",
       "      <td>0.345543</td>\n",
       "    </tr>\n",
       "    <tr>\n",
       "      <th>4</th>\n",
       "      <td>days_since_first_visit</td>\n",
       "      <td>0.345360</td>\n",
       "      <td>0.345360</td>\n",
       "    </tr>\n",
       "    <tr>\n",
       "      <th>32</th>\n",
       "      <td>avg_depth</td>\n",
       "      <td>0.301414</td>\n",
       "      <td>0.301414</td>\n",
       "    </tr>\n",
       "    <tr>\n",
       "      <th>35</th>\n",
       "      <td>not_bounce_visits</td>\n",
       "      <td>0.286480</td>\n",
       "      <td>0.286480</td>\n",
       "    </tr>\n",
       "    <tr>\n",
       "      <th>39</th>\n",
       "      <td>cart_products</td>\n",
       "      <td>0.268876</td>\n",
       "      <td>0.268876</td>\n",
       "    </tr>\n",
       "    <tr>\n",
       "      <th>21</th>\n",
       "      <td>female</td>\n",
       "      <td>0.220695</td>\n",
       "      <td>0.220695</td>\n",
       "    </tr>\n",
       "    <tr>\n",
       "      <th>0</th>\n",
       "      <td>is_mobile</td>\n",
       "      <td>-0.216140</td>\n",
       "      <td>0.216140</td>\n",
       "    </tr>\n",
       "    <tr>\n",
       "      <th>38</th>\n",
       "      <td>viewed_products</td>\n",
       "      <td>-0.149298</td>\n",
       "      <td>0.149298</td>\n",
       "    </tr>\n",
       "  </tbody>\n",
       "</table>\n",
       "</div>"
      ],
      "text/plain": [
       "                   feature    weight  abs_weight\n",
       "36               purchases  1.085225    1.085225\n",
       "3    days_since_last_visit -0.653453    0.653453\n",
       "20                    male  0.345543    0.345543\n",
       "4   days_since_first_visit  0.345360    0.345360\n",
       "32               avg_depth  0.301414    0.301414\n",
       "35       not_bounce_visits  0.286480    0.286480\n",
       "39           cart_products  0.268876    0.268876\n",
       "21                  female  0.220695    0.220695\n",
       "0                is_mobile -0.216140    0.216140\n",
       "38         viewed_products -0.149298    0.149298"
      ]
     },
     "execution_count": 9,
     "metadata": {},
     "output_type": "execute_result"
    }
   ],
   "source": [
    "coefs = clf_logit.best_estimator_.coef_.tolist()[0]\n",
    "columns = X.columns.tolist()\n",
    "\n",
    "logit_coefs = pd.DataFrame({'weight': coefs, 'feature': columns})\n",
    "logit_coefs['abs_weight'] = map(abs, logit_coefs.weight)\n",
    "logit_coefs.sort_values('abs_weight', ascending = False).head(10)"
   ]
  },
  {
   "cell_type": "code",
   "execution_count": 46,
   "metadata": {},
   "outputs": [],
   "source": [
    "def df_to_wiki(df):\n",
    "    print '#|\\n ||' + df.to_csv(index = True, sep = '|').replace('|', ' | ').replace('\\n', '|| \\n ||')[:-2] + '|#'"
   ]
  },
  {
   "cell_type": "code",
   "execution_count": 11,
   "metadata": {},
   "outputs": [
    {
     "data": {
      "text/plain": [
       "0.84657321847662237"
      ]
     },
     "execution_count": 11,
     "metadata": {},
     "output_type": "execute_result"
    }
   ],
   "source": [
    "y_logit = clf_logit.best_estimator_.predict_proba(X_test_scaled)[:, 1]\n",
    "roc_auc_logit = metrics.roc_auc_score(y_test, y_logit)\n",
    "roc_auc_logit"
   ]
  },
  {
   "cell_type": "code",
   "execution_count": 12,
   "metadata": {},
   "outputs": [],
   "source": [
    "y_logit_df = pd.DataFrame(y_logit)\n",
    "y_logit_df.columns = ['probability']"
   ]
  },
  {
   "cell_type": "code",
   "execution_count": 13,
   "metadata": {},
   "outputs": [],
   "source": [
    "y_logit_df['probability_rounded'] = map(lambda x: 100*round(x, 2), y_logit_df.probability)"
   ]
  },
  {
   "cell_type": "code",
   "execution_count": 14,
   "metadata": {},
   "outputs": [
    {
     "data": {
      "text/html": [
       "<div id=\"9be26a51-099f-467e-a375-9ba0cec51a85\" style=\"height: 525px; width: 100%;\" class=\"plotly-graph-div\"></div><script type=\"text/javascript\">require([\"plotly\"], function(Plotly) { window.PLOTLYENV=window.PLOTLYENV || {};window.PLOTLYENV.BASE_URL=\"https://plot.ly\";Plotly.newPlot(\"9be26a51-099f-467e-a375-9ba0cec51a85\", [{\"y\": [9, 2, 40, 321, 752, 1119, 1287, 1581, 1722, 1839, 1950, 2092, 2053, 2215, 2095, 2134, 2194, 2133, 2177, 2044, 2133, 1990, 2010, 1945, 1869, 1871, 1746, 1709, 1711, 1693, 1639, 1654, 1645, 1542, 1485, 1356, 1341, 1358, 1369, 1276, 1221, 1201, 1198, 1106, 1077, 1086, 1062, 989, 974, 953, 916, 839, 849, 827, 790, 732, 642, 681, 671, 596, 584, 579, 562, 540, 501, 492, 487, 485, 458, 442, 445, 450, 403, 389, 390, 361, 392, 370, 348, 334, 351, 297, 342, 300, 326, 326, 325, 330, 340, 318, 323, 340, 344, 383, 359, 376, 356, 419, 485, 639, 1015], \"x\": [0.0, 1.0, 2.0, 3.0, 4.0, 5.0, 6.0, 7.000000000000001, 8.0, 9.0, 10.0, 11.0, 12.0, 13.0, 14.000000000000002, 15.0, 16.0, 17.0, 18.0, 19.0, 20.0, 21.0, 22.0, 23.0, 24.0, 25.0, 26.0, 27.0, 28.000000000000004, 28.999999999999996, 30.0, 31.0, 32.0, 33.0, 34.0, 35.0, 36.0, 37.0, 38.0, 39.0, 40.0, 41.0, 42.0, 43.0, 44.0, 45.0, 46.0, 47.0, 48.0, 49.0, 50.0, 51.0, 52.0, 53.0, 54.0, 55.00000000000001, 56.00000000000001, 56.99999999999999, 57.99999999999999, 59.0, 60.0, 61.0, 62.0, 63.0, 64.0, 65.0, 66.0, 67.0, 68.0, 69.0, 70.0, 71.0, 72.0, 73.0, 74.0, 75.0, 76.0, 77.0, 78.0, 79.0, 80.0, 81.0, 82.0, 83.0, 84.0, 85.0, 86.0, 87.0, 88.0, 89.0, 90.0, 91.0, 92.0, 93.0, 94.0, 95.0, 96.0, 97.0, 98.0, 99.0, 100.0], \"type\": \"scatter\", \"name\": \"probability\", \"mode\": \"lines\"}], {\"title\": \"\"}, {\"linkText\": \"Export to plot.ly\", \"showLink\": false})});</script>"
      ],
      "text/plain": [
       "<IPython.core.display.HTML object>"
      ]
     },
     "metadata": {},
     "output_type": "display_data"
    }
   ],
   "source": [
    "plotly_df(y_logit_df.groupby('probability_rounded').count())"
   ]
  },
  {
   "cell_type": "markdown",
   "metadata": {},
   "source": [
    "### Отбор признаков с помощью Lasso"
   ]
  },
  {
   "cell_type": "code",
   "execution_count": 15,
   "metadata": {},
   "outputs": [
    {
     "name": "stdout",
     "output_type": "stream",
     "text": [
      "CPU times: user 6min 29s, sys: 23.1 s, total: 6min 52s\n",
      "Wall time: 6min 35s\n"
     ]
    },
    {
     "data": {
      "text/plain": [
       "GridSearchCV(cv=5, error_score='raise',\n",
       "       estimator=LogisticRegression(C=1.0, class_weight='balanced', dual=False,\n",
       "          fit_intercept=True, intercept_scaling=1, max_iter=100,\n",
       "          multi_class='ovr', n_jobs=1, penalty='l1', random_state=None,\n",
       "          solver='liblinear', tol=0.0001, verbose=0, warm_start=False),\n",
       "       fit_params={}, iid=True, n_jobs=1,\n",
       "       param_grid={'C': [0.01, 0.05, 0.1, 0.5, 1, 5, 10]},\n",
       "       pre_dispatch='2*n_jobs', refit=True, return_train_score=True,\n",
       "       scoring='roc_auc', verbose=0)"
      ]
     },
     "execution_count": 15,
     "metadata": {},
     "output_type": "execute_result"
    }
   ],
   "source": [
    "estimator = linear_model.LogisticRegression(penalty='l1', class_weight='balanced')\n",
    "clf_lasso = model_selection.GridSearchCV(estimator, param_grid, cv = 5, scoring = 'roc_auc')\n",
    "%time clf_lasso.fit(X_train_scaled, y_train)"
   ]
  },
  {
   "cell_type": "code",
   "execution_count": 16,
   "metadata": {},
   "outputs": [
    {
     "data": {
      "text/plain": [
       "LogisticRegression(C=0.01, class_weight='balanced', dual=False,\n",
       "          fit_intercept=True, intercept_scaling=1, max_iter=100,\n",
       "          multi_class='ovr', n_jobs=1, penalty='l1', random_state=None,\n",
       "          solver='liblinear', tol=0.0001, verbose=0, warm_start=False)"
      ]
     },
     "execution_count": 16,
     "metadata": {},
     "output_type": "execute_result"
    }
   ],
   "source": [
    "clf_lasso.best_estimator_"
   ]
  },
  {
   "cell_type": "code",
   "execution_count": 17,
   "metadata": {},
   "outputs": [
    {
     "data": {
      "text/plain": [
       "0.84938144375424207"
      ]
     },
     "execution_count": 17,
     "metadata": {},
     "output_type": "execute_result"
    }
   ],
   "source": [
    "clf_lasso.best_score_"
   ]
  },
  {
   "cell_type": "code",
   "execution_count": 18,
   "metadata": {},
   "outputs": [
    {
     "data": {
      "text/plain": [
       "0.84662297910137729"
      ]
     },
     "execution_count": 18,
     "metadata": {},
     "output_type": "execute_result"
    }
   ],
   "source": [
    "y_lasso = clf_lasso.best_estimator_.predict_proba(X_test_scaled)[:, 1]\n",
    "roc_auc_lasso = metrics.roc_auc_score(y_test, y_lasso)\n",
    "roc_auc_lasso"
   ]
  },
  {
   "cell_type": "code",
   "execution_count": 19,
   "metadata": {},
   "outputs": [
    {
     "data": {
      "text/html": [
       "<div>\n",
       "<table border=\"1\" class=\"dataframe\">\n",
       "  <thead>\n",
       "    <tr style=\"text-align: right;\">\n",
       "      <th></th>\n",
       "      <th>feature</th>\n",
       "      <th>weight</th>\n",
       "      <th>abs_weight</th>\n",
       "    </tr>\n",
       "  </thead>\n",
       "  <tbody>\n",
       "    <tr>\n",
       "      <th>47</th>\n",
       "      <td>saved_visits</td>\n",
       "      <td>-0.025485</td>\n",
       "      <td>0.025485</td>\n",
       "    </tr>\n",
       "    <tr>\n",
       "      <th>6</th>\n",
       "      <td>cooking</td>\n",
       "      <td>-0.025161</td>\n",
       "      <td>0.025161</td>\n",
       "    </tr>\n",
       "    <tr>\n",
       "      <th>16</th>\n",
       "      <td>healthy</td>\n",
       "      <td>0.012278</td>\n",
       "      <td>0.012278</td>\n",
       "    </tr>\n",
       "    <tr>\n",
       "      <th>27</th>\n",
       "      <td>first_source_undefined</td>\n",
       "      <td>0.009639</td>\n",
       "      <td>0.009639</td>\n",
       "    </tr>\n",
       "    <tr>\n",
       "      <th>19</th>\n",
       "      <td>cinema</td>\n",
       "      <td>0.008176</td>\n",
       "      <td>0.008176</td>\n",
       "    </tr>\n",
       "    <tr>\n",
       "      <th>48</th>\n",
       "      <td>social_visits</td>\n",
       "      <td>0.005648</td>\n",
       "      <td>0.005648</td>\n",
       "    </tr>\n",
       "    <tr>\n",
       "      <th>31</th>\n",
       "      <td>first_source_internal</td>\n",
       "      <td>0.004719</td>\n",
       "      <td>0.004719</td>\n",
       "    </tr>\n",
       "    <tr>\n",
       "      <th>8</th>\n",
       "      <td>cars</td>\n",
       "      <td>0.004422</td>\n",
       "      <td>0.004422</td>\n",
       "    </tr>\n",
       "    <tr>\n",
       "      <th>14</th>\n",
       "      <td>family</td>\n",
       "      <td>-0.003606</td>\n",
       "      <td>0.003606</td>\n",
       "    </tr>\n",
       "    <tr>\n",
       "      <th>45</th>\n",
       "      <td>organic_visits</td>\n",
       "      <td>-0.003520</td>\n",
       "      <td>0.003520</td>\n",
       "    </tr>\n",
       "    <tr>\n",
       "      <th>23</th>\n",
       "      <td>first_source_referral</td>\n",
       "      <td>-0.003194</td>\n",
       "      <td>0.003194</td>\n",
       "    </tr>\n",
       "    <tr>\n",
       "      <th>46</th>\n",
       "      <td>referral_visits</td>\n",
       "      <td>0.002473</td>\n",
       "      <td>0.002473</td>\n",
       "    </tr>\n",
       "    <tr>\n",
       "      <th>5</th>\n",
       "      <td>is_yabrowser</td>\n",
       "      <td>-0.002022</td>\n",
       "      <td>0.002022</td>\n",
       "    </tr>\n",
       "    <tr>\n",
       "      <th>49</th>\n",
       "      <td>undefined_visits</td>\n",
       "      <td>0.000816</td>\n",
       "      <td>0.000816</td>\n",
       "    </tr>\n",
       "    <tr>\n",
       "      <th>41</th>\n",
       "      <td>ad_visits</td>\n",
       "      <td>0.000000</td>\n",
       "      <td>0.000000</td>\n",
       "    </tr>\n",
       "    <tr>\n",
       "      <th>40</th>\n",
       "      <td>revenue</td>\n",
       "      <td>0.000000</td>\n",
       "      <td>0.000000</td>\n",
       "    </tr>\n",
       "    <tr>\n",
       "      <th>28</th>\n",
       "      <td>first_source_external</td>\n",
       "      <td>0.000000</td>\n",
       "      <td>0.000000</td>\n",
       "    </tr>\n",
       "    <tr>\n",
       "      <th>26</th>\n",
       "      <td>first_source_saved</td>\n",
       "      <td>0.000000</td>\n",
       "      <td>0.000000</td>\n",
       "    </tr>\n",
       "    <tr>\n",
       "      <th>18</th>\n",
       "      <td>literature</td>\n",
       "      <td>0.000000</td>\n",
       "      <td>0.000000</td>\n",
       "    </tr>\n",
       "    <tr>\n",
       "      <th>25</th>\n",
       "      <td>first_source_ad</td>\n",
       "      <td>0.000000</td>\n",
       "      <td>0.000000</td>\n",
       "    </tr>\n",
       "  </tbody>\n",
       "</table>\n",
       "</div>"
      ],
      "text/plain": [
       "                   feature    weight  abs_weight\n",
       "47            saved_visits -0.025485    0.025485\n",
       "6                  cooking -0.025161    0.025161\n",
       "16                 healthy  0.012278    0.012278\n",
       "27  first_source_undefined  0.009639    0.009639\n",
       "19                  cinema  0.008176    0.008176\n",
       "48           social_visits  0.005648    0.005648\n",
       "31   first_source_internal  0.004719    0.004719\n",
       "8                     cars  0.004422    0.004422\n",
       "14                  family -0.003606    0.003606\n",
       "45          organic_visits -0.003520    0.003520\n",
       "23   first_source_referral -0.003194    0.003194\n",
       "46         referral_visits  0.002473    0.002473\n",
       "5             is_yabrowser -0.002022    0.002022\n",
       "49        undefined_visits  0.000816    0.000816\n",
       "41               ad_visits  0.000000    0.000000\n",
       "40                 revenue  0.000000    0.000000\n",
       "28   first_source_external  0.000000    0.000000\n",
       "26      first_source_saved  0.000000    0.000000\n",
       "18              literature  0.000000    0.000000\n",
       "25         first_source_ad  0.000000    0.000000"
      ]
     },
     "execution_count": 19,
     "metadata": {},
     "output_type": "execute_result"
    }
   ],
   "source": [
    "coefs = clf_lasso.best_estimator_.coef_.tolist()[0]\n",
    "columns = X.columns.tolist()\n",
    "\n",
    "lasso_coefs = pd.DataFrame({'weight': coefs, 'feature': columns})\n",
    "lasso_coefs['abs_weight'] = map(abs, lasso_coefs.weight)\n",
    "lasso_coefs.sort_values('abs_weight', ascending = False).tail(20)"
   ]
  },
  {
   "cell_type": "markdown",
   "metadata": {},
   "source": [
    "### Логистическая регрессия (по данным Logs API)"
   ]
  },
  {
   "cell_type": "code",
   "execution_count": 53,
   "metadata": {},
   "outputs": [],
   "source": [
    "logs_api_cols = ['is_mobile',\n",
    " 'is_bounce_last_visit',\n",
    " 'days_since_last_visit',\n",
    " 'days_since_first_visit',\n",
    " 'is_yabrowser',\n",
    " 'mobile',\n",
    " 'first_source_direct',\n",
    " 'first_source_referral',\n",
    " 'first_source_organic',\n",
    " 'first_source_ad',\n",
    " 'first_source_saved',\n",
    " 'first_source_undefined',\n",
    " 'first_source_external',\n",
    " 'first_source_email',\n",
    " 'first_source_social',\n",
    " 'first_source_internal',\n",
    " 'avg_depth',\n",
    " 'avg_duration',\n",
    " 'visits',\n",
    " 'not_bounce_visits',\n",
    " 'purchases',\n",
    " 'purchased_products',\n",
    " 'viewed_products',\n",
    " 'cart_products',\n",
    " 'revenue',\n",
    " 'ad_visits',\n",
    " 'direct_visits',\n",
    " 'email_visits',\n",
    " 'internal_visits',\n",
    " 'organic_visits',\n",
    " 'referral_visits',\n",
    " 'saved_visits',\n",
    " 'social_visits',\n",
    " 'undefined_visits']"
   ]
  },
  {
   "cell_type": "code",
   "execution_count": 54,
   "metadata": {},
   "outputs": [],
   "source": [
    "X_api = df[logs_api_cols]\n",
    "y_api = df.target\n",
    "\n",
    "(X_train_api, X_test_api, y_train_api, y_test_api) = model_selection.train_test_split(X_api, y_api, \n",
    "                                                              test_size = 0.3, \n",
    "                                                              random_state = 0, \n",
    "                                                              stratify = y)\n",
    "\n",
    "scaler = preprocessing.StandardScaler()\n",
    "X_train_scaled_api = scaler.fit_transform(X_train_api)\n",
    "X_test_scaled_api = scaler.transform(X_test_api)"
   ]
  },
  {
   "cell_type": "code",
   "execution_count": 22,
   "metadata": {},
   "outputs": [
    {
     "name": "stdout",
     "output_type": "stream",
     "text": [
      "CPU times: user 2min 23s, sys: 18.7 s, total: 2min 42s\n",
      "Wall time: 2min 24s\n"
     ]
    },
    {
     "data": {
      "text/plain": [
       "GridSearchCV(cv=5, error_score='raise',\n",
       "       estimator=LogisticRegression(C=1.0, class_weight='balanced', dual=False,\n",
       "          fit_intercept=True, intercept_scaling=1, max_iter=100,\n",
       "          multi_class='ovr', n_jobs=1, penalty='l2', random_state=None,\n",
       "          solver='liblinear', tol=0.0001, verbose=0, warm_start=False),\n",
       "       fit_params={}, iid=True, n_jobs=1,\n",
       "       param_grid={'C': [0.01, 0.05, 0.1, 0.5, 1, 5, 10]},\n",
       "       pre_dispatch='2*n_jobs', refit=True, return_train_score=True,\n",
       "       scoring='roc_auc', verbose=0)"
      ]
     },
     "execution_count": 22,
     "metadata": {},
     "output_type": "execute_result"
    }
   ],
   "source": [
    "param_grid = {'C': [0.01, 0.05, 0.1, 0.5, 1, 5, 10]}\n",
    "\n",
    "estimator = linear_model.LogisticRegression(class_weight = 'balanced')\n",
    "clf_logit_api = model_selection.GridSearchCV(estimator, param_grid, cv = 5, scoring = 'roc_auc')\n",
    "%time clf_logit_api.fit(X_train_scaled_api, y_train_api)"
   ]
  },
  {
   "cell_type": "code",
   "execution_count": 23,
   "metadata": {},
   "outputs": [
    {
     "data": {
      "text/plain": [
       "LogisticRegression(C=0.01, class_weight='balanced', dual=False,\n",
       "          fit_intercept=True, intercept_scaling=1, max_iter=100,\n",
       "          multi_class='ovr', n_jobs=1, penalty='l2', random_state=None,\n",
       "          solver='liblinear', tol=0.0001, verbose=0, warm_start=False)"
      ]
     },
     "execution_count": 23,
     "metadata": {},
     "output_type": "execute_result"
    }
   ],
   "source": [
    "clf_logit_api.best_estimator_"
   ]
  },
  {
   "cell_type": "code",
   "execution_count": 24,
   "metadata": {},
   "outputs": [
    {
     "data": {
      "text/plain": [
       "0.84466424283921471"
      ]
     },
     "execution_count": 24,
     "metadata": {},
     "output_type": "execute_result"
    }
   ],
   "source": [
    "clf_logit_api.best_score_"
   ]
  },
  {
   "cell_type": "code",
   "execution_count": 25,
   "metadata": {},
   "outputs": [
    {
     "data": {
      "text/plain": [
       "0.84194353899180507"
      ]
     },
     "execution_count": 25,
     "metadata": {},
     "output_type": "execute_result"
    }
   ],
   "source": [
    "y_logit_api = clf_logit_api.best_estimator_.predict_proba(X_test_scaled_api)[:, 1]\n",
    "roc_auc_logit_api = metrics.roc_auc_score(y_test, y_logit_api)\n",
    "roc_auc_logit_api"
   ]
  },
  {
   "cell_type": "markdown",
   "metadata": {
    "collapsed": true
   },
   "source": [
    "## Random Forest\n",
    "### Базовая модель"
   ]
  },
  {
   "cell_type": "code",
   "execution_count": 9,
   "metadata": {
    "collapsed": true
   },
   "outputs": [],
   "source": [
    "from sklearn import ensemble"
   ]
  },
  {
   "cell_type": "code",
   "execution_count": 12,
   "metadata": {},
   "outputs": [],
   "source": [
    "forest_param_grid = {\n",
    "    'n_estimators': [5, 7, 10, 25, 50, 75, 100, 250, 500, 750, 1000],\n",
    "    'max_features': ['sqrt', 'log2', None]\n",
    "}"
   ]
  },
  {
   "cell_type": "code",
   "execution_count": 138,
   "metadata": {
    "collapsed": true
   },
   "outputs": [],
   "source": [
    "estimator = ensemble.RandomForestClassifier(\n",
    "    class_weight='balanced', \n",
    "    oob_score=True,\n",
    "    random_state=42,\n",
    "    n_jobs=4\n",
    ")"
   ]
  },
  {
   "cell_type": "code",
   "execution_count": 139,
   "metadata": {},
   "outputs": [
    {
     "name": "stdout",
     "output_type": "stream",
     "text": [
      "CPU times: user 5h 3min 12s, sys: 1min 6s, total: 5h 4min 18s\n",
      "Wall time: 1h 25min 28s\n"
     ]
    },
    {
     "data": {
      "text/plain": [
       "GridSearchCV(cv=5, error_score='raise',\n",
       "       estimator=RandomForestClassifier(bootstrap=True, class_weight='balanced',\n",
       "            criterion='gini', max_depth=None, max_features='auto',\n",
       "            max_leaf_nodes=None, min_impurity_split=1e-07,\n",
       "            min_samples_leaf=1, min_samples_split=2,\n",
       "            min_weight_fraction_leaf=0.0, n_estimators=10, n_jobs=4,\n",
       "            oob_score=True, random_state=42, verbose=0, warm_start=False),\n",
       "       fit_params={}, iid=True, n_jobs=1,\n",
       "       param_grid={'n_estimators': [5, 7, 10, 25, 50, 75, 100, 250, 500, 750, 1000], 'max_features': ['sqrt', 'log2', None]},\n",
       "       pre_dispatch='2*n_jobs', refit=True, return_train_score=True,\n",
       "       scoring='roc_auc', verbose=0)"
      ]
     },
     "execution_count": 139,
     "metadata": {},
     "output_type": "execute_result"
    }
   ],
   "source": [
    "clf_forest = model_selection.GridSearchCV(estimator, forest_param_grid, cv = 5, scoring = 'roc_auc')\n",
    "%time clf_forest.fit(X_train_scaled, y_train)"
   ]
  },
  {
   "cell_type": "code",
   "execution_count": 132,
   "metadata": {},
   "outputs": [
    {
     "data": {
      "text/plain": [
       "RandomForestClassifier(bootstrap=True, class_weight='balanced',\n",
       "            criterion='gini', max_depth=None, max_features='sqrt',\n",
       "            max_leaf_nodes=None, min_impurity_split=1e-07,\n",
       "            min_samples_leaf=1, min_samples_split=2,\n",
       "            min_weight_fraction_leaf=0.0, n_estimators=100, n_jobs=4,\n",
       "            oob_score=True, random_state=42, verbose=0, warm_start=False)"
      ]
     },
     "execution_count": 132,
     "metadata": {},
     "output_type": "execute_result"
    }
   ],
   "source": [
    "clf_forest.best_estimator_"
   ]
  },
  {
   "cell_type": "code",
   "execution_count": 153,
   "metadata": {},
   "outputs": [
    {
     "data": {
      "text/html": [
       "<div id=\"bbeb0799-ec9e-4fb1-b260-01d0e729603e\" style=\"height: 525px; width: 100%;\" class=\"plotly-graph-div\"></div><script type=\"text/javascript\">require([\"plotly\"], function(Plotly) { window.PLOTLYENV=window.PLOTLYENV || {};window.PLOTLYENV.BASE_URL=\"https://plot.ly\";Plotly.newPlot(\"bbeb0799-ec9e-4fb1-b260-01d0e729603e\", [{\"y\": [0.739351846099347, 0.7605481851928151, 0.7805101375262268, 0.8131062134878376, 0.8261878144929402, 0.8311655248084913, 0.8329840871402865, 0.8384075123587118, 0.8404240450278846, 0.8410017606474273, 0.841251703427467], \"x\": [5, 7, 10, 25, 50, 75, 100, 250, 500, 750, 1000], \"type\": \"scatter\", \"name\": \"log2\", \"mode\": \"lines\"}, {\"y\": [0.7309107958862355, 0.7510908903248825, 0.7705939047710938, 0.8021884190096753, 0.8149227039555244, 0.8193906688289889, 0.8226436322829704, 0.826787615385445, 0.8285039051328161, 0.8289540016190579, 0.8291067182605125], \"x\": [5, 7, 10, 25, 50, 75, 100, 250, 500, 750, 1000], \"type\": \"scatter\", \"name\": \"max\", \"mode\": \"lines\"}, {\"y\": [0.7380821798767503, 0.7594433011792885, 0.778575317884087, 0.8132959920014301, 0.8271560985810813, 0.8325236218618418, 0.8347247449384065, 0.8390657373064766, 0.8396973145633675, 0.8401499750479803, 0.8403465288736305], \"x\": [5, 7, 10, 25, 50, 75, 100, 250, 500, 750, 1000], \"type\": \"scatter\", \"name\": \"sqrt\", \"mode\": \"lines\"}], {\"title\": \"\"}, {\"linkText\": \"Export to plot.ly\", \"showLink\": false})});</script>"
      ],
      "text/plain": [
       "<IPython.core.display.HTML object>"
      ]
     },
     "metadata": {},
     "output_type": "display_data"
    }
   ],
   "source": [
    "plotly_df(pd.DataFrame(clf_forest.cv_results_).fillna('max').sort_values(['param_max_features', 'param_n_estimators'])[['mean_test_score', 'param_n_estimators', 'param_max_features']].pivot_table(index = 'param_n_estimators', columns = 'param_max_features', values = 'mean_test_score'))"
   ]
  },
  {
   "cell_type": "code",
   "execution_count": 141,
   "metadata": {},
   "outputs": [
    {
     "data": {
      "text/plain": [
       "0.84125170342746702"
      ]
     },
     "execution_count": 141,
     "metadata": {},
     "output_type": "execute_result"
    }
   ],
   "source": [
    "clf_forest.best_score_"
   ]
  },
  {
   "cell_type": "code",
   "execution_count": 142,
   "metadata": {},
   "outputs": [
    {
     "data": {
      "text/plain": [
       "0.91846352673669485"
      ]
     },
     "execution_count": 142,
     "metadata": {},
     "output_type": "execute_result"
    }
   ],
   "source": [
    "clf_forest.best_estimator_.oob_score_"
   ]
  },
  {
   "cell_type": "code",
   "execution_count": 143,
   "metadata": {},
   "outputs": [
    {
     "data": {
      "text/plain": [
       "0.84094468033764047"
      ]
     },
     "execution_count": 143,
     "metadata": {},
     "output_type": "execute_result"
    }
   ],
   "source": [
    "y_forest = clf_forest.best_estimator_.predict_proba(X_test_scaled)[:, 1]\n",
    "roc_auc_forest = metrics.roc_auc_score(y_test, y_forest)\n",
    "roc_auc_forest"
   ]
  },
  {
   "cell_type": "code",
   "execution_count": 21,
   "metadata": {},
   "outputs": [
    {
     "name": "stdout",
     "output_type": "stream",
     "text": [
      "CPU times: user 14min 58s, sys: 11.7 s, total: 15min 10s\n",
      "Wall time: 5min 20s\n"
     ]
    },
    {
     "data": {
      "text/plain": [
       "RandomForestClassifier(bootstrap=True, class_weight='balanced',\n",
       "            criterion='gini', max_depth=None, max_features='sqrt',\n",
       "            max_leaf_nodes=None, min_impurity_split=1e-07,\n",
       "            min_samples_leaf=1, min_samples_split=2,\n",
       "            min_weight_fraction_leaf=0.0, n_estimators=5000, n_jobs=4,\n",
       "            oob_score=True, random_state=42, verbose=0, warm_start=False)"
      ]
     },
     "execution_count": 21,
     "metadata": {},
     "output_type": "execute_result"
    }
   ],
   "source": [
    "forest_estimator = ensemble.RandomForestClassifier(\n",
    "    class_weight='balanced', \n",
    "    oob_score=True,\n",
    "    random_state=42,\n",
    "    n_jobs=4,\n",
    "    n_estimators=5000,\n",
    "    max_features='sqrt'\n",
    ")\n",
    "\n",
    "%time forest_estimator.fit(X_train_scaled, y_train)"
   ]
  },
  {
   "cell_type": "code",
   "execution_count": 22,
   "metadata": {},
   "outputs": [
    {
     "data": {
      "text/plain": [
       "0.8439160545000175"
      ]
     },
     "execution_count": 22,
     "metadata": {},
     "output_type": "execute_result"
    }
   ],
   "source": [
    "y_forest_big = forest_estimator.predict_proba(X_test_scaled)[:, 1]\n",
    "roc_auc_forest_big = metrics.roc_auc_score(y_test, y_forest_big)\n",
    "roc_auc_forest_big"
   ]
  },
  {
   "cell_type": "markdown",
   "metadata": {},
   "source": [
    "### По данным Logs API"
   ]
  },
  {
   "cell_type": "code",
   "execution_count": 10,
   "metadata": {},
   "outputs": [],
   "source": [
    "estimator = ensemble.RandomForestClassifier(\n",
    "    class_weight='balanced', \n",
    "    oob_score=True,\n",
    "    random_state=42,\n",
    "    n_jobs=4\n",
    ")"
   ]
  },
  {
   "cell_type": "code",
   "execution_count": 13,
   "metadata": {},
   "outputs": [
    {
     "name": "stderr",
     "output_type": "stream",
     "text": [
      "/usr/local/lib/python2.7/dist-packages/sklearn/ensemble/forest.py:439: UserWarning:\n",
      "\n",
      "Some inputs do not have OOB scores. This probably means too few trees were used to compute any reliable oob estimates.\n",
      "\n",
      "/usr/local/lib/python2.7/dist-packages/sklearn/ensemble/forest.py:444: RuntimeWarning:\n",
      "\n",
      "invalid value encountered in true_divide\n",
      "\n"
     ]
    },
    {
     "name": "stdout",
     "output_type": "stream",
     "text": [
      "CPU times: user 3h 22min 3s, sys: 1min 16s, total: 3h 23min 19s\n",
      "Wall time: 59min 2s\n"
     ]
    },
    {
     "data": {
      "text/plain": [
       "GridSearchCV(cv=5, error_score='raise',\n",
       "       estimator=RandomForestClassifier(bootstrap=True, class_weight='balanced',\n",
       "            criterion='gini', max_depth=None, max_features='auto',\n",
       "            max_leaf_nodes=None, min_impurity_split=1e-07,\n",
       "            min_samples_leaf=1, min_samples_split=2,\n",
       "            min_weight_fraction_leaf=0.0, n_estimators=10, n_jobs=4,\n",
       "            oob_score=True, random_state=42, verbose=0, warm_start=False),\n",
       "       fit_params={}, iid=True, n_jobs=1,\n",
       "       param_grid={'n_estimators': [5, 7, 10, 25, 50, 75, 100, 250, 500, 750, 1000], 'max_features': ['sqrt', 'log2', None]},\n",
       "       pre_dispatch='2*n_jobs', refit=True, return_train_score=True,\n",
       "       scoring='roc_auc', verbose=0)"
      ]
     },
     "execution_count": 13,
     "metadata": {},
     "output_type": "execute_result"
    }
   ],
   "source": [
    "clf_forest_api = model_selection.GridSearchCV(estimator, forest_param_grid, cv = 5, scoring = 'roc_auc')\n",
    "%time clf_forest_api.fit(X_train_scaled_api, y_train_api)"
   ]
  },
  {
   "cell_type": "code",
   "execution_count": 14,
   "metadata": {},
   "outputs": [
    {
     "data": {
      "text/plain": [
       "RandomForestClassifier(bootstrap=True, class_weight='balanced',\n",
       "            criterion='gini', max_depth=None, max_features='sqrt',\n",
       "            max_leaf_nodes=None, min_impurity_split=1e-07,\n",
       "            min_samples_leaf=1, min_samples_split=2,\n",
       "            min_weight_fraction_leaf=0.0, n_estimators=750, n_jobs=4,\n",
       "            oob_score=True, random_state=42, verbose=0, warm_start=False)"
      ]
     },
     "execution_count": 14,
     "metadata": {},
     "output_type": "execute_result"
    }
   ],
   "source": [
    "clf_forest_api.best_estimator_"
   ]
  },
  {
   "cell_type": "code",
   "execution_count": 15,
   "metadata": {},
   "outputs": [
    {
     "data": {
      "text/plain": [
       "0.8046127751653307"
      ]
     },
     "execution_count": 15,
     "metadata": {},
     "output_type": "execute_result"
    }
   ],
   "source": [
    "clf_forest_api.best_score_"
   ]
  },
  {
   "cell_type": "code",
   "execution_count": 16,
   "metadata": {},
   "outputs": [
    {
     "data": {
      "text/plain": [
       "0.80421980914119306"
      ]
     },
     "execution_count": 16,
     "metadata": {},
     "output_type": "execute_result"
    }
   ],
   "source": [
    "y_forest_api = clf_forest_api.best_estimator_.predict_proba(X_test_scaled_api)[:, 1]\n",
    "roc_auc_forest_api = metrics.roc_auc_score(y_test_api, y_forest_api)\n",
    "roc_auc_forest_api"
   ]
  },
  {
   "cell_type": "code",
   "execution_count": 17,
   "metadata": {},
   "outputs": [
    {
     "data": {
      "text/html": [
       "<div id=\"8611e55e-fbec-441c-b02d-a8d055ccc4ad\" style=\"height: 525px; width: 100%;\" class=\"plotly-graph-div\"></div><script type=\"text/javascript\">require([\"plotly\"], function(Plotly) { window.PLOTLYENV=window.PLOTLYENV || {};window.PLOTLYENV.BASE_URL=\"https://plot.ly\";Plotly.newPlot(\"8611e55e-fbec-441c-b02d-a8d055ccc4ad\", [{\"y\": [0.7230792003386476, 0.7406071043679099, 0.7560790735389401, 0.7832724171000917, 0.7938777779977968, 0.7976496576856492, 0.7993676838360613, 0.8028933297044578, 0.8039666747991392, 0.8046127751653307, 0.8045138517165068], \"x\": [5, 7, 10, 25, 50, 75, 100, 250, 500, 750, 1000], \"type\": \"scatter\", \"name\": \"log2\", \"mode\": \"lines\"}, {\"y\": [0.7154992385653137, 0.7331356827492145, 0.7490431768268725, 0.7738080001483255, 0.784172656409985, 0.7884618908242557, 0.7910286021718482, 0.7939725786262359, 0.7953147992808334, 0.7956490820210583, 0.7959599153139123], \"x\": [5, 7, 10, 25, 50, 75, 100, 250, 500, 750, 1000], \"type\": \"scatter\", \"name\": \"max\", \"mode\": \"lines\"}, {\"y\": [0.7230792003386476, 0.7406071043679099, 0.7560790735389401, 0.7832724171000917, 0.7938777779977968, 0.7976496576856492, 0.7993676838360613, 0.8028933297044578, 0.8039666747991392, 0.8046127751653307, 0.8045138517165068], \"x\": [5, 7, 10, 25, 50, 75, 100, 250, 500, 750, 1000], \"type\": \"scatter\", \"name\": \"sqrt\", \"mode\": \"lines\"}], {\"title\": \"\"}, {\"linkText\": \"Export to plot.ly\", \"showLink\": false})});</script>"
      ],
      "text/plain": [
       "<IPython.core.display.HTML object>"
      ]
     },
     "metadata": {},
     "output_type": "display_data"
    }
   ],
   "source": [
    "plotly_df(pd.DataFrame(clf_forest_api.cv_results_).fillna('max').sort_values(['param_max_features', 'param_n_estimators'])[['mean_test_score', 'param_n_estimators', 'param_max_features']].pivot_table(index = 'param_n_estimators', columns = 'param_max_features', values = 'mean_test_score'))"
   ]
  },
  {
   "cell_type": "markdown",
   "metadata": {},
   "source": [
    "## XGBoost"
   ]
  },
  {
   "cell_type": "code",
   "execution_count": 55,
   "metadata": {},
   "outputs": [],
   "source": [
    "import xgboost as xgb"
   ]
  },
  {
   "cell_type": "code",
   "execution_count": 56,
   "metadata": {},
   "outputs": [
    {
     "name": "stdout",
     "output_type": "stream",
     "text": [
      "CPU times: user 5min 16s, sys: 292 ms, total: 5min 17s\n",
      "Wall time: 44.3 s\n"
     ]
    },
    {
     "data": {
      "text/plain": [
       "XGBClassifier(base_score=0.5, colsample_bylevel=1, colsample_bytree=1,\n",
       "       gamma=0, learning_rate=0.025, max_delta_step=0, max_depth=3,\n",
       "       min_child_weight=10, missing=None, n_estimators=1000, nthread=-1,\n",
       "       objective='binary:logistic', reg_alpha=0, reg_lambda=1,\n",
       "       scale_pos_weight=1, seed=0, silent=True, subsample=0.5)"
      ]
     },
     "execution_count": 56,
     "metadata": {},
     "output_type": "execute_result"
    }
   ],
   "source": [
    "clf_xgb = xgb.XGBClassifier(\n",
    "    n_estimators = 1000,\n",
    "    colsample_bytree=1,\n",
    "    learning_rate=0.025,\n",
    "    max_depth=3,\n",
    "    min_child_weight=10,\n",
    "    subsample=0.5\n",
    ")\n",
    "%time clf_xgb.fit(X_train_scaled_api, y_train_api)"
   ]
  },
  {
   "cell_type": "code",
   "execution_count": 57,
   "metadata": {},
   "outputs": [
    {
     "name": "stdout",
     "output_type": "stream",
     "text": [
      "#|\n",
      " ||feature | weight|| \n",
      " ||days_since_first_visit | 14.25|| \n",
      " ||days_since_last_visit | 11.63|| \n",
      " ||avg_duration | 10.86|| \n",
      " ||avg_depth | 9.97|| \n",
      " ||viewed_products | 6.85|| \n",
      " ||revenue | 5.76|| \n",
      " ||not_bounce_visits | 4.98|| \n",
      " ||direct_visits | 3.84|| \n",
      " ||visits | 3.73|| \n",
      " ||cart_products | 3.23|| \n",
      " ||email_visits | 3.2|| \n",
      " ||ad_visits | 2.57|| \n",
      " ||purchases | 2.46|| \n",
      " ||organic_visits | 2.42|| \n",
      " ||internal_visits | 2.37|| \n",
      " ||is_mobile | 2.36|| \n",
      " ||purchased_products | 1.83|| \n",
      " ||mobile | 1.65|| \n",
      " ||first_source_email | 1.16|| \n",
      " ||is_bounce_last_visit | 1.0|| \n",
      " ||first_source_direct | 0.96|| \n",
      " ||first_source_organic | 0.66|| \n",
      " ||is_yabrowser | 0.66|| \n",
      " ||referral_visits | 0.51|| \n",
      " ||first_source_ad | 0.45|| \n",
      " ||first_source_referral | 0.37|| \n",
      " ||first_source_internal | 0.14|| \n",
      " ||social_visits | 0.09|| \n",
      " ||first_source_social | 0.05|| \n",
      " ||first_source_saved | 0.0|| \n",
      " ||first_source_undefined | 0.0|| \n",
      " ||first_source_external | 0.0|| \n",
      " ||saved_visits | 0.0|| \n",
      " ||undefined_visits | 0.0|| \n",
      " |#\n",
      "None\n"
     ]
    }
   ],
   "source": [
    "xgb_features_df = pd.DataFrame()\n",
    "xgb_features_df['weight'] = clf_xgb.feature_importances_\n",
    "xgb_features_df['feature'] = logs_api_cols\n",
    "print df_to_wiki(xgb_features_df.sort_values('weight', ascending = False).set_index('feature').applymap(lambda x: round(100*x, 2)))"
   ]
  },
  {
   "cell_type": "code",
   "execution_count": 58,
   "metadata": {},
   "outputs": [
    {
     "data": {
      "text/plain": [
       "0.85956542223785803"
      ]
     },
     "execution_count": 58,
     "metadata": {},
     "output_type": "execute_result"
    }
   ],
   "source": [
    "y_xgb = clf_xgb.predict_proba(X_test_scaled_api)[:, 1]\n",
    "roc_auc_xgb = metrics.roc_auc_score(y_test_api, y_xgb)\n",
    "roc_auc_xgb "
   ]
  },
  {
   "cell_type": "code",
   "execution_count": 59,
   "metadata": {},
   "outputs": [
    {
     "data": {
      "text/html": [
       "<div id=\"79dda398-1a46-4a03-8252-d898dff7afaa\" style=\"height: 525px; width: 100%;\" class=\"plotly-graph-div\"></div><script type=\"text/javascript\">require([\"plotly\"], function(Plotly) { window.PLOTLYENV=window.PLOTLYENV || {};window.PLOTLYENV.BASE_URL=\"https://plot.ly\";Plotly.newPlot(\"79dda398-1a46-4a03-8252-d898dff7afaa\", [{\"y\": [12960, 17483, 10638, 7786, 5740, 4885, 3682, 3087, 2686, 2150, 1804, 1658, 1452, 1277, 1110, 1042, 911, 903, 828, 762, 672, 662, 590, 533, 523, 476, 431, 481, 400, 384, 355, 336, 317, 327, 319, 292, 295, 248, 247, 267, 240, 208, 231, 215, 199, 209, 207, 176, 199, 183, 206, 176, 167, 160, 174, 133, 166, 142, 146, 123, 153, 156, 156, 125, 132, 135, 117, 128, 127, 146, 135, 112, 115, 126, 115, 100, 113, 115, 110, 117, 121, 91, 127, 113, 99, 100, 113, 109, 96, 97, 88, 95, 72, 83, 72, 61, 44, 37, 7], \"x\": [1.0, 2.0, 3.0, 4.0, 5.0, 6.0, 7.000000000000001, 8.0, 9.0, 10.0, 11.0, 12.0, 13.0, 14.000000000000002, 15.0, 16.0, 17.0, 18.0, 19.0, 20.0, 21.0, 22.0, 23.0, 24.0, 25.0, 26.0, 27.0, 28.000000000000004, 28.999999999999996, 30.0, 31.0, 32.0, 33.0, 34.0, 35.0, 36.0, 37.0, 38.0, 39.0, 40.0, 41.0, 42.0, 43.0, 44.0, 45.0, 46.0, 47.0, 48.0, 49.0, 50.0, 51.0, 52.0, 53.0, 54.0, 55.00000000000001, 56.00000000000001, 56.99999999999999, 57.99999999999999, 59.0, 60.0, 61.0, 62.0, 63.0, 64.0, 65.0, 66.0, 67.0, 68.0, 69.0, 70.0, 71.0, 72.0, 73.0, 74.0, 75.0, 76.0, 77.0, 78.0, 79.0, 80.0, 81.0, 82.0, 83.0, 84.0, 85.0, 86.0, 87.0, 88.0, 89.0, 90.0, 91.0, 92.0, 93.0, 94.0, 95.0, 96.0, 97.0, 98.0, 99.0], \"type\": \"scatter\", \"name\": \"probability\", \"mode\": \"lines\"}], {\"title\": \"\"}, {\"linkText\": \"Export to plot.ly\", \"showLink\": false})});</script>"
      ],
      "text/plain": [
       "<IPython.core.display.HTML object>"
      ]
     },
     "metadata": {},
     "output_type": "display_data"
    }
   ],
   "source": [
    "y_xgb_df = pd.DataFrame(y_xgb)\n",
    "y_xgb_df.columns = ['probability']\n",
    "y_xgb_df['probability_rounded'] = map(lambda x: 100*round(x, 2), y_xgb_df.probability)\n",
    "plotly_df(y_xgb_df.groupby('probability_rounded').count())"
   ]
  },
  {
   "cell_type": "markdown",
   "metadata": {},
   "source": [
    "## kNN"
   ]
  },
  {
   "cell_type": "code",
   "execution_count": 5,
   "metadata": {
    "collapsed": true
   },
   "outputs": [],
   "source": [
    "from sklearn import neighbors"
   ]
  },
  {
   "cell_type": "code",
   "execution_count": 21,
   "metadata": {
    "collapsed": true
   },
   "outputs": [],
   "source": [
    "knn_param_grid = {\n",
    "    'n_neighbors': [1, 2, 5, 10, 25, 50, 75, 100],\n",
    "    'weights': ['uniform', 'distance'],\n",
    "    'p': [1, 2, 3]\n",
    "}"
   ]
  },
  {
   "cell_type": "code",
   "execution_count": null,
   "metadata": {},
   "outputs": [
    {
     "name": "stdout",
     "output_type": "stream",
     "text": [
      "n_neighbors=1, weights=uniform, p=1\n",
      "CPU times: user 25min 20s, sys: 584 ms, total: 25min 21s\n",
      "Wall time: 8min 19s\n",
      "### score = 0.613627661547/n\n",
      "n_neighbors=1, weights=uniform, p=2\n",
      "CPU times: user 23min 5s, sys: 812 ms, total: 23min 5s\n",
      "Wall time: 7min 53s\n",
      "### score = 0.613232800178/n\n",
      "n_neighbors=1, weights=uniform, p=3\n",
      "CPU times: user 1h 58min 30s, sys: 3.34 s, total: 1h 58min 34s\n",
      "Wall time: 35min 48s\n",
      "### score = 0.613360262126/n\n",
      "n_neighbors=1, weights=distance, p=1\n",
      "CPU times: user 23min 36s, sys: 648 ms, total: 23min 37s\n",
      "Wall time: 7min 47s\n",
      "### score = 0.613627661547/n\n",
      "n_neighbors=1, weights=distance, p=2\n",
      "CPU times: user 25min 37s, sys: 640 ms, total: 25min 37s\n",
      "Wall time: 8min 25s\n",
      "### score = 0.613232800178/n\n",
      "n_neighbors=1, weights=distance, p=3\n",
      "CPU times: user 30min 27s, sys: 724 ms, total: 30min 27s\n",
      "Wall time: 9min 45s\n",
      "### score = 0.823448475247/n\n",
      "n_neighbors=75, weights=uniform, p=3\n"
     ]
    }
   ],
   "source": [
    "knn_results = []\n",
    "\n",
    "for n_neighbors in knn_param_grid['n_neighbors']:\n",
    "    for weights in knn_param_grid['weights']:\n",
    "        for p in knn_param_grid['p']:\n",
    "            print 'n_neighbors={n_neighbors}, weights={weights}, p={p}'.format(\n",
    "                n_neighbors=n_neighbors,\n",
    "                weights=weights,\n",
    "                p=p\n",
    "            )\n",
    "            estimator = neighbors.KNeighborsClassifier(\n",
    "                n_jobs=4,\n",
    "                n_neighbors=n_neighbors,\n",
    "                weights=weights,\n",
    "                p=p\n",
    "            )\n",
    "            %time scores = model_selection.cross_val_score(estimator, X_train_scaled_api, y_train_api, scoring = 'roc_auc', cv = 5)\n",
    "            print '### score = {score}/n'.format(score = np.mean(scores))\n",
    "            \n",
    "            item = {\n",
    "                'scores': scores,\n",
    "                'score': np.mean(scores),\n",
    "                'p': p,\n",
    "                'n_neighbors': n_neighbors,\n",
    "                'weights': weights\n",
    "            }\n",
    "            \n",
    "            knn_results.append(item)"
   ]
  },
  {
   "cell_type": "code",
   "execution_count": null,
   "metadata": {
    "collapsed": true
   },
   "outputs": [],
   "source": [
    "knn_results"
   ]
  },
  {
   "cell_type": "code",
   "execution_count": null,
   "metadata": {
    "collapsed": true
   },
   "outputs": [],
   "source": []
  }
 ],
 "metadata": {
  "anaconda-cloud": {},
  "kernelspec": {
   "display_name": "Python 2",
   "language": "python",
   "name": "python2"
  },
  "language_info": {
   "codemirror_mode": {
    "name": "ipython",
    "version": 2
   },
   "file_extension": ".py",
   "mimetype": "text/x-python",
   "name": "python",
   "nbconvert_exporter": "python",
   "pygments_lexer": "ipython2",
   "version": "2.7.6"
  }
 },
 "nbformat": 4,
 "nbformat_minor": 1
}
