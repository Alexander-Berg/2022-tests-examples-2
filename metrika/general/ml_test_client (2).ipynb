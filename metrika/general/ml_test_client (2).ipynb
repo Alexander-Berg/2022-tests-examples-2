{
 "cells": [
  {
   "cell_type": "markdown",
   "metadata": {},
   "source": [
    "# Проверка на прошлогодних данных\n",
    "\n",
    "Обучим модель на данных с 21 декабря по 17 января и проверим ее предсказания на покупки в период с 18 по 24 января."
   ]
  },
  {
   "cell_type": "code",
   "execution_count": 1,
   "metadata": {
    "collapsed": false
   },
   "outputs": [
    {
     "name": "stdout",
     "output_type": "stream",
     "text": [
      "total 1327M\r\n",
      "-rw-r--r-- 1 miptgirl dpt_yandex_monetize_metrica_dev_beh 245M Dec 22 13:40 2015-12-21.csv\r\n",
      "-rw-r--r-- 1 miptgirl dpt_yandex_monetize_metrica_dev_beh 336M Dec 22 13:41 2015-12-28.csv\r\n",
      "-rw-r--r-- 1 miptgirl dpt_yandex_monetize_metrica_dev_beh 377M Dec 22 13:41 2016-01-04.csv\r\n",
      "-rw-r--r-- 1 miptgirl dpt_yandex_monetize_metrica_dev_beh 370M Dec 22 13:42 2016-01-11.csv\r\n"
     ]
    }
   ],
   "source": [
    "! ls train_data -l --block-size=M"
   ]
  },
  {
   "cell_type": "code",
   "execution_count": 2,
   "metadata": {
    "collapsed": false
   },
   "outputs": [],
   "source": [
    "import pandas as pd\n",
    "from sklearn import model_selection, preprocessing, linear_model, metrics, feature_extraction\n",
    "import numpy as np\n",
    "import os\n",
    "import json\n",
    "\n",
    "pd.set_option('display.max_columns', 500)"
   ]
  },
  {
   "cell_type": "code",
   "execution_count": 3,
   "metadata": {
    "collapsed": false
   },
   "outputs": [
    {
     "name": "stdout",
     "output_type": "stream",
     "text": [
      "1.12.11\n"
     ]
    },
    {
     "data": {
      "text/html": [
       "<script>requirejs.config({paths: { 'plotly': ['https://cdn.plot.ly/plotly-latest.min']},});if(!window.Plotly) {{require(['plotly'],function(plotly) {window.Plotly=plotly;});}}</script>"
      ],
      "text/plain": [
       "<IPython.core.display.HTML object>"
      ]
     },
     "metadata": {},
     "output_type": "display_data"
    }
   ],
   "source": [
    "from plotly import __version__\n",
    "from plotly.offline import download_plotlyjs, init_notebook_mode, plot, iplot\n",
    "from plotly import graph_objs as go\n",
    "import requests\n",
    "import StringIO\n",
    "import pandas as pd\n",
    "import plotly\n",
    "\n",
    "print __version__ # need 1.9.0 or greater\n",
    "\n",
    "init_notebook_mode(connected = True)\n",
    "\n",
    "\n",
    "\n",
    "def plotly_df(df, title = '', filename = None):\n",
    "    data = []\n",
    "    \n",
    "    for column in df.columns:\n",
    "        trace = go.Scatter(\n",
    "            x = df.index,\n",
    "            y = df[column],\n",
    "            mode = 'lines',\n",
    "            name = column\n",
    "        )\n",
    "        data.append(trace)\n",
    "    \n",
    "    layout = dict(title = title)\n",
    "    fig = dict(data = data, layout = layout)\n",
    "    iplot(fig, show_link = False)\n",
    "    if filename:\n",
    "        plotly.offline.plot(fig, filename=filename)"
   ]
  },
  {
   "cell_type": "markdown",
   "metadata": {},
   "source": [
    "## Подготовка данных"
   ]
  },
  {
   "cell_type": "code",
   "execution_count": 5,
   "metadata": {
    "collapsed": false
   },
   "outputs": [
    {
     "name": "stdout",
     "output_type": "stream",
     "text": [
      "(126410, 50)\n",
      "CPU times: user 43.6 s, sys: 8 s, total: 51.6 s\n",
      "Wall time: 1min\n"
     ]
    }
   ],
   "source": [
    "%%time\n",
    "sample = 0.01\n",
    "\n",
    "dfs_sampled = []\n",
    "\n",
    "for filename in os.listdir('./train_data'):\n",
    "    df = pd.read_csv('./train_data/' + filename).fillna(0)\n",
    "    pos_df = df[df.target == 1]\n",
    "    neg_df = df[df.target == 0]\n",
    "\n",
    "    neg_df_sampled = neg_df.sample(frac = sample)\n",
    "    df_sampled = pd.concat([pos_df, neg_df_sampled])\n",
    "    dfs_sampled.append(df_sampled) \n",
    "\n",
    "df = pd.concat(dfs_sampled).drop_duplicates()\n",
    "X = df.drop(['target', 'user_id'], axis = 1)\n",
    "y = df.target\n",
    "\n",
    "print X.shape\n",
    "\n",
    "(X_train, X_test, y_train, y_test) = model_selection.train_test_split(X, y, \n",
    "                                                              test_size = 0.3, \n",
    "                                                              random_state = 0, \n",
    "                                                              stratify = y)\n",
    "\n",
    "scaler = preprocessing.StandardScaler()\n",
    "X_train_scaled = scaler.fit_transform(X_train)\n",
    "X_test_scaled = scaler.transform(X_test)"
   ]
  },
  {
   "cell_type": "markdown",
   "metadata": {},
   "source": [
    "#### Выделение данных Logs API"
   ]
  },
  {
   "cell_type": "code",
   "execution_count": 6,
   "metadata": {
    "collapsed": false
   },
   "outputs": [],
   "source": [
    "logs_api_cols = ['is_mobile',\n",
    " 'is_bounce_last_visit',\n",
    " 'days_since_last_visit',\n",
    " 'days_since_first_visit',\n",
    " 'is_yabrowser',\n",
    " 'mobile',\n",
    " 'first_source_direct',\n",
    " 'first_source_referral',\n",
    " 'first_source_organic',\n",
    " 'first_source_ad',\n",
    " 'first_source_saved',\n",
    " 'first_source_undefined',\n",
    " 'first_source_external',\n",
    " 'first_source_email',\n",
    " 'first_source_social',\n",
    " 'first_source_internal',\n",
    " 'avg_depth',\n",
    " 'avg_duration',\n",
    " 'visits',\n",
    " 'not_bounce_visits',\n",
    " 'purchases',\n",
    " 'purchased_products',\n",
    " 'viewed_products',\n",
    " 'cart_products',\n",
    " 'revenue',\n",
    " 'ad_visits',\n",
    " 'direct_visits',\n",
    " 'email_visits',\n",
    " 'internal_visits',\n",
    " 'organic_visits',\n",
    " 'referral_visits',\n",
    " 'saved_visits',\n",
    " 'social_visits',\n",
    " 'undefined_visits']"
   ]
  },
  {
   "cell_type": "code",
   "execution_count": 7,
   "metadata": {
    "collapsed": false
   },
   "outputs": [],
   "source": [
    "X_api = df[logs_api_cols]\n",
    "y_api = df.target\n",
    "\n",
    "(X_train_api, X_test_api, y_train_api, y_test_api) = model_selection.train_test_split(X_api, y_api, \n",
    "                                                              test_size = 0.3, \n",
    "                                                              random_state = 0, \n",
    "                                                              stratify = y)\n",
    "\n",
    "scaler = preprocessing.StandardScaler()\n",
    "X_train_scaled_api = scaler.fit_transform(X_train_api)\n",
    "X_test_scaled_api = scaler.transform(X_test_api)"
   ]
  },
  {
   "cell_type": "markdown",
   "metadata": {},
   "source": [
    "## Обучение (XGBoost)"
   ]
  },
  {
   "cell_type": "code",
   "execution_count": 9,
   "metadata": {
    "collapsed": false
   },
   "outputs": [],
   "source": [
    "import xgboost as xgb"
   ]
  },
  {
   "cell_type": "code",
   "execution_count": 10,
   "metadata": {
    "collapsed": false
   },
   "outputs": [
    {
     "name": "stdout",
     "output_type": "stream",
     "text": [
      "CPU times: user 2min 9s, sys: 128 ms, total: 2min 10s\n",
      "Wall time: 17 s\n"
     ]
    },
    {
     "data": {
      "text/plain": [
       "XGBClassifier(base_score=0.5, colsample_bylevel=1, colsample_bytree=1,\n",
       "       gamma=0, learning_rate=0.025, max_delta_step=0, max_depth=3,\n",
       "       min_child_weight=10, missing=None, n_estimators=1000, nthread=-1,\n",
       "       objective='binary:logistic', reg_alpha=0, reg_lambda=1,\n",
       "       scale_pos_weight=1, seed=0, silent=True, subsample=0.5)"
      ]
     },
     "execution_count": 10,
     "metadata": {},
     "output_type": "execute_result"
    }
   ],
   "source": [
    "clf_xgb = xgb.XGBClassifier(\n",
    "    n_estimators = 1000,\n",
    "    colsample_bytree=1,\n",
    "    learning_rate=0.025,\n",
    "    max_depth=3,\n",
    "    min_child_weight=10,\n",
    "    subsample=0.5\n",
    ")\n",
    "%time clf_xgb.fit(X_train_scaled_api, y_train_api)"
   ]
  },
  {
   "cell_type": "code",
   "execution_count": 15,
   "metadata": {
    "collapsed": false
   },
   "outputs": [
    {
     "data": {
      "text/html": [
       "<div>\n",
       "<table border=\"1\" class=\"dataframe\">\n",
       "  <thead>\n",
       "    <tr style=\"text-align: right;\">\n",
       "      <th></th>\n",
       "      <th>weight</th>\n",
       "      <th>feature</th>\n",
       "    </tr>\n",
       "  </thead>\n",
       "  <tbody>\n",
       "    <tr>\n",
       "      <th>3</th>\n",
       "      <td>0.144658</td>\n",
       "      <td>days_since_first_visit</td>\n",
       "    </tr>\n",
       "    <tr>\n",
       "      <th>17</th>\n",
       "      <td>0.115033</td>\n",
       "      <td>avg_duration</td>\n",
       "    </tr>\n",
       "    <tr>\n",
       "      <th>2</th>\n",
       "      <td>0.107942</td>\n",
       "      <td>days_since_last_visit</td>\n",
       "    </tr>\n",
       "    <tr>\n",
       "      <th>16</th>\n",
       "      <td>0.098802</td>\n",
       "      <td>avg_depth</td>\n",
       "    </tr>\n",
       "    <tr>\n",
       "      <th>22</th>\n",
       "      <td>0.082257</td>\n",
       "      <td>viewed_products</td>\n",
       "    </tr>\n",
       "    <tr>\n",
       "      <th>24</th>\n",
       "      <td>0.064450</td>\n",
       "      <td>revenue</td>\n",
       "    </tr>\n",
       "    <tr>\n",
       "      <th>19</th>\n",
       "      <td>0.038134</td>\n",
       "      <td>not_bounce_visits</td>\n",
       "    </tr>\n",
       "    <tr>\n",
       "      <th>26</th>\n",
       "      <td>0.037346</td>\n",
       "      <td>direct_visits</td>\n",
       "    </tr>\n",
       "    <tr>\n",
       "      <th>18</th>\n",
       "      <td>0.036716</td>\n",
       "      <td>visits</td>\n",
       "    </tr>\n",
       "    <tr>\n",
       "      <th>25</th>\n",
       "      <td>0.035771</td>\n",
       "      <td>ad_visits</td>\n",
       "    </tr>\n",
       "  </tbody>\n",
       "</table>\n",
       "</div>"
      ],
      "text/plain": [
       "      weight                 feature\n",
       "3   0.144658  days_since_first_visit\n",
       "17  0.115033            avg_duration\n",
       "2   0.107942   days_since_last_visit\n",
       "16  0.098802               avg_depth\n",
       "22  0.082257         viewed_products\n",
       "24  0.064450                 revenue\n",
       "19  0.038134       not_bounce_visits\n",
       "26  0.037346           direct_visits\n",
       "18  0.036716                  visits\n",
       "25  0.035771               ad_visits"
      ]
     },
     "execution_count": 15,
     "metadata": {},
     "output_type": "execute_result"
    }
   ],
   "source": [
    "xgb_features_df = pd.DataFrame()\n",
    "xgb_features_df['weight'] = clf_xgb.feature_importances_\n",
    "xgb_features_df['feature'] = logs_api_cols\n",
    "xgb_features_df.sort_values('weight', ascending = False).head(10)"
   ]
  },
  {
   "cell_type": "code",
   "execution_count": 16,
   "metadata": {
    "collapsed": false
   },
   "outputs": [
    {
     "data": {
      "text/plain": [
       "0.86815156016934902"
      ]
     },
     "execution_count": 16,
     "metadata": {},
     "output_type": "execute_result"
    }
   ],
   "source": [
    "y_xgb = clf_xgb.predict_proba(X_test_scaled_api)[:, 1]\n",
    "roc_auc_xgb = metrics.roc_auc_score(y_test_api, y_xgb)\n",
    "roc_auc_xgb "
   ]
  },
  {
   "cell_type": "code",
   "execution_count": 17,
   "metadata": {
    "collapsed": false
   },
   "outputs": [
    {
     "data": {
      "text/html": [
       "<div id=\"b689ef73-6ec0-4d77-90f1-23988200e478\" style=\"height: 525px; width: 100%;\" class=\"plotly-graph-div\"></div><script type=\"text/javascript\">require([\"plotly\"], function(Plotly) { window.PLOTLYENV=window.PLOTLYENV || {};window.PLOTLYENV.BASE_URL=\"https://plot.ly\";Plotly.newPlot(\"b689ef73-6ec0-4d77-90f1-23988200e478\", [{\"y\": [2998, 5264, 3654, 2554, 1999, 1519, 1503, 1137, 1081, 992, 842, 726, 680, 667, 540, 535, 486, 411, 421, 370, 374, 326, 296, 287, 297, 265, 245, 215, 215, 191, 212, 189, 180, 204, 143, 163, 166, 140, 135, 152, 145, 150, 126, 141, 123, 124, 116, 124, 118, 103, 97, 114, 86, 109, 101, 114, 93, 99, 95, 100, 79, 88, 94, 93, 70, 63, 89, 88, 89, 82, 97, 84, 87, 78, 82, 74, 85, 62, 66, 80, 59, 76, 71, 85, 88, 80, 75, 102, 64, 77, 62, 61, 71, 67, 53, 55, 36, 34, 25], \"x\": [1.0, 2.0, 3.0, 4.0, 5.0, 6.0, 7.000000000000001, 8.0, 9.0, 10.0, 11.0, 12.0, 13.0, 14.000000000000002, 15.0, 16.0, 17.0, 18.0, 19.0, 20.0, 21.0, 22.0, 23.0, 24.0, 25.0, 26.0, 27.0, 28.000000000000004, 28.999999999999996, 30.0, 31.0, 32.0, 33.0, 34.0, 35.0, 36.0, 37.0, 38.0, 39.0, 40.0, 41.0, 42.0, 43.0, 44.0, 45.0, 46.0, 47.0, 48.0, 49.0, 50.0, 51.0, 52.0, 53.0, 54.0, 55.00000000000001, 56.00000000000001, 56.99999999999999, 57.99999999999999, 59.0, 60.0, 61.0, 62.0, 63.0, 64.0, 65.0, 66.0, 67.0, 68.0, 69.0, 70.0, 71.0, 72.0, 73.0, 74.0, 75.0, 76.0, 77.0, 78.0, 79.0, 80.0, 81.0, 82.0, 83.0, 84.0, 85.0, 86.0, 87.0, 88.0, 89.0, 90.0, 91.0, 92.0, 93.0, 94.0, 95.0, 96.0, 97.0, 98.0, 99.0], \"type\": \"scatter\", \"name\": \"probability\", \"mode\": \"lines\"}], {\"title\": \"\"}, {\"linkText\": \"Export to plot.ly\", \"showLink\": false})});</script>"
      ],
      "text/plain": [
       "<IPython.core.display.HTML object>"
      ]
     },
     "metadata": {},
     "output_type": "display_data"
    }
   ],
   "source": [
    "y_xgb_df = pd.DataFrame(y_xgb)\n",
    "y_xgb_df.columns = ['probability']\n",
    "y_xgb_df['probability_rounded'] = map(lambda x: 100*round(x, 2), y_xgb_df.probability)\n",
    "plotly_df(y_xgb_df.groupby('probability_rounded').count())"
   ]
  },
  {
   "cell_type": "markdown",
   "metadata": {
    "collapsed": true
   },
   "source": [
    "## Проверка на более поздних данных (18 января)"
   ]
  },
  {
   "cell_type": "code",
   "execution_count": 26,
   "metadata": {
    "collapsed": false
   },
   "outputs": [
    {
     "name": "stdout",
     "output_type": "stream",
     "text": [
      "(2905539, 52)\n",
      "CPU times: user 23.2 s, sys: 5.22 s, total: 28.4 s\n",
      "Wall time: 28.5 s\n"
     ]
    }
   ],
   "source": [
    "%%time\n",
    "\n",
    "dfs_sampled = []\n",
    "\n",
    "for filename in os.listdir('./test_data'):\n",
    "    df = pd.read_csv('./test_data/' + filename).fillna(0)\n",
    "    dfs_sampled.append(df) \n",
    "\n",
    "df_exp = pd.concat(dfs_sampled).drop_duplicates()\n",
    "print df_exp.shape\n",
    "\n",
    "X_api_exp = df_exp[logs_api_cols]\n",
    "y_api_exp = df_exp.target\n",
    "\n",
    "X_scaled_api_exp = scaler.transform(X_api_exp)"
   ]
  },
  {
   "cell_type": "code",
   "execution_count": 27,
   "metadata": {
    "collapsed": false
   },
   "outputs": [
    {
     "data": {
      "text/plain": [
       "0.87642550037193478"
      ]
     },
     "execution_count": 27,
     "metadata": {},
     "output_type": "execute_result"
    }
   ],
   "source": [
    "y_xgb_exp = clf_xgb.predict_proba(X_scaled_api_exp)[:, 1]\n",
    "roc_auc_xgb_exp = metrics.roc_auc_score(y_api_exp, y_xgb_exp)\n",
    "roc_auc_xgb_exp"
   ]
  },
  {
   "cell_type": "code",
   "execution_count": 33,
   "metadata": {
    "collapsed": true
   },
   "outputs": [],
   "source": [
    "cmp_df = pd.DataFrame()\n",
    "\n",
    "cmp_df['prediction'] = y_xgb_exp\n",
    "cmp_df['fact'] = y_api_exp.values\n",
    "cmp_df['prediction_rounded'] = map(lambda x: round(x, 2), cmp_df.prediction)"
   ]
  },
  {
   "cell_type": "code",
   "execution_count": 41,
   "metadata": {
    "collapsed": false
   },
   "outputs": [],
   "source": [
    "negative_df = cmp_df[cmp_df.fact == 0].copy()\n",
    "negative_df['count'] = 1\n",
    "negative_df = negative_df.groupby('prediction_rounded')[['count']].sum()"
   ]
  },
  {
   "cell_type": "code",
   "execution_count": 42,
   "metadata": {
    "collapsed": false
   },
   "outputs": [],
   "source": [
    "positive_df = cmp_df[cmp_df.fact == 1].copy()\n",
    "positive_df['count'] = 1\n",
    "positive_df = positive_df.groupby('prediction_rounded')[['count']].sum()"
   ]
  },
  {
   "cell_type": "code",
   "execution_count": 44,
   "metadata": {
    "collapsed": false
   },
   "outputs": [],
   "source": [
    "negative_df.columns = ['negative']\n",
    "positive_df.columns = ['positive']"
   ]
  },
  {
   "cell_type": "code",
   "execution_count": 64,
   "metadata": {
    "collapsed": false,
    "scrolled": false
   },
   "outputs": [
    {
     "data": {
      "text/html": [
       "<div id=\"773ff15d-8716-45ee-bded-e79e8af30d1a\" style=\"height: 525px; width: 100%;\" class=\"plotly-graph-div\"></div><script type=\"text/javascript\">require([\"plotly\"], function(Plotly) { window.PLOTLYENV=window.PLOTLYENV || {};window.PLOTLYENV.BASE_URL=\"https://plot.ly\";Plotly.newPlot(\"773ff15d-8716-45ee-bded-e79e8af30d1a\", [{\"y\": [11.525977552591824, 16.502869115175983, 10.924430599343522, 7.416354973736415, 5.884780913806546, 4.498516046252047, 4.405896091168932, 3.312180627532954, 3.053734401416816, 2.7736676571185814, 2.352084793810256, 1.9691567963426497, 1.7789514083164168, 1.6246422873197903, 1.4950571081677628, 1.3405755747454418, 1.1937491530239588, 1.062405367129847, 0.9863025224282704, 0.896992885918491, 0.8274072309081687, 0.7554422844232614, 0.7206149744329614, 0.6579602989355602, 0.6187881958177573, 0.5893746359942662, 0.5333750801286748, 0.5078235586407418, 0.4695480001365506, 0.44558267296500753, 0.4171691052105449, 0.3979968434733104, 0.38058318847816036, 0.3628247086316212, 0.34161798027119095, 0.32623879189923666, 0.30368724661838886, 0.29568731006616156, 0.2806874290307353, 0.2756185037153154, 0.25292902849391197, 0.24199808070487716, 0.2373429452111242, 0.22306719636361505, 0.2118948711786079, 0.20575698882388174, 0.19634327038095906, 0.18699851690831418, 0.17630894651525178, 0.17086071386330384, 0.1609297581432975, 0.160343555895936, 0.14975743295829033, 0.14696435166203856, 0.13979199475314505, 0.13682650103119873, 0.12713692270716473, 0.12937828424119394, 0.12341281431216235, 0.1172404494722973, 0.11427495575035095, 0.10579226440617885, 0.1024819458328434, 0.10275780571395468, 0.0974475030025624, 0.09158548052894754, 0.08727516988658365, 0.08451657107547078, 0.07958557570060651, 0.07727524919629948, 0.07155115666324026, 0.06930979512921104, 0.06441328223948568, 0.06365466756642965, 0.06148227100267825, 0.057482302726564585, 0.056516793142675076, 0.05310302711392289, 0.05117200794614388, 0.04848237410530882, 0.0452755029873901, 0.04327551884933326, 0.042896211512805246, 0.038068663593357706, 0.03837900595960791, 0.035379029752522655, 0.0314480264466868, 0.029585972249185608, 0.0270342683489062, 0.024034292141820943, 0.020517078657652024, 0.018999849311539942, 0.016310215470704888, 0.013965406481258942, 0.011275772640423886, 0.008861998680700119, 0.007103391938615659, 0.0038965208206969393, 0.0018620541975011922, 3.448248513891097e-05], \"x\": [0.01, 0.02, 0.03, 0.04, 0.05, 0.06, 0.07, 0.08, 0.09, 0.1, 0.11, 0.12, 0.13, 0.14, 0.15, 0.16, 0.17, 0.18, 0.19, 0.2, 0.21, 0.22, 0.23, 0.24, 0.25, 0.26, 0.27, 0.28, 0.29, 0.3, 0.31, 0.32, 0.33, 0.34, 0.35, 0.36, 0.37, 0.38, 0.39, 0.4, 0.41, 0.42, 0.43, 0.44, 0.45, 0.46, 0.47, 0.48, 0.49, 0.5, 0.51, 0.52, 0.53, 0.54, 0.55, 0.56, 0.57, 0.58, 0.59, 0.6, 0.61, 0.62, 0.63, 0.64, 0.65, 0.66, 0.67, 0.68, 0.69, 0.7, 0.71, 0.72, 0.73, 0.74, 0.75, 0.76, 0.77, 0.78, 0.79, 0.8, 0.81, 0.82, 0.83, 0.84, 0.85, 0.86, 0.87, 0.88, 0.89, 0.9, 0.91, 0.92, 0.93, 0.94, 0.95, 0.96, 0.97, 0.98, 0.99, 1.0], \"type\": \"scatter\", \"name\": \"negative\", \"mode\": \"lines\"}, {\"y\": [0.5076142131979695, 1.3234227701232777, 1.2871646120377085, 1.6678752719361856, 1.504713560551124, 1.5228426395939085, 1.649746192893401, 1.3778100072516317, 1.649746192893401, 1.2690355329949239, 1.6678752719361856, 1.3959390862944163, 1.1783901377810007, 1.21464829586657, 1.4684554024655547, 1.4503263234227701, 1.2871646120377085, 1.3234227701232777, 1.2509064539521393, 0.9064539521392313, 0.8883248730964467, 1.1240029006526469, 0.9608411892675852, 0.9970993473531544, 1.015228426395939, 0.9064539521392313, 0.9608411892675852, 0.9427121102248006, 1.015228426395939, 1.0333575054387236, 0.8520667150108775, 0.8883248730964467, 0.9789702683103698, 0.9245830311820159, 0.8701957940536621, 1.0333575054387236, 0.8158085569253082, 0.9064539521392313, 0.9970993473531544, 0.9064539521392313, 0.8520667150108775, 0.9427121102248006, 0.7251631617113851, 0.7251631617113851, 0.7251631617113851, 0.8339376359680928, 0.9427121102248006, 0.8520667150108775, 0.8339376359680928, 1.160261058738216, 0.6526468455402465, 0.6526468455402465, 0.8520667150108775, 0.9427121102248006, 0.7614213197969543, 0.8883248730964467, 0.8883248730964467, 0.9064539521392313, 0.9245830311820159, 1.0514865844815084, 1.015228426395939, 0.9608411892675852, 0.7432922407541697, 0.9789702683103698, 0.8339376359680928, 1.069615663524293, 1.015228426395939, 1.160261058738216, 1.0514865844815084, 0.9245830311820159, 0.9789702683103698, 1.0514865844815084, 1.015228426395939, 1.0514865844815084, 0.9970993473531544, 0.8158085569253082, 0.9064539521392313, 0.9245830311820159, 0.6707759245830311, 1.069615663524293, 0.9608411892675852, 0.9970993473531544, 1.305293691080493, 1.2327773749093547, 0.9064539521392313, 0.9064539521392313, 1.0333575054387236, 1.3234227701232777, 1.160261058738216, 1.1783901377810007, 1.015228426395939, 0.8158085569253082, 1.0514865844815084, 0.7614213197969543, 0.7251631617113851, 0.7070340826686005, 0.5257432922407542, 0.6526468455402465, 0.4713560551124003, 0.0], \"x\": [0.01, 0.02, 0.03, 0.04, 0.05, 0.06, 0.07, 0.08, 0.09, 0.1, 0.11, 0.12, 0.13, 0.14, 0.15, 0.16, 0.17, 0.18, 0.19, 0.2, 0.21, 0.22, 0.23, 0.24, 0.25, 0.26, 0.27, 0.28, 0.29, 0.3, 0.31, 0.32, 0.33, 0.34, 0.35, 0.36, 0.37, 0.38, 0.39, 0.4, 0.41, 0.42, 0.43, 0.44, 0.45, 0.46, 0.47, 0.48, 0.49, 0.5, 0.51, 0.52, 0.53, 0.54, 0.55, 0.56, 0.57, 0.58, 0.59, 0.6, 0.61, 0.62, 0.63, 0.64, 0.65, 0.66, 0.67, 0.68, 0.69, 0.7, 0.71, 0.72, 0.73, 0.74, 0.75, 0.76, 0.77, 0.78, 0.79, 0.8, 0.81, 0.82, 0.83, 0.84, 0.85, 0.86, 0.87, 0.88, 0.89, 0.9, 0.91, 0.92, 0.93, 0.94, 0.95, 0.96, 0.97, 0.98, 0.99, 1.0], \"type\": \"scatter\", \"name\": \"positive\", \"mode\": \"lines\"}], {\"title\": \"\"}, {\"linkText\": \"Export to plot.ly\", \"showLink\": false})});</script>"
      ],
      "text/plain": [
       "<IPython.core.display.HTML object>"
      ]
     },
     "metadata": {},
     "output_type": "display_data"
    }
   ],
   "source": [
    "cmp_df = negative_df.join(positive_df).fillna(0)\n",
    "cmp_df_norm = cmp_df.apply(lambda x: 100.*x/cmp_df.sum(), axis = 1)\n",
    "plotly_df(cmp_df_norm)"
   ]
  },
  {
   "cell_type": "code",
   "execution_count": 65,
   "metadata": {
    "collapsed": false
   },
   "outputs": [],
   "source": [
    "cmp_df_norm['negative_cum'] = cmp_df_norm.negative.cumsum()\n",
    "cmp_df_norm['positive_cum'] = cmp_df_norm.positive.cumsum()"
   ]
  },
  {
   "cell_type": "code",
   "execution_count": 66,
   "metadata": {
    "collapsed": false
   },
   "outputs": [
    {
     "data": {
      "text/html": [
       "<div id=\"0586e508-88da-4b50-bb5b-d00f95798a27\" style=\"height: 525px; width: 100%;\" class=\"plotly-graph-div\"></div><script type=\"text/javascript\">require([\"plotly\"], function(Plotly) { window.PLOTLYENV=window.PLOTLYENV || {};window.PLOTLYENV.BASE_URL=\"https://plot.ly\";Plotly.newPlot(\"0586e508-88da-4b50-bb5b-d00f95798a27\", [{\"y\": [11.525977552591824, 28.02884666776781, 38.95327726711133, 46.36963224084775, 52.254413154654294, 56.752929200906344, 61.15882529207528, 64.47100591960823, 67.52474032102505, 70.29840797814363, 72.65049277195388, 74.61964956829652, 76.39860097661294, 78.02324326393273, 79.51830037210048, 80.85887594684593, 82.05262509986989, 83.11503046699973, 84.101332989428, 84.9983258753465, 85.82573310625466, 86.58117539067793, 87.30179036511089, 87.95975066404645, 88.57853885986421, 89.16791349585847, 89.70128857598715, 90.20911213462789, 90.67866013476444, 91.12424280772944, 91.54141191293999, 91.9394087564133, 92.31999194489146, 92.68281665352308, 93.02443463379427, 93.35067342569351, 93.65436067231191, 93.95004798237807, 94.2307354114088, 94.50635391512412, 94.75928294361803, 95.0012810243229, 95.23862396953403, 95.46169116589765, 95.67358603707626, 95.87934302590014, 96.0756862962811, 96.26268481318942, 96.43899375970467, 96.60985447356798, 96.77078423171127, 96.93112778760721, 97.0808852205655, 97.22784957222754, 97.36764156698068, 97.50446806801187, 97.63160499071904, 97.76098327496024, 97.8843960892724, 98.00163653874469, 98.11591149449504, 98.22170375890121, 98.32418570473406, 98.42694351044801, 98.52439101345057, 98.61597649397952, 98.7032516638661, 98.78776823494157, 98.86735381064217, 98.94462905983848, 99.01618021650172, 99.08549001163094, 99.14990329387042, 99.21355796143685, 99.27504023243952, 99.33252253516609, 99.38903932830877, 99.44214235542269, 99.49331436336884, 99.54179673747414, 99.58707224046154, 99.63034775931087, 99.67324397082368, 99.71131263441704, 99.74969164037665, 99.78507067012917, 99.81651869657586, 99.84610466882503, 99.87313893717393, 99.89717322931575, 99.9176903079734, 99.93669015728494, 99.95300037275565, 99.96696577923692, 99.97824155187733, 99.98710355055803, 99.99420694249665, 99.99810346331735, 99.99996551751485, 99.99999999999999], \"x\": [0.01, 0.02, 0.03, 0.04, 0.05, 0.06, 0.07, 0.08, 0.09, 0.1, 0.11, 0.12, 0.13, 0.14, 0.15, 0.16, 0.17, 0.18, 0.19, 0.2, 0.21, 0.22, 0.23, 0.24, 0.25, 0.26, 0.27, 0.28, 0.29, 0.3, 0.31, 0.32, 0.33, 0.34, 0.35, 0.36, 0.37, 0.38, 0.39, 0.4, 0.41, 0.42, 0.43, 0.44, 0.45, 0.46, 0.47, 0.48, 0.49, 0.5, 0.51, 0.52, 0.53, 0.54, 0.55, 0.56, 0.57, 0.58, 0.59, 0.6, 0.61, 0.62, 0.63, 0.64, 0.65, 0.66, 0.67, 0.68, 0.69, 0.7, 0.71, 0.72, 0.73, 0.74, 0.75, 0.76, 0.77, 0.78, 0.79, 0.8, 0.81, 0.82, 0.83, 0.84, 0.85, 0.86, 0.87, 0.88, 0.89, 0.9, 0.91, 0.92, 0.93, 0.94, 0.95, 0.96, 0.97, 0.98, 0.99, 1.0], \"type\": \"scatter\", \"name\": \"negative_cum\", \"mode\": \"lines\"}, {\"y\": [0.5076142131979695, 1.8310369833212472, 3.118201595358956, 4.786076867295142, 6.290790427846266, 7.813633067440175, 9.463379260333575, 10.841189267585207, 12.490935460478608, 13.759970993473532, 15.427846265409718, 16.823785351704135, 18.002175489485136, 19.216823785351707, 20.68527918781726, 22.135605511240033, 23.422770123277743, 24.74619289340102, 25.99709934735316, 26.90355329949239, 27.791878172588838, 28.915881073241486, 29.876722262509073, 30.873821609862226, 31.889050036258165, 32.7955039883974, 33.75634517766498, 34.69905728788979, 35.71428571428572, 36.747643219724445, 37.59970993473532, 38.48803480783177, 39.46700507614214, 40.391588107324154, 41.26178390137782, 42.29514140681654, 43.110949963741845, 44.017403915881076, 45.01450326323423, 45.92095721537346, 46.77302393038434, 47.715736040609144, 48.44089920232053, 49.166062364031916, 49.8912255257433, 50.72516316171139, 51.6678752719362, 52.519941986947074, 53.353879622915166, 54.51414068165338, 55.16678752719363, 55.81943437273387, 56.67150108774475, 57.614213197969555, 58.37563451776651, 59.26395939086295, 60.152284263959395, 61.058738216098625, 61.98332124728064, 63.03480783176215, 64.05003625815809, 65.01087744742567, 65.75416968817984, 66.73313995649022, 67.56707759245832, 68.6366932559826, 69.65192168237854, 70.81218274111676, 71.86366932559827, 72.78825235678028, 73.76722262509065, 74.81870920957216, 75.8339376359681, 76.88542422044961, 77.88252356780276, 78.69833212472807, 79.6047860768673, 80.52936910804931, 81.20014503263234, 82.26976069615662, 83.2306018854242, 84.22770123277736, 85.53299492385786, 86.76577229876722, 87.67222625090645, 88.57868020304568, 89.61203770848441, 90.93546047860768, 92.0957215373459, 93.27411167512689, 94.28934010152282, 95.10514865844813, 96.15663524292964, 96.91805656272659, 97.64321972443797, 98.35025380710657, 98.87599709934732, 99.52864394488756, 99.99999999999996, 99.99999999999996], \"x\": [0.01, 0.02, 0.03, 0.04, 0.05, 0.06, 0.07, 0.08, 0.09, 0.1, 0.11, 0.12, 0.13, 0.14, 0.15, 0.16, 0.17, 0.18, 0.19, 0.2, 0.21, 0.22, 0.23, 0.24, 0.25, 0.26, 0.27, 0.28, 0.29, 0.3, 0.31, 0.32, 0.33, 0.34, 0.35, 0.36, 0.37, 0.38, 0.39, 0.4, 0.41, 0.42, 0.43, 0.44, 0.45, 0.46, 0.47, 0.48, 0.49, 0.5, 0.51, 0.52, 0.53, 0.54, 0.55, 0.56, 0.57, 0.58, 0.59, 0.6, 0.61, 0.62, 0.63, 0.64, 0.65, 0.66, 0.67, 0.68, 0.69, 0.7, 0.71, 0.72, 0.73, 0.74, 0.75, 0.76, 0.77, 0.78, 0.79, 0.8, 0.81, 0.82, 0.83, 0.84, 0.85, 0.86, 0.87, 0.88, 0.89, 0.9, 0.91, 0.92, 0.93, 0.94, 0.95, 0.96, 0.97, 0.98, 0.99, 1.0], \"type\": \"scatter\", \"name\": \"positive_cum\", \"mode\": \"lines\"}], {\"title\": \"\"}, {\"linkText\": \"Export to plot.ly\", \"showLink\": false})});</script>"
      ],
      "text/plain": [
       "<IPython.core.display.HTML object>"
      ]
     },
     "metadata": {},
     "output_type": "display_data"
    }
   ],
   "source": [
    "plotly_df(cmp_df_norm[filter(lambda x: 'cum' in x, cmp_df_norm.columns)])"
   ]
  },
  {
   "cell_type": "code",
   "execution_count": 68,
   "metadata": {
    "collapsed": false
   },
   "outputs": [],
   "source": [
    "cmp_df['positive_ratio'] = cmp_df.positive/(cmp_df.positive + cmp_df.negative)"
   ]
  },
  {
   "cell_type": "code",
   "execution_count": 70,
   "metadata": {
    "collapsed": false
   },
   "outputs": [
    {
     "data": {
      "text/html": [
       "<div id=\"a0e3878b-8520-424b-aae6-2a75214979e1\" style=\"height: 525px; width: 100%;\" class=\"plotly-graph-div\"></div><script type=\"text/javascript\">require([\"plotly\"], function(Plotly) { window.PLOTLYENV=window.PLOTLYENV || {};window.PLOTLYENV.BASE_URL=\"https://plot.ly\";Plotly.newPlot(\"a0e3878b-8520-424b-aae6-2a75214979e1\", [{\"y\": [8.376111330485455e-05, 0.0001525090878703046, 0.00022405816676239105, 0.0004275728732897085, 0.00048611070439198093, 0.0006434710667831043, 0.0007116992405934477, 0.0007905960678248206, 0.0010265087422447828, 0.0008694896095991653, 0.0013469393730875657, 0.0013465540457828376, 0.0012583486593746975, 0.001420033063456403, 0.0018647267369584235, 0.0020535462176245606, 0.0020466993369847217, 0.002363759997409578, 0.002406529017857143, 0.0019184284234355217, 0.0020379304608218267, 0.002822030040964952, 0.0025297121855758675, 0.002874163879598662, 0.0031109382812066, 0.0029168125072920313, 0.003414728432446363, 0.003518505988226538, 0.004095662985445769, 0.004391709684875568, 0.003869905310827501, 0.004227417824173928, 0.004868812550716798, 0.004823607301617327, 0.004821697639377198, 0.00598865307837781, 0.00508359692724808, 0.005797101449275362, 0.006711409395973154, 0.006216585851050603, 0.006366838255215388, 0.007355021216407355, 0.005777841976021956, 0.006145337225380243, 0.0064672594987873885, 0.007650091468484949, 0.00904977375565611, 0.008592321755027423, 0.008916456677650708, 0.01275154413229727, 0.007654688496704231, 0.0076824583866837385, 0.01070615034168565, 0.01205377839592026, 0.01025390625, 0.01219815782922579, 0.013115631691648822, 0.013150973172014729, 0.014049586776859505, 0.0167727009832273, 0.01661721068249258, 0.016981736622877282, 0.013607699966810488, 0.017798286090969017, 0.016016713091922007, 0.021731123388581953, 0.021646695013529185, 0.025447316103379723, 0.024513947590870666, 0.02225130890052356, 0.025364020666979802, 0.02804642166344294, 0.029106029106029108, 0.03046218487394958, 0.029923830250272034, 0.026285046728971962, 0.02960331557134399, 0.03205531112507857, 0.024326101249178174, 0.040273037542662114, 0.038799414348462666, 0.04198473282442748, 0.0547112462006079, 0.05802047781569966, 0.04299226139294927, 0.046468401486988845, 0.058823529411764705, 0.07841031149301826, 0.07547169811320754, 0.08530183727034121, 0.08602150537634409, 0.07550335570469799, 0.10922787193973635, 0.09395973154362416, 0.10899182561307902, 0.13175675675675674, 0.12340425531914893, 0.24161073825503357, 0.325, 0.0], \"x\": [0.01, 0.02, 0.03, 0.04, 0.05, 0.06, 0.07, 0.08, 0.09, 0.1, 0.11, 0.12, 0.13, 0.14, 0.15, 0.16, 0.17, 0.18, 0.19, 0.2, 0.21, 0.22, 0.23, 0.24, 0.25, 0.26, 0.27, 0.28, 0.29, 0.3, 0.31, 0.32, 0.33, 0.34, 0.35, 0.36, 0.37, 0.38, 0.39, 0.4, 0.41, 0.42, 0.43, 0.44, 0.45, 0.46, 0.47, 0.48, 0.49, 0.5, 0.51, 0.52, 0.53, 0.54, 0.55, 0.56, 0.57, 0.58, 0.59, 0.6, 0.61, 0.62, 0.63, 0.64, 0.65, 0.66, 0.67, 0.68, 0.69, 0.7, 0.71, 0.72, 0.73, 0.74, 0.75, 0.76, 0.77, 0.78, 0.79, 0.8, 0.81, 0.82, 0.83, 0.84, 0.85, 0.86, 0.87, 0.88, 0.89, 0.9, 0.91, 0.92, 0.93, 0.94, 0.95, 0.96, 0.97, 0.98, 0.99, 1.0], \"type\": \"scatter\", \"name\": \"positive_ratio\", \"mode\": \"lines\"}], {\"title\": \"\"}, {\"linkText\": \"Export to plot.ly\", \"showLink\": false})});</script>"
      ],
      "text/plain": [
       "<IPython.core.display.HTML object>"
      ]
     },
     "metadata": {},
     "output_type": "display_data"
    }
   ],
   "source": [
    "plotly_df(cmp_df[['positive_ratio']])"
   ]
  },
  {
   "cell_type": "code",
   "execution_count": null,
   "metadata": {
    "collapsed": true
   },
   "outputs": [],
   "source": []
  }
 ],
 "metadata": {
  "anaconda-cloud": {},
  "kernelspec": {
   "display_name": "Python 2",
   "language": "python",
   "name": "python2"
  },
  "language_info": {
   "codemirror_mode": {
    "name": "ipython",
    "version": 2
   },
   "file_extension": ".py",
   "mimetype": "text/x-python",
   "name": "python",
   "nbconvert_exporter": "python",
   "pygments_lexer": "ipython2",
   "version": "2.7.3"
  }
 },
 "nbformat": 4,
 "nbformat_minor": 0
}
