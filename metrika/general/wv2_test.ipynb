{
 "cells": [
  {
   "cell_type": "code",
   "execution_count": 2,
   "metadata": {
    "collapsed": true
   },
   "outputs": [],
   "source": [
    "from nile.api.v1 import (\n",
    "    clusters,\n",
    "    aggregators as na,\n",
    "    filters as nf,\n",
    "    extractors as ne,\n",
    "    Record\n",
    ")\n",
    "\n",
    "import json\n",
    "from qb2.api.v1 import filters as sf, extractors as se\n",
    "\n",
    "import datetime\n",
    "import pandas as pd\n",
    "import re"
   ]
  },
  {
   "cell_type": "code",
   "execution_count": 3,
   "metadata": {
    "collapsed": true
   },
   "outputs": [],
   "source": [
    "cluster = clusters.Hahn().env(\n",
    "    templates=dict(\n",
    "        # date='{2017-01-16..2017-01-22}'\n",
    "        date='{2017-12-18..2017-12-18}'\n",
    "    )\n",
    ")"
   ]
  },
  {
   "cell_type": "code",
   "execution_count": 4,
   "metadata": {
    "collapsed": true
   },
   "outputs": [],
   "source": [
    "def extract(records):\n",
    "    for record in records:\n",
    "        if record.type != '2':\n",
    "            continue\n",
    "        url = record.url\n",
    "        try:\n",
    "            parsed = json.loads(record.data)\n",
    "        except:\n",
    "            continue\n",
    "            \n",
    "        if parsed is None:\n",
    "            continue \n",
    "            \n",
    "        for event in parsed:\n",
    "            if (event is not None) and ('type' in event) and (event['type'] == 'event'):\n",
    "#                 yield Record(event = event, url = url)\n",
    "                try:\n",
    "                    data_parsed = json.loads(event['data'])\n",
    "                except:\n",
    "                    data_parsed = {}\n",
    "                \n",
    "                event_type = ''\n",
    "                if (data_parsed is not None) and ('type' in data_parsed):\n",
    "                    event_type = data_parsed['type']\n",
    "                    \n",
    "                stamp = ''\n",
    "                if (data_parsed is not None) and ('stamp' in data_parsed):\n",
    "                    stamp = data_parsed['stamp']\n",
    "                    \n",
    "                    \n",
    "                input_value = ''\n",
    "                try:\n",
    "                    input_value = data_parsed['meta']['value']\n",
    "                except:\n",
    "                    pass\n",
    "                \n",
    "                if event_type in ('change', 'input'):\n",
    "                    yield Record(\n",
    "                        event = event, \n",
    "                        data_parsed = data_parsed, \n",
    "                        event_type = event_type,\n",
    "                        input_value = input_value,\n",
    "                        url = record.url,\n",
    "                        uniqid = record.uniqid,\n",
    "                        counterid = record.counterid,\n",
    "                        hit = record.hit,\n",
    "                        requestid = record.requestid,\n",
    "                        part = record.part,\n",
    "                        unixtime = record.unixtime,\n",
    "                        stamp = stamp\n",
    "                    )\n",
    "                    "
   ]
  },
  {
   "cell_type": "code",
   "execution_count": 5,
   "metadata": {},
   "outputs": [
    {
     "data": {
      "image/png": "[encoded data removed]",
      "image/svg+xml": [
       "<?xml version=\"1.0\" encoding=\"UTF-8\" standalone=\"no\"?>\n",
       "<!DOCTYPE svg PUBLIC \"-//W3C//DTD SVG 1.1//EN\"\n",
       " \"http://www.w3.org/Graphics/SVG/1.1/DTD/svg11.dtd\">\n",
       "<!-- Generated by graphviz version 2.26.3 (20100126.1600)\n",
       " -->\n",
       "<!-- Title: G140619166614736 Pages: 1 -->\n",
       "<svg width=\"250pt\" height=\"184pt\"\n",
       " viewBox=\"0.00 0.00 250.00 184.00\" xmlns=\"http://www.w3.org/2000/svg\" xmlns:xlink=\"http://www.w3.org/1999/xlink\">\n",
       "<g id=\"graph1\" class=\"graph\" transform=\"scale(1 1) rotate(0) translate(4 180)\">\n",
       "<title>G140619166614736</title>\n",
       "<polygon fill=\"white\" stroke=\"white\" points=\"-4,5 -4,-180 247,-180 247,5 -4,5\"/>\n",
       "<!-- 140617997224400 -->\n",
       "<g id=\"node1\" class=\"node\"><title>140617997224400</title>\n",
       "<polygon fill=\"#eeeeee\" stroke=\"#eeeeee\" points=\"8,-90 8,-172 235,-172 235,-90 8,-90\"/>\n",
       "<polygon fill=\"#b2df8a\" stroke=\"#b2df8a\" points=\"13,-126 13,-167 230,-167 230,-126 13,-126\"/>\n",
       "<text text-anchor=\"start\" x=\"107.5\" y=\"-149.233\" font-family=\"arial\" font-size=\"14.00\">Map</text>\n",
       "<text text-anchor=\"start\" x=\"106\" y=\"-135.667\" font-family=\"arial\" font-size=\"10.00\">extract</text>\n",
       "<text text-anchor=\"start\" x=\"15.5\" y=\"-111.667\" font-family=\"arial\" font-size=\"10.00\">logs/bs&#45;webvisor&#45;log/1d/{2017&#45;12&#45;18..2017&#45;12&#45;18}</text>\n",
       "<text text-anchor=\"start\" x=\"34\" y=\"-99.6667\" font-family=\"arial\" font-size=\"10.00\">home/metrica&#45;analytics/miptgirl/wv2_raw</text>\n",
       "</g>\n",
       "<!-- 140617997223376 -->\n",
       "<g id=\"node2\" class=\"node\"><title>140617997223376</title>\n",
       "<polygon fill=\"#eeeeee\" stroke=\"#eeeeee\" points=\"26,-4 26,-74 216,-74 216,-4 26,-4\"/>\n",
       "<polygon fill=\"#cab2d6\" stroke=\"#cab2d6\" points=\"31,-40 31,-69 211,-69 211,-40 31,-40\"/>\n",
       "<text text-anchor=\"start\" x=\"100.5\" y=\"-51.2333\" font-family=\"arial\" font-size=\"14.00\">Merge</text>\n",
       "<text text-anchor=\"start\" x=\"33.5\" y=\"-25.6667\" font-family=\"arial\" font-size=\"10.00\">home/metrica&#45;analytics/miptgirl/wv2_raw</text>\n",
       "<text text-anchor=\"start\" x=\"33.5\" y=\"-13.6667\" font-family=\"arial\" font-size=\"10.00\">home/metrica&#45;analytics/miptgirl/wv2_raw</text>\n",
       "</g>\n",
       "<!-- 140617997224400&#45;&gt;140617997223376 -->\n",
       "<g id=\"edge2\" class=\"edge\"><title>140617997224400:140617997224400&#45;&gt;140617997223376:140617997223376</title>\n",
       "<path fill=\"none\" stroke=\"#888888\" stroke-width=\"0.5\" d=\"M121,-89.8436C121,-84.5809 121,-79.2327 121,-74.0786\"/>\n",
       "</g>\n",
       "</g>\n",
       "</svg>\n"
      ],
      "text/plain": [
       "<nile.drivers.yt.command.YTCommandsGraph at 0x7fe4737984d0>"
      ]
     },
     "execution_count": 5,
     "metadata": {},
     "output_type": "execute_result"
    }
   ],
   "source": [
    "job = cluster.job()\n",
    "\n",
    "log =  job.table('logs/bs-webvisor-log/1d/@date').map(extract)\\\n",
    "    .put('home/metrica-analytics/miptgirl/wv2_raw')\n",
    "    \n",
    "job.commands_graph"
   ]
  },
  {
   "cell_type": "code",
   "execution_count": null,
   "metadata": {
    "collapsed": true
   },
   "outputs": [],
   "source": [
    "job.run()"
   ]
  },
  {
   "cell_type": "code",
   "execution_count": 133,
   "metadata": {
    "collapsed": true
   },
   "outputs": [],
   "source": [
    "## credit cards"
   ]
  },
  {
   "cell_type": "code",
   "execution_count": 174,
   "metadata": {
    "collapsed": true
   },
   "outputs": [],
   "source": [
    "import re\n",
    "\n",
    "def is_valid_cc(inp):\n",
    "    inp = str(inp)\n",
    "    \n",
    "    skipped_symbols = ['\\t', '\\n', ' ']\n",
    "    \n",
    "    for symbol in skipped_symbols:\n",
    "        inp = inp.replace(symbol, '')\n",
    "        \n",
    "    if re.match('^[0-9]{12,19}$', inp) is None:\n",
    "        return False\n",
    "        \n",
    "    if len(inp) % 2 == 0:\n",
    "        doubled_indexes = range(0, len(inp), 2)\n",
    "    else:\n",
    "        doubled_indexes = range(1, len(inp), 2)\n",
    "        \n",
    "    fin_sum = 0\n",
    "    for index in range(len(inp)):\n",
    "        if index in doubled_indexes:\n",
    "            val = int(inp[index])*2\n",
    "            if val > 9:\n",
    "                val = val - 9\n",
    "        else:\n",
    "            val = int(inp[index])\n",
    "\n",
    "        fin_sum += val\n",
    "    \n",
    "    first2 = int(inp[:2])\n",
    "    first4 = int(inp[:4])\n",
    "    \n",
    "    if len(inp) != 16:\n",
    "        return False\n",
    "    \n",
    "    # Maestro\n",
    "    if (inp[0] == '6') or (first2 in (50, 56, 57, 58)):\n",
    "        return True\n",
    "    \n",
    "    # Master Card\n",
    "    if (len(inp) == 16) and (\n",
    "        ((first2 >= 51) and (first2 <= 55))\n",
    "        or\n",
    "        ((first4 >= 2221) and (first4 <= 2720))\n",
    "    ):\n",
    "        return True\n",
    "    \n",
    "    # Visa\n",
    "    if (len(inp) in (13, 16, 19)) and (inp[0] == '4'):\n",
    "        return True\n",
    "    \n",
    "    \n",
    "    # MIR\n",
    "    if (len(inp) == 16) and (first2 >= 2200) and (first2 <= 2204):\n",
    "        return True\n",
    "    \n",
    "    return False"
   ]
  },
  {
   "cell_type": "code",
   "execution_count": 175,
   "metadata": {},
   "outputs": [
    {
     "data": {
      "image/png": "[encoded data removed]",
      "image/svg+xml": [
       "<?xml version=\"1.0\" encoding=\"UTF-8\" standalone=\"no\"?>\n",
       "<!DOCTYPE svg PUBLIC \"-//W3C//DTD SVG 1.1//EN\"\n",
       " \"http://www.w3.org/Graphics/SVG/1.1/DTD/svg11.dtd\">\n",
       "<!-- Generated by graphviz version 2.26.3 (20100126.1600)\n",
       " -->\n",
       "<!-- Title: G139645326670160 Pages: 1 -->\n",
       "<svg width=\"214pt\" height=\"184pt\"\n",
       " viewBox=\"0.00 0.00 214.00 184.00\" xmlns=\"http://www.w3.org/2000/svg\" xmlns:xlink=\"http://www.w3.org/1999/xlink\">\n",
       "<g id=\"graph1\" class=\"graph\" transform=\"scale(1 1) rotate(0) translate(4 180)\">\n",
       "<title>G139645326670160</title>\n",
       "<polygon fill=\"white\" stroke=\"white\" points=\"-4,5 -4,-180 211,-180 211,5 -4,5\"/>\n",
       "<!-- 139645326223696 -->\n",
       "<g id=\"node1\" class=\"node\"><title>139645326223696</title>\n",
       "<polygon fill=\"#eeeeee\" stroke=\"#eeeeee\" points=\"8,-90 8,-172 198,-172 198,-90 8,-90\"/>\n",
       "<polygon fill=\"#b2df8a\" stroke=\"#b2df8a\" points=\"13,-126 13,-167 193,-167 193,-126 13,-126\"/>\n",
       "<text text-anchor=\"start\" x=\"87\" y=\"-149.233\" font-family=\"arial\" font-size=\"14.00\">Filter</text>\n",
       "<text text-anchor=\"start\" x=\"98\" y=\"-135.667\" font-family=\"arial\" font-size=\"10.00\">...</text>\n",
       "<text text-anchor=\"start\" x=\"15.5\" y=\"-111.667\" font-family=\"arial\" font-size=\"10.00\">home/metrica&#45;analytics/miptgirl/wv2_raw</text>\n",
       "<text text-anchor=\"start\" x=\"17.5\" y=\"-99.6667\" font-family=\"arial\" font-size=\"10.00\">home/metrica&#45;analytics/miptgirl/wv2_cc</text>\n",
       "</g>\n",
       "<!-- 139645324933392 -->\n",
       "<g id=\"node2\" class=\"node\"><title>139645324933392</title>\n",
       "<polygon fill=\"#eeeeee\" stroke=\"#eeeeee\" points=\"10,-4 10,-74 196,-74 196,-4 10,-4\"/>\n",
       "<polygon fill=\"#cab2d6\" stroke=\"#cab2d6\" points=\"15,-40 15,-69 191,-69 191,-40 15,-40\"/>\n",
       "<text text-anchor=\"start\" x=\"82.5\" y=\"-51.2333\" font-family=\"arial\" font-size=\"14.00\">Merge</text>\n",
       "<text text-anchor=\"start\" x=\"17.5\" y=\"-25.6667\" font-family=\"arial\" font-size=\"10.00\">home/metrica&#45;analytics/miptgirl/wv2_cc</text>\n",
       "<text text-anchor=\"start\" x=\"17.5\" y=\"-13.6667\" font-family=\"arial\" font-size=\"10.00\">home/metrica&#45;analytics/miptgirl/wv2_cc</text>\n",
       "</g>\n",
       "<!-- 139645326223696&#45;&gt;139645324933392 -->\n",
       "<g id=\"edge2\" class=\"edge\"><title>139645326223696:139645326223696&#45;&gt;139645324933392:139645324933392</title>\n",
       "<path fill=\"none\" stroke=\"#888888\" stroke-width=\"0.5\" d=\"M103,-89.8436C103,-84.5809 103,-79.2327 103,-74.0786\"/>\n",
       "</g>\n",
       "</g>\n",
       "</svg>\n"
      ],
      "text/plain": [
       "<nile.drivers.yt.command.YTCommandsGraph at 0x7f01b6173950>"
      ]
     },
     "execution_count": 175,
     "metadata": {},
     "output_type": "execute_result"
    }
   ],
   "source": [
    "job = cluster.job()\n",
    "\n",
    "log =  job.table('home/metrica-analytics/miptgirl/wv2_raw')\\\n",
    "    .filter(nf.custom(is_valid_cc, 'input_value'))\\\n",
    "    .put('home/metrica-analytics/miptgirl/wv2_cc')\n",
    "    \n",
    "job.commands_graph"
   ]
  },
  {
   "cell_type": "code",
   "execution_count": 176,
   "metadata": {
    "collapsed": true
   },
   "outputs": [],
   "source": [
    "job.run()"
   ]
  },
  {
   "cell_type": "code",
   "execution_count": 168,
   "metadata": {
    "collapsed": true
   },
   "outputs": [],
   "source": [
    "import urlparse\n",
    "\n",
    "def get_domain(url):\n",
    "    return urlparse.urlparse(url).netloc.replace('www.', '')"
   ]
  },
  {
   "cell_type": "code",
   "execution_count": 169,
   "metadata": {},
   "outputs": [
    {
     "data": {
      "image/png": "[encoded data removed]",
      "image/svg+xml": [
       "<?xml version=\"1.0\" encoding=\"UTF-8\" standalone=\"no\"?>\n",
       "<!DOCTYPE svg PUBLIC \"-//W3C//DTD SVG 1.1//EN\"\n",
       " \"http://www.w3.org/Graphics/SVG/1.1/DTD/svg11.dtd\">\n",
       "<!-- Generated by graphviz version 2.26.3 (20100126.1600)\n",
       " -->\n",
       "<!-- Title: G139645325125712 Pages: 1 -->\n",
       "<svg width=\"358pt\" height=\"366pt\"\n",
       " viewBox=\"0.00 0.00 358.00 366.00\" xmlns=\"http://www.w3.org/2000/svg\" xmlns:xlink=\"http://www.w3.org/1999/xlink\">\n",
       "<g id=\"graph1\" class=\"graph\" transform=\"scale(1 1) rotate(0) translate(4 362)\">\n",
       "<title>G139645325125712</title>\n",
       "<polygon fill=\"white\" stroke=\"white\" points=\"-4,5 -4,-362 355,-362 355,5 -4,5\"/>\n",
       "<!-- 139645326669712 -->\n",
       "<g id=\"node1\" class=\"node\"><title>139645326669712</title>\n",
       "<polygon fill=\"#eeeeee\" stroke=\"#eeeeee\" points=\"8,-236 8,-354 342,-354 342,-236 8,-236\"/>\n",
       "<polygon fill=\"#b2df8a\" stroke=\"#b2df8a\" points=\"13,-272 13,-349 218,-349 218,-272 13,-272\"/>\n",
       "<text text-anchor=\"start\" x=\"92.5\" y=\"-320.233\" font-family=\"arial\" font-size=\"14.00\">Project</text>\n",
       "<text text-anchor=\"start\" x=\"20.5\" y=\"-306.367\" font-family=\"arial\" font-size=\"10.00\">&lt;Keyword extractor from `parsed_log_line`&gt;</text>\n",
       "<text text-anchor=\"start\" x=\"18.5\" y=\"-294.367\" font-family=\"arial\" font-size=\"10.00\">domain=&lt;Extractor None = get_domain(url)&gt;</text>\n",
       "<polygon fill=\"#fdbf6f\" stroke=\"#fdbf6f\" points=\"218,-310 218,-349 337,-349 337,-310 218,-310\"/>\n",
       "<text text-anchor=\"start\" x=\"257.5\" y=\"-333.233\" font-family=\"arial\" font-size=\"14.00\">Group</text>\n",
       "<text text-anchor=\"start\" x=\"261.5\" y=\"-319.367\" font-family=\"arial\" font-size=\"10.00\">domain</text>\n",
       "<polygon fill=\"#b2df8a\" stroke=\"#b2df8a\" points=\"218,-272 218,-310 337,-310 337,-272 218,-272\"/>\n",
       "<text text-anchor=\"start\" x=\"248.5\" y=\"-294.733\" font-family=\"arial\" font-size=\"14.00\">Combine</text>\n",
       "<text text-anchor=\"start\" x=\"223\" y=\"-280.867\" font-family=\"arial\" font-size=\"10.00\">cards=SumAggregator(1)</text>\n",
       "<text text-anchor=\"start\" x=\"89.5\" y=\"-257.667\" font-family=\"arial\" font-size=\"10.00\">home/metrica&#45;analytics/miptgirl/wv2_cc</text>\n",
       "<text text-anchor=\"start\" x=\"18.5\" y=\"-245.667\" font-family=\"arial\" font-size=\"10.00\">tmp/nile/miptgirl/by&#45;uuid/d4c68ec4&#45;e592&#45;11e7&#45;88b6&#45;7118918e2388/tmp&#45;0</text>\n",
       "</g>\n",
       "<!-- 139645326888400 -->\n",
       "<g id=\"node2\" class=\"node\"><title>139645326888400</title>\n",
       "<polygon fill=\"#eeeeee\" stroke=\"#eeeeee\" points=\"11,-102 11,-220 339,-220 339,-102 11,-102\"/>\n",
       "<polygon fill=\"#fdbf6f\" stroke=\"#fdbf6f\" points=\"16,-176 16,-215 334,-215 334,-176 16,-176\"/>\n",
       "<text text-anchor=\"start\" x=\"155\" y=\"-199.233\" font-family=\"arial\" font-size=\"14.00\">Group</text>\n",
       "<text text-anchor=\"start\" x=\"159\" y=\"-185.367\" font-family=\"arial\" font-size=\"10.00\">domain</text>\n",
       "<polygon fill=\"#fb9a99\" stroke=\"#fb9a99\" points=\"16,-138 16,-176 334,-176 334,-138 16,-138\"/>\n",
       "<text text-anchor=\"start\" x=\"125\" y=\"-160.733\" font-family=\"arial\" font-size=\"14.00\">AggregateBase</text>\n",
       "<text text-anchor=\"start\" x=\"120.5\" y=\"-146.867\" font-family=\"arial\" font-size=\"10.00\">cards=SumAggregator(1)</text>\n",
       "<text text-anchor=\"start\" x=\"18.5\" y=\"-123.667\" font-family=\"arial\" font-size=\"10.00\">tmp/nile/miptgirl/by&#45;uuid/d4c68ec4&#45;e592&#45;11e7&#45;88b6&#45;7118918e2388/tmp&#45;0</text>\n",
       "<text text-anchor=\"start\" x=\"18.5\" y=\"-111.667\" font-family=\"arial\" font-size=\"10.00\">tmp/nile/miptgirl/by&#45;uuid/d4c68ec4&#45;e592&#45;11e7&#45;88b6&#45;7118918e2388/tmp&#45;1</text>\n",
       "</g>\n",
       "<!-- 139645326669712&#45;&gt;139645326888400 -->\n",
       "<g id=\"edge2\" class=\"edge\"><title>139645326669712:139645326669712&#45;&gt;139645326888400:139645326888400</title>\n",
       "<path fill=\"none\" stroke=\"#888888\" stroke-width=\"0.5\" d=\"M175,-235.836C175,-230.647 175,-225.396 175,-220.207\"/>\n",
       "</g>\n",
       "<!-- 139645325642704 -->\n",
       "<g id=\"node3\" class=\"node\"><title>139645325642704</title>\n",
       "<polygon fill=\"#eeeeee\" stroke=\"#eeeeee\" points=\"11,-4 11,-86 339,-86 339,-4 11,-4\"/>\n",
       "<polygon fill=\"#fff9a6\" stroke=\"#fff9a6\" points=\"16,-40 16,-81 334,-81 334,-40 16,-40\"/>\n",
       "<text text-anchor=\"start\" x=\"161.5\" y=\"-63.2333\" font-family=\"arial\" font-size=\"14.00\">Sort</text>\n",
       "<text text-anchor=\"start\" x=\"162.5\" y=\"-49.6667\" font-family=\"arial\" font-size=\"10.00\">cards</text>\n",
       "<text text-anchor=\"start\" x=\"18.5\" y=\"-25.6667\" font-family=\"arial\" font-size=\"10.00\">tmp/nile/miptgirl/by&#45;uuid/d4c68ec4&#45;e592&#45;11e7&#45;88b6&#45;7118918e2388/tmp&#45;1</text>\n",
       "<text text-anchor=\"start\" x=\"76\" y=\"-13.6667\" font-family=\"arial\" font-size=\"10.00\">home/metrica&#45;analytics/miptgirl/wv2_cc_stats</text>\n",
       "</g>\n",
       "<!-- 139645326888400&#45;&gt;139645325642704 -->\n",
       "<g id=\"edge4\" class=\"edge\"><title>139645326888400:139645326888400&#45;&gt;139645325642704:139645325642704</title>\n",
       "<path fill=\"none\" stroke=\"#888888\" stroke-width=\"0.5\" d=\"M175,-101.981C175,-96.6075 175,-91.2461 175,-86.0809\"/>\n",
       "</g>\n",
       "</g>\n",
       "</svg>\n"
      ],
      "text/plain": [
       "<nile.drivers.yt.command.YTCommandsGraph at 0x7f01b5ffa850>"
      ]
     },
     "execution_count": 169,
     "metadata": {},
     "output_type": "execute_result"
    }
   ],
   "source": [
    "job = cluster.job()\n",
    "\n",
    "log =  job.table('home/metrica-analytics/miptgirl/wv2_cc')\\\n",
    "    .project(ne.all(), domain = ne.custom(get_domain, 'url'))\\\n",
    "    .groupby('domain').aggregate(cards = na.count())\\\n",
    "    .sort('cards')\\\n",
    "    .put('home/metrica-analytics/miptgirl/wv2_cc_stats')\n",
    "    \n",
    "job.commands_graph"
   ]
  },
  {
   "cell_type": "code",
   "execution_count": 182,
   "metadata": {},
   "outputs": [
    {
     "data": {
      "image/png": "[encoded data removed]",
      "image/svg+xml": [
       "<?xml version=\"1.0\" encoding=\"UTF-8\" standalone=\"no\"?>\n",
       "<!DOCTYPE svg PUBLIC \"-//W3C//DTD SVG 1.1//EN\"\n",
       " \"http://www.w3.org/Graphics/SVG/1.1/DTD/svg11.dtd\">\n",
       "<!-- Generated by graphviz version 2.26.3 (20100126.1600)\n",
       " -->\n",
       "<!-- Title: G139645327012048 Pages: 1 -->\n",
       "<svg width=\"358pt\" height=\"366pt\"\n",
       " viewBox=\"0.00 0.00 358.00 366.00\" xmlns=\"http://www.w3.org/2000/svg\" xmlns:xlink=\"http://www.w3.org/1999/xlink\">\n",
       "<g id=\"graph1\" class=\"graph\" transform=\"scale(1 1) rotate(0) translate(4 362)\">\n",
       "<title>G139645327012048</title>\n",
       "<polygon fill=\"white\" stroke=\"white\" points=\"-4,5 -4,-362 355,-362 355,5 -4,5\"/>\n",
       "<!-- 139645326520848 -->\n",
       "<g id=\"node1\" class=\"node\"><title>139645326520848</title>\n",
       "<polygon fill=\"#eeeeee\" stroke=\"#eeeeee\" points=\"8,-236 8,-354 342,-354 342,-236 8,-236\"/>\n",
       "<polygon fill=\"#b2df8a\" stroke=\"#b2df8a\" points=\"13,-272 13,-349 218,-349 218,-272 13,-272\"/>\n",
       "<text text-anchor=\"start\" x=\"92.5\" y=\"-320.233\" font-family=\"arial\" font-size=\"14.00\">Project</text>\n",
       "<text text-anchor=\"start\" x=\"20.5\" y=\"-306.367\" font-family=\"arial\" font-size=\"10.00\">&lt;Keyword extractor from `parsed_log_line`&gt;</text>\n",
       "<text text-anchor=\"start\" x=\"18.5\" y=\"-294.367\" font-family=\"arial\" font-size=\"10.00\">domain=&lt;Extractor None = get_domain(url)&gt;</text>\n",
       "<polygon fill=\"#fdbf6f\" stroke=\"#fdbf6f\" points=\"218,-310 218,-349 337,-349 337,-310 218,-310\"/>\n",
       "<text text-anchor=\"start\" x=\"257.5\" y=\"-333.233\" font-family=\"arial\" font-size=\"14.00\">Group</text>\n",
       "<text text-anchor=\"start\" x=\"261.5\" y=\"-319.367\" font-family=\"arial\" font-size=\"10.00\">domain</text>\n",
       "<polygon fill=\"#b2df8a\" stroke=\"#b2df8a\" points=\"218,-272 218,-310 337,-310 337,-272 218,-272\"/>\n",
       "<text text-anchor=\"start\" x=\"248.5\" y=\"-294.733\" font-family=\"arial\" font-size=\"14.00\">Combine</text>\n",
       "<text text-anchor=\"start\" x=\"223\" y=\"-280.867\" font-family=\"arial\" font-size=\"10.00\">cards=SumAggregator(1)</text>\n",
       "<text text-anchor=\"start\" x=\"89.5\" y=\"-257.667\" font-family=\"arial\" font-size=\"10.00\">home/metrica&#45;analytics/miptgirl/wv2_cc</text>\n",
       "<text text-anchor=\"start\" x=\"18.5\" y=\"-245.667\" font-family=\"arial\" font-size=\"10.00\">tmp/nile/miptgirl/by&#45;uuid/326e3ebc&#45;e59a&#45;11e7&#45;88b6&#45;7118918e2388/tmp&#45;0</text>\n",
       "</g>\n",
       "<!-- 139645325534096 -->\n",
       "<g id=\"node2\" class=\"node\"><title>139645325534096</title>\n",
       "<polygon fill=\"#eeeeee\" stroke=\"#eeeeee\" points=\"11,-102 11,-220 339,-220 339,-102 11,-102\"/>\n",
       "<polygon fill=\"#fdbf6f\" stroke=\"#fdbf6f\" points=\"16,-176 16,-215 334,-215 334,-176 16,-176\"/>\n",
       "<text text-anchor=\"start\" x=\"155\" y=\"-199.233\" font-family=\"arial\" font-size=\"14.00\">Group</text>\n",
       "<text text-anchor=\"start\" x=\"159\" y=\"-185.367\" font-family=\"arial\" font-size=\"10.00\">domain</text>\n",
       "<polygon fill=\"#fb9a99\" stroke=\"#fb9a99\" points=\"16,-138 16,-176 334,-176 334,-138 16,-138\"/>\n",
       "<text text-anchor=\"start\" x=\"125\" y=\"-160.733\" font-family=\"arial\" font-size=\"14.00\">AggregateBase</text>\n",
       "<text text-anchor=\"start\" x=\"120.5\" y=\"-146.867\" font-family=\"arial\" font-size=\"10.00\">cards=SumAggregator(1)</text>\n",
       "<text text-anchor=\"start\" x=\"18.5\" y=\"-123.667\" font-family=\"arial\" font-size=\"10.00\">tmp/nile/miptgirl/by&#45;uuid/326e3ebc&#45;e59a&#45;11e7&#45;88b6&#45;7118918e2388/tmp&#45;0</text>\n",
       "<text text-anchor=\"start\" x=\"18.5\" y=\"-111.667\" font-family=\"arial\" font-size=\"10.00\">tmp/nile/miptgirl/by&#45;uuid/326e3ebc&#45;e59a&#45;11e7&#45;88b6&#45;7118918e2388/tmp&#45;1</text>\n",
       "</g>\n",
       "<!-- 139645326520848&#45;&gt;139645325534096 -->\n",
       "<g id=\"edge2\" class=\"edge\"><title>139645326520848:139645326520848&#45;&gt;139645325534096:139645325534096</title>\n",
       "<path fill=\"none\" stroke=\"#888888\" stroke-width=\"0.5\" d=\"M175,-235.836C175,-230.647 175,-225.396 175,-220.207\"/>\n",
       "</g>\n",
       "<!-- 139645325535184 -->\n",
       "<g id=\"node3\" class=\"node\"><title>139645325535184</title>\n",
       "<polygon fill=\"#eeeeee\" stroke=\"#eeeeee\" points=\"11,-4 11,-86 339,-86 339,-4 11,-4\"/>\n",
       "<polygon fill=\"#fff9a6\" stroke=\"#fff9a6\" points=\"16,-40 16,-81 334,-81 334,-40 16,-40\"/>\n",
       "<text text-anchor=\"start\" x=\"161.5\" y=\"-63.2333\" font-family=\"arial\" font-size=\"14.00\">Sort</text>\n",
       "<text text-anchor=\"start\" x=\"162.5\" y=\"-49.6667\" font-family=\"arial\" font-size=\"10.00\">cards</text>\n",
       "<text text-anchor=\"start\" x=\"18.5\" y=\"-25.6667\" font-family=\"arial\" font-size=\"10.00\">tmp/nile/miptgirl/by&#45;uuid/326e3ebc&#45;e59a&#45;11e7&#45;88b6&#45;7118918e2388/tmp&#45;1</text>\n",
       "<text text-anchor=\"start\" x=\"76\" y=\"-13.6667\" font-family=\"arial\" font-size=\"10.00\">home/metrica&#45;analytics/miptgirl/wv2_cc_stats</text>\n",
       "</g>\n",
       "<!-- 139645325534096&#45;&gt;139645325535184 -->\n",
       "<g id=\"edge4\" class=\"edge\"><title>139645325534096:139645325534096&#45;&gt;139645325535184:139645325535184</title>\n",
       "<path fill=\"none\" stroke=\"#888888\" stroke-width=\"0.5\" d=\"M175,-101.981C175,-96.6075 175,-91.2461 175,-86.0809\"/>\n",
       "</g>\n",
       "</g>\n",
       "</svg>\n"
      ],
      "text/plain": [
       "<nile.drivers.yt.command.YTCommandsGraph at 0x7f01b61c70d0>"
      ]
     },
     "execution_count": 182,
     "metadata": {},
     "output_type": "execute_result"
    }
   ],
   "source": [
    "job = cluster.job()\n",
    "\n",
    "log =  job.table('home/metrica-analytics/miptgirl/wv2_cc')\\\n",
    "    .project(ne.all(), domain = ne.custom(get_domain, 'url'))\\\n",
    "    .groupby(\"domain\").aggregate(cards = na.count())\\\n",
    "    .sort('cards')\\\n",
    "    .put('home/metrica-analytics/miptgirl/wv2_cc_stats')\n",
    "    \n",
    "job.commands_graph"
   ]
  },
  {
   "cell_type": "code",
   "execution_count": 183,
   "metadata": {
    "collapsed": true
   },
   "outputs": [],
   "source": [
    "job.run()"
   ]
  },
  {
   "cell_type": "code",
   "execution_count": 184,
   "metadata": {
    "collapsed": true
   },
   "outputs": [],
   "source": [
    "cc_sites_df = cluster.read('home/metrica-analytics/miptgirl/wv2_cc_stats').as_dataframe()"
   ]
  },
  {
   "cell_type": "code",
   "execution_count": 201,
   "metadata": {},
   "outputs": [
    {
     "data": {
      "text/plain": [
       "'#|\\n ||cards | domain|| \\n ||2612 | money.yandex.ru|| \\n ||2528 | paysend.com|| \\n ||1485 | tsum.ru|| \\n ||1300 | kassa.cc|| \\n ||1111 | stelsvelo.ru|| \\n ||1003 | online.atlasglb.com|| \\n ||509 | letyshops.com|| \\n ||381 | m.atlasglb.com|| \\n ||166 | auto.ru|| \\n ||130 | flowwow.com|| \\n |#'"
      ]
     },
     "execution_count": 201,
     "metadata": {},
     "output_type": "execute_result"
    }
   ],
   "source": [
    "def df_to_wiki(df, show_index = False):\n",
    "    return '#|\\n ||' + df.to_csv(index = show_index, sep = '|').replace('|', ' | ').replace('\\n', '|| \\n ||')[:-2] + '|#'\n",
    "\n",
    "df_to_wiki(cc_sites_df.sort_values('cards', ascending = False).head(10))"
   ]
  },
  {
   "cell_type": "code",
   "execution_count": 186,
   "metadata": {},
   "outputs": [
    {
     "data": {
      "text/html": [
       "<div>\n",
       "<table border=\"1\" class=\"dataframe\">\n",
       "  <thead>\n",
       "    <tr style=\"text-align: right;\">\n",
       "      <th></th>\n",
       "      <th>cards</th>\n",
       "      <th>domain</th>\n",
       "    </tr>\n",
       "  </thead>\n",
       "  <tbody>\n",
       "    <tr>\n",
       "      <th>196</th>\n",
       "      <td>2612</td>\n",
       "      <td>money.yandex.ru</td>\n",
       "    </tr>\n",
       "    <tr>\n",
       "      <th>195</th>\n",
       "      <td>2528</td>\n",
       "      <td>paysend.com</td>\n",
       "    </tr>\n",
       "    <tr>\n",
       "      <th>194</th>\n",
       "      <td>1485</td>\n",
       "      <td>tsum.ru</td>\n",
       "    </tr>\n",
       "    <tr>\n",
       "      <th>193</th>\n",
       "      <td>1300</td>\n",
       "      <td>kassa.cc</td>\n",
       "    </tr>\n",
       "    <tr>\n",
       "      <th>192</th>\n",
       "      <td>1111</td>\n",
       "      <td>stelsvelo.ru</td>\n",
       "    </tr>\n",
       "    <tr>\n",
       "      <th>191</th>\n",
       "      <td>1003</td>\n",
       "      <td>online.atlasglb.com</td>\n",
       "    </tr>\n",
       "    <tr>\n",
       "      <th>190</th>\n",
       "      <td>509</td>\n",
       "      <td>letyshops.com</td>\n",
       "    </tr>\n",
       "    <tr>\n",
       "      <th>189</th>\n",
       "      <td>381</td>\n",
       "      <td>m.atlasglb.com</td>\n",
       "    </tr>\n",
       "    <tr>\n",
       "      <th>188</th>\n",
       "      <td>166</td>\n",
       "      <td>auto.ru</td>\n",
       "    </tr>\n",
       "    <tr>\n",
       "      <th>187</th>\n",
       "      <td>130</td>\n",
       "      <td>flowwow.com</td>\n",
       "    </tr>\n",
       "  </tbody>\n",
       "</table>\n",
       "</div>"
      ],
      "text/plain": [
       "     cards               domain\n",
       "196   2612      money.yandex.ru\n",
       "195   2528          paysend.com\n",
       "194   1485              tsum.ru\n",
       "193   1300             kassa.cc\n",
       "192   1111         stelsvelo.ru\n",
       "191   1003  online.atlasglb.com\n",
       "190    509        letyshops.com\n",
       "189    381       m.atlasglb.com\n",
       "188    166              auto.ru\n",
       "187    130          flowwow.com"
      ]
     },
     "execution_count": 186,
     "metadata": {},
     "output_type": "execute_result"
    }
   ],
   "source": [
    "cc_sites_df.sort_values('cards', ascending = False).head(10)"
   ]
  },
  {
   "cell_type": "code",
   "execution_count": 10,
   "metadata": {
    "collapsed": true
   },
   "outputs": [],
   "source": [
    "### user activities"
   ]
  },
  {
   "cell_type": "code",
   "execution_count": 12,
   "metadata": {},
   "outputs": [
    {
     "data": {
      "image/png": "[encoded data removed]",
      "image/svg+xml": [
       "<?xml version=\"1.0\" encoding=\"UTF-8\" standalone=\"no\"?>\n",
       "<!DOCTYPE svg PUBLIC \"-//W3C//DTD SVG 1.1//EN\"\n",
       " \"http://www.w3.org/Graphics/SVG/1.1/DTD/svg11.dtd\">\n",
       "<!-- Generated by graphviz version 2.26.3 (20100126.1600)\n",
       " -->\n",
       "<!-- Title: G139645422535312 Pages: 1 -->\n",
       "<svg width=\"252pt\" height=\"184pt\"\n",
       " viewBox=\"0.00 0.00 252.00 184.00\" xmlns=\"http://www.w3.org/2000/svg\" xmlns:xlink=\"http://www.w3.org/1999/xlink\">\n",
       "<g id=\"graph1\" class=\"graph\" transform=\"scale(1 1) rotate(0) translate(4 180)\">\n",
       "<title>G139645422535312</title>\n",
       "<polygon fill=\"white\" stroke=\"white\" points=\"-4,5 -4,-180 249,-180 249,5 -4,5\"/>\n",
       "<!-- 139645422720272 -->\n",
       "<g id=\"node1\" class=\"node\"><title>139645422720272</title>\n",
       "<polygon fill=\"#eeeeee\" stroke=\"#eeeeee\" points=\"8,-90 8,-172 237,-172 237,-90 8,-90\"/>\n",
       "<polygon fill=\"#b2df8a\" stroke=\"#b2df8a\" points=\"13,-126 13,-167 232,-167 232,-126 13,-126\"/>\n",
       "<text text-anchor=\"start\" x=\"106.5\" y=\"-149.233\" font-family=\"arial\" font-size=\"14.00\">Filter</text>\n",
       "<text text-anchor=\"start\" x=\"117.5\" y=\"-135.667\" font-family=\"arial\" font-size=\"10.00\">...</text>\n",
       "<text text-anchor=\"start\" x=\"35\" y=\"-111.667\" font-family=\"arial\" font-size=\"10.00\">home/metrica&#45;analytics/miptgirl/wv2_raw</text>\n",
       "<text text-anchor=\"start\" x=\"15.5\" y=\"-99.6667\" font-family=\"arial\" font-size=\"10.00\">home/metrica&#45;analytics/miptgirl/wv2_user_activity</text>\n",
       "</g>\n",
       "<!-- 139645422720976 -->\n",
       "<g id=\"node2\" class=\"node\"><title>139645422720976</title>\n",
       "<polygon fill=\"#eeeeee\" stroke=\"#eeeeee\" points=\"8,-4 8,-74 237,-74 237,-4 8,-4\"/>\n",
       "<polygon fill=\"#cab2d6\" stroke=\"#cab2d6\" points=\"13,-40 13,-69 232,-69 232,-40 13,-40\"/>\n",
       "<text text-anchor=\"start\" x=\"102\" y=\"-51.2333\" font-family=\"arial\" font-size=\"14.00\">Merge</text>\n",
       "<text text-anchor=\"start\" x=\"15.5\" y=\"-25.6667\" font-family=\"arial\" font-size=\"10.00\">home/metrica&#45;analytics/miptgirl/wv2_user_activity</text>\n",
       "<text text-anchor=\"start\" x=\"15.5\" y=\"-13.6667\" font-family=\"arial\" font-size=\"10.00\">home/metrica&#45;analytics/miptgirl/wv2_user_activity</text>\n",
       "</g>\n",
       "<!-- 139645422720272&#45;&gt;139645422720976 -->\n",
       "<g id=\"edge2\" class=\"edge\"><title>139645422720272:139645422720272&#45;&gt;139645422720976:139645422720976</title>\n",
       "<path fill=\"none\" stroke=\"#888888\" stroke-width=\"0.5\" d=\"M122,-89.8436C122,-84.5809 122,-79.2327 122,-74.0786\"/>\n",
       "</g>\n",
       "</g>\n",
       "</svg>\n"
      ],
      "text/plain": [
       "<nile.drivers.yt.command.YTCommandsGraph at 0x7f01bbce0290>"
      ]
     },
     "execution_count": 12,
     "metadata": {},
     "output_type": "execute_result"
    }
   ],
   "source": [
    "job = cluster.job()\n",
    "\n",
    "log =  job.table('home/metrica-analytics/miptgirl/wv2_raw')\\\n",
    "    .filter(\n",
    "        nf.custom(lambda x, y: (str(x) == '36660770') and (str(y) == '9312130341512458719'), \n",
    "                  'counterid', 'uniqid')\n",
    "    )\\\n",
    "    .put('home/metrica-analytics/miptgirl/wv2_user_activity')\n",
    "    \n",
    "job.commands_graph"
   ]
  },
  {
   "cell_type": "code",
   "execution_count": 13,
   "metadata": {
    "collapsed": true
   },
   "outputs": [],
   "source": [
    "job.run()"
   ]
  },
  {
   "cell_type": "code",
   "execution_count": 19,
   "metadata": {
    "collapsed": true
   },
   "outputs": [],
   "source": [
    "user_df = cluster.read('tmp/miptgirl/cf6a6f56-6fc7edf4-352d695a-c').as_dataframe()"
   ]
  },
  {
   "cell_type": "code",
   "execution_count": 24,
   "metadata": {
    "collapsed": true
   },
   "outputs": [],
   "source": [
    "user_df_filt = user_df[user_df.type == '2'][[\n",
    "       u'browserinfo', u'counterclass', u'counterid', u'data',\n",
    "       u'eventtime', u'hit', u'iso_eventtime', u'part',\n",
    "       u'requestid', u'source_uri', u'timestamp',\n",
    "       u'type', u'uniqid', u'unixtime', u'url']]"
   ]
  },
  {
   "cell_type": "code",
   "execution_count": 27,
   "metadata": {
    "collapsed": true
   },
   "outputs": [],
   "source": [
    "user_df_filt['data_parsed'] = map(lambda x: json.loads(x), user_df_filt.data)"
   ]
  },
  {
   "cell_type": "code",
   "execution_count": 119,
   "metadata": {
    "collapsed": true
   },
   "outputs": [],
   "source": [
    "request_data = user_df_filt[user_df_filt.requestid == '000560A0BEEBFB80000007272510FD43'].iloc[0].data_parsed"
   ]
  },
  {
   "cell_type": "code",
   "execution_count": 120,
   "metadata": {
    "collapsed": true
   },
   "outputs": [],
   "source": [
    "request_df = pd.DataFrame(request_data)"
   ]
  },
  {
   "cell_type": "code",
   "execution_count": 121,
   "metadata": {
    "collapsed": true
   },
   "outputs": [],
   "source": [
    "request_df['data_parsed'] = map(lambda x: json.loads(x), request_df.data)"
   ]
  },
  {
   "cell_type": "code",
   "execution_count": 122,
   "metadata": {
    "collapsed": true
   },
   "outputs": [],
   "source": [
    "request_df['event_type'] = map(lambda x: x['type'] if 'type' in x else '', request_df.data_parsed)\n",
    "request_df['event_stamp'] = map(lambda x: x['stamp'] if 'stamp' in x else 0, request_df.data_parsed)\n",
    "#request_df['input_value'] = map(lambda x: x['meta']['value'] if (x is not None) and ('meta' in x) and ('value' in x['meta']) else '', request_df.data_parsed)"
   ]
  },
  {
   "cell_type": "code",
   "execution_count": 128,
   "metadata": {
    "collapsed": true
   },
   "outputs": [],
   "source": [
    "def get_input_value(x):\n",
    "    try:\n",
    "        return x['meta']['value']\n",
    "    except:\n",
    "        return ''\n",
    "    \n",
    "request_df['input_value'] = map(get_input_value, request_df.data_parsed)"
   ]
  },
  {
   "cell_type": "code",
   "execution_count": 136,
   "metadata": {},
   "outputs": [
    {
     "data": {
      "text/plain": [
       "{u'meta': {u'checked': False, u'value': u'2033708850186797'},\n",
       " u'stamp': 0,\n",
       " u'target': 2757,\n",
       " u'type': u'change'}"
      ]
     },
     "execution_count": 136,
     "metadata": {},
     "output_type": "execute_result"
    }
   ],
   "source": [
    "request_df[request_df.input_value == '2033708850186797'].iloc[0].data_parsed"
   ]
  },
  {
   "cell_type": "code",
   "execution_count": 155,
   "metadata": {
    "collapsed": true
   },
   "outputs": [],
   "source": [
    "values = []\n",
    "\n",
    "for request_event in request_df[request_df.type == 'mutation'].to_dict('records'):\n",
    "    print 'hello'\n",
    "    for changes in request_event['data_parsed']['meta']['changes']:\n",
    "        for k in changes:\n",
    "            for change in changes[k]:\n",
    "                if change['id'] == 2757:\n",
    "                    values.append(change)"
   ]
  },
  {
   "cell_type": "code",
   "execution_count": 156,
   "metadata": {},
   "outputs": [
    {
     "data": {
      "text/plain": [
       "[{u'at': {u'name': u'id'}, u'id': 2757, u'nm': u'INPUT', u'pa': 2755}]"
      ]
     },
     "execution_count": 156,
     "metadata": {},
     "output_type": "execute_result"
    }
   ],
   "source": [
    "values"
   ]
  },
  {
   "cell_type": "code",
   "execution_count": 157,
   "metadata": {
    "collapsed": true
   },
   "outputs": [],
   "source": [
    "values = []\n",
    "\n",
    "for request_event in request_df[request_df.type == 'mutation'].to_dict('records'):\n",
    "    print 'hello'\n",
    "    for changes in request_event['data_parsed']['meta']['changes']:\n",
    "        for k in changes:\n",
    "            for change in changes[k]:\n",
    "                if change['id'] == 2755:\n",
    "                    values.append(change)"
   ]
  },
  {
   "cell_type": "code",
   "execution_count": 158,
   "metadata": {},
   "outputs": [
    {
     "data": {
      "text/plain": [
       "[{u'at': {u'accept-charset': u'utf-8',\n",
       "   u'action': u'https://www.facebook.com/tr/',\n",
       "   u'method': u'post',\n",
       "   u'style': u'display: none;',\n",
       "   u'target': u'fb07386214387166712'},\n",
       "  u'id': 2755,\n",
       "  u'nm': u'FORM',\n",
       "  u'pa': 144,\n",
       "  u'pr': 2737},\n",
       " {u'id': 2755, u'pa': 144, u'pr': 2737}]"
      ]
     },
     "execution_count": 158,
     "metadata": {},
     "output_type": "execute_result"
    }
   ],
   "source": [
    "values"
   ]
  },
  {
   "cell_type": "code",
   "execution_count": 161,
   "metadata": {},
   "outputs": [
    {
     "data": {
      "text/plain": [
       "{u'attributes': {u'class': u'cbp-spmenu-push'},\n",
       " u'id': 144,\n",
       " u'name': u'body',\n",
       " u'parent': 0}"
      ]
     },
     "execution_count": 161,
     "metadata": {},
     "output_type": "execute_result"
    }
   ],
   "source": [
    "for item in initial_state:\n",
    "    if item['id'] == 144:\n",
    "        break\n",
    "        \n",
    "item"
   ]
  },
  {
   "cell_type": "code",
   "execution_count": 193,
   "metadata": {
    "collapsed": true
   },
   "outputs": [],
   "source": [
    "### emails\n",
    "\n",
    "def is_email(inp):\n",
    "    inp = str(inp)\n",
    "    inp = inp.strip()\n",
    "    return  re.match('^([a-z0-9_\\.-]+)@([a-z0-9_\\.-]+)\\.([a-z\\.]{2,6})$', inp) is not None"
   ]
  },
  {
   "cell_type": "code",
   "execution_count": 194,
   "metadata": {},
   "outputs": [
    {
     "data": {
      "image/png": "[encoded data removed]",
      "image/svg+xml": [
       "<?xml version=\"1.0\" encoding=\"UTF-8\" standalone=\"no\"?>\n",
       "<!DOCTYPE svg PUBLIC \"-//W3C//DTD SVG 1.1//EN\"\n",
       " \"http://www.w3.org/Graphics/SVG/1.1/DTD/svg11.dtd\">\n",
       "<!-- Generated by graphviz version 2.26.3 (20100126.1600)\n",
       " -->\n",
       "<!-- Title: G139645326369808 Pages: 1 -->\n",
       "<svg width=\"228pt\" height=\"184pt\"\n",
       " viewBox=\"0.00 0.00 228.00 184.00\" xmlns=\"http://www.w3.org/2000/svg\" xmlns:xlink=\"http://www.w3.org/1999/xlink\">\n",
       "<g id=\"graph1\" class=\"graph\" transform=\"scale(1 1) rotate(0) translate(4 180)\">\n",
       "<title>G139645326369808</title>\n",
       "<polygon fill=\"white\" stroke=\"white\" points=\"-4,5 -4,-180 225,-180 225,5 -4,5\"/>\n",
       "<!-- 139645324139984 -->\n",
       "<g id=\"node1\" class=\"node\"><title>139645324139984</title>\n",
       "<polygon fill=\"#eeeeee\" stroke=\"#eeeeee\" points=\"8,-90 8,-172 212,-172 212,-90 8,-90\"/>\n",
       "<polygon fill=\"#b2df8a\" stroke=\"#b2df8a\" points=\"13,-126 13,-167 207,-167 207,-126 13,-126\"/>\n",
       "<text text-anchor=\"start\" x=\"94\" y=\"-149.233\" font-family=\"arial\" font-size=\"14.00\">Filter</text>\n",
       "<text text-anchor=\"start\" x=\"105\" y=\"-135.667\" font-family=\"arial\" font-size=\"10.00\">...</text>\n",
       "<text text-anchor=\"start\" x=\"22.5\" y=\"-111.667\" font-family=\"arial\" font-size=\"10.00\">home/metrica&#45;analytics/miptgirl/wv2_raw</text>\n",
       "<text text-anchor=\"start\" x=\"15.5\" y=\"-99.6667\" font-family=\"arial\" font-size=\"10.00\">home/metrica&#45;analytics/miptgirl/wv2_emails</text>\n",
       "</g>\n",
       "<!-- 139645325874000 -->\n",
       "<g id=\"node2\" class=\"node\"><title>139645325874000</title>\n",
       "<polygon fill=\"#eeeeee\" stroke=\"#eeeeee\" points=\"8,-4 8,-74 212,-74 212,-4 8,-4\"/>\n",
       "<polygon fill=\"#cab2d6\" stroke=\"#cab2d6\" points=\"13,-40 13,-69 207,-69 207,-40 13,-40\"/>\n",
       "<text text-anchor=\"start\" x=\"89.5\" y=\"-51.2333\" font-family=\"arial\" font-size=\"14.00\">Merge</text>\n",
       "<text text-anchor=\"start\" x=\"15.5\" y=\"-25.6667\" font-family=\"arial\" font-size=\"10.00\">home/metrica&#45;analytics/miptgirl/wv2_emails</text>\n",
       "<text text-anchor=\"start\" x=\"15.5\" y=\"-13.6667\" font-family=\"arial\" font-size=\"10.00\">home/metrica&#45;analytics/miptgirl/wv2_emails</text>\n",
       "</g>\n",
       "<!-- 139645324139984&#45;&gt;139645325874000 -->\n",
       "<g id=\"edge2\" class=\"edge\"><title>139645324139984:139645324139984&#45;&gt;139645325874000:139645325874000</title>\n",
       "<path fill=\"none\" stroke=\"#888888\" stroke-width=\"0.5\" d=\"M110,-89.8436C110,-84.5809 110,-79.2327 110,-74.0786\"/>\n",
       "</g>\n",
       "</g>\n",
       "</svg>\n"
      ],
      "text/plain": [
       "<nile.drivers.yt.command.YTCommandsGraph at 0x7f01b612a410>"
      ]
     },
     "execution_count": 194,
     "metadata": {},
     "output_type": "execute_result"
    }
   ],
   "source": [
    "job = cluster.job()\n",
    "\n",
    "log =  job.table('home/metrica-analytics/miptgirl/wv2_raw')\\\n",
    "    .filter(nf.custom(is_email, 'input_value'))\\\n",
    "    .put('home/metrica-analytics/miptgirl/wv2_emails')\n",
    "    \n",
    "job.commands_graph"
   ]
  },
  {
   "cell_type": "code",
   "execution_count": 195,
   "metadata": {
    "collapsed": true
   },
   "outputs": [],
   "source": [
    "job.run()"
   ]
  },
  {
   "cell_type": "code",
   "execution_count": 196,
   "metadata": {},
   "outputs": [
    {
     "data": {
      "image/png": "[encoded data removed]",
      "image/svg+xml": [
       "<?xml version=\"1.0\" encoding=\"UTF-8\" standalone=\"no\"?>\n",
       "<!DOCTYPE svg PUBLIC \"-//W3C//DTD SVG 1.1//EN\"\n",
       " \"http://www.w3.org/Graphics/SVG/1.1/DTD/svg11.dtd\">\n",
       "<!-- Generated by graphviz version 2.26.3 (20100126.1600)\n",
       " -->\n",
       "<!-- Title: G139645326195344 Pages: 1 -->\n",
       "<svg width=\"362pt\" height=\"366pt\"\n",
       " viewBox=\"0.00 0.00 362.00 366.00\" xmlns=\"http://www.w3.org/2000/svg\" xmlns:xlink=\"http://www.w3.org/1999/xlink\">\n",
       "<g id=\"graph1\" class=\"graph\" transform=\"scale(1 1) rotate(0) translate(4 362)\">\n",
       "<title>G139645326195344</title>\n",
       "<polygon fill=\"white\" stroke=\"white\" points=\"-4,5 -4,-362 359,-362 359,5 -4,5\"/>\n",
       "<!-- 139645324471952 -->\n",
       "<g id=\"node1\" class=\"node\"><title>139645324471952</title>\n",
       "<polygon fill=\"#eeeeee\" stroke=\"#eeeeee\" points=\"8,-236 8,-354 347,-354 347,-236 8,-236\"/>\n",
       "<polygon fill=\"#b2df8a\" stroke=\"#b2df8a\" points=\"13,-272 13,-349 218,-349 218,-272 13,-272\"/>\n",
       "<text text-anchor=\"start\" x=\"92.5\" y=\"-320.233\" font-family=\"arial\" font-size=\"14.00\">Project</text>\n",
       "<text text-anchor=\"start\" x=\"20.5\" y=\"-306.367\" font-family=\"arial\" font-size=\"10.00\">&lt;Keyword extractor from `parsed_log_line`&gt;</text>\n",
       "<text text-anchor=\"start\" x=\"18.5\" y=\"-294.367\" font-family=\"arial\" font-size=\"10.00\">domain=&lt;Extractor None = get_domain(url)&gt;</text>\n",
       "<polygon fill=\"#fdbf6f\" stroke=\"#fdbf6f\" points=\"218,-310 218,-349 342,-349 342,-310 218,-310\"/>\n",
       "<text text-anchor=\"start\" x=\"260\" y=\"-333.233\" font-family=\"arial\" font-size=\"14.00\">Group</text>\n",
       "<text text-anchor=\"start\" x=\"264\" y=\"-319.367\" font-family=\"arial\" font-size=\"10.00\">domain</text>\n",
       "<polygon fill=\"#b2df8a\" stroke=\"#b2df8a\" points=\"218,-272 218,-310 342,-310 342,-272 218,-272\"/>\n",
       "<text text-anchor=\"start\" x=\"251\" y=\"-294.733\" font-family=\"arial\" font-size=\"14.00\">Combine</text>\n",
       "<text text-anchor=\"start\" x=\"223\" y=\"-280.867\" font-family=\"arial\" font-size=\"10.00\">emails=SumAggregator(1)</text>\n",
       "<text text-anchor=\"start\" x=\"83\" y=\"-257.667\" font-family=\"arial\" font-size=\"10.00\">home/metrica&#45;analytics/miptgirl/wv2_emails</text>\n",
       "<text text-anchor=\"start\" x=\"21\" y=\"-245.667\" font-family=\"arial\" font-size=\"10.00\">tmp/nile/miptgirl/by&#45;uuid/5c9e148e&#45;e59d&#45;11e7&#45;88b6&#45;7118918e2388/tmp&#45;0</text>\n",
       "</g>\n",
       "<!-- 139645324469328 -->\n",
       "<g id=\"node2\" class=\"node\"><title>139645324469328</title>\n",
       "<polygon fill=\"#eeeeee\" stroke=\"#eeeeee\" points=\"13,-102 13,-220 341,-220 341,-102 13,-102\"/>\n",
       "<polygon fill=\"#fdbf6f\" stroke=\"#fdbf6f\" points=\"18,-176 18,-215 336,-215 336,-176 18,-176\"/>\n",
       "<text text-anchor=\"start\" x=\"157\" y=\"-199.233\" font-family=\"arial\" font-size=\"14.00\">Group</text>\n",
       "<text text-anchor=\"start\" x=\"161\" y=\"-185.367\" font-family=\"arial\" font-size=\"10.00\">domain</text>\n",
       "<polygon fill=\"#fb9a99\" stroke=\"#fb9a99\" points=\"18,-138 18,-176 336,-176 336,-138 18,-138\"/>\n",
       "<text text-anchor=\"start\" x=\"127\" y=\"-160.733\" font-family=\"arial\" font-size=\"14.00\">AggregateBase</text>\n",
       "<text text-anchor=\"start\" x=\"120\" y=\"-146.867\" font-family=\"arial\" font-size=\"10.00\">emails=SumAggregator(1)</text>\n",
       "<text text-anchor=\"start\" x=\"20.5\" y=\"-123.667\" font-family=\"arial\" font-size=\"10.00\">tmp/nile/miptgirl/by&#45;uuid/5c9e148e&#45;e59d&#45;11e7&#45;88b6&#45;7118918e2388/tmp&#45;0</text>\n",
       "<text text-anchor=\"start\" x=\"20.5\" y=\"-111.667\" font-family=\"arial\" font-size=\"10.00\">tmp/nile/miptgirl/by&#45;uuid/5c9e148e&#45;e59d&#45;11e7&#45;88b6&#45;7118918e2388/tmp&#45;1</text>\n",
       "</g>\n",
       "<!-- 139645324471952&#45;&gt;139645324469328 -->\n",
       "<g id=\"edge2\" class=\"edge\"><title>139645324471952:139645324471952&#45;&gt;139645324469328:139645324469328</title>\n",
       "<path fill=\"none\" stroke=\"#888888\" stroke-width=\"0.5\" d=\"M177,-235.836C177,-230.647 177,-225.396 177,-220.207\"/>\n",
       "</g>\n",
       "<!-- 139645324468368 -->\n",
       "<g id=\"node3\" class=\"node\"><title>139645324468368</title>\n",
       "<polygon fill=\"#eeeeee\" stroke=\"#eeeeee\" points=\"13,-4 13,-86 341,-86 341,-4 13,-4\"/>\n",
       "<polygon fill=\"#fff9a6\" stroke=\"#fff9a6\" points=\"18,-40 18,-81 336,-81 336,-40 18,-40\"/>\n",
       "<text text-anchor=\"start\" x=\"163.5\" y=\"-63.2333\" font-family=\"arial\" font-size=\"14.00\">Sort</text>\n",
       "<text text-anchor=\"start\" x=\"162.5\" y=\"-49.6667\" font-family=\"arial\" font-size=\"10.00\">emails</text>\n",
       "<text text-anchor=\"start\" x=\"20.5\" y=\"-25.6667\" font-family=\"arial\" font-size=\"10.00\">tmp/nile/miptgirl/by&#45;uuid/5c9e148e&#45;e59d&#45;11e7&#45;88b6&#45;7118918e2388/tmp&#45;1</text>\n",
       "<text text-anchor=\"start\" x=\"69\" y=\"-13.6667\" font-family=\"arial\" font-size=\"10.00\">home/metrica&#45;analytics/miptgirl/wv2_emails_stats</text>\n",
       "</g>\n",
       "<!-- 139645324469328&#45;&gt;139645324468368 -->\n",
       "<g id=\"edge4\" class=\"edge\"><title>139645324469328:139645324469328&#45;&gt;139645324468368:139645324468368</title>\n",
       "<path fill=\"none\" stroke=\"#888888\" stroke-width=\"0.5\" d=\"M177,-101.981C177,-96.6075 177,-91.2461 177,-86.0809\"/>\n",
       "</g>\n",
       "</g>\n",
       "</svg>\n"
      ],
      "text/plain": [
       "<nile.drivers.yt.command.YTCommandsGraph at 0x7f01b60ffa90>"
      ]
     },
     "execution_count": 196,
     "metadata": {},
     "output_type": "execute_result"
    }
   ],
   "source": [
    "job = cluster.job()\n",
    "\n",
    "log =  job.table('home/metrica-analytics/miptgirl/wv2_emails')\\\n",
    "    .project(ne.all(), domain = ne.custom(get_domain, 'url'))\\\n",
    "    .groupby(\"domain\").aggregate(emails = na.count())\\\n",
    "    .sort('emails')\\\n",
    "    .put('home/metrica-analytics/miptgirl/wv2_emails_stats')\n",
    "    \n",
    "job.commands_graph"
   ]
  },
  {
   "cell_type": "code",
   "execution_count": 197,
   "metadata": {
    "collapsed": true
   },
   "outputs": [],
   "source": [
    "job.run()"
   ]
  },
  {
   "cell_type": "code",
   "execution_count": 198,
   "metadata": {
    "collapsed": true
   },
   "outputs": [],
   "source": [
    "emails_sites_df = cluster.read('home/metrica-analytics/miptgirl/wv2_emails_stats').as_dataframe()"
   ]
  },
  {
   "cell_type": "code",
   "execution_count": 202,
   "metadata": {},
   "outputs": [
    {
     "data": {
      "text/plain": [
       "'#|\\n ||domain | emails|| \\n ||bypass.org.ru | 92998|| \\n ||realty.yandex.ru | 68684|| \\n ||ulmart.ru | 62965|| \\n ||femida.yandex-team.ru | 50879|| \\n ||alfastrah.ru | 45013|| \\n ||cian.ru | 38740|| \\n ||kontur.ru | 31589|| \\n ||direct.yandex.ru | 30414|| \\n ||eli.ru | 30302|| \\n ||tsum.ru | 21270|| \\n ||serpstat.com | 17966|| \\n ||m.realty.yandex.ru | 17048|| \\n ||krasniykarandash.ru | 13509|| \\n ||letyshops.com | 12214|| \\n ||lk.direct-credit.ru | 10624|| \\n ||web-zaim.ru | 9923|| \\n ||narcofree.ru | 8533|| \\n ||mobil.dominos.com.tr | 8429|| \\n ||geekbrains.ru | 8260|| \\n ||epayments.com | 8193|| \\n |#'"
      ]
     },
     "execution_count": 202,
     "metadata": {},
     "output_type": "execute_result"
    }
   ],
   "source": [
    "df_to_wiki(emails_sites_df.sort_values('emails', ascending = False).head(20))"
   ]
  },
  {
   "cell_type": "code",
   "execution_count": 203,
   "metadata": {
    "collapsed": true
   },
   "outputs": [],
   "source": [
    "##mobile phones"
   ]
  },
  {
   "cell_type": "code",
   "execution_count": 233,
   "metadata": {
    "collapsed": true
   },
   "outputs": [],
   "source": [
    "def is_mobile_phone(inp):\n",
    "    inp = str(inp)\n",
    "    inp = inp.strip()\n",
    "    pattern = '^((8|\\+?7)[\\- ]?)?(\\(?\\d{3}\\)?[\\- ]?)?[\\d\\- ]{7,10}$'\n",
    "    \n",
    "    if re.match(pattern, inp) is None:\n",
    "        return False\n",
    "    \n",
    "    nums = ''.join(filter(lambda x: x.isalnum(), list(inp)))\n",
    "    \n",
    "    if len(nums) != 11:\n",
    "        return False\n",
    "     \n",
    "    code = int(nums[1:4])\n",
    "    codes = [900, 901, 902, 903, 904, 905, 906, 908, 909, 910, 911, 912, 913, \n",
    "             914, 915, 916, 917, 918, 919, 920, 921, 922, 923, 924, 925, 926, \n",
    "             927, 928, 929, 930, 931, 932, 933, 934, 936, 937, 938, 939, 941, \n",
    "             950, 951, 952, 953, 954, 955, 956, 958, 960, 961, 962, 963, 964, \n",
    "             965, 966, 967, 968, 969, 970, 971, 977, 978, 980, 981, 982, 983, \n",
    "             984, 985, 986, 987, 988, 989, 991, 992, 993, 994, 995, 996, 997, 999]\n",
    "    \n",
    "    return code in codes"
   ]
  },
  {
   "cell_type": "code",
   "execution_count": 234,
   "metadata": {},
   "outputs": [
    {
     "data": {
      "image/png": "[encoded data removed]",
      "image/svg+xml": [
       "<?xml version=\"1.0\" encoding=\"UTF-8\" standalone=\"no\"?>\n",
       "<!DOCTYPE svg PUBLIC \"-//W3C//DTD SVG 1.1//EN\"\n",
       " \"http://www.w3.org/Graphics/SVG/1.1/DTD/svg11.dtd\">\n",
       "<!-- Generated by graphviz version 2.26.3 (20100126.1600)\n",
       " -->\n",
       "<!-- Title: G139645325732752 Pages: 1 -->\n",
       "<svg width=\"232pt\" height=\"184pt\"\n",
       " viewBox=\"0.00 0.00 232.00 184.00\" xmlns=\"http://www.w3.org/2000/svg\" xmlns:xlink=\"http://www.w3.org/1999/xlink\">\n",
       "<g id=\"graph1\" class=\"graph\" transform=\"scale(1 1) rotate(0) translate(4 180)\">\n",
       "<title>G139645325732752</title>\n",
       "<polygon fill=\"white\" stroke=\"white\" points=\"-4,5 -4,-180 229,-180 229,5 -4,5\"/>\n",
       "<!-- 139645288554320 -->\n",
       "<g id=\"node1\" class=\"node\"><title>139645288554320</title>\n",
       "<polygon fill=\"#eeeeee\" stroke=\"#eeeeee\" points=\"8,-90 8,-172 217,-172 217,-90 8,-90\"/>\n",
       "<polygon fill=\"#b2df8a\" stroke=\"#b2df8a\" points=\"13,-126 13,-167 212,-167 212,-126 13,-126\"/>\n",
       "<text text-anchor=\"start\" x=\"96.5\" y=\"-149.233\" font-family=\"arial\" font-size=\"14.00\">Filter</text>\n",
       "<text text-anchor=\"start\" x=\"107.5\" y=\"-135.667\" font-family=\"arial\" font-size=\"10.00\">...</text>\n",
       "<text text-anchor=\"start\" x=\"25\" y=\"-111.667\" font-family=\"arial\" font-size=\"10.00\">home/metrica&#45;analytics/miptgirl/wv2_raw</text>\n",
       "<text text-anchor=\"start\" x=\"15.5\" y=\"-99.6667\" font-family=\"arial\" font-size=\"10.00\">home/metrica&#45;analytics/miptgirl/wv2_mobiles</text>\n",
       "</g>\n",
       "<!-- 139645289573136 -->\n",
       "<g id=\"node2\" class=\"node\"><title>139645289573136</title>\n",
       "<polygon fill=\"#eeeeee\" stroke=\"#eeeeee\" points=\"8,-4 8,-74 217,-74 217,-4 8,-4\"/>\n",
       "<polygon fill=\"#cab2d6\" stroke=\"#cab2d6\" points=\"13,-40 13,-69 212,-69 212,-40 13,-40\"/>\n",
       "<text text-anchor=\"start\" x=\"92\" y=\"-51.2333\" font-family=\"arial\" font-size=\"14.00\">Merge</text>\n",
       "<text text-anchor=\"start\" x=\"15.5\" y=\"-25.6667\" font-family=\"arial\" font-size=\"10.00\">home/metrica&#45;analytics/miptgirl/wv2_mobiles</text>\n",
       "<text text-anchor=\"start\" x=\"15.5\" y=\"-13.6667\" font-family=\"arial\" font-size=\"10.00\">home/metrica&#45;analytics/miptgirl/wv2_mobiles</text>\n",
       "</g>\n",
       "<!-- 139645288554320&#45;&gt;139645289573136 -->\n",
       "<g id=\"edge2\" class=\"edge\"><title>139645288554320:139645288554320&#45;&gt;139645289573136:139645289573136</title>\n",
       "<path fill=\"none\" stroke=\"#888888\" stroke-width=\"0.5\" d=\"M112,-89.8436C112,-84.5809 112,-79.2327 112,-74.0786\"/>\n",
       "</g>\n",
       "</g>\n",
       "</svg>\n"
      ],
      "text/plain": [
       "<nile.drivers.yt.command.YTCommandsGraph at 0x7f01b608eb90>"
      ]
     },
     "execution_count": 234,
     "metadata": {},
     "output_type": "execute_result"
    }
   ],
   "source": [
    "job = cluster.job()\n",
    "\n",
    "log =  job.table('home/metrica-analytics/miptgirl/wv2_raw')\\\n",
    "    .filter(nf.custom(is_mobile_phone, 'input_value'))\\\n",
    "    .put('home/metrica-analytics/miptgirl/wv2_mobiles')\n",
    "    \n",
    "job.commands_graph"
   ]
  },
  {
   "cell_type": "code",
   "execution_count": 235,
   "metadata": {
    "collapsed": true
   },
   "outputs": [],
   "source": [
    "job.run()"
   ]
  },
  {
   "cell_type": "code",
   "execution_count": 236,
   "metadata": {},
   "outputs": [
    {
     "data": {
      "image/png": "[encoded data removed]",
      "image/svg+xml": [
       "<?xml version=\"1.0\" encoding=\"UTF-8\" standalone=\"no\"?>\n",
       "<!DOCTYPE svg PUBLIC \"-//W3C//DTD SVG 1.1//EN\"\n",
       " \"http://www.w3.org/Graphics/SVG/1.1/DTD/svg11.dtd\">\n",
       "<!-- Generated by graphviz version 2.26.3 (20100126.1600)\n",
       " -->\n",
       "<!-- Title: G139645290043472 Pages: 1 -->\n",
       "<svg width=\"368pt\" height=\"366pt\"\n",
       " viewBox=\"0.00 0.00 368.00 366.00\" xmlns=\"http://www.w3.org/2000/svg\" xmlns:xlink=\"http://www.w3.org/1999/xlink\">\n",
       "<g id=\"graph1\" class=\"graph\" transform=\"scale(1 1) rotate(0) translate(4 362)\">\n",
       "<title>G139645290043472</title>\n",
       "<polygon fill=\"white\" stroke=\"white\" points=\"-4,5 -4,-362 365,-362 365,5 -4,5\"/>\n",
       "<!-- 139645290044688 -->\n",
       "<g id=\"node1\" class=\"node\"><title>139645290044688</title>\n",
       "<polygon fill=\"#eeeeee\" stroke=\"#eeeeee\" points=\"8,-236 8,-354 352,-354 352,-236 8,-236\"/>\n",
       "<polygon fill=\"#b2df8a\" stroke=\"#b2df8a\" points=\"13,-272 13,-349 218,-349 218,-272 13,-272\"/>\n",
       "<text text-anchor=\"start\" x=\"92.5\" y=\"-320.233\" font-family=\"arial\" font-size=\"14.00\">Project</text>\n",
       "<text text-anchor=\"start\" x=\"20.5\" y=\"-306.367\" font-family=\"arial\" font-size=\"10.00\">&lt;Keyword extractor from `parsed_log_line`&gt;</text>\n",
       "<text text-anchor=\"start\" x=\"18.5\" y=\"-294.367\" font-family=\"arial\" font-size=\"10.00\">domain=&lt;Extractor None = get_domain(url)&gt;</text>\n",
       "<polygon fill=\"#fdbf6f\" stroke=\"#fdbf6f\" points=\"218,-310 218,-349 347,-349 347,-310 218,-310\"/>\n",
       "<text text-anchor=\"start\" x=\"262.5\" y=\"-333.233\" font-family=\"arial\" font-size=\"14.00\">Group</text>\n",
       "<text text-anchor=\"start\" x=\"266.5\" y=\"-319.367\" font-family=\"arial\" font-size=\"10.00\">domain</text>\n",
       "<polygon fill=\"#b2df8a\" stroke=\"#b2df8a\" points=\"218,-272 218,-310 347,-310 347,-272 218,-272\"/>\n",
       "<text text-anchor=\"start\" x=\"253.5\" y=\"-294.733\" font-family=\"arial\" font-size=\"14.00\">Combine</text>\n",
       "<text text-anchor=\"start\" x=\"223\" y=\"-280.867\" font-family=\"arial\" font-size=\"10.00\">mobiles=SumAggregator(1)</text>\n",
       "<text text-anchor=\"start\" x=\"83\" y=\"-257.667\" font-family=\"arial\" font-size=\"10.00\">home/metrica&#45;analytics/miptgirl/wv2_mobiles</text>\n",
       "<text text-anchor=\"start\" x=\"23.5\" y=\"-245.667\" font-family=\"arial\" font-size=\"10.00\">tmp/nile/miptgirl/by&#45;uuid/3a16339a&#45;e5a4&#45;11e7&#45;88b6&#45;7118918e2388/tmp&#45;0</text>\n",
       "</g>\n",
       "<!-- 139645325991568 -->\n",
       "<g id=\"node2\" class=\"node\"><title>139645325991568</title>\n",
       "<polygon fill=\"#eeeeee\" stroke=\"#eeeeee\" points=\"16,-102 16,-220 344,-220 344,-102 16,-102\"/>\n",
       "<polygon fill=\"#fdbf6f\" stroke=\"#fdbf6f\" points=\"21,-176 21,-215 339,-215 339,-176 21,-176\"/>\n",
       "<text text-anchor=\"start\" x=\"160\" y=\"-199.233\" font-family=\"arial\" font-size=\"14.00\">Group</text>\n",
       "<text text-anchor=\"start\" x=\"164\" y=\"-185.367\" font-family=\"arial\" font-size=\"10.00\">domain</text>\n",
       "<polygon fill=\"#fb9a99\" stroke=\"#fb9a99\" points=\"21,-138 21,-176 339,-176 339,-138 21,-138\"/>\n",
       "<text text-anchor=\"start\" x=\"130\" y=\"-160.733\" font-family=\"arial\" font-size=\"14.00\">AggregateBase</text>\n",
       "<text text-anchor=\"start\" x=\"120.5\" y=\"-146.867\" font-family=\"arial\" font-size=\"10.00\">mobiles=SumAggregator(1)</text>\n",
       "<text text-anchor=\"start\" x=\"23.5\" y=\"-123.667\" font-family=\"arial\" font-size=\"10.00\">tmp/nile/miptgirl/by&#45;uuid/3a16339a&#45;e5a4&#45;11e7&#45;88b6&#45;7118918e2388/tmp&#45;0</text>\n",
       "<text text-anchor=\"start\" x=\"23.5\" y=\"-111.667\" font-family=\"arial\" font-size=\"10.00\">tmp/nile/miptgirl/by&#45;uuid/3a16339a&#45;e5a4&#45;11e7&#45;88b6&#45;7118918e2388/tmp&#45;1</text>\n",
       "</g>\n",
       "<!-- 139645290044688&#45;&gt;139645325991568 -->\n",
       "<g id=\"edge2\" class=\"edge\"><title>139645290044688:139645290044688&#45;&gt;139645325991568:139645325991568</title>\n",
       "<path fill=\"none\" stroke=\"#888888\" stroke-width=\"0.5\" d=\"M180,-235.836C180,-230.647 180,-225.396 180,-220.207\"/>\n",
       "</g>\n",
       "<!-- 139645324658256 -->\n",
       "<g id=\"node3\" class=\"node\"><title>139645324658256</title>\n",
       "<polygon fill=\"#eeeeee\" stroke=\"#eeeeee\" points=\"16,-4 16,-86 344,-86 344,-4 16,-4\"/>\n",
       "<polygon fill=\"#fff9a6\" stroke=\"#fff9a6\" points=\"21,-40 21,-81 339,-81 339,-40 21,-40\"/>\n",
       "<text text-anchor=\"start\" x=\"166.5\" y=\"-63.2333\" font-family=\"arial\" font-size=\"14.00\">Sort</text>\n",
       "<text text-anchor=\"start\" x=\"163\" y=\"-49.6667\" font-family=\"arial\" font-size=\"10.00\">mobiles</text>\n",
       "<text text-anchor=\"start\" x=\"23.5\" y=\"-25.6667\" font-family=\"arial\" font-size=\"10.00\">tmp/nile/miptgirl/by&#45;uuid/3a16339a&#45;e5a4&#45;11e7&#45;88b6&#45;7118918e2388/tmp&#45;1</text>\n",
       "<text text-anchor=\"start\" x=\"69.5\" y=\"-13.6667\" font-family=\"arial\" font-size=\"10.00\">home/metrica&#45;analytics/miptgirl/wv2_mobiles_stats</text>\n",
       "</g>\n",
       "<!-- 139645325991568&#45;&gt;139645324658256 -->\n",
       "<g id=\"edge4\" class=\"edge\"><title>139645325991568:139645325991568&#45;&gt;139645324658256:139645324658256</title>\n",
       "<path fill=\"none\" stroke=\"#888888\" stroke-width=\"0.5\" d=\"M180,-101.981C180,-96.6075 180,-91.2461 180,-86.0809\"/>\n",
       "</g>\n",
       "</g>\n",
       "</svg>\n"
      ],
      "text/plain": [
       "<nile.drivers.yt.command.YTCommandsGraph at 0x7f01b3e85850>"
      ]
     },
     "execution_count": 236,
     "metadata": {},
     "output_type": "execute_result"
    }
   ],
   "source": [
    "job = cluster.job()\n",
    "\n",
    "log =  job.table('home/metrica-analytics/miptgirl/wv2_mobiles')\\\n",
    "    .project(ne.all(), domain = ne.custom(get_domain, 'url'))\\\n",
    "    .groupby(\"domain\").aggregate(mobiles = na.count())\\\n",
    "    .sort('mobiles')\\\n",
    "    .put('home/metrica-analytics/miptgirl/wv2_mobiles_stats')\n",
    "    \n",
    "job.commands_graph"
   ]
  },
  {
   "cell_type": "code",
   "execution_count": 237,
   "metadata": {
    "collapsed": true
   },
   "outputs": [],
   "source": [
    "job.run()"
   ]
  },
  {
   "cell_type": "code",
   "execution_count": 238,
   "metadata": {
    "collapsed": true
   },
   "outputs": [],
   "source": [
    "mobiles_sites_df = cluster.read('home/metrica-analytics/miptgirl/wv2_mobiles_stats').as_dataframe()"
   ]
  },
  {
   "cell_type": "code",
   "execution_count": 241,
   "metadata": {},
   "outputs": [
    {
     "data": {
      "text/plain": [
       "'#|\\n ||domain | mobiles|| \\n ||ulmart.ru | 50488|| \\n ||alfastrah.ru | 35119|| \\n ||stolicasveta.ru | 12303|| \\n ||geekbrains.ru | 12028|| \\n ||eli.ru | 8512|| \\n ||apex.ru | 6009|| \\n ||tsum.ru | 4743|| \\n ||sovest.ru | 4644|| \\n ||fotooboi-s-dostavkoy.ru | 3707|| \\n ||web-zaim.ru | 3470|| \\n ||letyshops.com | 3326|| \\n ||dozarplati.com | 3281|| \\n ||funburg.ru | 2947|| \\n ||sales.ubrr.ru | 2895|| \\n ||stock.ulmart.ru | 2708|| \\n ||app.mtsbank.ru | 2287|| \\n ||money.yandex.ru | 2221|| \\n ||bypass.org.ru | 2164|| \\n ||shiptor.ru | 2069|| \\n ||lk.direct-credit.ru | 1984|| \\n |#'"
      ]
     },
     "execution_count": 241,
     "metadata": {},
     "output_type": "execute_result"
    }
   ],
   "source": [
    "df_to_wiki(mobiles_sites_df.sort_values('mobiles', ascending = False).head(20))"
   ]
  },
  {
   "cell_type": "markdown",
   "metadata": {},
   "source": [
    "### дата рождения"
   ]
  },
  {
   "cell_type": "code",
   "execution_count": 242,
   "metadata": {
    "collapsed": true
   },
   "outputs": [],
   "source": [
    "from dateutil.parser import parse"
   ]
  },
  {
   "cell_type": "code",
   "execution_count": 256,
   "metadata": {
    "collapsed": true
   },
   "outputs": [],
   "source": [
    "def is_birthday(inp):\n",
    "    inp = str(inp).strip()\n",
    "    if re.match(r'[0-9]{2,4}([./-])[0-9]{2,2}([./-])[0-9]{2,4}', inp) is None:\n",
    "        return False\n",
    "    \n",
    "    date = None\n",
    "    \n",
    "    try:\n",
    "        date = parse(inp)\n",
    "        delta = (datetime.datetime.today() - date).days \n",
    "        if (delta >= 365*10) and (delta <= 365*150):\n",
    "            return True\n",
    "        else:\n",
    "            return False\n",
    "    except:\n",
    "        return False"
   ]
  },
  {
   "cell_type": "code",
   "execution_count": 257,
   "metadata": {},
   "outputs": [
    {
     "data": {
      "image/png": "[encoded data removed]",
      "image/svg+xml": [
       "<?xml version=\"1.0\" encoding=\"UTF-8\" standalone=\"no\"?>\n",
       "<!DOCTYPE svg PUBLIC \"-//W3C//DTD SVG 1.1//EN\"\n",
       " \"http://www.w3.org/Graphics/SVG/1.1/DTD/svg11.dtd\">\n",
       "<!-- Generated by graphviz version 2.26.3 (20100126.1600)\n",
       " -->\n",
       "<!-- Title: G139645325020880 Pages: 1 -->\n",
       "<svg width=\"238pt\" height=\"184pt\"\n",
       " viewBox=\"0.00 0.00 238.00 184.00\" xmlns=\"http://www.w3.org/2000/svg\" xmlns:xlink=\"http://www.w3.org/1999/xlink\">\n",
       "<g id=\"graph1\" class=\"graph\" transform=\"scale(1 1) rotate(0) translate(4 180)\">\n",
       "<title>G139645325020880</title>\n",
       "<polygon fill=\"white\" stroke=\"white\" points=\"-4,5 -4,-180 235,-180 235,5 -4,5\"/>\n",
       "<!-- 139645287198480 -->\n",
       "<g id=\"node1\" class=\"node\"><title>139645287198480</title>\n",
       "<polygon fill=\"#eeeeee\" stroke=\"#eeeeee\" points=\"8,-90 8,-172 223,-172 223,-90 8,-90\"/>\n",
       "<polygon fill=\"#b2df8a\" stroke=\"#b2df8a\" points=\"13,-126 13,-167 218,-167 218,-126 13,-126\"/>\n",
       "<text text-anchor=\"start\" x=\"99.5\" y=\"-149.233\" font-family=\"arial\" font-size=\"14.00\">Filter</text>\n",
       "<text text-anchor=\"start\" x=\"110.5\" y=\"-135.667\" font-family=\"arial\" font-size=\"10.00\">...</text>\n",
       "<text text-anchor=\"start\" x=\"28\" y=\"-111.667\" font-family=\"arial\" font-size=\"10.00\">home/metrica&#45;analytics/miptgirl/wv2_raw</text>\n",
       "<text text-anchor=\"start\" x=\"15.5\" y=\"-99.6667\" font-family=\"arial\" font-size=\"10.00\">home/metrica&#45;analytics/miptgirl/wv2_birthdays</text>\n",
       "</g>\n",
       "<!-- 139645285849744 -->\n",
       "<g id=\"node2\" class=\"node\"><title>139645285849744</title>\n",
       "<polygon fill=\"#eeeeee\" stroke=\"#eeeeee\" points=\"8,-4 8,-74 223,-74 223,-4 8,-4\"/>\n",
       "<polygon fill=\"#cab2d6\" stroke=\"#cab2d6\" points=\"13,-40 13,-69 218,-69 218,-40 13,-40\"/>\n",
       "<text text-anchor=\"start\" x=\"95\" y=\"-51.2333\" font-family=\"arial\" font-size=\"14.00\">Merge</text>\n",
       "<text text-anchor=\"start\" x=\"15.5\" y=\"-25.6667\" font-family=\"arial\" font-size=\"10.00\">home/metrica&#45;analytics/miptgirl/wv2_birthdays</text>\n",
       "<text text-anchor=\"start\" x=\"15.5\" y=\"-13.6667\" font-family=\"arial\" font-size=\"10.00\">home/metrica&#45;analytics/miptgirl/wv2_birthdays</text>\n",
       "</g>\n",
       "<!-- 139645287198480&#45;&gt;139645285849744 -->\n",
       "<g id=\"edge2\" class=\"edge\"><title>139645287198480:139645287198480&#45;&gt;139645285849744:139645285849744</title>\n",
       "<path fill=\"none\" stroke=\"#888888\" stroke-width=\"0.5\" d=\"M115,-89.8436C115,-84.5809 115,-79.2327 115,-74.0786\"/>\n",
       "</g>\n",
       "</g>\n",
       "</svg>\n"
      ],
      "text/plain": [
       "<nile.drivers.yt.command.YTCommandsGraph at 0x7f01b5fe0ed0>"
      ]
     },
     "execution_count": 257,
     "metadata": {},
     "output_type": "execute_result"
    }
   ],
   "source": [
    "job = cluster.job()\n",
    "\n",
    "log =  job.table('home/metrica-analytics/miptgirl/wv2_raw')\\\n",
    "    .filter(nf.custom(is_birthday, 'input_value'))\\\n",
    "    .put('home/metrica-analytics/miptgirl/wv2_birthdays')\n",
    "    \n",
    "job.commands_graph"
   ]
  },
  {
   "cell_type": "code",
   "execution_count": 258,
   "metadata": {
    "collapsed": true
   },
   "outputs": [],
   "source": [
    "job.run()"
   ]
  },
  {
   "cell_type": "code",
   "execution_count": 259,
   "metadata": {},
   "outputs": [
    {
     "data": {
      "image/png": "[encoded data removed]",
      "image/svg+xml": [
       "<?xml version=\"1.0\" encoding=\"UTF-8\" standalone=\"no\"?>\n",
       "<!DOCTYPE svg PUBLIC \"-//W3C//DTD SVG 1.1//EN\"\n",
       " \"http://www.w3.org/Graphics/SVG/1.1/DTD/svg11.dtd\">\n",
       "<!-- Generated by graphviz version 2.26.3 (20100126.1600)\n",
       " -->\n",
       "<!-- Title: G139645287011856 Pages: 1 -->\n",
       "<svg width=\"374pt\" height=\"366pt\"\n",
       " viewBox=\"0.00 0.00 374.00 366.00\" xmlns=\"http://www.w3.org/2000/svg\" xmlns:xlink=\"http://www.w3.org/1999/xlink\">\n",
       "<g id=\"graph1\" class=\"graph\" transform=\"scale(1 1) rotate(0) translate(4 362)\">\n",
       "<title>G139645287011856</title>\n",
       "<polygon fill=\"white\" stroke=\"white\" points=\"-4,5 -4,-362 371,-362 371,5 -4,5\"/>\n",
       "<!-- 139645286054800 -->\n",
       "<g id=\"node1\" class=\"node\"><title>139645286054800</title>\n",
       "<polygon fill=\"#eeeeee\" stroke=\"#eeeeee\" points=\"8,-236 8,-354 358,-354 358,-236 8,-236\"/>\n",
       "<polygon fill=\"#b2df8a\" stroke=\"#b2df8a\" points=\"13,-272 13,-349 218,-349 218,-272 13,-272\"/>\n",
       "<text text-anchor=\"start\" x=\"92.5\" y=\"-320.233\" font-family=\"arial\" font-size=\"14.00\">Project</text>\n",
       "<text text-anchor=\"start\" x=\"20.5\" y=\"-306.367\" font-family=\"arial\" font-size=\"10.00\">&lt;Keyword extractor from `parsed_log_line`&gt;</text>\n",
       "<text text-anchor=\"start\" x=\"18.5\" y=\"-294.367\" font-family=\"arial\" font-size=\"10.00\">domain=&lt;Extractor None = get_domain(url)&gt;</text>\n",
       "<polygon fill=\"#fdbf6f\" stroke=\"#fdbf6f\" points=\"218,-310 218,-349 353,-349 353,-310 218,-310\"/>\n",
       "<text text-anchor=\"start\" x=\"265.5\" y=\"-333.233\" font-family=\"arial\" font-size=\"14.00\">Group</text>\n",
       "<text text-anchor=\"start\" x=\"269.5\" y=\"-319.367\" font-family=\"arial\" font-size=\"10.00\">domain</text>\n",
       "<polygon fill=\"#b2df8a\" stroke=\"#b2df8a\" points=\"218,-272 218,-310 353,-310 353,-272 218,-272\"/>\n",
       "<text text-anchor=\"start\" x=\"256.5\" y=\"-294.733\" font-family=\"arial\" font-size=\"14.00\">Combine</text>\n",
       "<text text-anchor=\"start\" x=\"223\" y=\"-280.867\" font-family=\"arial\" font-size=\"10.00\">birthdays=SumAggregator(1)</text>\n",
       "<text text-anchor=\"start\" x=\"83\" y=\"-257.667\" font-family=\"arial\" font-size=\"10.00\">home/metrica&#45;analytics/miptgirl/wv2_birthdays</text>\n",
       "<text text-anchor=\"start\" x=\"26.5\" y=\"-245.667\" font-family=\"arial\" font-size=\"10.00\">tmp/nile/miptgirl/by&#45;uuid/0a1ed730&#45;e62d&#45;11e7&#45;88b6&#45;7118918e2388/tmp&#45;0</text>\n",
       "</g>\n",
       "<!-- 139645287196048 -->\n",
       "<g id=\"node2\" class=\"node\"><title>139645287196048</title>\n",
       "<polygon fill=\"#eeeeee\" stroke=\"#eeeeee\" points=\"19,-102 19,-220 347,-220 347,-102 19,-102\"/>\n",
       "<polygon fill=\"#fdbf6f\" stroke=\"#fdbf6f\" points=\"24,-176 24,-215 342,-215 342,-176 24,-176\"/>\n",
       "<text text-anchor=\"start\" x=\"163\" y=\"-199.233\" font-family=\"arial\" font-size=\"14.00\">Group</text>\n",
       "<text text-anchor=\"start\" x=\"167\" y=\"-185.367\" font-family=\"arial\" font-size=\"10.00\">domain</text>\n",
       "<polygon fill=\"#fb9a99\" stroke=\"#fb9a99\" points=\"24,-138 24,-176 342,-176 342,-138 24,-138\"/>\n",
       "<text text-anchor=\"start\" x=\"133\" y=\"-160.733\" font-family=\"arial\" font-size=\"14.00\">AggregateBase</text>\n",
       "<text text-anchor=\"start\" x=\"120.5\" y=\"-146.867\" font-family=\"arial\" font-size=\"10.00\">birthdays=SumAggregator(1)</text>\n",
       "<text text-anchor=\"start\" x=\"26.5\" y=\"-123.667\" font-family=\"arial\" font-size=\"10.00\">tmp/nile/miptgirl/by&#45;uuid/0a1ed730&#45;e62d&#45;11e7&#45;88b6&#45;7118918e2388/tmp&#45;0</text>\n",
       "<text text-anchor=\"start\" x=\"26.5\" y=\"-111.667\" font-family=\"arial\" font-size=\"10.00\">tmp/nile/miptgirl/by&#45;uuid/0a1ed730&#45;e62d&#45;11e7&#45;88b6&#45;7118918e2388/tmp&#45;1</text>\n",
       "</g>\n",
       "<!-- 139645286054800&#45;&gt;139645287196048 -->\n",
       "<g id=\"edge2\" class=\"edge\"><title>139645286054800:139645286054800&#45;&gt;139645287196048:139645287196048</title>\n",
       "<path fill=\"none\" stroke=\"#888888\" stroke-width=\"0.5\" d=\"M183,-235.836C183,-230.647 183,-225.396 183,-220.207\"/>\n",
       "</g>\n",
       "<!-- 139645287122320 -->\n",
       "<g id=\"node3\" class=\"node\"><title>139645287122320</title>\n",
       "<polygon fill=\"#eeeeee\" stroke=\"#eeeeee\" points=\"19,-4 19,-86 347,-86 347,-4 19,-4\"/>\n",
       "<polygon fill=\"#fff9a6\" stroke=\"#fff9a6\" points=\"24,-40 24,-81 342,-81 342,-40 24,-40\"/>\n",
       "<text text-anchor=\"start\" x=\"169.5\" y=\"-63.2333\" font-family=\"arial\" font-size=\"14.00\">Sort</text>\n",
       "<text text-anchor=\"start\" x=\"163\" y=\"-49.6667\" font-family=\"arial\" font-size=\"10.00\">birthdays</text>\n",
       "<text text-anchor=\"start\" x=\"26.5\" y=\"-25.6667\" font-family=\"arial\" font-size=\"10.00\">tmp/nile/miptgirl/by&#45;uuid/0a1ed730&#45;e62d&#45;11e7&#45;88b6&#45;7118918e2388/tmp&#45;1</text>\n",
       "<text text-anchor=\"start\" x=\"69.5\" y=\"-13.6667\" font-family=\"arial\" font-size=\"10.00\">home/metrica&#45;analytics/miptgirl/wv2_birthdays_stats</text>\n",
       "</g>\n",
       "<!-- 139645287196048&#45;&gt;139645287122320 -->\n",
       "<g id=\"edge4\" class=\"edge\"><title>139645287196048:139645287196048&#45;&gt;139645287122320:139645287122320</title>\n",
       "<path fill=\"none\" stroke=\"#888888\" stroke-width=\"0.5\" d=\"M183,-101.981C183,-96.6075 183,-91.2461 183,-86.0809\"/>\n",
       "</g>\n",
       "</g>\n",
       "</svg>\n"
      ],
      "text/plain": [
       "<nile.drivers.yt.command.YTCommandsGraph at 0x7f01b3ba1610>"
      ]
     },
     "execution_count": 259,
     "metadata": {},
     "output_type": "execute_result"
    }
   ],
   "source": [
    "job = cluster.job()\n",
    "\n",
    "log =  job.table('home/metrica-analytics/miptgirl/wv2_birthdays')\\\n",
    "    .project(ne.all(), domain = ne.custom(get_domain, 'url'))\\\n",
    "    .groupby(\"domain\").aggregate(birthdays = na.count())\\\n",
    "    .sort('birthdays')\\\n",
    "    .put('home/metrica-analytics/miptgirl/wv2_birthdays_stats')\n",
    "    \n",
    "job.commands_graph"
   ]
  },
  {
   "cell_type": "code",
   "execution_count": 260,
   "metadata": {
    "collapsed": true
   },
   "outputs": [],
   "source": [
    "job.run()"
   ]
  },
  {
   "cell_type": "code",
   "execution_count": 261,
   "metadata": {
    "collapsed": true
   },
   "outputs": [],
   "source": [
    "birthdays_sites_df = cluster.read('home/metrica-analytics/miptgirl/wv2_birthdays_stats').as_dataframe()"
   ]
  },
  {
   "cell_type": "code",
   "execution_count": 263,
   "metadata": {},
   "outputs": [
    {
     "data": {
      "text/plain": [
       "'#|\\n ||birthdays | domain|| \\n ||149528 | alfastrah.ru|| \\n ||36567 | amwine.ru|| \\n ||22380 | lk.direct-credit.ru|| \\n ||5743 | online.atlasglb.com|| \\n ||5379 | strahovkaru.ru|| \\n ||3168 | app.mtsbank.ru|| \\n ||2828 | sales.ubrr.ru|| \\n ||1881 | denga.ru|| \\n ||1560 | ulmart.ru|| \\n ||1213 | web-zaim.ru|| \\n ||1107 | yandex.ru|| \\n ||791 | dozarplati.com|| \\n ||667 | 88005500600.ru|| \\n ||559 | promo-belmarket.by|| \\n ||513 | money.yandex.ru|| \\n ||451 | m.credit-history24.ru|| \\n ||441 | retailstars.ru|| \\n ||420 | tsum.ru|| \\n ||396 | centrofinans.ru|| \\n ||355 | rrg.ru|| \\n |#'"
      ]
     },
     "execution_count": 263,
     "metadata": {},
     "output_type": "execute_result"
    }
   ],
   "source": [
    "df_to_wiki(birthdays_sites_df.sort_values('birthdays', ascending = False).head(20))"
   ]
  },
  {
   "cell_type": "markdown",
   "metadata": {
    "collapsed": true
   },
   "source": [
    "## passport"
   ]
  },
  {
   "cell_type": "code",
   "execution_count": 313,
   "metadata": {
    "collapsed": true
   },
   "outputs": [],
   "source": [
    "codes = ['79', '84', '80', '81', '82', '26', '83', '85', '91', '86', '87', '88', '89', '98', '90', '92', \n",
    "         '93', '94', '95', '96', '97', '1', '3', '4', '5', '7', '8', '11', '12', '14', '15', '17', '19', \n",
    "         '20', '24', '25', '27', '29', '20', '32', '33', '34', '37', '38', '41', '42', '44', '46', '47', \n",
    "         '22', '49', '50', '52', '53', '54', '56', '57', '58', '60', '61', '36', '63', '64', '65', '66', \n",
    "         '68', '28', '69', '73', '75', '76', '78', '45', '40', '99', '43', '48', '51', '55', '59', '62', \n",
    "         '67', '77', '72', '74']\n",
    "\n",
    "pass_codes = map(lambda x: x if len(x) == 2 else '0'+ x, codes)\n",
    "\n",
    "def is_passport(inp):\n",
    "    inp = str(inp).strip()\n",
    "    if re.match('^[0-9]{4}([ /-])[0-9]{6}$', inp) is None:\n",
    "        return False\n",
    "\n",
    "    if inp[:2] in pass_codes:\n",
    "        return True\n",
    "    else:\n",
    "        return False"
   ]
  },
  {
   "cell_type": "code",
   "execution_count": 314,
   "metadata": {
    "collapsed": true
   },
   "outputs": [],
   "source": [
    "job = cluster.job()\n",
    "\n",
    "log =  job.table('home/metrica-analytics/miptgirl/wv2_raw')\\\n",
    "    .filter(nf.custom(is_passport, 'input_value'))\\\n",
    "    .put('home/metrica-analytics/miptgirl/wv2_passports')\n",
    "    \n",
    "job.run()"
   ]
  },
  {
   "cell_type": "code",
   "execution_count": 315,
   "metadata": {
    "collapsed": true
   },
   "outputs": [],
   "source": [
    "job = cluster.job()\n",
    "\n",
    "log =  job.table('home/metrica-analytics/miptgirl/wv2_passports')\\\n",
    "    .project(ne.all(), domain = ne.custom(get_domain, 'url'))\\\n",
    "    .groupby(\"domain\").aggregate(passports = na.count())\\\n",
    "    .sort('passports')\\\n",
    "    .put('home/metrica-analytics/miptgirl/wv2_passports_stats')\n",
    "    \n",
    "job.run()"
   ]
  },
  {
   "cell_type": "code",
   "execution_count": 318,
   "metadata": {
    "collapsed": true
   },
   "outputs": [],
   "source": [
    "passports_sites_df = cluster.read('home/metrica-analytics/miptgirl/wv2_passports_stats').as_dataframe()"
   ]
  },
  {
   "cell_type": "code",
   "execution_count": 319,
   "metadata": {},
   "outputs": [
    {
     "data": {
      "text/plain": [
       "'#|\\n ||domain | passports|| \\n ||app.mtsbank.ru | 2187|| \\n ||sales.ubrr.ru | 1604|| \\n ||lk.direct-credit.ru | 991|| \\n ||yandex.ru | 659|| \\n ||m.credit-history24.ru | 376|| \\n ||money.yandex.ru | 262|| \\n ||postabank.ru | 199|| \\n ||forma2.zaem911.ru | 184|| \\n ||tariff-editor.taxi.yandex-team.ru | 119|| \\n ||credit-history24.ru | 116|| \\n ||smartseeds.ru | 23|| \\n ||alfastrah.ru | 23|| \\n ||zomart.ru | 19|| \\n ||forma1.zaem911.ru | 15|| \\n ||cp.hoster.ru | 15|| \\n ||rasp-agent04h-trusty.haze.yandex.net | 14|| \\n ||veha-corp.ru | 10|| \\n ||paulcamper.de | 10|| \\n ||front-main.trn1.ymdev.yandex.ru | 8|| \\n ||handmademart.net | 8|| \\n |#'"
      ]
     },
     "execution_count": 319,
     "metadata": {},
     "output_type": "execute_result"
    }
   ],
   "source": [
    "df_to_wiki(passports_sites_df.sort_values('passports', ascending = False).head(20))"
   ]
  },
  {
   "cell_type": "code",
   "execution_count": null,
   "metadata": {
    "collapsed": true
   },
   "outputs": [],
   "source": []
  }
 ],
 "metadata": {
  "kernelspec": {
   "display_name": "Python 2",
   "language": "python",
   "name": "python2"
  },
  "language_info": {
   "codemirror_mode": {
    "name": "ipython",
    "version": 2
   },
   "file_extension": ".py",
   "mimetype": "text/x-python",
   "name": "python",
   "nbconvert_exporter": "python",
   "pygments_lexer": "ipython2",
   "version": "2.7.6"
  }
 },
 "nbformat": 4,
 "nbformat_minor": 2
}
