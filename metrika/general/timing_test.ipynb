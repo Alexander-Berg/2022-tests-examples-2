{
 "cells": [
  {
   "cell_type": "code",
   "execution_count": 39,
   "metadata": {
    "collapsed": true
   },
   "outputs": [],
   "source": [
    "import pandas as pd\n",
    "import numpy as np\n",
    "import StringIO\n",
    "import urllib\n",
    "import random\n",
    "import datetime\n",
    "import sys\n",
    "import time\n",
    "\n",
    "pd.set_option('max_colwidth', 5000)\n",
    "\n",
    "HOST = 'http://mtgiga001-1.metrika.yandex.net:8123'\n",
    "import requests\n",
    "def get_clickhouse_data(query, host = HOST, connection_timeout = 1500):\n",
    "    r = requests.post(host, data =  query, timeout = connection_timeout)\n",
    "    if r.status_code == 200:\n",
    "        return r.text\n",
    "    else:\n",
    "        raise ValueError, r.text\n",
    "        \n",
    "def get_clickhouse_df(query, host = HOST, connection_timeout = 1500):\n",
    "    data = get_clickhouse_data(query, host, connection_timeout) \n",
    "    df = pd.read_csv(StringIO.StringIO(data), sep = '\\t')\n",
    "    return df\n",
    "\n",
    "def df_to_wiki(df, show_index = False):\n",
    "    print '#|\\n ||' + df.to_csv(index = show_index, sep = '|').replace('|', ' | ').replace('\\n', '|| \\n ||')[:-2] + '|#'"
   ]
  },
  {
   "cell_type": "markdown",
   "metadata": {},
   "source": [
    "## Query 1"
   ]
  },
  {
   "cell_type": "code",
   "execution_count": 2,
   "metadata": {
    "collapsed": true
   },
   "outputs": [],
   "source": [
    "q1_tmpl = '''\n",
    "SELECT\n",
    "    sum(Sign),\n",
    "    SearchEngineID,\n",
    "    StartDate\n",
    "FROM {table}\n",
    "WHERE (StartDate >= toDate('{date}')) AND (StartDate <= toDate('{date}'))\n",
    "    AND (regionToCountry(RegionID) = 983) AND (IsYandex = 0) AND (IsMobile = 0) AND (UserAgent = 70)\n",
    "    AND NOT (SearchEngineID IN (0, 74))\n",
    "GROUP BY\n",
    "    SearchEngineID,\n",
    "    StartDate\n",
    "'''"
   ]
  },
  {
   "cell_type": "code",
   "execution_count": 42,
   "metadata": {},
   "outputs": [],
   "source": [
    "q1_stats = []\n",
    "\n",
    "def execute_query(query_tmpl, date, table, query_num):\n",
    "    time1 = time.time()\n",
    "    tmp = get_clickhouse_data(\n",
    "        query_tmpl.format(\n",
    "            date = date.strftime('%Y-%m-%d'),\n",
    "            table = table\n",
    "        )\n",
    "    )\n",
    "    time2 = time.time()\n",
    "    \n",
    "    item = {\n",
    "        'date': date.strftime('%Y-%m-%d'),\n",
    "        'table': 'counter_id' if 'zgmnkv_counter_key' in table else 'wo_counter_id',\n",
    "        'timing': time2 - time1,\n",
    "        'query': query_num\n",
    "    }\n",
    "    return item\n",
    "\n",
    "for date in pd.date_range('2017-10-08', '2017-10-14'):\n",
    "    for table in ['visits_all', 'zgmnkv_counter_key.visits_all']:\n",
    "        q1_stats.append(execute_query(q1_tmpl, date, table, 1))"
   ]
  },
  {
   "cell_type": "code",
   "execution_count": 43,
   "metadata": {
    "collapsed": true
   },
   "outputs": [],
   "source": [
    "def show_stats(stats):\n",
    "    stats_df = pd.DataFrame(stats).pivot_table(index = 'date', columns = 'table', values = 'timing')\n",
    "    stats_df['share'] = stats_df.counter_id/stats_df.wo_counter_id\n",
    "    print 'median', round(stats_df.share.median(), 2)\n",
    "    \n",
    "    return stats_df"
   ]
  },
  {
   "cell_type": "code",
   "execution_count": 44,
   "metadata": {},
   "outputs": [
    {
     "name": "stdout",
     "output_type": "stream",
     "text": [
      "median 3.94\n"
     ]
    },
    {
     "data": {
      "text/html": [
       "<div>\n",
       "<table border=\"1\" class=\"dataframe\">\n",
       "  <thead>\n",
       "    <tr style=\"text-align: right;\">\n",
       "      <th>table</th>\n",
       "      <th>counter_id</th>\n",
       "      <th>wo_counter_id</th>\n",
       "      <th>share</th>\n",
       "    </tr>\n",
       "    <tr>\n",
       "      <th>date</th>\n",
       "      <th></th>\n",
       "      <th></th>\n",
       "      <th></th>\n",
       "    </tr>\n",
       "  </thead>\n",
       "  <tbody>\n",
       "    <tr>\n",
       "      <th>2017-10-08</th>\n",
       "      <td>4.212165</td>\n",
       "      <td>1.070023</td>\n",
       "      <td>3.936518</td>\n",
       "    </tr>\n",
       "    <tr>\n",
       "      <th>2017-10-09</th>\n",
       "      <td>4.246920</td>\n",
       "      <td>1.093207</td>\n",
       "      <td>3.884827</td>\n",
       "    </tr>\n",
       "    <tr>\n",
       "      <th>2017-10-10</th>\n",
       "      <td>3.481951</td>\n",
       "      <td>1.418156</td>\n",
       "      <td>2.455267</td>\n",
       "    </tr>\n",
       "    <tr>\n",
       "      <th>2017-10-11</th>\n",
       "      <td>3.151289</td>\n",
       "      <td>0.711623</td>\n",
       "      <td>4.428313</td>\n",
       "    </tr>\n",
       "    <tr>\n",
       "      <th>2017-10-12</th>\n",
       "      <td>3.317952</td>\n",
       "      <td>0.699189</td>\n",
       "      <td>4.745428</td>\n",
       "    </tr>\n",
       "    <tr>\n",
       "      <th>2017-10-13</th>\n",
       "      <td>3.902505</td>\n",
       "      <td>1.015923</td>\n",
       "      <td>3.841340</td>\n",
       "    </tr>\n",
       "    <tr>\n",
       "      <th>2017-10-14</th>\n",
       "      <td>3.478346</td>\n",
       "      <td>0.820349</td>\n",
       "      <td>4.240081</td>\n",
       "    </tr>\n",
       "  </tbody>\n",
       "</table>\n",
       "</div>"
      ],
      "text/plain": [
       "table       counter_id  wo_counter_id     share\n",
       "date                                           \n",
       "2017-10-08    4.212165       1.070023  3.936518\n",
       "2017-10-09    4.246920       1.093207  3.884827\n",
       "2017-10-10    3.481951       1.418156  2.455267\n",
       "2017-10-11    3.151289       0.711623  4.428313\n",
       "2017-10-12    3.317952       0.699189  4.745428\n",
       "2017-10-13    3.902505       1.015923  3.841340\n",
       "2017-10-14    3.478346       0.820349  4.240081"
      ]
     },
     "execution_count": 44,
     "metadata": {},
     "output_type": "execute_result"
    }
   ],
   "source": [
    "show_stats(q1_stats)"
   ]
  },
  {
   "cell_type": "code",
   "execution_count": 45,
   "metadata": {},
   "outputs": [
    {
     "name": "stdout",
     "output_type": "stream",
     "text": [
      "median 3.94\n",
      "#|\n",
      " ||date | counter_id | wo_counter_id | share|| \n",
      " ||2017-10-08 | 4.21 | 1.07 | 3.94|| \n",
      " ||2017-10-09 | 4.25 | 1.09 | 3.88|| \n",
      " ||2017-10-10 | 3.48 | 1.42 | 2.46|| \n",
      " ||2017-10-11 | 3.15 | 0.71 | 4.43|| \n",
      " ||2017-10-12 | 3.32 | 0.7 | 4.75|| \n",
      " ||2017-10-13 | 3.9 | 1.02 | 3.84|| \n",
      " ||2017-10-14 | 3.48 | 0.82 | 4.24|| \n",
      " |#\n"
     ]
    }
   ],
   "source": [
    "df_to_wiki(show_stats(q1_stats).applymap(lambda x: round(x, 2)), True)"
   ]
  },
  {
   "cell_type": "markdown",
   "metadata": {},
   "source": [
    "## Query 2"
   ]
  },
  {
   "cell_type": "code",
   "execution_count": 8,
   "metadata": {
    "collapsed": true
   },
   "outputs": [],
   "source": [
    "q2_tmpl = '''\n",
    "SELECT\n",
    "    sum(Sign),\n",
    "    SearchEngineID,\n",
    "    StartDate,\n",
    "    IsMobile,\n",
    "    (OSToRoot(OS) = 108) as is_android,\n",
    "    ((UserAgent = 83) AND (UserAgentMajor = 45)) as is_chrome_mobile,\n",
    "    ((UserAgent = 83) AND (UserAgentMajor >= 46) AND (UserAgentMajor <= 60)) as is_chrome_mobile2,\n",
    "    (UserAgent = 83) is_mobile_chrome_br,\n",
    "    ((IsMobile = 1) AND (IsTablet = 1)) as is_tablet\n",
    "FROM {table}\n",
    "WHERE (StartDate >= toDate('{date}')) AND (StartDate <= toDate('{date}'))\n",
    "    AND (regionToCountry(RegionID) = 187) AND (IsYandex = 0)\n",
    "    AND NOT (SearchEngineID IN (0, 74)) AND NOT regionIn(RegionID, toUInt32(977))\n",
    "GROUP BY\n",
    "    SearchEngineID,\n",
    "    StartDate,\n",
    "    IsMobile,\n",
    "    is_android,\n",
    "    is_chrome_mobile,\n",
    "    is_chrome_mobile2,\n",
    "    is_tablet, is_mobile_chrome_br\n",
    "'''"
   ]
  },
  {
   "cell_type": "code",
   "execution_count": 9,
   "metadata": {},
   "outputs": [
    {
     "name": "stdout",
     "output_type": "stream",
     "text": [
      "CPU times: user 44 ms, sys: 16 ms, total: 60 ms\n",
      "Wall time: 39.1 s\n"
     ]
    }
   ],
   "source": [
    "%%time\n",
    "q2_stats = []\n",
    "\n",
    "for date in pd.date_range('2017-10-08', '2017-10-14'):\n",
    "    for table in ['visits_all', 'zgmnkv_counter_key.visits_all']:\n",
    "        q2_stats.append(execute_query(q2_tmpl, date, table, 2))"
   ]
  },
  {
   "cell_type": "code",
   "execution_count": 10,
   "metadata": {},
   "outputs": [
    {
     "name": "stdout",
     "output_type": "stream",
     "text": [
      "median 3.61\n"
     ]
    },
    {
     "data": {
      "text/html": [
       "<div>\n",
       "<table border=\"1\" class=\"dataframe\">\n",
       "  <thead>\n",
       "    <tr style=\"text-align: right;\">\n",
       "      <th>table</th>\n",
       "      <th>counter_id</th>\n",
       "      <th>wo_counter_id</th>\n",
       "      <th>share</th>\n",
       "    </tr>\n",
       "    <tr>\n",
       "      <th>date</th>\n",
       "      <th></th>\n",
       "      <th></th>\n",
       "      <th></th>\n",
       "    </tr>\n",
       "  </thead>\n",
       "  <tbody>\n",
       "    <tr>\n",
       "      <th>2017-10-08</th>\n",
       "      <td>4.732277</td>\n",
       "      <td>1.361340</td>\n",
       "      <td>3.476190</td>\n",
       "    </tr>\n",
       "    <tr>\n",
       "      <th>2017-10-09</th>\n",
       "      <td>4.287912</td>\n",
       "      <td>1.409727</td>\n",
       "      <td>3.041662</td>\n",
       "    </tr>\n",
       "    <tr>\n",
       "      <th>2017-10-10</th>\n",
       "      <td>4.405503</td>\n",
       "      <td>1.264052</td>\n",
       "      <td>3.485222</td>\n",
       "    </tr>\n",
       "    <tr>\n",
       "      <th>2017-10-11</th>\n",
       "      <td>4.387425</td>\n",
       "      <td>0.830600</td>\n",
       "      <td>5.282236</td>\n",
       "    </tr>\n",
       "    <tr>\n",
       "      <th>2017-10-12</th>\n",
       "      <td>4.448285</td>\n",
       "      <td>0.865257</td>\n",
       "      <td>5.140998</td>\n",
       "    </tr>\n",
       "    <tr>\n",
       "      <th>2017-10-13</th>\n",
       "      <td>4.143320</td>\n",
       "      <td>1.147019</td>\n",
       "      <td>3.612251</td>\n",
       "    </tr>\n",
       "    <tr>\n",
       "      <th>2017-10-14</th>\n",
       "      <td>4.978596</td>\n",
       "      <td>0.866245</td>\n",
       "      <td>5.747330</td>\n",
       "    </tr>\n",
       "  </tbody>\n",
       "</table>\n",
       "</div>"
      ],
      "text/plain": [
       "table       counter_id  wo_counter_id     share\n",
       "date                                           \n",
       "2017-10-08    4.732277       1.361340  3.476190\n",
       "2017-10-09    4.287912       1.409727  3.041662\n",
       "2017-10-10    4.405503       1.264052  3.485222\n",
       "2017-10-11    4.387425       0.830600  5.282236\n",
       "2017-10-12    4.448285       0.865257  5.140998\n",
       "2017-10-13    4.143320       1.147019  3.612251\n",
       "2017-10-14    4.978596       0.866245  5.747330"
      ]
     },
     "execution_count": 10,
     "metadata": {},
     "output_type": "execute_result"
    }
   ],
   "source": [
    "show_stats(q2_stats)"
   ]
  },
  {
   "cell_type": "code",
   "execution_count": 46,
   "metadata": {},
   "outputs": [
    {
     "name": "stdout",
     "output_type": "stream",
     "text": [
      "median 3.61\n",
      "#|\n",
      " ||date | counter_id | wo_counter_id | share|| \n",
      " ||2017-10-08 | 4.73 | 1.36 | 3.48|| \n",
      " ||2017-10-09 | 4.29 | 1.41 | 3.04|| \n",
      " ||2017-10-10 | 4.41 | 1.26 | 3.49|| \n",
      " ||2017-10-11 | 4.39 | 0.83 | 5.28|| \n",
      " ||2017-10-12 | 4.45 | 0.87 | 5.14|| \n",
      " ||2017-10-13 | 4.14 | 1.15 | 3.61|| \n",
      " ||2017-10-14 | 4.98 | 0.87 | 5.75|| \n",
      " |#\n"
     ]
    }
   ],
   "source": [
    "df_to_wiki(show_stats(q2_stats).applymap(lambda x: round(x, 2)), True)"
   ]
  },
  {
   "cell_type": "markdown",
   "metadata": {},
   "source": [
    "## Query 3"
   ]
  },
  {
   "cell_type": "code",
   "execution_count": 48,
   "metadata": {
    "collapsed": true
   },
   "outputs": [],
   "source": [
    "q3_tmpl = '''\n",
    "SELECT   \n",
    "   sum(Sign) as visits,\n",
    "   StartDate as date,\n",
    "   if(SearchEngineID IN (0, 74), 'not_search', if(SearchEngineID IN (2, 13, 181), 'yandex', if(SearchEngineID IN (3, 68, 224), 'google', 'other'))) as se,\n",
    "   StartDate as date\n",
    "FROM {table}\n",
    "WHERE (StartDate = toDate('{date}'))\n",
    "  AND (regionToCountry(RegionID) == (225))\n",
    "  AND (IsMobile = 0)\n",
    "  AND SearchEngineID NOT IN (0, 74)\n",
    "  AND StartURLDomain like '%baskino.co%'\n",
    "GROUP BY\n",
    "    date, se\n",
    " FORMAT JSONCompact\n",
    "'''"
   ]
  },
  {
   "cell_type": "code",
   "execution_count": 49,
   "metadata": {},
   "outputs": [
    {
     "name": "stdout",
     "output_type": "stream",
     "text": [
      "CPU times: user 48 ms, sys: 8 ms, total: 56 ms\n",
      "Wall time: 40.1 s\n"
     ]
    }
   ],
   "source": [
    "%%time\n",
    "q3_stats = []\n",
    "\n",
    "for date in pd.date_range('2017-10-08', '2017-10-14'):\n",
    "    for table in ['visits_all', 'zgmnkv_counter_key.visits_all']:\n",
    "        q3_stats.append(execute_query(q3_tmpl, date, table, 3))"
   ]
  },
  {
   "cell_type": "code",
   "execution_count": 50,
   "metadata": {},
   "outputs": [
    {
     "name": "stdout",
     "output_type": "stream",
     "text": [
      "median 5.51\n"
     ]
    },
    {
     "data": {
      "text/html": [
       "<div>\n",
       "<table border=\"1\" class=\"dataframe\">\n",
       "  <thead>\n",
       "    <tr style=\"text-align: right;\">\n",
       "      <th>table</th>\n",
       "      <th>counter_id</th>\n",
       "      <th>wo_counter_id</th>\n",
       "      <th>share</th>\n",
       "    </tr>\n",
       "    <tr>\n",
       "      <th>date</th>\n",
       "      <th></th>\n",
       "      <th></th>\n",
       "      <th></th>\n",
       "    </tr>\n",
       "  </thead>\n",
       "  <tbody>\n",
       "    <tr>\n",
       "      <th>2017-10-08</th>\n",
       "      <td>4.711743</td>\n",
       "      <td>0.817254</td>\n",
       "      <td>5.765335</td>\n",
       "    </tr>\n",
       "    <tr>\n",
       "      <th>2017-10-09</th>\n",
       "      <td>5.091550</td>\n",
       "      <td>1.005312</td>\n",
       "      <td>5.064647</td>\n",
       "    </tr>\n",
       "    <tr>\n",
       "      <th>2017-10-10</th>\n",
       "      <td>4.827339</td>\n",
       "      <td>1.042964</td>\n",
       "      <td>4.628481</td>\n",
       "    </tr>\n",
       "    <tr>\n",
       "      <th>2017-10-11</th>\n",
       "      <td>4.256306</td>\n",
       "      <td>0.928865</td>\n",
       "      <td>4.582266</td>\n",
       "    </tr>\n",
       "    <tr>\n",
       "      <th>2017-10-12</th>\n",
       "      <td>5.867202</td>\n",
       "      <td>0.933885</td>\n",
       "      <td>6.282574</td>\n",
       "    </tr>\n",
       "    <tr>\n",
       "      <th>2017-10-13</th>\n",
       "      <td>4.370586</td>\n",
       "      <td>0.792961</td>\n",
       "      <td>5.511728</td>\n",
       "    </tr>\n",
       "    <tr>\n",
       "      <th>2017-10-14</th>\n",
       "      <td>4.681950</td>\n",
       "      <td>0.801974</td>\n",
       "      <td>5.838032</td>\n",
       "    </tr>\n",
       "  </tbody>\n",
       "</table>\n",
       "</div>"
      ],
      "text/plain": [
       "table       counter_id  wo_counter_id     share\n",
       "date                                           \n",
       "2017-10-08    4.711743       0.817254  5.765335\n",
       "2017-10-09    5.091550       1.005312  5.064647\n",
       "2017-10-10    4.827339       1.042964  4.628481\n",
       "2017-10-11    4.256306       0.928865  4.582266\n",
       "2017-10-12    5.867202       0.933885  6.282574\n",
       "2017-10-13    4.370586       0.792961  5.511728\n",
       "2017-10-14    4.681950       0.801974  5.838032"
      ]
     },
     "execution_count": 50,
     "metadata": {},
     "output_type": "execute_result"
    }
   ],
   "source": [
    "show_stats(q3_stats)"
   ]
  },
  {
   "cell_type": "code",
   "execution_count": 51,
   "metadata": {},
   "outputs": [
    {
     "name": "stdout",
     "output_type": "stream",
     "text": [
      "median 5.51\n",
      "#|\n",
      " ||date | counter_id | wo_counter_id | share|| \n",
      " ||2017-10-08 | 4.71 | 0.82 | 5.77|| \n",
      " ||2017-10-09 | 5.09 | 1.01 | 5.06|| \n",
      " ||2017-10-10 | 4.83 | 1.04 | 4.63|| \n",
      " ||2017-10-11 | 4.26 | 0.93 | 4.58|| \n",
      " ||2017-10-12 | 5.87 | 0.93 | 6.28|| \n",
      " ||2017-10-13 | 4.37 | 0.79 | 5.51|| \n",
      " ||2017-10-14 | 4.68 | 0.8 | 5.84|| \n",
      " |#\n"
     ]
    }
   ],
   "source": [
    "df_to_wiki(show_stats(q3_stats).applymap(lambda x: round(x, 2)), True)"
   ]
  },
  {
   "cell_type": "markdown",
   "metadata": {
    "collapsed": true
   },
   "source": [
    "## Query 4"
   ]
  },
  {
   "cell_type": "code",
   "execution_count": 59,
   "metadata": {
    "collapsed": true
   },
   "outputs": [],
   "source": [
    "q4_tmpl = '''\n",
    "SELECT \n",
    "    user_id,\n",
    "    browser,\n",
    "    sum(visits) as total_visits,\n",
    "    sumIf(visits, day_of_week = 'weekend') as wknd_total_visits, \n",
    "    sumIf(visits, day_of_week = 'working') as wrkng_total_visits,\n",
    "    sumIf(visits, (day_of_week = 'working') AND (pod = 2)) as wrkng_pod_2_visits\n",
    "FROM\n",
    "    (SELECT \n",
    "        sum(Sign) as visits,\n",
    "        if((toHour(ClientEventTime) as hour) < 7, 1, if(hour < 19, 2, 1)) as pod,\n",
    "        if(toDayOfWeek(StartDate) IN (6, 7), 'weekend', 'working') as day_of_week,\n",
    "        UserID as user_id,\n",
    "        transform(UserAgent, [5, 135, 70, 6, 3, 2],\n",
    "            ['MSIE', 'Edge', 'Yandex.Browser', 'Google Chrome', 'Firefox', 'Opera'],\n",
    "            'other') as browser\n",
    "    FROM {table} SAMPLE 1/50 OFFSET 0/50\n",
    "    WHERE (StartDate <= '{date}') AND (StartDate >= toDate('{date}') - 13)\n",
    "        AND (regionToCountry(RegionID) = 225)\n",
    "        AND (ClientTimeZone != -1)\n",
    "        AND (IsMobile = 0)\n",
    "    GROUP BY \n",
    "        pod,\n",
    "        user_id, \n",
    "        day_of_week,\n",
    "        browser)\n",
    "GROUP BY \n",
    "    user_id,\n",
    "    browser\n",
    "HAVING total_visits >= 100 \n",
    "'''"
   ]
  },
  {
   "cell_type": "code",
   "execution_count": 61,
   "metadata": {},
   "outputs": [
    {
     "name": "stdout",
     "output_type": "stream",
     "text": [
      "CPU times: user 3.42 s, sys: 1.54 s, total: 4.97 s\n",
      "Wall time: 4min 25s\n"
     ]
    }
   ],
   "source": [
    "%%time\n",
    "q4_stats = []\n",
    "\n",
    "for date in pd.date_range('2017-10-14', '2017-10-20'):\n",
    "    for table in ['visits_all', 'zgmnkv_counter_key.visits_all']:\n",
    "        q4_stats.append(execute_query(q4_tmpl, date, table, 4))"
   ]
  },
  {
   "cell_type": "code",
   "execution_count": 62,
   "metadata": {},
   "outputs": [
    {
     "name": "stdout",
     "output_type": "stream",
     "text": [
      "median 1.06\n"
     ]
    },
    {
     "data": {
      "text/html": [
       "<div>\n",
       "<table border=\"1\" class=\"dataframe\">\n",
       "  <thead>\n",
       "    <tr style=\"text-align: right;\">\n",
       "      <th>table</th>\n",
       "      <th>counter_id</th>\n",
       "      <th>wo_counter_id</th>\n",
       "      <th>share</th>\n",
       "    </tr>\n",
       "    <tr>\n",
       "      <th>date</th>\n",
       "      <th></th>\n",
       "      <th></th>\n",
       "      <th></th>\n",
       "    </tr>\n",
       "  </thead>\n",
       "  <tbody>\n",
       "    <tr>\n",
       "      <th>2017-10-14</th>\n",
       "      <td>19.313653</td>\n",
       "      <td>18.146046</td>\n",
       "      <td>1.064345</td>\n",
       "    </tr>\n",
       "    <tr>\n",
       "      <th>2017-10-15</th>\n",
       "      <td>19.462037</td>\n",
       "      <td>15.300562</td>\n",
       "      <td>1.271982</td>\n",
       "    </tr>\n",
       "    <tr>\n",
       "      <th>2017-10-16</th>\n",
       "      <td>18.660111</td>\n",
       "      <td>18.120071</td>\n",
       "      <td>1.029803</td>\n",
       "    </tr>\n",
       "    <tr>\n",
       "      <th>2017-10-17</th>\n",
       "      <td>19.345077</td>\n",
       "      <td>18.681497</td>\n",
       "      <td>1.035521</td>\n",
       "    </tr>\n",
       "    <tr>\n",
       "      <th>2017-10-18</th>\n",
       "      <td>19.533524</td>\n",
       "      <td>18.658153</td>\n",
       "      <td>1.046916</td>\n",
       "    </tr>\n",
       "    <tr>\n",
       "      <th>2017-10-19</th>\n",
       "      <td>20.980774</td>\n",
       "      <td>18.897654</td>\n",
       "      <td>1.110232</td>\n",
       "    </tr>\n",
       "    <tr>\n",
       "      <th>2017-10-20</th>\n",
       "      <td>21.229891</td>\n",
       "      <td>18.650501</td>\n",
       "      <td>1.138301</td>\n",
       "    </tr>\n",
       "  </tbody>\n",
       "</table>\n",
       "</div>"
      ],
      "text/plain": [
       "table       counter_id  wo_counter_id     share\n",
       "date                                           \n",
       "2017-10-14   19.313653      18.146046  1.064345\n",
       "2017-10-15   19.462037      15.300562  1.271982\n",
       "2017-10-16   18.660111      18.120071  1.029803\n",
       "2017-10-17   19.345077      18.681497  1.035521\n",
       "2017-10-18   19.533524      18.658153  1.046916\n",
       "2017-10-19   20.980774      18.897654  1.110232\n",
       "2017-10-20   21.229891      18.650501  1.138301"
      ]
     },
     "execution_count": 62,
     "metadata": {},
     "output_type": "execute_result"
    }
   ],
   "source": [
    "show_stats(q4_stats)"
   ]
  },
  {
   "cell_type": "code",
   "execution_count": 63,
   "metadata": {},
   "outputs": [
    {
     "name": "stdout",
     "output_type": "stream",
     "text": [
      "median 1.06\n",
      "#|\n",
      " ||date | counter_id | wo_counter_id | share|| \n",
      " ||2017-10-14 | 19.31 | 18.15 | 1.06|| \n",
      " ||2017-10-15 | 19.46 | 15.3 | 1.27|| \n",
      " ||2017-10-16 | 18.66 | 18.12 | 1.03|| \n",
      " ||2017-10-17 | 19.35 | 18.68 | 1.04|| \n",
      " ||2017-10-18 | 19.53 | 18.66 | 1.05|| \n",
      " ||2017-10-19 | 20.98 | 18.9 | 1.11|| \n",
      " ||2017-10-20 | 21.23 | 18.65 | 1.14|| \n",
      " |#\n"
     ]
    }
   ],
   "source": [
    "df_to_wiki(show_stats(q4_stats).applymap(lambda x: round(x, 2)), True)"
   ]
  },
  {
   "cell_type": "markdown",
   "metadata": {},
   "source": [
    "## Query 5"
   ]
  },
  {
   "cell_type": "code",
   "execution_count": 24,
   "metadata": {
    "collapsed": true
   },
   "outputs": [],
   "source": [
    "q5_tmpl = '''\n",
    "\n",
    "SELECT ((regionToCountry(region_id) AS country_id) = 0 ? region_id : country_id) AS country,\n",
    "       ((arrayJoin(arrayFilter(r -> r IN (11193, 213, 11077, 10699, 11309, 10693, 225, 20525, 11119, 11443, 11111, 10897, 11266, 11117, 10950,\n",
    "              11146, 10819, 10841, 120, 124, 125, 2, 10687, 11024, 11108, 11021, 11020, 11375, 54, 56, 11029, 10802, 66,\n",
    "              983, 10233, 10231, 11131, 84, 29633, 29632, 29631, 29630, 29634, 11282, 20537, 20536, 20535, 20534, 20533,\n",
    "              20532, 20531, 20530, 20539, 20538, 10705, 11084, 39, 38, 11004, 11353, 10904, 29629, 11457, 11450, 11095,\n",
    "              20524, 10658, 20526, 20527, 20528, 20529, 21949, 10650, 11340, 65, 179, 10251, 10795, 11225, 172, 977,\n",
    "              11156, 10853, 11153, 11015, 10995, 11010, 11158, 11012, 11013, 181, 187, 10857, 43, 10645, 11330, 168,\n",
    "              20550, 20552, 10243, 11232, 11235, 96, 11069, 115, 10842, 117, 11148, 10926, 10712, 29413, 29412, 29411,\n",
    "              29410, 29417, 29416, 29415, 29414, 10000, 157, 159, 10672, 20546, 20547, 20544, 20545, 20542, 20543,\n",
    "              20540, 20541, 20548, 20549, 29404, 29406, 11079, 11403, 11176, 29403, 47, 11070, 29408, 29409, 11409, 1,\n",
    "              10939, 10832, 10933, 144, 142, 143, 206, 209, 208, 10174, 10176, 149, 29407, 11318, 11316, 51, 11162,\n",
    "              11398, 10772, 10776, 20551, 10946, 171, 11508, 11503, 11504, 103697, 11505, 11501, 167, 169, 207,  \n",
    "              170), regionHierarchy(RegionID))) AS region_id) = country ? \n",
    "          -1 : region_id) AS region,\n",
    "       arrayJoin([-1, platform_id]) AS platform,\n",
    "       arrayJoin([-1, device_category_id, device_category_id IN (2, 3) ? 5 : 0]) AS device_category,\n",
    "       arrayJoin([-1, browser_id IN (83, 72, 190) ? -7 : 0, browser_id IN (83, 72) ? -8 : 0, browser_id IN (83, 72, 2, 3) ? browser_id : 0]) AS browser,\n",
    "       arrayJoin([-1, device_model_id, device_name_id]) AS device_model,\n",
    "       arrayJoin(\n",
    "           [\n",
    "               search_engine_id,\n",
    "               parent_search_engine_id,\n",
    "               search_engine_id != 74 ? -1 : 0\n",
    "           ]\n",
    "       ) AS search_engine,\n",
    "       -5 AS statistic_type,\n",
    "       sum(searches) AS value\n",
    "FROM (\n",
    "SELECT RegionID,\n",
    "       ((OSToRoot(OS) AS a) IN (107, 108, 103, 100) ? (a = 103 ? 106 : a) : 0) AS platform_id,\n",
    "       (IsTablet ? 3 : (IsMobile ? 2 : (IsTV ? 4: 1))) AS device_category_id,\n",
    "       (UserAgent IN (83, 72, 190, 2, 3) ? UserAgent : 0) AS browser_id,\n",
    "       (MobilePhoneVendor in (7, 60, 63) ? MobilePhoneVendor : 0) AS device_model_id,\n",
    "       arrayFirst((i, x) -> x,\n",
    "                  [-13,\n",
    "                   -14,\n",
    "                   -15,\n",
    "                   -16,\n",
    "                   -17,\n",
    "                   0\n",
    "                  ],\n",
    "                  [MobilePhoneModel = 'Galaxy J1',\n",
    "                   MobilePhoneModel LIKE '%SM-J710F%',\n",
    "                   MobilePhoneModel LIKE '%SM-G920F%',\n",
    "                   MobilePhoneModel LIKE '%SM-G930F%',\n",
    "                   MobilePhoneModel LIKE '%SM-J510FN%',\n",
    "                   1\n",
    "                  ]\n",
    "                 ) as device_name_id,\n",
    "       SearchEngineIDInternal,\n",
    "\n",
    "       -- C 10 мая учитываем переходы с реферерами вида \"android-app://com.google.android.googlequicksearchbox%\" в трафикогенерацию Google.\n",
    "       (SearchEngineIDInternal = 0 AND\n",
    "        StartDate >= toDate('2016-05-11') AND\n",
    "        Referer LIKE 'android-app://com.google.android.googlequicksearchbox%'\n",
    "       ) AS condition_for_adding_visits_to_google,\n",
    "\n",
    "       -- 11.05.2017 - 23.05.2017 учитываем переходы с реферерами вида \"https://yandex.ru/search/news-cache/touch%\" в трафикогенерацию Яндекс.Новостей.\n",
    "       (StartDate BETWEEN '2017-05-11' AND '2017-05-23' AND\n",
    "        Referer LIKE 'https://yandex.ru/search/news-cache/touch%'\n",
    "       ) AS condition_for_adding_visits_to_news,\n",
    "\n",
    "       -- До 30.11.2017 учитываем мобильные Яндекс.Картинки. METR-26988\n",
    "       (StartDate <= '2017-11-30' AND\n",
    "        domain(Referer) = 'yandex.ru' AND path(Referer) = '/clck/jsredir'\n",
    "        AND IsMobile AND SearchEngineID = 13 \n",
    "        AND ((extractURLParameter(Referer, 'from') AS RefererFrom) = 'yandex.ru;images%2Ftouch%2Fsearch;images;;'\n",
    "          \n",
    "        )\n",
    "       ) AS condition_for_adding_yandex_images,\n",
    "\n",
    "       transform(SearchEngineIDInternal, [2, 3, 4, 5, 6, 7, 8, 9, 10, 13, 20, 40, 54, 68, 71, 72, 73, 85, 90, 96, 99, 101, 119, 121, 167, 179, 181, 185, 198, 211, 224, 225], [26, 27, 215, 35, 34, 100, 37, 36, 33, 26, 61, 122, 38, 27, 39, 35, 37, 84, 89, 95, 84, 100, 34, 33, 201, 36, 26, 184, 215, 122, 27, 26], 0) AS _parent_search_engine_id,\n",
    "       (condition_for_adding_visits_to_google ? 27 : (\n",
    "         condition_for_adding_visits_to_news or condition_for_adding_yandex_images ? \n",
    "          0 : _parent_search_engine_id)) AS parent_search_engine_id,\n",
    "       (condition_for_adding_visits_to_google ? 224 : (\n",
    "         condition_for_adding_visits_to_news ? 74 : (\n",
    "          condition_for_adding_yandex_images ? 1 : SearchEngineIDInternal))) AS search_engine_id,\n",
    "\n",
    "       -- Раскатка https на SERP'e\n",
    "       ((protocol(StartURL) = 'http' AND parent_search_engine_id = 26 AND device_category_id = 2)\n",
    "        ? arrayFirst((i, x) -> x,\n",
    "                     [1.44,\n",
    "                      3.79,\n",
    "                      1.6,\n",
    "                      1.355,\n",
    "                      1.11,\n",
    "                      0.62,\n",
    "                      11.00,\n",
    "                      2.00,\n",
    "                      0.41,\n",
    "                      0.45,\n",
    "                      0.0\n",
    "                     ],\n",
    "                     [UserAgent = 72 AND (UserAgentMajor < 4\n",
    "                                          OR (UserAgentMajor = 4\n",
    "                                              AND toInt16OrZero(reinterpretAsString(UserAgentMinor)) < 4))\n",
    "                                     AND StartDate >= toDate('2016-05-24'),\n",
    "                      UserAgent = 37 AND UserAgentMajor <= 12 AND StartDate >= toDate('2016-05-24'),\n",
    "                      UserAgent = 53 AND StartDate >= toDate('2016-12-14'),\n",
    "                      UserAgent = 53 AND StartDate = toDate('2016-12-13'),\n",
    "                      UserAgent = 53 AND StartDate >= toDate('2016-05-24'),\n",
    "                      UserAgent = 44 AND StartDate >= toDate('2016-05-24'),\n",
    "                      UserAgent = 1 AND StartDate >= toDate('2016-12-14'),\n",
    "                      UserAgent = 1 AND StartDate = toDate('2016-12-13'),\n",
    "                      UserAgent = 1 AND StartDate >= toDate('2016-05-24'),\n",
    "                      UserAgent IN (6, 28, 100, 3, 0, 33, 57, 88, 15, 64, 5, 84, 23, 2, 4, 155, 142, 108, 63, 82, 86, 137, 79, 22, 89,\n",
    "                     47, 110, 150, 30, 87, 90, 66, 61, 48, 18, 41, 85, 29, 91, 8, 81, 27, 17, 55, 113),\n",
    "                      1\n",
    "                     ]\n",
    "                    )\n",
    "        : 0.0) AS multiply_coefficient_http_serp,\n",
    "\n",
    "       -- Сокрытие рефереров Google в Android Browser\n",
    "       ((StartDate >= toDate('2016-06-23') AND parent_search_engine_id = 27 AND UserAgent = 72\n",
    "         AND (UserAgentMajor < 4 OR (UserAgentMajor = 4 AND toInt16OrZero(reinterpretAsString(UserAgentMinor)) < 4)))\n",
    "        ? arrayFirst((i, x) -> x,\n",
    "                     [0.572,\n",
    "                      0.867,\n",
    "                      0.0\n",
    "                     ],\n",
    "                     [device_category_id = 2,\n",
    "                      device_category_id = 3,\n",
    "                      1\n",
    "                     ]\n",
    "                    )\n",
    "        : 0.0) AS multiply_coefficient_android_browser_referal_hiding,\n",
    "\n",
    "       -- Трафик из Поискового Приложения Google\n",
    "       ((StartDate <= toDate('2016-05-10') AND parent_search_engine_id = 27 AND UserAgent in (83,72,190) AND platform_id == 108)\n",
    "        ? (((IsTablet ? 0.17 : (IsMobile ? 0.26 : 0.0)) + transform(MobilePhoneVendor, [7, 63], [0.08, 0.04], -0.04) as coef) > 0\n",
    "           ? coef : 0)\n",
    "        : 0.0) AS multiply_coefficient_google_search_app,\n",
    "\n",
    "       -- extdata1170 сокрытие рефереров Chrome Mobile\n",
    "       ((parent_search_engine_id = 27 AND UserAgent = 83 AND platform_id == 108 and device_category_id == 2)\n",
    "        ? arrayFirst((i, x) -> x,\n",
    "                     [0.01,\n",
    "                      0.02,\n",
    "                      0.03,\n",
    "                      0.04,\n",
    "                      0.05,\n",
    "                      0.06,\n",
    "                      0.11,\n",
    "                      0.14,\n",
    "                      0.15,\n",
    "                      0.135,\n",
    "                      0.1127,\n",
    "                      0.065,\n",
    "                      0.0\n",
    "                     ],\n",
    "                     [toDate('2016-08-29') <= StartDate AND StartDate <= toDate('2016-09-04'),\n",
    "                      toDate('2016-08-25') <= StartDate AND StartDate <= toDate('2016-08-28'),\n",
    "                      toDate('2016-08-23') <= StartDate AND StartDate <= toDate('2016-08-24'),\n",
    "                      toDate('2016-08-21') <= StartDate AND StartDate <= toDate('2016-08-22'),\n",
    "                      toDate('2016-08-20') <= StartDate AND StartDate <= toDate('2016-08-20'),\n",
    "                      toDate('2016-08-19') <= StartDate AND StartDate <= toDate('2016-08-19'),\n",
    "                      toDate('2016-08-18') <= StartDate AND StartDate <= toDate('2016-08-18'),\n",
    "                      toDate('2016-08-12') <= StartDate AND StartDate <= toDate('2016-08-17'),\n",
    "                      toDate('2016-03-23') <= StartDate AND StartDate <= toDate('2016-08-11'),\n",
    "                      toDate('2016-01-27') <= StartDate AND StartDate <= toDate('2016-03-22'),\n",
    "                      toDate('2015-10-24') <= StartDate AND StartDate <= toDate('2016-01-26'),\n",
    "                      toDate('2015-09-05') <= StartDate AND StartDate <= toDate('2015-10-23'),\n",
    "                      1\n",
    "                     ]\n",
    "                    )\n",
    "        : 0.0) as referal_hiding_raw,\n",
    "       arrayFirst((i, x) -> x,\n",
    "                  [referal_hiding_raw * 1.8,\n",
    "                   referal_hiding_raw * 2.9,\n",
    "                   referal_hiding_raw * 2.5,\n",
    "                   referal_hiding_raw * 2.5,\n",
    "                   referal_hiding_raw * 3.1,\n",
    "                   referal_hiding_raw\n",
    "                  ],\n",
    "                  [device_name_id = -13,\n",
    "                   device_name_id = -14,\n",
    "                   device_name_id = -15,\n",
    "                   device_name_id = -16,\n",
    "                   device_name_id = -17,\n",
    "                   1\n",
    "                  ]\n",
    "                 ) as multiply_coefficient_chrome_mobile_referal_hiding,\n",
    "\n",
    "       -- RESEARCH-2286 сокрытие рефереров приложения Google в декабре 2016 - марте 2017\n",
    "       ((parent_search_engine_id = 27 AND UserAgent = 83 AND platform_id == 108 and device_category_id == 2\n",
    "         AND protocol(Referer) = 'https')\n",
    "        ? (StartDate BETWEEN '2016-12-09' AND '2017-01-24' ? 0.112 : (\n",
    "            StartDate BETWEEN '2017-01-25' AND '2017-03-03' ? 0.03 : 0\n",
    "          )) * transform(regionToCountry(RegionID), [149, 187], [1.15, 0.8], 1)\n",
    "        : 0) as multiply_coefficient_december16_chrome_mobile_referal_hiding,\n",
    "\n",
    "       --- RESEARCH-2475 корректировка абсолютов Яндекса из за бустинга метричных сайтов\n",
    "       ((StartDate >= toDate('2017-09-19') AND parent_search_engine_id=26)\n",
    "        ? arrayFirst((i, x) -> x,\n",
    "                     [0.9852,\n",
    "                      0.9855,\n",
    "                      0.9925,\n",
    "                      0.9897,\n",
    "                      0.9870,\n",
    "                      0.9899,\n",
    "                      0.9898,\n",
    "                      0.9860,\n",
    "                      0.9851,\n",
    "                      0.9769,\n",
    "                      0.9860,\n",
    "                      0.9892,\n",
    "                      1\n",
    "                     ],\n",
    "                     [IsMobile AND IsTablet AND regionToCountry(RegionID) = 225,\n",
    "                      IsMobile AND IsTablet=0 AND regionToCountry(RegionID) = 225,\n",
    "                      IsMobile = 0 AND regionToCountry(RegionID) = 225,\n",
    "                      IsMobile = 0 AND regionToCountry(RegionID) = 187,\n",
    "                      IsMobile = 0 AND regionToCountry(RegionID) = 159,\n",
    "                      IsMobile = 0 AND regionToCountry(RegionID) = 149,\n",
    "                      IsMobile AND IsTablet = 0 AND regionToCountry(RegionID) = 187,\n",
    "                      IsMobile AND IsTablet = 0 AND regionToCountry(RegionID) = 159,\n",
    "                      IsMobile AND IsTablet = 0 AND regionToCountry(RegionID) = 149,\n",
    "                      IsMobile AND IsTablet AND regionToCountry(RegionID) = 187,\n",
    "                      IsMobile AND IsTablet AND regionToCountry(RegionID) = 159,\n",
    "                      IsMobile AND IsTablet AND regionToCountry(RegionID) = 149,\n",
    "                      1\n",
    "                     ]\n",
    "                    )\n",
    "        : 1) as multiply_coefficient_boost,\n",
    "\n",
    "       --- RESEARCH-2471 корректировка из-за разблокировки счетчиков Метрики Оперой\n",
    "       ((StartDate >= toDate('2016-05-16') AND StartDate<=toDate('2017-08-03') AND\n",
    "         StartTime <= '2017-08-03 17:25:00' AND UserAgent = 2 AND device_category_id == 1)\n",
    "        ? arrayFirst((i, x) -> x,\n",
    "                     [(toDate('2017-04-08') - toDate('2016-05-15')) * 0.0006 + 1.012,\n",
    "                      (toDate('2017-04-08') - toDate('2016-05-15')) * 0.000509 + 0.99949,\n",
    "                      (toDate('2017-04-08') - toDate('2016-05-15')) * 0.0005 + 0.99,\n",
    "                      (toDate('2017-04-08') - toDate('2016-05-15')) * 0.00052 + 1.1623\n",
    "                     ],\n",
    "                     [regionToCountry(RegionID) = 225,\n",
    "                      regionToCountry(RegionID) = 159,\n",
    "                      regionToCountry(RegionID) = 149,\n",
    "                      regionToCountry(RegionID) = 187 AND StartDate >= toDate('2016-06-19')\n",
    "                     ]\n",
    "                    )\n",
    "        : 1) as multiply_coefficient_opera,\n",
    "\n",
    "       --- RESEARCH-2525 корректировка сокрытия рефереров Яндекса в десктопном Firefox\n",
    "       ((StartDate BETWEEN '2017-09-27' AND '2017-10-12' AND StartTime <= '2017-10-12 13:05:00' AND\n",
    "         parent_search_engine_id = 26 AND NOT IsMobile AND\n",
    "         UserAgent = 3 AND UserAgentMajor = 56)\n",
    "        ? transform(regionToCountry(RegionID),\n",
    "                    [225,  149,  159,  983],\n",
    "                    [0.36, 0.36, 0.36, 0.67],\n",
    "                    0.36\n",
    "                   )\n",
    "        : 0.0) as multiply_coefficient_firefox,\n",
    "\n",
    "       --- RESEARCH-2558 корректировка перераспределения http://google.ru/url рефереров гугла из десктоп в мобильное\n",
    "       ((StartDate >= '2017-11-14' AND StartTime >= '2017-11-14 16:30:00'\n",
    "         AND regionToCountry(RegionID) = 225 and parent_search_engine_id = 27\n",
    "         AND domainWithoutWWW(Referer) IN ('google.com', 'google.ru') \n",
    "         AND protocol(Referer) = 'http' AND path(Referer) = '/url'\n",
    "        )\n",
    "        ? transform(UserAgent,\n",
    "                    [6,     83,   70],\n",
    "                    [1.673, 0.19, 0.343],\n",
    "                    1.0\n",
    "                   )\n",
    "        : 1.0) as multiply_coefficient_google_http_url,\n",
    "\n",
    "       ((multiply_coefficient_http_serp +\n",
    "         multiply_coefficient_android_browser_referal_hiding +\n",
    "         multiply_coefficient_google_search_app + 1.0) *\n",
    "        (1.0 + multiply_coefficient_chrome_mobile_referal_hiding +\n",
    "         multiply_coefficient_december16_chrome_mobile_referal_hiding) *\n",
    "        (multiply_coefficient_boost) * multiply_coefficient_opera *\n",
    "        (1 + multiply_coefficient_firefox) * \n",
    "        multiply_coefficient_google_http_url * sum(Sign)\n",
    "       ) AS searches\n",
    "FROM {table}\n",
    "WHERE StartDate = toDate('{date}') AND IsYandex = 0\n",
    "      AND (SearchEngineIDInternal != 0 OR condition_for_adding_visits_to_google)\n",
    "      AND CounterID GLOBAL IN (SELECT * FROM remote('mtstat01-1', good_counters_daily.counters_20171208))\n",
    "GROUP BY RegionID, platform_id, device_category_id, browser_id, device_model_id, device_name_id,\n",
    "         SearchEngineIDInternal, condition_for_adding_visits_to_google, condition_for_adding_visits_to_news,\n",
    "         condition_for_adding_yandex_images,\n",
    "         multiply_coefficient_http_serp, multiply_coefficient_android_browser_referal_hiding, referal_hiding_raw,\n",
    "         multiply_coefficient_google_search_app, multiply_coefficient_chrome_mobile_referal_hiding,\n",
    "         multiply_coefficient_december16_chrome_mobile_referal_hiding,\n",
    "         multiply_coefficient_boost, multiply_coefficient_opera, multiply_coefficient_firefox,\n",
    "         multiply_coefficient_google_http_url\n",
    ")\n",
    "WHERE platform != 0 AND device_category != 0 AND browser != 0 AND device_model != 0 AND search_engine != 0\n",
    "GROUP BY region_id, platform, device_category, browser, device_model, search_engine\n",
    "HAVING value >= 200\n",
    "'''"
   ]
  },
  {
   "cell_type": "code",
   "execution_count": 26,
   "metadata": {},
   "outputs": [
    {
     "name": "stdout",
     "output_type": "stream",
     "text": [
      "2017-10-08 00:00:00\n",
      "2017-10-09 00:00:00\n",
      "2017-10-10 00:00:00\n",
      "2017-10-11 00:00:00\n",
      "2017-10-12 00:00:00\n",
      "2017-10-13 00:00:00\n",
      "2017-10-14 00:00:00\n",
      "CPU times: user 1.48 s, sys: 508 ms, total: 1.98 s\n",
      "Wall time: 13min 47s\n"
     ]
    }
   ],
   "source": [
    "%%time\n",
    "q5_stats = []\n",
    "\n",
    "for date in pd.date_range('2017-10-08', '2017-10-14'):\n",
    "    print date\n",
    "    for table in ['visits_all', 'zgmnkv_counter_key.visits_all']:\n",
    "        q5_stats.append(execute_query(q5_tmpl, date, table, 5))"
   ]
  },
  {
   "cell_type": "code",
   "execution_count": 28,
   "metadata": {},
   "outputs": [
    {
     "name": "stdout",
     "output_type": "stream",
     "text": [
      "median 1.49\n"
     ]
    },
    {
     "data": {
      "text/html": [
       "<div>\n",
       "<table border=\"1\" class=\"dataframe\">\n",
       "  <thead>\n",
       "    <tr style=\"text-align: right;\">\n",
       "      <th>table</th>\n",
       "      <th>counter_id</th>\n",
       "      <th>wo_counter_id</th>\n",
       "      <th>share</th>\n",
       "    </tr>\n",
       "    <tr>\n",
       "      <th>date</th>\n",
       "      <th></th>\n",
       "      <th></th>\n",
       "      <th></th>\n",
       "    </tr>\n",
       "  </thead>\n",
       "  <tbody>\n",
       "    <tr>\n",
       "      <th>2017-10-08</th>\n",
       "      <td>74.374660</td>\n",
       "      <td>47.836539</td>\n",
       "      <td>1.554767</td>\n",
       "    </tr>\n",
       "    <tr>\n",
       "      <th>2017-10-09</th>\n",
       "      <td>73.337774</td>\n",
       "      <td>49.256067</td>\n",
       "      <td>1.488908</td>\n",
       "    </tr>\n",
       "    <tr>\n",
       "      <th>2017-10-10</th>\n",
       "      <td>65.799995</td>\n",
       "      <td>46.988183</td>\n",
       "      <td>1.400352</td>\n",
       "    </tr>\n",
       "    <tr>\n",
       "      <th>2017-10-11</th>\n",
       "      <td>70.112726</td>\n",
       "      <td>46.938951</td>\n",
       "      <td>1.493700</td>\n",
       "    </tr>\n",
       "    <tr>\n",
       "      <th>2017-10-12</th>\n",
       "      <td>67.840016</td>\n",
       "      <td>51.410444</td>\n",
       "      <td>1.319577</td>\n",
       "    </tr>\n",
       "    <tr>\n",
       "      <th>2017-10-13</th>\n",
       "      <td>73.434098</td>\n",
       "      <td>47.590888</td>\n",
       "      <td>1.543029</td>\n",
       "    </tr>\n",
       "    <tr>\n",
       "      <th>2017-10-14</th>\n",
       "      <td>66.505303</td>\n",
       "      <td>45.835527</td>\n",
       "      <td>1.450955</td>\n",
       "    </tr>\n",
       "  </tbody>\n",
       "</table>\n",
       "</div>"
      ],
      "text/plain": [
       "table       counter_id  wo_counter_id     share\n",
       "date                                           \n",
       "2017-10-08   74.374660      47.836539  1.554767\n",
       "2017-10-09   73.337774      49.256067  1.488908\n",
       "2017-10-10   65.799995      46.988183  1.400352\n",
       "2017-10-11   70.112726      46.938951  1.493700\n",
       "2017-10-12   67.840016      51.410444  1.319577\n",
       "2017-10-13   73.434098      47.590888  1.543029\n",
       "2017-10-14   66.505303      45.835527  1.450955"
      ]
     },
     "execution_count": 28,
     "metadata": {},
     "output_type": "execute_result"
    }
   ],
   "source": [
    "show_stats(q5_stats)"
   ]
  },
  {
   "cell_type": "code",
   "execution_count": 65,
   "metadata": {},
   "outputs": [
    {
     "name": "stdout",
     "output_type": "stream",
     "text": [
      "median 1.49\n",
      "#|\n",
      " ||date | counter_id | wo_counter_id | share|| \n",
      " ||2017-10-08 | 74.37 | 47.84 | 1.55|| \n",
      " ||2017-10-09 | 73.34 | 49.26 | 1.49|| \n",
      " ||2017-10-10 | 65.8 | 46.99 | 1.4|| \n",
      " ||2017-10-11 | 70.11 | 46.94 | 1.49|| \n",
      " ||2017-10-12 | 67.84 | 51.41 | 1.32|| \n",
      " ||2017-10-13 | 73.43 | 47.59 | 1.54|| \n",
      " ||2017-10-14 | 66.51 | 45.84 | 1.45|| \n",
      " |#\n"
     ]
    }
   ],
   "source": [
    "df_to_wiki(show_stats(q5_stats).applymap(lambda x: round(x, 2)), True)"
   ]
  },
  {
   "cell_type": "markdown",
   "metadata": {},
   "source": [
    "## Query 6"
   ]
  },
  {
   "cell_type": "code",
   "execution_count": 31,
   "metadata": {
    "collapsed": true
   },
   "outputs": [],
   "source": [
    "q6_tmpl = '''\n",
    "SELECT\n",
    "    sum(visits) * 10 as visits_all,\n",
    "    sumIf(visits,\n",
    "          FirstDate <= '{date}' AND FirstDate >= toDate('{date}')-7\n",
    "        ) * 10 as visits_7,\n",
    "    sumIf(visits,\n",
    "          FirstDate <= '{date}' AND FirstDate >= toDate('{date}')-30\n",
    "        ) * 10 as visits_30,\n",
    "    sumIf(visits,\n",
    "          FirstDate <= '{date}' AND FirstDate >= '2000-01-01'\n",
    "        ) * 10 as visits_known,\n",
    "    device_model,\n",
    "    -1 AS platform,\n",
    "    device_category,\n",
    "    search_engine,\n",
    "    '{date}' as start_date\n",
    "FROM\n",
    "    (SELECT\n",
    "        sum(Sign) as visits,\n",
    "        UserID,\n",
    "        arrayJoin([\n",
    "            (MobilePhoneVendor IN (1, 7, 18, 83, 6, 12, 9, 17, 4, 16, 63, 229, 60, 0, 207, 400) ? MobilePhoneVendor : -6) AS device_vendor,\n",
    "            arrayFirst((i, x) -> x,\n",
    "                [-13,\n",
    "                 -14,\n",
    "                 -15,\n",
    "                 -16,\n",
    "                 -17,\n",
    "                 0\n",
    "                ],\n",
    "                [MobilePhoneModel = 'Galaxy J1',\n",
    "                 MobilePhoneModel LIKE '%SM-J710F%',\n",
    "                 MobilePhoneModel LIKE '%SM-G920F%',\n",
    "                 MobilePhoneModel LIKE '%SM-G930F%',\n",
    "                 MobilePhoneModel LIKE '%SM-J510FN%',\n",
    "                 1\n",
    "                ]) as device_name_id\n",
    "            ]) AS device_model,\n",
    "        arrayJoin([-1, (IsTablet ? 3 : (IsMobile ? 2 : (IsTV ? 4: 1))) AS c,\n",
    "            c IN (2, 3) ? 5 : 0]) AS device_category,\n",
    "        arrayJoin(['_total_', transform(SearchEngineIDInternal, [2, 13, 181, 3, 68, 224],\n",
    "            ['yandex', 'yandex', 'yandex', 'google', 'google', 'google'], 'other')])\n",
    "                AS search_engine\n",
    "    FROM {table}\n",
    "    SAMPLE 1 / 10\n",
    "    WHERE StartDate == toDate('{date}') AND regionToCountry(RegionID) = 225\n",
    "        AND IsYandex = 0 AND IsMobile = 1 AND SearchEngineIDInternal NOT IN (0, 74)\n",
    "        AND CounterID GLOBAL IN (SELECT * FROM remote('mtstat01-1', good_counters_daily.counters_20171207))\n",
    "        AND device_category IN (2, 3, 5)\n",
    "        AND search_engine IN ('_total_', 'yandex', 'google')\n",
    "    GROUP BY\n",
    "        device_category,\n",
    "        device_model,\n",
    "        search_engine,\n",
    "        UserID)\n",
    "ANY LEFT JOIN\n",
    "    (SELECT\n",
    "        UserID,\n",
    "        FirstDate\n",
    "    FROM remote('mtstat01-1', statbox.uid_day_crypta)\n",
    "    SAMPLE 1 / 10)\n",
    "USING UserID\n",
    "GROUP BY\n",
    "    device_category,\n",
    "    device_model,\n",
    "    search_engine,\n",
    "    platform,\n",
    "    start_date\n",
    "HAVING visits_all >= 200\n",
    "'''"
   ]
  },
  {
   "cell_type": "code",
   "execution_count": 37,
   "metadata": {},
   "outputs": [
    {
     "name": "stdout",
     "output_type": "stream",
     "text": [
      "2017-10-08 00:00:00\n",
      "2017-10-09 00:00:00\n",
      "2017-10-10 00:00:00\n",
      "2017-10-11 00:00:00\n",
      "2017-10-12 00:00:00\n",
      "2017-10-13 00:00:00\n",
      "2017-10-14 00:00:00\n",
      "CPU times: user 72 ms, sys: 24 ms, total: 96 ms\n",
      "Wall time: 12min 15s\n"
     ]
    }
   ],
   "source": [
    "%%time\n",
    "q6_stats = []\n",
    "\n",
    "for date in pd.date_range('2017-10-08', '2017-10-14'):\n",
    "    print date\n",
    "    for table in ['visits_all', 'zgmnkv_counter_key.visits_all']:\n",
    "        q6_stats.append(execute_query(q6_tmpl, date, table, 6))"
   ]
  },
  {
   "cell_type": "code",
   "execution_count": 38,
   "metadata": {},
   "outputs": [
    {
     "name": "stdout",
     "output_type": "stream",
     "text": [
      "median 0.82\n"
     ]
    },
    {
     "data": {
      "text/html": [
       "<div>\n",
       "<table border=\"1\" class=\"dataframe\">\n",
       "  <thead>\n",
       "    <tr style=\"text-align: right;\">\n",
       "      <th>table</th>\n",
       "      <th>counter_id</th>\n",
       "      <th>wo_counter_id</th>\n",
       "      <th>share</th>\n",
       "    </tr>\n",
       "    <tr>\n",
       "      <th>date</th>\n",
       "      <th></th>\n",
       "      <th></th>\n",
       "      <th></th>\n",
       "    </tr>\n",
       "  </thead>\n",
       "  <tbody>\n",
       "    <tr>\n",
       "      <th>2017-10-08</th>\n",
       "      <td>49.009986</td>\n",
       "      <td>59.985433</td>\n",
       "      <td>0.817031</td>\n",
       "    </tr>\n",
       "    <tr>\n",
       "      <th>2017-10-09</th>\n",
       "      <td>50.928937</td>\n",
       "      <td>61.959855</td>\n",
       "      <td>0.821967</td>\n",
       "    </tr>\n",
       "    <tr>\n",
       "      <th>2017-10-10</th>\n",
       "      <td>46.779662</td>\n",
       "      <td>54.914156</td>\n",
       "      <td>0.851869</td>\n",
       "    </tr>\n",
       "    <tr>\n",
       "      <th>2017-10-11</th>\n",
       "      <td>45.461448</td>\n",
       "      <td>57.260920</td>\n",
       "      <td>0.793935</td>\n",
       "    </tr>\n",
       "    <tr>\n",
       "      <th>2017-10-12</th>\n",
       "      <td>47.228474</td>\n",
       "      <td>57.647212</td>\n",
       "      <td>0.819267</td>\n",
       "    </tr>\n",
       "    <tr>\n",
       "      <th>2017-10-13</th>\n",
       "      <td>45.783476</td>\n",
       "      <td>54.400626</td>\n",
       "      <td>0.841598</td>\n",
       "    </tr>\n",
       "    <tr>\n",
       "      <th>2017-10-14</th>\n",
       "      <td>48.018356</td>\n",
       "      <td>56.321558</td>\n",
       "      <td>0.852575</td>\n",
       "    </tr>\n",
       "  </tbody>\n",
       "</table>\n",
       "</div>"
      ],
      "text/plain": [
       "table       counter_id  wo_counter_id     share\n",
       "date                                           \n",
       "2017-10-08   49.009986      59.985433  0.817031\n",
       "2017-10-09   50.928937      61.959855  0.821967\n",
       "2017-10-10   46.779662      54.914156  0.851869\n",
       "2017-10-11   45.461448      57.260920  0.793935\n",
       "2017-10-12   47.228474      57.647212  0.819267\n",
       "2017-10-13   45.783476      54.400626  0.841598\n",
       "2017-10-14   48.018356      56.321558  0.852575"
      ]
     },
     "execution_count": 38,
     "metadata": {},
     "output_type": "execute_result"
    }
   ],
   "source": [
    "show_stats(q6_stats)"
   ]
  },
  {
   "cell_type": "code",
   "execution_count": 66,
   "metadata": {},
   "outputs": [
    {
     "name": "stdout",
     "output_type": "stream",
     "text": [
      "median 0.82\n",
      "#|\n",
      " ||date | counter_id | wo_counter_id | share|| \n",
      " ||2017-10-08 | 49.01 | 59.99 | 0.82|| \n",
      " ||2017-10-09 | 50.93 | 61.96 | 0.82|| \n",
      " ||2017-10-10 | 46.78 | 54.91 | 0.85|| \n",
      " ||2017-10-11 | 45.46 | 57.26 | 0.79|| \n",
      " ||2017-10-12 | 47.23 | 57.65 | 0.82|| \n",
      " ||2017-10-13 | 45.78 | 54.4 | 0.84|| \n",
      " ||2017-10-14 | 48.02 | 56.32 | 0.85|| \n",
      " |#\n"
     ]
    }
   ],
   "source": [
    "df_to_wiki(show_stats(q6_stats).applymap(lambda x: round(x, 2)), True)"
   ]
  },
  {
   "cell_type": "code",
   "execution_count": null,
   "metadata": {
    "collapsed": true
   },
   "outputs": [],
   "source": []
  }
 ],
 "metadata": {
  "kernelspec": {
   "display_name": "Python 2",
   "language": "python",
   "name": "python2"
  },
  "language_info": {
   "codemirror_mode": {
    "name": "ipython",
    "version": 2
   },
   "file_extension": ".py",
   "mimetype": "text/x-python",
   "name": "python",
   "nbconvert_exporter": "python",
   "pygments_lexer": "ipython2",
   "version": "2.7.6"
  }
 },
 "nbformat": 4,
 "nbformat_minor": 2
}
