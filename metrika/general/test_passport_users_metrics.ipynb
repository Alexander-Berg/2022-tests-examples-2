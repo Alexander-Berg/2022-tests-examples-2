{
 "cells": [
  {
   "cell_type": "code",
   "execution_count": 1,
   "metadata": {},
   "outputs": [],
   "source": [
    "import vault_client\n",
    "import getpass\n",
    "\n",
    "from os.path import expanduser\n",
    "import json\n",
    "import numpy as np\n",
    "from scipy.stats import mannwhitneyu\n",
    "\n",
    "def get_config():\n",
    "    home = expanduser(\"~\")\n",
    "    \n",
    "    with open(home + '/config.json') as f:\n",
    "        config_data = f.read()\n",
    "    config = json.loads(config_data)\n",
    "    return config\n",
    "\n",
    "yav = vault_client.instances.Production(\n",
    "    rsa_login='miptgirl', \n",
    "    authorization='OAuth {}'.format(get_config()['vault_api_token']),)\n",
    "\n",
    "ver = 'ver-01dssnc1zdezgbfd48xhj9j9xn'\n",
    "YT_TOKEN = yav.get_version(ver)['value']['yt_token']\n",
    "YQL_TOKEN = yav.get_version(ver)['value']['yql_token']\n",
    "SOLOMON_TOKEN = yav.get_version(ver)['value']['solomon_token']\n",
    "ver = 'ver-01eex0jhkrhzt14dfn8a2tyy42'\n",
    "STATLOG_PASS = yav.get_version(ver)['value']['password']\n",
    "\n",
    "def df_to_wiki(df, show_index = False):\n",
    "    print('#|\\n ||' + df.to_csv(index = show_index, sep = '|').replace('|', ' | ').replace('\\n', '|| \\n ||')[:-2] + '|#')\n",
    "    "
   ]
  },
  {
   "cell_type": "code",
   "execution_count": 2,
   "metadata": {},
   "outputs": [],
   "source": [
    "import io\n",
    "import time\n",
    "import pandas as pd\n",
    "import datetime\n",
    "\n",
    "HOST = 'http://mtgray03k.yandex.ru:8123'\n",
    "HOST = 'http://mtlog01-01-1.yandex.ru:8123'\n",
    "HOST = 'http://clickhouse.metrika.yandex.net:8123'\n",
    "#HOST = 'http://mtsmart001-1.yandex.ru:8123'\n",
    "HOST = 'http://mtch01k.metrika.yandex.net:8123'\n",
    "\n",
    "import requests\n",
    "import http.client  # or http.client if you're on Python 3\n",
    "http.client._MAXHEADERS = 100000\n",
    "\n",
    "def get_clickhouse_data(query, host = HOST, connection_timeout = 1500, user = 'miptgirl', password = '1QwBgINk'):\n",
    "    NUMBER_OF_TRIES = 30\n",
    "    DELAY = 10\n",
    "    \n",
    "    for i in range(NUMBER_OF_TRIES):\n",
    "        r = requests.post(host, \n",
    "                          params = {'timeout_before_checking_execution_speed': 120, 'max_bytes_in_join': 0}, \n",
    "                          timeout = connection_timeout, data = query,\n",
    "                          auth = (user, password), verify = False\n",
    "                         )\n",
    "        if (r.status_code == 200) and ('DB:Exception' not in r.text):\n",
    "            return r.text\n",
    "        else:\n",
    "            print('ATTENTION: try #%d failed' % i)\n",
    "            if i != (NUMBER_OF_TRIES-1):\n",
    "                #print query\n",
    "                print(r.text)\n",
    "                time.sleep(DELAY*(i+1))\n",
    "            else:\n",
    "                raise ValueError(r.text)\n",
    "        \n",
    "def get_clickhouse_df(query, host = HOST, connection_timeout = 1500, user = 'miptgirl', password = '1QwBgINk'):\n",
    "    data = get_clickhouse_data(query, host, connection_timeout, user, password) \n",
    "    df = pd.read_csv(io.StringIO(data), sep = '\\t')\n",
    "    return df\n",
    "\n",
    "def upload(table, content, host=HOST):\n",
    "    '''Uploads data to table in ClickHous'''\n",
    "    content = content.encode('utf-8')\n",
    "    query_dict = {\n",
    "             'query': 'INSERT INTO ' + table + ' FORMAT TabSeparatedWithNames '\n",
    "        }\n",
    "    r = requests.post(host, data=content, params=query_dict, auth = ('miptgirl', '1QwBgINk'))\n",
    "    result = r.text\n",
    "    if r.status_code == 200:\n",
    "        return result\n",
    "    else:\n",
    "        raise ValueError(r.text)"
   ]
  },
  {
   "cell_type": "code",
   "execution_count": 3,
   "metadata": {},
   "outputs": [],
   "source": [
    "def get_counters_interface_raw_data(start_date_str, end_date_str):\n",
    "    q = '''\n",
    "    select\n",
    "        passport_user_id,\n",
    "        count() as page_views,\n",
    "        uniqExact(visit_id) as sessions,\n",
    "        uniq(url_path) as uniq_reports\n",
    "    from\n",
    "        (select \n",
    "            WatchID as watch_id,\n",
    "            UserID as user_id,\n",
    "            PassportUserID as passport_user_id,\n",
    "            arrayFilter(x -> x != '', splitByChar('/', path(URL)))[1] as main_url_path,\n",
    "            '/'||arrayStringConcat(arraySlice(arrayFilter(x -> x != '', splitByChar('/', path(URL))), 1, 2), '/') as url_path,\n",
    "            if(extractURLParameter(URL, 'id') = '', extractURLParameter(URL, 'ids'), extractURLParameter(URL, 'id')) as counter_id\n",
    "        from hits_all\n",
    "        where EventDate >= '{start_date}'\n",
    "            and EventDate <= '{end_date}'\n",
    "            and CounterID = 24226447\n",
    "            and not DontCountHits\n",
    "            and PassportUserID != 0\n",
    "            and url_path not in ('/inpage/visor-proto', '/inpage/visor-player', '/inpage')\n",
    "            and main_url_path in ('stat', 'dashboard', 'inpage', 'publishers', 'markedphones', 'legacy')\n",
    "            and counter_id != '')\n",
    "        any left join\n",
    "        (select VisitID as visit_id, arrayJoin(WatchIDs) as watch_id\n",
    "        from visits_all\n",
    "        where StartDate >= toDate('{start_date}') - 7\n",
    "            and StartDate <= '{end_date}'\n",
    "            and CounterID = 24226447)\n",
    "        using watch_id\n",
    "    group by passport_user_id\n",
    "    format TSVWithNames\n",
    "    '''.format(\n",
    "        start_date = start_date_str,\n",
    "        end_date = end_date_str\n",
    "    )\n",
    "\n",
    "    df = get_clickhouse_df(q)\n",
    "    \n",
    "    return df"
   ]
  },
  {
   "cell_type": "code",
   "execution_count": 4,
   "metadata": {},
   "outputs": [],
   "source": [
    "start_date_str = '2021-02-01'\n",
    "end_date_str = '2021-02-28'"
   ]
  },
  {
   "cell_type": "code",
   "execution_count": 5,
   "metadata": {},
   "outputs": [
    {
     "name": "stdout",
     "output_type": "stream",
     "text": [
      "CPU times: user 134 ms, sys: 42.1 ms, total: 176 ms\n",
      "Wall time: 19 s\n"
     ]
    }
   ],
   "source": [
    "%%time \n",
    "\n",
    "df = get_counters_interface_raw_data(start_date_str, end_date_str)"
   ]
  },
  {
   "cell_type": "code",
   "execution_count": 6,
   "metadata": {},
   "outputs": [],
   "source": [
    "df = df.sample(frac = 1)"
   ]
  },
  {
   "cell_type": "code",
   "execution_count": 7,
   "metadata": {},
   "outputs": [
    {
     "data": {
      "text/html": [
       "<div>\n",
       "<style scoped>\n",
       "    .dataframe tbody tr th:only-of-type {\n",
       "        vertical-align: middle;\n",
       "    }\n",
       "\n",
       "    .dataframe tbody tr th {\n",
       "        vertical-align: top;\n",
       "    }\n",
       "\n",
       "    .dataframe thead th {\n",
       "        text-align: right;\n",
       "    }\n",
       "</style>\n",
       "<table border=\"1\" class=\"dataframe\">\n",
       "  <thead>\n",
       "    <tr style=\"text-align: right;\">\n",
       "      <th></th>\n",
       "      <th>passport_user_id</th>\n",
       "      <th>page_views</th>\n",
       "      <th>sessions</th>\n",
       "      <th>uniq_reports</th>\n",
       "    </tr>\n",
       "  </thead>\n",
       "  <tbody>\n",
       "    <tr>\n",
       "      <th>2537</th>\n",
       "      <td>668951166</td>\n",
       "      <td>3</td>\n",
       "      <td>3</td>\n",
       "      <td>1</td>\n",
       "    </tr>\n",
       "    <tr>\n",
       "      <th>401258</th>\n",
       "      <td>67102599</td>\n",
       "      <td>355</td>\n",
       "      <td>35</td>\n",
       "      <td>1</td>\n",
       "    </tr>\n",
       "    <tr>\n",
       "      <th>104625</th>\n",
       "      <td>1130000029608897</td>\n",
       "      <td>10</td>\n",
       "      <td>5</td>\n",
       "      <td>1</td>\n",
       "    </tr>\n",
       "    <tr>\n",
       "      <th>77396</th>\n",
       "      <td>1023596516</td>\n",
       "      <td>116</td>\n",
       "      <td>12</td>\n",
       "      <td>7</td>\n",
       "    </tr>\n",
       "    <tr>\n",
       "      <th>227903</th>\n",
       "      <td>1198441539</td>\n",
       "      <td>6</td>\n",
       "      <td>1</td>\n",
       "      <td>2</td>\n",
       "    </tr>\n",
       "  </tbody>\n",
       "</table>\n",
       "</div>"
      ],
      "text/plain": [
       "        passport_user_id  page_views  sessions  uniq_reports\n",
       "2537           668951166           3         3             1\n",
       "401258          67102599         355        35             1\n",
       "104625  1130000029608897          10         5             1\n",
       "77396         1023596516         116        12             7\n",
       "227903        1198441539           6         1             2"
      ]
     },
     "execution_count": 7,
     "metadata": {},
     "output_type": "execute_result"
    }
   ],
   "source": [
    "df.head()"
   ]
  },
  {
   "cell_type": "code",
   "execution_count": 9,
   "metadata": {},
   "outputs": [
    {
     "data": {
      "text/plain": [
       "(436003, 4)"
      ]
     },
     "execution_count": 9,
     "metadata": {},
     "output_type": "execute_result"
    }
   ],
   "source": [
    "df.shape"
   ]
  },
  {
   "cell_type": "code",
   "execution_count": 15,
   "metadata": {},
   "outputs": [
    {
     "name": "stderr",
     "output_type": "stream",
     "text": [
      "100%|██████████| 10000/10000 [26:58<00:00,  6.18it/s]\n"
     ]
    }
   ],
   "source": [
    "import tqdm\n",
    "\n",
    "recs = []\n",
    "\n",
    "for i in tqdm.tqdm(range(10000)):\n",
    "    df = df.sample(frac = 1)\n",
    "    df1, df2 = np.array_split(df, 2)\n",
    "    \n",
    "    for param in ['page_views', 'sessions', 'uniq_reports']:\n",
    "        stat, p =  mannwhitneyu(df1[param], df2[param], alternative = 'two-sided')\n",
    "        recs.append(\n",
    "            {'i': i, 'p': p, 'param': param}\n",
    "        )"
   ]
  },
  {
   "cell_type": "code",
   "execution_count": 16,
   "metadata": {},
   "outputs": [],
   "source": [
    "test_df = pd.DataFrame(recs)"
   ]
  },
  {
   "cell_type": "code",
   "execution_count": 17,
   "metadata": {},
   "outputs": [],
   "source": [
    "cmp_df = pd.DataFrame()\n",
    "\n",
    "cmp_df['total'] = test_df.groupby('param').i.count()\n",
    "\n",
    "for alpha in [0.05, 0.01, 0.005, 0.001]:\n",
    "    cmp_df['alpha_%.3f' % alpha] = test_df[test_df.p <= alpha].groupby('param').i.count()"
   ]
  },
  {
   "cell_type": "code",
   "execution_count": 18,
   "metadata": {},
   "outputs": [
    {
     "name": "stdout",
     "output_type": "stream",
     "text": [
      "#|\n",
      " ||param | alpha_0.050 | alpha_0.010 | alpha_0.005 | alpha_0.001|| \n",
      " ||page_views | 0.0507 | 0.011 | 0.0059 | 0.0011|| \n",
      " ||sessions | 0.0515 | 0.0109 | 0.0059 | 0.0014|| \n",
      " ||uniq_reports | 0.0476 | 0.008 | 0.0045 | 0.0011|| \n",
      " |#\n"
     ]
    }
   ],
   "source": [
    "df_to_wiki(\n",
    "    cmp_df.apply(lambda x: x/cmp_df.total).applymap(lambda x: round(x, 4)).drop('total', axis = 1), True\n",
    ")"
   ]
  },
  {
   "cell_type": "code",
   "execution_count": 19,
   "metadata": {},
   "outputs": [
    {
     "name": "stderr",
     "output_type": "stream",
     "text": [
      "100%|██████████| 10000/10000 [09:27<00:00, 17.63it/s]\n"
     ]
    }
   ],
   "source": [
    "recs = []\n",
    "\n",
    "for i in tqdm.tqdm(range(10000)):\n",
    "    df = df.sample(frac = 1)\n",
    "    res = np.array_split(df, 10)\n",
    "    df1 = res[0]\n",
    "    df2 = res[1]\n",
    "    \n",
    "    for param in ['page_views', 'sessions', 'uniq_reports']:\n",
    "        stat, p =  mannwhitneyu(df1[param], df2[param], alternative = 'two-sided')\n",
    "        recs.append(\n",
    "            {'i': i, 'p': p, 'param': param}\n",
    "        )"
   ]
  },
  {
   "cell_type": "code",
   "execution_count": 20,
   "metadata": {},
   "outputs": [],
   "source": [
    "test_df = pd.DataFrame(recs)"
   ]
  },
  {
   "cell_type": "code",
   "execution_count": 21,
   "metadata": {},
   "outputs": [],
   "source": [
    "cmp_df = pd.DataFrame()\n",
    "\n",
    "cmp_df['total'] = test_df.groupby('param').i.count()\n",
    "\n",
    "for alpha in [0.05, 0.01, 0.005, 0.001]:\n",
    "    cmp_df['alpha_%.3f' % alpha] = test_df[test_df.p <= alpha].groupby('param').i.count()"
   ]
  },
  {
   "cell_type": "code",
   "execution_count": 22,
   "metadata": {},
   "outputs": [
    {
     "name": "stdout",
     "output_type": "stream",
     "text": [
      "#|\n",
      " ||param | alpha_0.050 | alpha_0.010 | alpha_0.005 | alpha_0.001|| \n",
      " ||page_views | 0.0494 | 0.0097 | 0.0052 | 0.0008|| \n",
      " ||sessions | 0.0502 | 0.0096 | 0.0038 | 0.0008|| \n",
      " ||uniq_reports | 0.0507 | 0.0119 | 0.005 | 0.0009|| \n",
      " |#\n"
     ]
    }
   ],
   "source": [
    "df_to_wiki(\n",
    "    cmp_df.apply(lambda x: x/cmp_df.total).applymap(lambda x: round(x, 4)).drop('total', axis = 1), True\n",
    ")"
   ]
  },
  {
   "cell_type": "code",
   "execution_count": 23,
   "metadata": {},
   "outputs": [
    {
     "name": "stderr",
     "output_type": "stream",
     "text": [
      "100%|██████████| 10000/10000 [07:45<00:00, 21.49it/s]\n"
     ]
    }
   ],
   "source": [
    "recs = []\n",
    "\n",
    "for i in tqdm.tqdm(range(10000)):\n",
    "    df = df.sample(frac = 1)\n",
    "    res = np.array_split(df, 20)\n",
    "    df1 = res[0]\n",
    "    df2 = res[1]\n",
    "    \n",
    "    for param in ['page_views', 'sessions', 'uniq_reports']:\n",
    "        stat, p =  mannwhitneyu(df1[param], df2[param], alternative = 'two-sided')\n",
    "        recs.append(\n",
    "            {'i': i, 'p': p, 'param': param}\n",
    "        )"
   ]
  },
  {
   "cell_type": "code",
   "execution_count": 24,
   "metadata": {},
   "outputs": [],
   "source": [
    "test_df = pd.DataFrame(recs)"
   ]
  },
  {
   "cell_type": "code",
   "execution_count": 25,
   "metadata": {},
   "outputs": [],
   "source": [
    "cmp_df = pd.DataFrame()\n",
    "\n",
    "cmp_df['total'] = test_df.groupby('param').i.count()\n",
    "\n",
    "for alpha in [0.05, 0.01, 0.005, 0.001]:\n",
    "    cmp_df['alpha_%.3f' % alpha] = test_df[test_df.p <= alpha].groupby('param').i.count()"
   ]
  },
  {
   "cell_type": "code",
   "execution_count": 26,
   "metadata": {},
   "outputs": [
    {
     "name": "stdout",
     "output_type": "stream",
     "text": [
      "#|\n",
      " ||param | alpha_0.050 | alpha_0.010 | alpha_0.005 | alpha_0.001|| \n",
      " ||page_views | 0.0536 | 0.0102 | 0.0049 | 0.0011|| \n",
      " ||sessions | 0.0503 | 0.0115 | 0.0062 | 0.0008|| \n",
      " ||uniq_reports | 0.0497 | 0.0089 | 0.0041 | 0.001|| \n",
      " |#\n"
     ]
    }
   ],
   "source": [
    "df_to_wiki(\n",
    "    cmp_df.apply(lambda x: x/cmp_df.total).applymap(lambda x: round(x, 4)).drop('total', axis = 1), True\n",
    ")"
   ]
  },
  {
   "cell_type": "code",
   "execution_count": null,
   "metadata": {},
   "outputs": [],
   "source": []
  }
 ],
 "metadata": {
  "kernelspec": {
   "display_name": "jupyterenv",
   "language": "python",
   "name": "jupyterenv"
  },
  "language_info": {
   "codemirror_mode": {
    "name": "ipython",
    "version": 3
   },
   "file_extension": ".py",
   "mimetype": "text/x-python",
   "name": "python",
   "nbconvert_exporter": "python",
   "pygments_lexer": "ipython3",
   "version": "3.7.8"
  }
 },
 "nbformat": 4,
 "nbformat_minor": 4
}
