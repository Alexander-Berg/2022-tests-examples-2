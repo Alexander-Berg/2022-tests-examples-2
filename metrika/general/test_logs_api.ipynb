{
 "cells": [
  {
   "cell_type": "code",
   "execution_count": 22,
   "metadata": {},
   "outputs": [],
   "source": [
    "import requests\n",
    "import pandas as pd\n",
    "import StringIO\n",
    "import datetime\n",
    "import json\n",
    "from urllib import urlencode\n",
    "import time\n",
    "\n",
    "import sys\n",
    "stdin, stdout, stderr = sys.stdin, sys.stdout, sys.stderr\n",
    "reload(sys)\n",
    "sys.stdin, sys.stdout, sys.stderr = stdin, stdout, stderr\n",
    "sys.setdefaultencoding('utf8')"
   ]
  },
  {
   "cell_type": "markdown",
   "metadata": {},
   "source": [
    "### Выгрузка из Logs API\n",
    "#### Проверка"
   ]
  },
  {
   "cell_type": "code",
   "execution_count": 3,
   "metadata": {},
   "outputs": [],
   "source": [
    "TOKEN = '<token>' # получить токен тут - https://oauth.yandex.ru/authorize?response_type=token&client_id=44cc1b35c0ff47db957ccc61624b4e94"
   ]
  },
  {
   "cell_type": "code",
   "execution_count": 4,
   "metadata": {},
   "outputs": [],
   "source": [
    "API_HOST = 'https://api-metrika.yandex.ru'\n",
    "COUNTER_ID = 161451\n",
    "START_DATE = '2019-02-20'\n",
    "END_DATE = '2019-02-20'\n",
    "SOURCE = 'hits'\n",
    "API_FIELDS = ('ym:pv:date', 'ym:pv:dateTime', 'ym:pv:URL', 'ym:pv:deviceCategory', \n",
    "         'ym:pv:operatingSystemRoot', 'ym:pv:clientID', 'ym:pv:browser', 'ym:pv:lastTrafficSource',\n",
    "         'ym:pv:params', 'ym:pv:link', 'ym:pv:download', 'ym:pv:notBounce')"
   ]
  },
  {
   "cell_type": "code",
   "execution_count": 13,
   "metadata": {},
   "outputs": [
    {
     "name": "stderr",
     "output_type": "stream",
     "text": [
      "/home/miptgirl/jupyterenv/local/lib/python2.7/site-packages/urllib3/util/ssl_.py:160: InsecurePlatformWarning: A true SSLContext object is not available. This prevents urllib3 from configuring SSL appropriately and may cause certain SSL connections to fail. You can upgrade to a newer version of Python to solve this. For more information, see https://urllib3.readthedocs.io/en/latest/advanced-usage.html#ssl-warnings\n",
      "  InsecurePlatformWarning\n"
     ]
    }
   ],
   "source": [
    "url_params = urlencode(\n",
    "    [\n",
    "        ('date1', START_DATE),\n",
    "        ('date2', END_DATE),\n",
    "        ('source', SOURCE),\n",
    "        ('fields', ','.join(API_FIELDS))\n",
    "    ]\n",
    ")\n",
    "\n",
    "headers = {'Authorization': 'OAuth ' + TOKEN}\n",
    "\n",
    "url = '{host}/management/v1/counter/{counter_id}/logrequests/evaluate?'\\\n",
    "    .format(host=API_HOST, counter_id=COUNTER_ID) + url_params\n",
    "\n",
    "r = requests.get(url, headers = headers)"
   ]
  },
  {
   "cell_type": "code",
   "execution_count": 14,
   "metadata": {},
   "outputs": [
    {
     "data": {
      "text/plain": [
       "200"
      ]
     },
     "execution_count": 14,
     "metadata": {},
     "output_type": "execute_result"
    }
   ],
   "source": [
    "r.status_code"
   ]
  },
  {
   "cell_type": "code",
   "execution_count": 16,
   "metadata": {},
   "outputs": [
    {
     "data": {
      "text/plain": [
       "{u'max_possible_day_quantity': 11, u'possible': True}"
      ]
     },
     "execution_count": 16,
     "metadata": {},
     "output_type": "execute_result"
    }
   ],
   "source": [
    "json.loads(r.text)['log_request_evaluation']"
   ]
  },
  {
   "cell_type": "markdown",
   "metadata": {},
   "source": [
    "#### Создаем запрос"
   ]
  },
  {
   "cell_type": "code",
   "execution_count": 17,
   "metadata": {},
   "outputs": [
    {
     "name": "stderr",
     "output_type": "stream",
     "text": [
      "/home/miptgirl/jupyterenv/local/lib/python2.7/site-packages/urllib3/util/ssl_.py:160: InsecurePlatformWarning: A true SSLContext object is not available. This prevents urllib3 from configuring SSL appropriately and may cause certain SSL connections to fail. You can upgrade to a newer version of Python to solve this. For more information, see https://urllib3.readthedocs.io/en/latest/advanced-usage.html#ssl-warnings\n",
      "  InsecurePlatformWarning\n"
     ]
    }
   ],
   "source": [
    "url_params = urlencode(\n",
    "    [\n",
    "        ('date1', START_DATE),\n",
    "        ('date2', END_DATE),\n",
    "        ('source', SOURCE),\n",
    "        ('fields', ','.join(sorted(API_FIELDS, key=lambda s: s.lower())))    \n",
    "    ]\n",
    ")\n",
    "url = '{host}/management/v1/counter/{counter_id}/logrequests?'\\\n",
    "    .format(host=API_HOST,\n",
    "            counter_id=COUNTER_ID) \\\n",
    "      + url_params\n",
    "\n",
    "r = requests.post(url, headers = headers)"
   ]
  },
  {
   "cell_type": "code",
   "execution_count": 18,
   "metadata": {},
   "outputs": [
    {
     "data": {
      "text/plain": [
       "200"
      ]
     },
     "execution_count": 18,
     "metadata": {},
     "output_type": "execute_result"
    }
   ],
   "source": [
    "r.status_code"
   ]
  },
  {
   "cell_type": "code",
   "execution_count": 19,
   "metadata": {},
   "outputs": [
    {
     "data": {
      "text/plain": [
       "{u'counter_id': 161451,\n",
       " u'date1': u'2019-02-20',\n",
       " u'date2': u'2019-02-20',\n",
       " u'fields': [u'ym:pv:browser',\n",
       "  u'ym:pv:clientID',\n",
       "  u'ym:pv:date',\n",
       "  u'ym:pv:dateTime',\n",
       "  u'ym:pv:deviceCategory',\n",
       "  u'ym:pv:download',\n",
       "  u'ym:pv:lastTrafficSource',\n",
       "  u'ym:pv:link',\n",
       "  u'ym:pv:notBounce',\n",
       "  u'ym:pv:operatingSystemRoot',\n",
       "  u'ym:pv:params',\n",
       "  u'ym:pv:URL'],\n",
       " u'request_id': 3051382,\n",
       " u'source': u'hits',\n",
       " u'status': u'created'}"
      ]
     },
     "execution_count": 19,
     "metadata": {},
     "output_type": "execute_result"
    }
   ],
   "source": [
    "json.loads(r.text)['log_request']"
   ]
  },
  {
   "cell_type": "code",
   "execution_count": 20,
   "metadata": {},
   "outputs": [],
   "source": [
    "request_id = json.loads(r.text)['log_request']['request_id']"
   ]
  },
  {
   "cell_type": "markdown",
   "metadata": {},
   "source": [
    "### Ждем окончание обработки"
   ]
  },
  {
   "cell_type": "code",
   "execution_count": 23,
   "metadata": {},
   "outputs": [
    {
     "name": "stdout",
     "output_type": "stream",
     "text": [
      "trying\n",
      "{\n",
      "    \"date1\": \"2019-02-20\", \n",
      "    \"status\": \"processed\", \n",
      "    \"date2\": \"2019-02-20\", \n",
      "    \"counter_id\": 161451, \n",
      "    \"fields\": [\n",
      "        \"ym:pv:browser\", \n",
      "        \"ym:pv:clientID\", \n",
      "        \"ym:pv:date\", \n",
      "        \"ym:pv:dateTime\", \n",
      "        \"ym:pv:deviceCategory\", \n",
      "        \"ym:pv:download\", \n",
      "        \"ym:pv:lastTrafficSource\", \n",
      "        \"ym:pv:link\", \n",
      "        \"ym:pv:notBounce\", \n",
      "        \"ym:pv:operatingSystemRoot\", \n",
      "        \"ym:pv:params\", \n",
      "        \"ym:pv:URL\"\n",
      "    ], \n",
      "    \"source\": \"hits\", \n",
      "    \"parts\": [\n",
      "        {\n",
      "            \"part_number\": 0, \n",
      "            \"size\": 42392753\n",
      "        }, \n",
      "        {\n",
      "            \"part_number\": 1, \n",
      "            \"size\": 42357236\n",
      "        }, \n",
      "        {\n",
      "            \"part_number\": 2, \n",
      "            \"size\": 41933358\n",
      "        }, \n",
      "        {\n",
      "            \"part_number\": 3, \n",
      "            \"size\": 41855947\n",
      "        }, \n",
      "        {\n",
      "            \"part_number\": 4, \n",
      "            \"size\": 42363503\n",
      "        }, \n",
      "        {\n",
      "            \"part_number\": 5, \n",
      "            \"size\": 42214217\n",
      "        }, \n",
      "        {\n",
      "            \"part_number\": 6, \n",
      "            \"size\": 41872731\n",
      "        }, \n",
      "        {\n",
      "            \"part_number\": 7, \n",
      "            \"size\": 42391120\n",
      "        }\n",
      "    ], \n",
      "    \"request_id\": 3051382, \n",
      "    \"size\": 337380865\n",
      "}\n"
     ]
    },
    {
     "name": "stderr",
     "output_type": "stream",
     "text": [
      "/home/miptgirl/jupyterenv/local/lib/python2.7/site-packages/urllib3/util/ssl_.py:160: InsecurePlatformWarning: A true SSLContext object is not available. This prevents urllib3 from configuring SSL appropriately and may cause certain SSL connections to fail. You can upgrade to a newer version of Python to solve this. For more information, see https://urllib3.readthedocs.io/en/latest/advanced-usage.html#ssl-warnings\n",
      "  InsecurePlatformWarning\n"
     ]
    }
   ],
   "source": [
    "status = 'created'\n",
    "while status == 'created':\n",
    "    time.sleep(60)\n",
    "    print 'trying'\n",
    "    url = '{host}/management/v1/counter/{counter_id}/logrequest/{request_id}' \\\n",
    "            .format(request_id=request_id,\n",
    "                    counter_id=COUNTER_ID,\n",
    "                    host=API_HOST)\n",
    "\n",
    "    r = requests.get(url, headers =  headers)\n",
    "    if r.status_code == 200:\n",
    "        status = json.loads(r.text)['log_request']['status']\n",
    "        print json.dumps(json.loads(r.text)['log_request'], indent = 4)\n",
    "    else:\n",
    "        raise ValueError, r.text"
   ]
  },
  {
   "cell_type": "code",
   "execution_count": 24,
   "metadata": {},
   "outputs": [
    {
     "data": {
      "text/plain": [
       "{u'counter_id': 161451,\n",
       " u'date1': u'2019-02-20',\n",
       " u'date2': u'2019-02-20',\n",
       " u'fields': [u'ym:pv:browser',\n",
       "  u'ym:pv:clientID',\n",
       "  u'ym:pv:date',\n",
       "  u'ym:pv:dateTime',\n",
       "  u'ym:pv:deviceCategory',\n",
       "  u'ym:pv:download',\n",
       "  u'ym:pv:lastTrafficSource',\n",
       "  u'ym:pv:link',\n",
       "  u'ym:pv:notBounce',\n",
       "  u'ym:pv:operatingSystemRoot',\n",
       "  u'ym:pv:params',\n",
       "  u'ym:pv:URL'],\n",
       " u'parts': [{u'part_number': 0, u'size': 42392753},\n",
       "  {u'part_number': 1, u'size': 42357236},\n",
       "  {u'part_number': 2, u'size': 41933358},\n",
       "  {u'part_number': 3, u'size': 41855947},\n",
       "  {u'part_number': 4, u'size': 42363503},\n",
       "  {u'part_number': 5, u'size': 42214217},\n",
       "  {u'part_number': 6, u'size': 41872731},\n",
       "  {u'part_number': 7, u'size': 42391120}],\n",
       " u'request_id': 3051382,\n",
       " u'size': 337380865,\n",
       " u'source': u'hits',\n",
       " u'status': u'processed'}"
      ]
     },
     "execution_count": 24,
     "metadata": {},
     "output_type": "execute_result"
    }
   ],
   "source": [
    "json.loads(r.text)['log_request']"
   ]
  },
  {
   "cell_type": "code",
   "execution_count": 25,
   "metadata": {},
   "outputs": [
    {
     "data": {
      "text/plain": [
       "[{u'part_number': 0, u'size': 42392753},\n",
       " {u'part_number': 1, u'size': 42357236},\n",
       " {u'part_number': 2, u'size': 41933358},\n",
       " {u'part_number': 3, u'size': 41855947},\n",
       " {u'part_number': 4, u'size': 42363503},\n",
       " {u'part_number': 5, u'size': 42214217},\n",
       " {u'part_number': 6, u'size': 41872731},\n",
       " {u'part_number': 7, u'size': 42391120}]"
      ]
     },
     "execution_count": 25,
     "metadata": {},
     "output_type": "execute_result"
    }
   ],
   "source": [
    "parts = json.loads(r.text)['log_request']['parts']\n",
    "parts"
   ]
  },
  {
   "cell_type": "markdown",
   "metadata": {},
   "source": [
    "#### Выгружаем данные"
   ]
  },
  {
   "cell_type": "code",
   "execution_count": 26,
   "metadata": {},
   "outputs": [
    {
     "name": "stderr",
     "output_type": "stream",
     "text": [
      "/home/miptgirl/jupyterenv/local/lib/python2.7/site-packages/urllib3/util/ssl_.py:160: InsecurePlatformWarning: A true SSLContext object is not available. This prevents urllib3 from configuring SSL appropriately and may cause certain SSL connections to fail. You can upgrade to a newer version of Python to solve this. For more information, see https://urllib3.readthedocs.io/en/latest/advanced-usage.html#ssl-warnings\n",
      "  InsecurePlatformWarning\n",
      "/home/miptgirl/jupyterenv/local/lib/python2.7/site-packages/urllib3/util/ssl_.py:160: InsecurePlatformWarning: A true SSLContext object is not available. This prevents urllib3 from configuring SSL appropriately and may cause certain SSL connections to fail. You can upgrade to a newer version of Python to solve this. For more information, see https://urllib3.readthedocs.io/en/latest/advanced-usage.html#ssl-warnings\n",
      "  InsecurePlatformWarning\n",
      "/home/miptgirl/jupyterenv/local/lib/python2.7/site-packages/urllib3/util/ssl_.py:160: InsecurePlatformWarning: A true SSLContext object is not available. This prevents urllib3 from configuring SSL appropriately and may cause certain SSL connections to fail. You can upgrade to a newer version of Python to solve this. For more information, see https://urllib3.readthedocs.io/en/latest/advanced-usage.html#ssl-warnings\n",
      "  InsecurePlatformWarning\n",
      "/home/miptgirl/jupyterenv/local/lib/python2.7/site-packages/urllib3/util/ssl_.py:160: InsecurePlatformWarning: A true SSLContext object is not available. This prevents urllib3 from configuring SSL appropriately and may cause certain SSL connections to fail. You can upgrade to a newer version of Python to solve this. For more information, see https://urllib3.readthedocs.io/en/latest/advanced-usage.html#ssl-warnings\n",
      "  InsecurePlatformWarning\n",
      "/home/miptgirl/jupyterenv/local/lib/python2.7/site-packages/urllib3/util/ssl_.py:160: InsecurePlatformWarning: A true SSLContext object is not available. This prevents urllib3 from configuring SSL appropriately and may cause certain SSL connections to fail. You can upgrade to a newer version of Python to solve this. For more information, see https://urllib3.readthedocs.io/en/latest/advanced-usage.html#ssl-warnings\n",
      "  InsecurePlatformWarning\n",
      "/home/miptgirl/jupyterenv/local/lib/python2.7/site-packages/urllib3/util/ssl_.py:160: InsecurePlatformWarning: A true SSLContext object is not available. This prevents urllib3 from configuring SSL appropriately and may cause certain SSL connections to fail. You can upgrade to a newer version of Python to solve this. For more information, see https://urllib3.readthedocs.io/en/latest/advanced-usage.html#ssl-warnings\n",
      "  InsecurePlatformWarning\n",
      "/home/miptgirl/jupyterenv/local/lib/python2.7/site-packages/urllib3/util/ssl_.py:160: InsecurePlatformWarning: A true SSLContext object is not available. This prevents urllib3 from configuring SSL appropriately and may cause certain SSL connections to fail. You can upgrade to a newer version of Python to solve this. For more information, see https://urllib3.readthedocs.io/en/latest/advanced-usage.html#ssl-warnings\n",
      "  InsecurePlatformWarning\n",
      "/home/miptgirl/jupyterenv/local/lib/python2.7/site-packages/urllib3/util/ssl_.py:160: InsecurePlatformWarning: A true SSLContext object is not available. This prevents urllib3 from configuring SSL appropriately and may cause certain SSL connections to fail. You can upgrade to a newer version of Python to solve this. For more information, see https://urllib3.readthedocs.io/en/latest/advanced-usage.html#ssl-warnings\n",
      "  InsecurePlatformWarning\n"
     ]
    }
   ],
   "source": [
    "tmp_dfs = []\n",
    "for part_num in map(lambda x: x['part_number'], parts):\n",
    "    url = '{host}/management/v1/counter/{counter_id}/logrequest/{request_id}/part/{part}/download' \\\n",
    "            .format(\n",
    "                host=API_HOST,\n",
    "                counter_id=COUNTER_ID,\n",
    "                request_id=request_id,\n",
    "                part=part_num\n",
    "            )\n",
    "\n",
    "    r = requests.get(url, headers = headers)\n",
    "    if r.status_code == 200:\n",
    "        tmp_df = pd.read_csv(StringIO.StringIO(r.text), sep = '\\t')\n",
    "        tmp_dfs.append(tmp_df)\n",
    "    else:\n",
    "        raise ValueError, r.text\n",
    "        \n",
    "logs_df = pd.concat(tmp_dfs)"
   ]
  },
  {
   "cell_type": "code",
   "execution_count": 28,
   "metadata": {},
   "outputs": [],
   "source": [
    "logs_df = logs_df.fillna('')"
   ]
  },
  {
   "cell_type": "code",
   "execution_count": 30,
   "metadata": {},
   "outputs": [
    {
     "data": {
      "text/plain": [
       "2147596"
      ]
     },
     "execution_count": 30,
     "metadata": {},
     "output_type": "execute_result"
    }
   ],
   "source": [
    "logs_df.shape[0]"
   ]
  },
  {
   "cell_type": "code",
   "execution_count": 32,
   "metadata": {},
   "outputs": [
    {
     "data": {
      "text/html": [
       "<div>\n",
       "<style scoped>\n",
       "    .dataframe tbody tr th:only-of-type {\n",
       "        vertical-align: middle;\n",
       "    }\n",
       "\n",
       "    .dataframe tbody tr th {\n",
       "        vertical-align: top;\n",
       "    }\n",
       "\n",
       "    .dataframe thead th {\n",
       "        text-align: right;\n",
       "    }\n",
       "</style>\n",
       "<table border=\"1\" class=\"dataframe\">\n",
       "  <thead>\n",
       "    <tr style=\"text-align: right;\">\n",
       "      <th></th>\n",
       "      <th>ym:pv:browser</th>\n",
       "      <th>ym:pv:clientID</th>\n",
       "      <th>ym:pv:date</th>\n",
       "      <th>ym:pv:dateTime</th>\n",
       "      <th>ym:pv:deviceCategory</th>\n",
       "      <th>ym:pv:download</th>\n",
       "      <th>ym:pv:lastTrafficSource</th>\n",
       "      <th>ym:pv:link</th>\n",
       "      <th>ym:pv:notBounce</th>\n",
       "      <th>ym:pv:operatingSystemRoot</th>\n",
       "      <th>ym:pv:params</th>\n",
       "      <th>ym:pv:URL</th>\n",
       "    </tr>\n",
       "  </thead>\n",
       "  <tbody>\n",
       "    <tr>\n",
       "      <th>0</th>\n",
       "      <td>chromemobile</td>\n",
       "      <td>1549964310117886397</td>\n",
       "      <td>2019-02-20</td>\n",
       "      <td>2019-02-20 13:10:14</td>\n",
       "      <td>2</td>\n",
       "      <td>0</td>\n",
       "      <td>organic</td>\n",
       "      <td>0</td>\n",
       "      <td>0</td>\n",
       "      <td>android</td>\n",
       "      <td></td>\n",
       "      <td>https://ctc.ru/online/</td>\n",
       "    </tr>\n",
       "    <tr>\n",
       "      <th>1</th>\n",
       "      <td>chromemobile</td>\n",
       "      <td>1549964310117886397</td>\n",
       "      <td>2019-02-20</td>\n",
       "      <td>2019-02-20 13:10:28</td>\n",
       "      <td>2</td>\n",
       "      <td>0</td>\n",
       "      <td>direct</td>\n",
       "      <td>0</td>\n",
       "      <td>1</td>\n",
       "      <td>android</td>\n",
       "      <td></td>\n",
       "      <td>https://ctc.ru/online/</td>\n",
       "    </tr>\n",
       "    <tr>\n",
       "      <th>2</th>\n",
       "      <td>chrome</td>\n",
       "      <td>1546676248894335702</td>\n",
       "      <td>2019-02-20</td>\n",
       "      <td>2019-02-20 09:03:21</td>\n",
       "      <td>1</td>\n",
       "      <td>0</td>\n",
       "      <td>organic</td>\n",
       "      <td>0</td>\n",
       "      <td>0</td>\n",
       "      <td>windows</td>\n",
       "      <td></td>\n",
       "      <td>https://ctc.ru/projects/serials/molodezhka/</td>\n",
       "    </tr>\n",
       "    <tr>\n",
       "      <th>3</th>\n",
       "      <td>chrome</td>\n",
       "      <td>1546676248894335702</td>\n",
       "      <td>2019-02-20</td>\n",
       "      <td>2019-02-20 09:03:21</td>\n",
       "      <td>1</td>\n",
       "      <td>0</td>\n",
       "      <td>direct</td>\n",
       "      <td>0</td>\n",
       "      <td>0</td>\n",
       "      <td>windows</td>\n",
       "      <td>{\"__ym\":{\"adSessionID\":\"2977061550642596849\"}}</td>\n",
       "      <td>https://ctc.ru/projects/serials/molodezhka/</td>\n",
       "    </tr>\n",
       "    <tr>\n",
       "      <th>4</th>\n",
       "      <td>chrome</td>\n",
       "      <td>1546676248894335702</td>\n",
       "      <td>2019-02-20</td>\n",
       "      <td>2019-02-20 09:03:28</td>\n",
       "      <td>1</td>\n",
       "      <td>0</td>\n",
       "      <td>internal</td>\n",
       "      <td>0</td>\n",
       "      <td>0</td>\n",
       "      <td>windows</td>\n",
       "      <td></td>\n",
       "      <td>https://ctc.ru/projects/serials/molodezhka/vid...</td>\n",
       "    </tr>\n",
       "  </tbody>\n",
       "</table>\n",
       "</div>"
      ],
      "text/plain": [
       "  ym:pv:browser       ym:pv:clientID  ym:pv:date       ym:pv:dateTime  \\\n",
       "0  chromemobile  1549964310117886397  2019-02-20  2019-02-20 13:10:14   \n",
       "1  chromemobile  1549964310117886397  2019-02-20  2019-02-20 13:10:28   \n",
       "2        chrome  1546676248894335702  2019-02-20  2019-02-20 09:03:21   \n",
       "3        chrome  1546676248894335702  2019-02-20  2019-02-20 09:03:21   \n",
       "4        chrome  1546676248894335702  2019-02-20  2019-02-20 09:03:28   \n",
       "\n",
       "   ym:pv:deviceCategory  ym:pv:download ym:pv:lastTrafficSource  ym:pv:link  \\\n",
       "0                     2               0                 organic           0   \n",
       "1                     2               0                  direct           0   \n",
       "2                     1               0                 organic           0   \n",
       "3                     1               0                  direct           0   \n",
       "4                     1               0                internal           0   \n",
       "\n",
       "   ym:pv:notBounce ym:pv:operatingSystemRoot  \\\n",
       "0                0                   android   \n",
       "1                1                   android   \n",
       "2                0                   windows   \n",
       "3                0                   windows   \n",
       "4                0                   windows   \n",
       "\n",
       "                                     ym:pv:params  \\\n",
       "0                                                   \n",
       "1                                                   \n",
       "2                                                   \n",
       "3  {\"__ym\":{\"adSessionID\":\"2977061550642596849\"}}   \n",
       "4                                                   \n",
       "\n",
       "                                           ym:pv:URL  \n",
       "0                             https://ctc.ru/online/  \n",
       "1                             https://ctc.ru/online/  \n",
       "2        https://ctc.ru/projects/serials/molodezhka/  \n",
       "3        https://ctc.ru/projects/serials/molodezhka/  \n",
       "4  https://ctc.ru/projects/serials/molodezhka/vid...  "
      ]
     },
     "execution_count": 32,
     "metadata": {},
     "output_type": "execute_result"
    }
   ],
   "source": [
    "logs_df.head()"
   ]
  },
  {
   "cell_type": "code",
   "execution_count": 38,
   "metadata": {},
   "outputs": [],
   "source": [
    "pv_df = logs_df[(logs_df['ym:pv:link'] == 0) & (logs_df['ym:pv:download']  == 0) \n",
    "                & (logs_df['ym:pv:notBounce'] == 0) & (logs_df['ym:pv:params'] == '')]"
   ]
  },
  {
   "cell_type": "code",
   "execution_count": 39,
   "metadata": {},
   "outputs": [
    {
     "data": {
      "text/plain": [
       "1559401"
      ]
     },
     "execution_count": 39,
     "metadata": {},
     "output_type": "execute_result"
    }
   ],
   "source": [
    "logs_page_views = pv_df.shape[0]\n",
    "logs_page_views"
   ]
  },
  {
   "cell_type": "markdown",
   "metadata": {},
   "source": [
    "### Сравним с ClickHouse"
   ]
  },
  {
   "cell_type": "code",
   "execution_count": 40,
   "metadata": {},
   "outputs": [],
   "source": [
    "import StringIO\n",
    "import time\n",
    "import pandas as pd\n",
    "import datetime\n",
    "\n",
    "HOST = 'http://mtgray03k.yandex.ru:8123'\n",
    "HOST = 'http://mtlog01-01-1.yandex.ru:8123'\n",
    "#HOST = 'http://clickhouse.metrika.yandex.net:8123'\n",
    "#HOST = 'http://mtsmart001-1.yandex.ru:8123'\n",
    "#HO#ST = 'http://mtch01k.metrika.yandex.net:8123'\n",
    "\n",
    "import requests\n",
    "\n",
    "def get_clickhouse_data(query, host = HOST, connection_timeout = 1500):\n",
    "    NUMBER_OF_TRIES = 30\n",
    "    DELAY = 10\n",
    "    \n",
    "    for i in range(NUMBER_OF_TRIES):\n",
    "        r = requests.post(host, \n",
    "                          params = {'timeout_before_checking_execution_speed': 120}, \n",
    "                          timeout = connection_timeout, data = query,\n",
    "                          auth = ('miptgirl', '1QwBgINk')\n",
    "                         )\n",
    "        if r.status_code == 200:\n",
    "            return r.text\n",
    "        else:\n",
    "            print 'ATTENTION: try #%d failed' % i\n",
    "            if i != (NUMBER_OF_TRIES-1):\n",
    "                #print query\n",
    "                print r.text\n",
    "                time.sleep(DELAY*(i+1))\n",
    "            else:\n",
    "                raise ValueError, r.text \n",
    "        \n",
    "def get_clickhouse_df(query, host = HOST, connection_timeout = 1500):\n",
    "    data = get_clickhouse_data(query, host, connection_timeout) \n",
    "    df = pd.read_csv(StringIO.StringIO(data), sep = '\\t')\n",
    "    return df\n",
    "\n",
    "def upload(table, content, host=HOST):\n",
    "    '''Uploads data to table in ClickHous'''\n",
    "    content = content.encode('utf-8')\n",
    "    query_dict = {\n",
    "             'query': 'INSERT INTO ' + table + ' FORMAT TabSeparatedWithNames '\n",
    "        }\n",
    "    r = requests.post(host, data=content, params=query_dict)\n",
    "    result = r.text\n",
    "    if r.status_code == 200:\n",
    "        return result\n",
    "    else:\n",
    "        raise ValueError(r.text)"
   ]
  },
  {
   "cell_type": "code",
   "execution_count": 44,
   "metadata": {},
   "outputs": [
    {
     "data": {
      "text/html": [
       "<div>\n",
       "<style scoped>\n",
       "    .dataframe tbody tr th:only-of-type {\n",
       "        vertical-align: middle;\n",
       "    }\n",
       "\n",
       "    .dataframe tbody tr th {\n",
       "        vertical-align: top;\n",
       "    }\n",
       "\n",
       "    .dataframe thead th {\n",
       "        text-align: right;\n",
       "    }\n",
       "</style>\n",
       "<table border=\"1\" class=\"dataframe\">\n",
       "  <thead>\n",
       "    <tr style=\"text-align: right;\">\n",
       "      <th></th>\n",
       "      <th>count()</th>\n",
       "    </tr>\n",
       "  </thead>\n",
       "  <tbody>\n",
       "    <tr>\n",
       "      <th>0</th>\n",
       "      <td>1557874</td>\n",
       "    </tr>\n",
       "  </tbody>\n",
       "</table>\n",
       "</div>"
      ],
      "text/plain": [
       "   count()\n",
       "0  1557874"
      ]
     },
     "execution_count": 44,
     "metadata": {},
     "output_type": "execute_result"
    }
   ],
   "source": [
    "q = '''\n",
    "select \n",
    "    count()\n",
    "from hits_all\n",
    "where EventDate = '{date}' and CounterID = {counter}\n",
    "    and not DontCountHits\n",
    "format TabSeparatedWithNames\n",
    "'''.format(counter = COUNTER_ID, date = START_DATE)\n",
    "\n",
    "get_clickhouse_df(q)"
   ]
  },
  {
   "cell_type": "code",
   "execution_count": 46,
   "metadata": {},
   "outputs": [
    {
     "data": {
      "text/html": [
       "<div>\n",
       "<style scoped>\n",
       "    .dataframe tbody tr th:only-of-type {\n",
       "        vertical-align: middle;\n",
       "    }\n",
       "\n",
       "    .dataframe tbody tr th {\n",
       "        vertical-align: top;\n",
       "    }\n",
       "\n",
       "    .dataframe thead th {\n",
       "        text-align: right;\n",
       "    }\n",
       "</style>\n",
       "<table border=\"1\" class=\"dataframe\">\n",
       "  <thead>\n",
       "    <tr style=\"text-align: right;\">\n",
       "      <th></th>\n",
       "      <th>hits</th>\n",
       "      <th>DontCountHits</th>\n",
       "      <th>IsLink</th>\n",
       "      <th>IsArtifical</th>\n",
       "      <th>IsDownload</th>\n",
       "      <th>IsParameter</th>\n",
       "      <th>Refresh</th>\n",
       "      <th>IsNotBounce</th>\n",
       "    </tr>\n",
       "  </thead>\n",
       "  <tbody>\n",
       "    <tr>\n",
       "      <th>0</th>\n",
       "      <td>961461</td>\n",
       "      <td>0</td>\n",
       "      <td>0</td>\n",
       "      <td>0</td>\n",
       "      <td>0</td>\n",
       "      <td>0</td>\n",
       "      <td>0</td>\n",
       "      <td>0</td>\n",
       "    </tr>\n",
       "    <tr>\n",
       "      <th>1</th>\n",
       "      <td>40594</td>\n",
       "      <td>1</td>\n",
       "      <td>0</td>\n",
       "      <td>1</td>\n",
       "      <td>0</td>\n",
       "      <td>0</td>\n",
       "      <td>0</td>\n",
       "      <td>1</td>\n",
       "    </tr>\n",
       "    <tr>\n",
       "      <th>2</th>\n",
       "      <td>596413</td>\n",
       "      <td>0</td>\n",
       "      <td>0</td>\n",
       "      <td>1</td>\n",
       "      <td>0</td>\n",
       "      <td>0</td>\n",
       "      <td>0</td>\n",
       "      <td>0</td>\n",
       "    </tr>\n",
       "    <tr>\n",
       "      <th>3</th>\n",
       "      <td>1</td>\n",
       "      <td>1</td>\n",
       "      <td>1</td>\n",
       "      <td>0</td>\n",
       "      <td>1</td>\n",
       "      <td>0</td>\n",
       "      <td>0</td>\n",
       "      <td>0</td>\n",
       "    </tr>\n",
       "    <tr>\n",
       "      <th>4</th>\n",
       "      <td>541436</td>\n",
       "      <td>1</td>\n",
       "      <td>0</td>\n",
       "      <td>1</td>\n",
       "      <td>0</td>\n",
       "      <td>1</td>\n",
       "      <td>0</td>\n",
       "      <td>0</td>\n",
       "    </tr>\n",
       "    <tr>\n",
       "      <th>5</th>\n",
       "      <td>1582</td>\n",
       "      <td>1</td>\n",
       "      <td>0</td>\n",
       "      <td>1</td>\n",
       "      <td>0</td>\n",
       "      <td>0</td>\n",
       "      <td>0</td>\n",
       "      <td>0</td>\n",
       "    </tr>\n",
       "    <tr>\n",
       "      <th>6</th>\n",
       "      <td>6109</td>\n",
       "      <td>1</td>\n",
       "      <td>1</td>\n",
       "      <td>0</td>\n",
       "      <td>0</td>\n",
       "      <td>0</td>\n",
       "      <td>0</td>\n",
       "      <td>0</td>\n",
       "    </tr>\n",
       "  </tbody>\n",
       "</table>\n",
       "</div>"
      ],
      "text/plain": [
       "     hits  DontCountHits  IsLink  IsArtifical  IsDownload  IsParameter  \\\n",
       "0  961461              0       0            0           0            0   \n",
       "1   40594              1       0            1           0            0   \n",
       "2  596413              0       0            1           0            0   \n",
       "3       1              1       1            0           1            0   \n",
       "4  541436              1       0            1           0            1   \n",
       "5    1582              1       0            1           0            0   \n",
       "6    6109              1       1            0           0            0   \n",
       "\n",
       "   Refresh  IsNotBounce  \n",
       "0        0            0  \n",
       "1        0            1  \n",
       "2        0            0  \n",
       "3        0            0  \n",
       "4        0            0  \n",
       "5        0            0  \n",
       "6        0            0  "
      ]
     },
     "execution_count": 46,
     "metadata": {},
     "output_type": "execute_result"
    }
   ],
   "source": [
    "q = '''\n",
    "select\n",
    "    count() as hits,\n",
    "    DontCountHits,\n",
    "    IsLink,\n",
    "    IsArtifical,\n",
    "    IsDownload,\n",
    "    IsParameter,\n",
    "    Refresh,\n",
    "    IsNotBounce\n",
    "from hits_all\n",
    "where EventDate = '{date}' and CounterID = {counter}\n",
    "group by\n",
    "    DontCountHits,\n",
    "    IsLink,\n",
    "    IsArtifical,\n",
    "    IsDownload,\n",
    "    IsParameter,\n",
    "    Refresh,\n",
    "    IsNotBounce\n",
    "format TabSeparatedWithNames\n",
    "'''.format(counter = COUNTER_ID, date = START_DATE)\n",
    "\n",
    "get_clickhouse_df(q)"
   ]
  },
  {
   "cell_type": "code",
   "execution_count": 47,
   "metadata": {},
   "outputs": [
    {
     "data": {
      "text/plain": [
       "161451"
      ]
     },
     "execution_count": 47,
     "metadata": {},
     "output_type": "execute_result"
    }
   ],
   "source": [
    "COUNTER_ID"
   ]
  },
  {
   "cell_type": "code",
   "execution_count": null,
   "metadata": {},
   "outputs": [],
   "source": []
  }
 ],
 "metadata": {
  "kernelspec": {
   "display_name": "jupyterenv",
   "language": "python",
   "name": "jupyterenv"
  },
  "language_info": {
   "codemirror_mode": {
    "name": "ipython",
    "version": 2
   },
   "file_extension": ".py",
   "mimetype": "text/x-python",
   "name": "python",
   "nbconvert_exporter": "python",
   "pygments_lexer": "ipython2",
   "version": "2.7.6"
  }
 },
 "nbformat": 4,
 "nbformat_minor": 2
}
