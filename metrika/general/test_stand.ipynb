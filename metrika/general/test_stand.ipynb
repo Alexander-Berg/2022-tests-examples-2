{
 "cells": [
  {
   "cell_type": "code",
   "execution_count": 2,
   "metadata": {
    "collapsed": true
   },
   "outputs": [],
   "source": [
    "#!/usr/bin/python\n",
    "# -*- coding: utf-8 -*-\n",
    "import re\n",
    "import json\n",
    "import urllib\n",
    "import urllib2\n",
    "import StringIO\n",
    "import datetime\n",
    "import pandas as pd\n",
    "import os\n",
    "import numpy as np\n",
    "pd.set_option('display.max_colwidth', 5000)\n",
    "\n",
    "HOST = 'http://mtlog01-01-1t.yandex.ru:8123/'\n",
    "import requests\n",
    "\n",
    "def get_clickhouse_data(query, host = HOST, connection_timeout = 1500):\n",
    "    r = requests.post(host, params = {'query': query}, timeout = connection_timeout)\n",
    "    if r.status_code == 200:\n",
    "        return r.text\n",
    "    else:\n",
    "        raise ValueError, r.text\n",
    "        \n",
    "def get_clickhouse_df(query, host = HOST, connection_timeout = 1500):\n",
    "    data = get_clickhouse_data(query, host, connection_timeout) \n",
    "    df = pd.read_csv(StringIO.StringIO(data), sep = '\\t')\n",
    "    return df"
   ]
  },
  {
   "cell_type": "markdown",
   "metadata": {},
   "source": [
    "### Версии Android"
   ]
  },
  {
   "cell_type": "code",
   "execution_count": 5,
   "metadata": {},
   "outputs": [
    {
     "data": {
      "text/html": [
       "<div>\n",
       "<table border=\"1\" class=\"dataframe\">\n",
       "  <thead>\n",
       "    <tr style=\"text-align: right;\">\n",
       "      <th></th>\n",
       "      <th>visits</th>\n",
       "      <th>os</th>\n",
       "    </tr>\n",
       "  </thead>\n",
       "  <tbody>\n",
       "    <tr>\n",
       "      <th>0</th>\n",
       "      <td>1386305</td>\n",
       "      <td>Google Android 6.0 Marshmallow</td>\n",
       "    </tr>\n",
       "    <tr>\n",
       "      <th>1</th>\n",
       "      <td>1055798</td>\n",
       "      <td>Google Android 5.1 Lollipop</td>\n",
       "    </tr>\n",
       "    <tr>\n",
       "      <th>2</th>\n",
       "      <td>866112</td>\n",
       "      <td>Google Android 7.0 Nougat</td>\n",
       "    </tr>\n",
       "    <tr>\n",
       "      <th>3</th>\n",
       "      <td>802067</td>\n",
       "      <td>Google Android 4.4 KitKat</td>\n",
       "    </tr>\n",
       "    <tr>\n",
       "      <th>4</th>\n",
       "      <td>374637</td>\n",
       "      <td>Google Android 5.0 Lollipop</td>\n",
       "    </tr>\n",
       "  </tbody>\n",
       "</table>\n",
       "</div>"
      ],
      "text/plain": [
       "    visits                              os\n",
       "0  1386305  Google Android 6.0 Marshmallow\n",
       "1  1055798     Google Android 5.1 Lollipop\n",
       "2   866112       Google Android 7.0 Nougat\n",
       "3   802067       Google Android 4.4 KitKat\n",
       "4   374637     Google Android 5.0 Lollipop"
      ]
     },
     "execution_count": 5,
     "metadata": {},
     "output_type": "execute_result"
    }
   ],
   "source": [
    "q = '''\n",
    "    SELECT\n",
    "        sum(Sign) as visits,\n",
    "        dictGetString('OS', 'value', toUInt64(OS)) as os\n",
    "    FROM visits_all\n",
    "    WHERE StartDate = today()\n",
    "        AND OSToRoot(OS) = 108\n",
    "    GROUP BY os\n",
    "    ORDER BY visits DESC\n",
    "    LIMIT 5\n",
    "    FORMAT TabSeparatedWithNames\n",
    "'''\n",
    "\n",
    "get_clickhouse_df(q)"
   ]
  },
  {
   "cell_type": "markdown",
   "metadata": {},
   "source": [
    "### Поиск -> Картинки"
   ]
  },
  {
   "cell_type": "code",
   "execution_count": 11,
   "metadata": {},
   "outputs": [
    {
     "data": {
      "text/html": [
       "<div>\n",
       "<table border=\"1\" class=\"dataframe\">\n",
       "  <thead>\n",
       "    <tr style=\"text-align: right;\">\n",
       "      <th></th>\n",
       "      <th>visits</th>\n",
       "      <th>search</th>\n",
       "    </tr>\n",
       "  </thead>\n",
       "  <tbody>\n",
       "    <tr>\n",
       "      <th>0</th>\n",
       "      <td>1</td>\n",
       "      <td>0</td>\n",
       "    </tr>\n",
       "    <tr>\n",
       "      <th>1</th>\n",
       "      <td>16276</td>\n",
       "      <td>1</td>\n",
       "    </tr>\n",
       "    <tr>\n",
       "      <th>2</th>\n",
       "      <td>650</td>\n",
       "      <td>2</td>\n",
       "    </tr>\n",
       "  </tbody>\n",
       "</table>\n",
       "</div>"
      ],
      "text/plain": [
       "   visits  search\n",
       "0       1       0\n",
       "1   16276       1\n",
       "2     650       2"
      ]
     },
     "execution_count": 11,
     "metadata": {},
     "output_type": "execute_result"
    }
   ],
   "source": [
    "q = '''\n",
    "    SELECT\n",
    "        sum(Sign) as visits,\n",
    "        SearchEngineID as search\n",
    "    FROM visits_all\n",
    "    WHERE StartDate = today()\n",
    "        AND domain(Referer) = 'yandex.ru'\n",
    "        AND extractURLParameter(Referer, 'from') LIKE 'yandex.ru;images%'\n",
    "    GROUP BY search\n",
    "    FORMAT TabSeparatedWithNames\n",
    "'''\n",
    "\n",
    "get_clickhouse_df(q)"
   ]
  },
  {
   "cell_type": "code",
   "execution_count": 14,
   "metadata": {},
   "outputs": [
    {
     "data": {
      "text/html": [
       "<div>\n",
       "<table border=\"1\" class=\"dataframe\">\n",
       "  <thead>\n",
       "    <tr style=\"text-align: right;\">\n",
       "      <th></th>\n",
       "      <th>visits</th>\n",
       "      <th>from</th>\n",
       "    </tr>\n",
       "  </thead>\n",
       "  <tbody>\n",
       "    <tr>\n",
       "      <th>0</th>\n",
       "      <td>676</td>\n",
       "      <td>yandex.ru;images%2Fpad%2Fsearch;images;;</td>\n",
       "    </tr>\n",
       "  </tbody>\n",
       "</table>\n",
       "</div>"
      ],
      "text/plain": [
       "   visits                                      from\n",
       "0     676  yandex.ru;images%2Fpad%2Fsearch;images;;"
      ]
     },
     "execution_count": 14,
     "metadata": {},
     "output_type": "execute_result"
    }
   ],
   "source": [
    "q = '''\n",
    "    SELECT\n",
    "        sum(Sign) as visits,\n",
    "        extractURLParameter(Referer, 'from') as from\n",
    "    FROM visits_all\n",
    "    WHERE StartDate = today()\n",
    "        AND domain(Referer) = 'yandex.ru'\n",
    "        AND extractURLParameter(Referer, 'from') LIKE 'yandex.ru;images%'\n",
    "        AND SearchEngineID = 2\n",
    "    GROUP BY from\n",
    "    ORDER BY visits DESC\n",
    "    FORMAT TabSeparatedWithNames\n",
    "'''\n",
    "\n",
    "get_clickhouse_df(q)"
   ]
  },
  {
   "cell_type": "markdown",
   "metadata": {},
   "source": [
    "### Рефереры навигационного suggest'a"
   ]
  },
  {
   "cell_type": "code",
   "execution_count": 17,
   "metadata": {},
   "outputs": [
    {
     "data": {
      "text/html": [
       "<div>\n",
       "<table border=\"1\" class=\"dataframe\">\n",
       "  <thead>\n",
       "    <tr style=\"text-align: right;\">\n",
       "      <th></th>\n",
       "      <th>visits</th>\n",
       "      <th>search</th>\n",
       "    </tr>\n",
       "  </thead>\n",
       "  <tbody>\n",
       "  </tbody>\n",
       "</table>\n",
       "</div>"
      ],
      "text/plain": [
       "Empty DataFrame\n",
       "Columns: [visits, search]\n",
       "Index: []"
      ]
     },
     "execution_count": 17,
     "metadata": {},
     "output_type": "execute_result"
    }
   ],
   "source": [
    "q = '''\n",
    "    SELECT\n",
    "        sum(Sign) as visits,\n",
    "        SearchEngineID as search\n",
    "    FROM visits_all\n",
    "    WHERE StartDate = today()\n",
    "        AND domain(Referer) = 'yandex.ru'\n",
    "        AND extractURLParameter(Referer, 'from') LIKE '%samsung-suggest-sdk-touch%'\n",
    "    GROUP BY search\n",
    "    FORMAT TabSeparatedWithNames\n",
    "'''\n",
    "\n",
    "get_clickhouse_df(q)"
   ]
  },
  {
   "cell_type": "markdown",
   "metadata": {},
   "source": [
    "### Яндекс Работа"
   ]
  },
  {
   "cell_type": "code",
   "execution_count": 19,
   "metadata": {},
   "outputs": [
    {
     "data": {
      "text/html": [
       "<div>\n",
       "<table border=\"1\" class=\"dataframe\">\n",
       "  <thead>\n",
       "    <tr style=\"text-align: right;\">\n",
       "      <th></th>\n",
       "      <th>visits</th>\n",
       "      <th>ref_domain</th>\n",
       "      <th>search</th>\n",
       "    </tr>\n",
       "  </thead>\n",
       "  <tbody>\n",
       "    <tr>\n",
       "      <th>0</th>\n",
       "      <td>1754</td>\n",
       "      <td>rabota.yandex.ru</td>\n",
       "      <td>0</td>\n",
       "    </tr>\n",
       "    <tr>\n",
       "      <th>1</th>\n",
       "      <td>390</td>\n",
       "      <td>rabota.yandex.ru</td>\n",
       "      <td>124</td>\n",
       "    </tr>\n",
       "    <tr>\n",
       "      <th>2</th>\n",
       "      <td>144</td>\n",
       "      <td>m.rabota.yandex.ru</td>\n",
       "      <td>124</td>\n",
       "    </tr>\n",
       "    <tr>\n",
       "      <th>3</th>\n",
       "      <td>70</td>\n",
       "      <td>rabota.yandex.by</td>\n",
       "      <td>0</td>\n",
       "    </tr>\n",
       "    <tr>\n",
       "      <th>4</th>\n",
       "      <td>33</td>\n",
       "      <td>rabota.yandex.ua</td>\n",
       "      <td>0</td>\n",
       "    </tr>\n",
       "    <tr>\n",
       "      <th>5</th>\n",
       "      <td>22</td>\n",
       "      <td>rabota.yandex.by</td>\n",
       "      <td>124</td>\n",
       "    </tr>\n",
       "    <tr>\n",
       "      <th>6</th>\n",
       "      <td>21</td>\n",
       "      <td>rabota.yandex.kz</td>\n",
       "      <td>0</td>\n",
       "    </tr>\n",
       "    <tr>\n",
       "      <th>7</th>\n",
       "      <td>5</td>\n",
       "      <td>m.rabota.yandex.by</td>\n",
       "      <td>124</td>\n",
       "    </tr>\n",
       "    <tr>\n",
       "      <th>8</th>\n",
       "      <td>2</td>\n",
       "      <td>rabota.yandex.kz</td>\n",
       "      <td>124</td>\n",
       "    </tr>\n",
       "    <tr>\n",
       "      <th>9</th>\n",
       "      <td>1</td>\n",
       "      <td>rabota.yandex.ua</td>\n",
       "      <td>124</td>\n",
       "    </tr>\n",
       "  </tbody>\n",
       "</table>\n",
       "</div>"
      ],
      "text/plain": [
       "   visits          ref_domain  search\n",
       "0    1754    rabota.yandex.ru       0\n",
       "1     390    rabota.yandex.ru     124\n",
       "2     144  m.rabota.yandex.ru     124\n",
       "3      70    rabota.yandex.by       0\n",
       "4      33    rabota.yandex.ua       0\n",
       "5      22    rabota.yandex.by     124\n",
       "6      21    rabota.yandex.kz       0\n",
       "7       5  m.rabota.yandex.by     124\n",
       "8       2    rabota.yandex.kz     124\n",
       "9       1    rabota.yandex.ua     124"
      ]
     },
     "execution_count": 19,
     "metadata": {},
     "output_type": "execute_result"
    }
   ],
   "source": [
    "q = '''\n",
    "    SELECT \n",
    "        sum(Sign) AS visits, \n",
    "        domain(Referer) AS ref_domain,\n",
    "        SearchEngineID as search\n",
    "    FROM visits_all \n",
    "    WHERE (StartDate = today()) AND (ref_domain LIKE '%rabota.yandex%')\n",
    "    GROUP BY ref_domain, search\n",
    "    ORDER BY visits DESC\n",
    "    FORMAT TabSeparatedWithNames\n",
    "'''\n",
    "\n",
    "get_clickhouse_df(q)"
   ]
  },
  {
   "cell_type": "markdown",
   "metadata": {},
   "source": [
    "### Android-app LinkedIn'a"
   ]
  },
  {
   "cell_type": "code",
   "execution_count": 21,
   "metadata": {},
   "outputs": [
    {
     "data": {
      "text/html": [
       "<div>\n",
       "<table border=\"1\" class=\"dataframe\">\n",
       "  <thead>\n",
       "    <tr style=\"text-align: right;\">\n",
       "      <th></th>\n",
       "      <th>visits</th>\n",
       "      <th>TraficSourceID</th>\n",
       "    </tr>\n",
       "  </thead>\n",
       "  <tbody>\n",
       "    <tr>\n",
       "      <th>0</th>\n",
       "      <td>65</td>\n",
       "      <td>8</td>\n",
       "    </tr>\n",
       "  </tbody>\n",
       "</table>\n",
       "</div>"
      ],
      "text/plain": [
       "   visits  TraficSourceID\n",
       "0      65               8"
      ]
     },
     "execution_count": 21,
     "metadata": {},
     "output_type": "execute_result"
    }
   ],
   "source": [
    "q = '''\n",
    "    SELECT \n",
    "        sum(Sign) AS visits, \n",
    "        TraficSourceID\n",
    "    FROM visits_all \n",
    "    WHERE (StartDate = today()) AND (Referer = 'android-app://com.linkedin.android')\n",
    "    GROUP BY TraficSourceID\n",
    "    FORMAT TabSeparatedWithNames\n",
    "'''\n",
    "\n",
    "get_clickhouse_df(q)"
   ]
  },
  {
   "cell_type": "markdown",
   "metadata": {},
   "source": [
    "### Новые браузеры Otter и ElementsBrowser"
   ]
  },
  {
   "cell_type": "code",
   "execution_count": 22,
   "metadata": {},
   "outputs": [
    {
     "data": {
      "text/html": [
       "<div>\n",
       "<table border=\"1\" class=\"dataframe\">\n",
       "  <thead>\n",
       "    <tr style=\"text-align: right;\">\n",
       "      <th></th>\n",
       "      <th>visits</th>\n",
       "      <th>browser</th>\n",
       "    </tr>\n",
       "  </thead>\n",
       "  <tbody>\n",
       "  </tbody>\n",
       "</table>\n",
       "</div>"
      ],
      "text/plain": [
       "Empty DataFrame\n",
       "Columns: [visits, browser]\n",
       "Index: []"
      ]
     },
     "execution_count": 22,
     "metadata": {},
     "output_type": "execute_result"
    }
   ],
   "source": [
    "q = '''\n",
    "    SELECT \n",
    "        sum(Sign) as visits,\n",
    "        dictGetString('UserAgent', 'value', toUInt64(UserAgent)) as browser\n",
    "    FROM visits_all\n",
    "    WHERE StartDate = today()\n",
    "        AND UserAgent IN (194, 195)\n",
    "    GROUP BY browser\n",
    "    FORMAT TabSeparatedWithNames\n",
    "'''\n",
    "\n",
    "get_clickhouse_df(q)"
   ]
  },
  {
   "cell_type": "code",
   "execution_count": null,
   "metadata": {
    "collapsed": true
   },
   "outputs": [],
   "source": []
  }
 ],
 "metadata": {
  "kernelspec": {
   "display_name": "Python 2",
   "language": "python",
   "name": "python2"
  },
  "language_info": {
   "codemirror_mode": {
    "name": "ipython",
    "version": 2
   },
   "file_extension": ".py",
   "mimetype": "text/x-python",
   "name": "python",
   "nbconvert_exporter": "python",
   "pygments_lexer": "ipython2",
   "version": "2.7.6"
  }
 },
 "nbformat": 4,
 "nbformat_minor": 2
}
