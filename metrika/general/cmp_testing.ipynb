{
 "cells": [
  {
   "cell_type": "code",
   "execution_count": 144,
   "metadata": {},
   "outputs": [],
   "source": [
    "import vault_client\n",
    "import getpass\n",
    "import tqdm\n",
    "\n",
    "from os.path import expanduser\n",
    "import json\n",
    "\n",
    "def get_config():\n",
    "    home = expanduser(\"~\")\n",
    "    \n",
    "    with open(home + '/config.json') as f:\n",
    "        config_data = f.read()\n",
    "    config = json.loads(config_data)\n",
    "    return config\n",
    "\n",
    "yav = vault_client.instances.Production(\n",
    "    rsa_login='miptgirl', \n",
    "    authorization='OAuth {}'.format(get_config()['vault_api_token']),)\n",
    "\n",
    "ver = 'ver-01dssnc1zdezgbfd48xhj9j9xn'\n",
    "YT_TOKEN = yav.get_version(ver)['value']['yt_token']\n",
    "YQL_TOKEN = yav.get_version(ver)['value']['yql_token']\n",
    "SOLOMON_TOKEN = yav.get_version(ver)['value']['solomon_token']\n",
    "ver = 'ver-01eex0jhkrhzt14dfn8a2tyy42'\n",
    "STATLOG_PASS = yav.get_version(ver)['value']['password']\n",
    "\n",
    "def df_to_wiki(df, show_index = False):\n",
    "    print('#|\\n ||' + df.to_csv(index = show_index, sep = '|').replace('|', ' | ').replace('\\n', '|| \\n ||')[:-2] + '|#')"
   ]
  },
  {
   "cell_type": "code",
   "execution_count": 145,
   "metadata": {},
   "outputs": [],
   "source": [
    "from yql.api.v1.client import YqlClient\n",
    "DEFAULT_DB = 'hahn'\n",
    "DEFAULT_HEADER = \"\"\"\n",
    "PRAGMA yt.PoolTrees = \"physical\";\n",
    "PRAGMA SimpleColumns;\n",
    "pragma yt.MinPublishedAvgChunkSize = \"5G\";\"\"\"\n",
    "\n",
    "def run_yql_wait_and_return(query='', token=YQL_TOKEN, db=DEFAULT_DB, add_default_header=True, syntax_version=1):\n",
    "    with YqlClient(db=db, token=token) as client:\n",
    "        if add_default_header:\n",
    "            query = DEFAULT_HEADER + query\n",
    "        request = client.query(query, syntax_version=syntax_version)\n",
    "        request.run()\n",
    "        result = request.get_results()\n",
    "        if not request.is_success:\n",
    "            status = request.status\n",
    "            errors = '\\n'.join([str(x) for x in result.errors]) if result.errors else 'No messages'\n",
    "            error_message = \"\"\"There is an error in YQL api request. Status: {status}\\nErrors: '{errors}'\"\"\".format(\n",
    "                status=status,\n",
    "                errors=errors)\n",
    "            raise(BaseException(error_message))\n",
    "    return request.full_dataframe"
   ]
  },
  {
   "cell_type": "code",
   "execution_count": 146,
   "metadata": {},
   "outputs": [],
   "source": [
    "import io\n",
    "import time\n",
    "import pandas as pd\n",
    "import datetime\n",
    "\n",
    "HOST = 'http://mtgray03k.yandex.ru:8123'\n",
    "HOST = 'http://mtlog01-01-1.yandex.ru:8123'\n",
    "HOST = 'http://clickhouse.metrika.yandex.net:8123'\n",
    "#HOST = 'http://mtsmart001-1.yandex.ru:8123'\n",
    "HOST = 'http://mtch01k.metrika.yandex.net:8123'\n",
    "\n",
    "import requests\n",
    "import http.client  # or http.client if you're on Python 3\n",
    "http.client._MAXHEADERS = 100000\n",
    "\n",
    "def get_clickhouse_data(query, host = HOST, connection_timeout = 1500, user = 'miptgirl', password = '1QwBgINk'):\n",
    "    NUMBER_OF_TRIES = 30\n",
    "    DELAY = 10\n",
    "    \n",
    "    for i in range(NUMBER_OF_TRIES):\n",
    "        r = requests.post(host, \n",
    "                          params = {'timeout_before_checking_execution_speed': 120, 'max_bytes_in_join': 0}, \n",
    "                          timeout = connection_timeout, data = query,\n",
    "                          auth = (user, password), verify = False\n",
    "                         )\n",
    "        if (r.status_code == 200) and ('DB:Exception' not in r.text):\n",
    "            return r.text\n",
    "        else:\n",
    "            print('ATTENTION: try #%d failed' % i)\n",
    "            if i != (NUMBER_OF_TRIES-1):\n",
    "                #print query\n",
    "                print(r.text)\n",
    "                time.sleep(DELAY*(i+1))\n",
    "            else:\n",
    "                raise ValueError(r.text)\n",
    "        \n",
    "def get_clickhouse_df(query, host = HOST, connection_timeout = 1500, user = 'miptgirl', password = '1QwBgINk'):\n",
    "    data = get_clickhouse_data(query, host, connection_timeout, user, password) \n",
    "    df = pd.read_csv(io.StringIO(data), sep = '\\t')\n",
    "    return df\n",
    "\n",
    "def upload(table, content, host=HOST):\n",
    "    '''Uploads data to table in ClickHous'''\n",
    "    content = content.encode('utf-8')\n",
    "    query_dict = {\n",
    "             'query': 'INSERT INTO ' + table + ' FORMAT TabSeparatedWithNames '\n",
    "        }\n",
    "    r = requests.post(host, data=content, params=query_dict, auth = ('miptgirl', '1QwBgINk'))\n",
    "    result = r.text\n",
    "    if r.status_code == 200:\n",
    "        return result\n",
    "    else:\n",
    "        raise ValueError(r.text)"
   ]
  },
  {
   "cell_type": "code",
   "execution_count": 232,
   "metadata": {},
   "outputs": [],
   "source": [
    "def get_data(date_str, host):\n",
    "\n",
    "    q = '''\n",
    "    select \n",
    "        counter_id,\n",
    "        date,\n",
    "        goal_id,\n",
    "        total_visits,\n",
    "        conversions,\n",
    "        conversion_visits\n",
    "    from\n",
    "        (select \n",
    "            CounterID as counter_id,\n",
    "            arrayJoin(Goals.ID) as goal_id,\n",
    "            sum(Sign) as conversions,\n",
    "            uniq(VisitID) as conversion_visits,\n",
    "            StartDate as date\n",
    "        from visits_all\n",
    "        where StartDate = '{date}'\n",
    "            and dictGet('counters', 'mtlog_layer_id', toUInt64(CounterID)) = 1\n",
    "            and UTCStartTime >= '2021-10-15 13:00:00'\n",
    "            and UTCStartTime <= '2021-10-16 22:00:00'\n",
    "        group by goal_id, date, counter_id)\n",
    "        inner join\n",
    "        (select \n",
    "            CounterID as counter_id,\n",
    "            sum(Sign) as total_visits,\n",
    "            StartDate as date\n",
    "        from visits_all\n",
    "        where StartDate = '{date}'\n",
    "            and dictGet('counters', 'mtlog_layer_id', toUInt64(CounterID)) = 1\n",
    "            and UTCStartTime >= '2021-10-15 13:00:00'\n",
    "            and UTCStartTime <= '2021-10-16 22:00:00'\n",
    "        group by date, counter_id)\n",
    "        using (date, counter_id)\n",
    "    format TSVWithNames\n",
    "    '''.format(date = date_str)\n",
    "    \n",
    "    df = get_clickhouse_df(q, host)\n",
    "    return df"
   ]
  },
  {
   "cell_type": "code",
   "execution_count": 233,
   "metadata": {},
   "outputs": [
    {
     "name": "stdout",
     "output_type": "stream",
     "text": [
      "CPU times: user 84.3 ms, sys: 15.8 ms, total: 100 ms\n",
      "Wall time: 2.78 s\n"
     ]
    }
   ],
   "source": [
    "%%time \n",
    "prod_df = get_data('2021-10-16', 'http://mtgiga001-1.metrika.yandex.net:8123')"
   ]
  },
  {
   "cell_type": "code",
   "execution_count": 236,
   "metadata": {},
   "outputs": [
    {
     "name": "stdout",
     "output_type": "stream",
     "text": [
      "CPU times: user 99 ms, sys: 0 ns, total: 99 ms\n",
      "Wall time: 2.92 s\n"
     ]
    }
   ],
   "source": [
    "%%time \n",
    "test_df = get_data('2021-10-16', 'http://mtgiga001-1t.metrika.yandex.net:8123')"
   ]
  },
  {
   "cell_type": "code",
   "execution_count": 237,
   "metadata": {},
   "outputs": [],
   "source": [
    "! cp ../metr-45766/testing_changed_goals.csv ."
   ]
  },
  {
   "cell_type": "code",
   "execution_count": 238,
   "metadata": {},
   "outputs": [],
   "source": [
    "updated_goals_df = pd.read_csv('testing_changed_goals.csv', sep = '\\t')"
   ]
  },
  {
   "cell_type": "code",
   "execution_count": null,
   "metadata": {},
   "outputs": [],
   "source": [
    "yql_query = '''\n",
    "select *\n",
    "from `//home/metrica-analytics/miptgirl/final_bad_goals_cube`\n",
    "'''\n",
    "\n",
    "bad_goals_cube_df = run_yql_wait_and_return(yql_query)"
   ]
  },
  {
   "cell_type": "code",
   "execution_count": null,
   "metadata": {},
   "outputs": [],
   "source": [
    "cmp_df = prod_df.merge(test_df, how = 'outer', on = ['counter_id', 'date', 'goal_id'],\n",
    "             suffixes = ('_prod', '_test')).fillna(0)"
   ]
  },
  {
   "cell_type": "code",
   "execution_count": 202,
   "metadata": {},
   "outputs": [
    {
     "data": {
      "text/html": [
       "<div>\n",
       "<style scoped>\n",
       "    .dataframe tbody tr th:only-of-type {\n",
       "        vertical-align: middle;\n",
       "    }\n",
       "\n",
       "    .dataframe tbody tr th {\n",
       "        vertical-align: top;\n",
       "    }\n",
       "\n",
       "    .dataframe thead th {\n",
       "        text-align: right;\n",
       "    }\n",
       "</style>\n",
       "<table border=\"1\" class=\"dataframe\">\n",
       "  <thead>\n",
       "    <tr style=\"text-align: right;\">\n",
       "      <th></th>\n",
       "      <th>counter_id</th>\n",
       "      <th>date</th>\n",
       "      <th>goal_id</th>\n",
       "      <th>total_visits_prod</th>\n",
       "      <th>conversions_prod</th>\n",
       "      <th>conversion_visits_prod</th>\n",
       "      <th>total_visits_test</th>\n",
       "      <th>conversions_test</th>\n",
       "      <th>conversion_visits_test</th>\n",
       "    </tr>\n",
       "  </thead>\n",
       "  <tbody>\n",
       "    <tr>\n",
       "      <th>3118</th>\n",
       "      <td>62226256</td>\n",
       "      <td>2021-10-16</td>\n",
       "      <td>99139144</td>\n",
       "      <td>4696.0</td>\n",
       "      <td>27551.0</td>\n",
       "      <td>4697.0</td>\n",
       "      <td>278814.0</td>\n",
       "      <td>1562536.0</td>\n",
       "      <td>280722.0</td>\n",
       "    </tr>\n",
       "    <tr>\n",
       "      <th>7114</th>\n",
       "      <td>62226256</td>\n",
       "      <td>2021-10-16</td>\n",
       "      <td>99355534</td>\n",
       "      <td>4696.0</td>\n",
       "      <td>27550.0</td>\n",
       "      <td>4697.0</td>\n",
       "      <td>278814.0</td>\n",
       "      <td>1562527.0</td>\n",
       "      <td>280722.0</td>\n",
       "    </tr>\n",
       "    <tr>\n",
       "      <th>7132</th>\n",
       "      <td>54005761</td>\n",
       "      <td>2021-10-16</td>\n",
       "      <td>51806647</td>\n",
       "      <td>3007.0</td>\n",
       "      <td>25481.0</td>\n",
       "      <td>2176.0</td>\n",
       "      <td>183187.0</td>\n",
       "      <td>1630561.0</td>\n",
       "      <td>131703.0</td>\n",
       "    </tr>\n",
       "    <tr>\n",
       "      <th>8539</th>\n",
       "      <td>115080</td>\n",
       "      <td>2021-10-16</td>\n",
       "      <td>13207210</td>\n",
       "      <td>15793.0</td>\n",
       "      <td>24062.0</td>\n",
       "      <td>15561.0</td>\n",
       "      <td>953968.0</td>\n",
       "      <td>1483902.0</td>\n",
       "      <td>939835.0</td>\n",
       "    </tr>\n",
       "    <tr>\n",
       "      <th>9259</th>\n",
       "      <td>55027</td>\n",
       "      <td>2021-10-16</td>\n",
       "      <td>35983435</td>\n",
       "      <td>1581.0</td>\n",
       "      <td>22984.0</td>\n",
       "      <td>1580.0</td>\n",
       "      <td>97798.0</td>\n",
       "      <td>1188655.0</td>\n",
       "      <td>98500.0</td>\n",
       "    </tr>\n",
       "    <tr>\n",
       "      <th>...</th>\n",
       "      <td>...</td>\n",
       "      <td>...</td>\n",
       "      <td>...</td>\n",
       "      <td>...</td>\n",
       "      <td>...</td>\n",
       "      <td>...</td>\n",
       "      <td>...</td>\n",
       "      <td>...</td>\n",
       "      <td>...</td>\n",
       "    </tr>\n",
       "    <tr>\n",
       "      <th>33503</th>\n",
       "      <td>59998987</td>\n",
       "      <td>2021-10-16</td>\n",
       "      <td>84010588</td>\n",
       "      <td>0.0</td>\n",
       "      <td>0.0</td>\n",
       "      <td>0.0</td>\n",
       "      <td>7.0</td>\n",
       "      <td>2.0</td>\n",
       "      <td>2.0</td>\n",
       "    </tr>\n",
       "    <tr>\n",
       "      <th>33504</th>\n",
       "      <td>57037618</td>\n",
       "      <td>2021-10-16</td>\n",
       "      <td>177573934</td>\n",
       "      <td>0.0</td>\n",
       "      <td>0.0</td>\n",
       "      <td>0.0</td>\n",
       "      <td>972.0</td>\n",
       "      <td>1.0</td>\n",
       "      <td>1.0</td>\n",
       "    </tr>\n",
       "    <tr>\n",
       "      <th>33505</th>\n",
       "      <td>76575265</td>\n",
       "      <td>2021-10-16</td>\n",
       "      <td>196407121</td>\n",
       "      <td>0.0</td>\n",
       "      <td>0.0</td>\n",
       "      <td>0.0</td>\n",
       "      <td>19.0</td>\n",
       "      <td>1.0</td>\n",
       "      <td>1.0</td>\n",
       "    </tr>\n",
       "    <tr>\n",
       "      <th>33506</th>\n",
       "      <td>63980734</td>\n",
       "      <td>2021-10-16</td>\n",
       "      <td>111991330</td>\n",
       "      <td>0.0</td>\n",
       "      <td>0.0</td>\n",
       "      <td>0.0</td>\n",
       "      <td>18.0</td>\n",
       "      <td>1.0</td>\n",
       "      <td>1.0</td>\n",
       "    </tr>\n",
       "    <tr>\n",
       "      <th>79345</th>\n",
       "      <td>70060660</td>\n",
       "      <td>2021-10-16</td>\n",
       "      <td>148733695</td>\n",
       "      <td>0.0</td>\n",
       "      <td>0.0</td>\n",
       "      <td>0.0</td>\n",
       "      <td>953.0</td>\n",
       "      <td>1.0</td>\n",
       "      <td>1.0</td>\n",
       "    </tr>\n",
       "  </tbody>\n",
       "</table>\n",
       "<p>79346 rows × 9 columns</p>\n",
       "</div>"
      ],
      "text/plain": [
       "       counter_id        date    goal_id  total_visits_prod  conversions_prod  \\\n",
       "3118     62226256  2021-10-16   99139144             4696.0           27551.0   \n",
       "7114     62226256  2021-10-16   99355534             4696.0           27550.0   \n",
       "7132     54005761  2021-10-16   51806647             3007.0           25481.0   \n",
       "8539       115080  2021-10-16   13207210            15793.0           24062.0   \n",
       "9259        55027  2021-10-16   35983435             1581.0           22984.0   \n",
       "...           ...         ...        ...                ...               ...   \n",
       "33503    59998987  2021-10-16   84010588                0.0               0.0   \n",
       "33504    57037618  2021-10-16  177573934                0.0               0.0   \n",
       "33505    76575265  2021-10-16  196407121                0.0               0.0   \n",
       "33506    63980734  2021-10-16  111991330                0.0               0.0   \n",
       "79345    70060660  2021-10-16  148733695                0.0               0.0   \n",
       "\n",
       "       conversion_visits_prod  total_visits_test  conversions_test  \\\n",
       "3118                   4697.0           278814.0         1562536.0   \n",
       "7114                   4697.0           278814.0         1562527.0   \n",
       "7132                   2176.0           183187.0         1630561.0   \n",
       "8539                  15561.0           953968.0         1483902.0   \n",
       "9259                   1580.0            97798.0         1188655.0   \n",
       "...                       ...                ...               ...   \n",
       "33503                     0.0                7.0               2.0   \n",
       "33504                     0.0              972.0               1.0   \n",
       "33505                     0.0               19.0               1.0   \n",
       "33506                     0.0               18.0               1.0   \n",
       "79345                     0.0              953.0               1.0   \n",
       "\n",
       "       conversion_visits_test  \n",
       "3118                 280722.0  \n",
       "7114                 280722.0  \n",
       "7132                 131703.0  \n",
       "8539                 939835.0  \n",
       "9259                  98500.0  \n",
       "...                       ...  \n",
       "33503                     2.0  \n",
       "33504                     1.0  \n",
       "33505                     1.0  \n",
       "33506                     1.0  \n",
       "79345                     1.0  \n",
       "\n",
       "[79346 rows x 9 columns]"
      ]
     },
     "execution_count": 202,
     "metadata": {},
     "output_type": "execute_result"
    }
   ],
   "source": [
    "cmp_df.sort_values('conversions_prod', ascending = False)"
   ]
  },
  {
   "cell_type": "code",
   "execution_count": 203,
   "metadata": {},
   "outputs": [],
   "source": [
    "for p in ['total_visits_prod', 'conversions_prod', 'total_visits_test', 'conversions_test']:\n",
    "    cmp_df[p] = cmp_df[p].map(int)\n",
    "    \n",
    "    \n",
    "cmp_df['visits_diff'] = list(map(\n",
    "    lambda x, y: round(100.*(y-x)/x, 2) if x != 0 else None,\n",
    "    cmp_df.total_visits_prod,\n",
    "    cmp_df.total_visits_test\n",
    "))\n",
    "\n",
    "cmp_df['conversions_diff'] = list(map(\n",
    "    lambda x, y: round(100.*(y-x)/x, 2) if x != 0 else None,\n",
    "    cmp_df.conversions_prod,\n",
    "    cmp_df.conversions_test\n",
    "))\n",
    "\n",
    "cmp_df['conversion_visits_diff'] = list(map(\n",
    "    lambda x, y: round(100.*(y-x)/x, 2) if x != 0 else None,\n",
    "    cmp_df.conversion_visits_prod,\n",
    "    cmp_df.conversion_visits_test\n",
    "))"
   ]
  },
  {
   "cell_type": "code",
   "execution_count": 204,
   "metadata": {},
   "outputs": [],
   "source": [
    "updated_goals = updated_goals_df.goal_id.values"
   ]
  },
  {
   "cell_type": "code",
   "execution_count": 205,
   "metadata": {},
   "outputs": [],
   "source": [
    " def get_coefs(tmp_df):\n",
    "    filt_tmp_df = tmp_df[(tmp_df.total_visits_test != 0) & (tmp_df.total_visits_prod != 0)]\n",
    "    print('goals:', tmp_df.shape[0], ', matched goals:', filt_tmp_df.shape[0])\n",
    "    \n",
    "    filt_total_visits_prod = filt_tmp_df.total_visits_prod.sum()\n",
    "    filt_total_visits_test = filt_tmp_df.total_visits_test.sum()\n",
    "    \n",
    "    print('total visits: %d vs %d (%.2f%%)' % (filt_total_visits_prod, filt_total_visits_test, \n",
    "            100.*(filt_total_visits_test - filt_total_visits_prod)/filt_total_visits_prod))\n",
    "    \n",
    "    \n",
    "    conversions_prod = tmp_df.conversions_prod.sum()\n",
    "    conversion_test = tmp_df.conversions_test.sum()\n",
    "    \n",
    "    print('conversion: %d vs %d (%.2f%%)' % (conversions_prod, conversion_test, \n",
    "            100.*(conversion_test - conversions_prod)/conversions_prod))\n",
    "    \n",
    "    conversions_prod = tmp_df.conversion_visits_prod.sum()\n",
    "    conversion_test = tmp_df.conversion_visits_test.sum()\n",
    "    \n",
    "    print('conversion visits: %d vs %d (%.2f%%)' % (conversions_prod, conversion_test, \n",
    "            100.*(conversion_test - conversions_prod)/conversions_prod))\n",
    "    \n",
    "    tmp_df['goal_id'] = tmp_df['goal_id'].map(str)\n",
    "    return tmp_df.merge(bad_goals_cube_df[['goal_id', 'goal_types', 'pattern', 'bad_goals_share']],\n",
    "                     how = 'left', on = 'goal_id').sort_values('conversions_prod', ascending = False)"
   ]
  },
  {
   "cell_type": "code",
   "execution_count": 206,
   "metadata": {},
   "outputs": [
    {
     "name": "stdout",
     "output_type": "stream",
     "text": [
      "goals: 430 , matched goals: 40\n",
      "total visits: 28933 vs 1702189 (5783.21%)\n",
      "conversion: 14560 vs 859999 (5806.59%)\n",
      "conversion visits: 5102 vs 299022 (5760.88%)\n"
     ]
    },
    {
     "name": "stderr",
     "output_type": "stream",
     "text": [
      "/home/miptgirl/jupyterenv/lib/python3.7/site-packages/ipykernel_launcher.py:24: SettingWithCopyWarning: \n",
      "A value is trying to be set on a copy of a slice from a DataFrame.\n",
      "Try using .loc[row_indexer,col_indexer] = value instead\n",
      "\n",
      "See the caveats in the documentation: https://pandas.pydata.org/pandas-docs/stable/user_guide/indexing.html#returning-a-view-versus-a-copy\n"
     ]
    }
   ],
   "source": [
    "changed_tmp_df = cmp_df[cmp_df.goal_id.isin(updated_goals)]\n",
    "changed_tmp_df = get_coefs(changed_tmp_df)"
   ]
  },
  {
   "cell_type": "code",
   "execution_count": 207,
   "metadata": {},
   "outputs": [
    {
     "name": "stdout",
     "output_type": "stream",
     "text": [
      "#|\n",
      " ||counter_id | date | goal_id | total_visits_prod | conversions_prod | conversion_visits_prod | total_visits_test | conversions_test | conversion_visits_test | visits_diff | conversions_diff | conversion_visits_diff | goal_types | pattern | bad_goals_share|| \n",
      " ||152220 | 2021-10-16 | 103280617 | 5411 | 9799 | 2655.0 | 317397 | 580048 | 154264.0 | 5765.77 | 5819.46 | 5710.32 | url | contain: _step1_ | 100.0|| \n",
      " ||152220 | 2021-10-16 | 6236880 | 5411 | 3889 | 1949.0 | 317397 | 230458 | 115549.0 | 5765.77 | 5825.89 | 5828.63 | url | contain: /ac_result | 100.0|| \n",
      " ||152220 | 2021-10-16 | 6236874 | 5411 | 495 | 261.0 | 317397 | 27536 | 15082.0 | 5765.77 | 5462.83 | 5678.54 | url | contain: /pc_result | 100.0|| \n",
      " ||152220 | 2021-10-16 | 6236877 | 5411 | 98 | 38.0 | 317397 | 2798 | 1450.0 | 5765.77 | 2755.1 | 3715.79 | url | contain: /cc_result | 100.0|| \n",
      " ||76989841 | 2021-10-16 | 188992906 | 151 | 62 | 37.0 | 9261 | 4860 | 2642.0 | 6033.11 | 7738.71 | 7040.54 | url | contain: goal__ecf__pageview__all | 100.0|| \n",
      " ||4006918 | 2021-10-16 | 220743400 | 73 | 60 | 55.0 | 4046 | 3088 | 2803.0 | 5442.47 | 5046.67 | 4996.36 | url | contain: jivo_proactive_invitation_shown | 100.0|| \n",
      " ||387225 | 2021-10-16 | 69376120 | 77 | 31 | 20.0 | 4739 | 2004 | 1235.0 | 6054.55 | 6364.52 | 6075.0 | url | contain: good-have-sellers | 100.0|| \n",
      " ||76989841 | 2021-10-16 | 206529682 | 151 | 20 | 4.0 | 9261 | 381 | 86.0 | 6033.11 | 1805.0 | 2050.0 | url | contain: goal__fcis-widget__click__feature;finance_calculator;calculation | 100.0|| \n",
      " ||387225 | 2021-10-16 | 543610 | 77 | 14 | 13.0 | 4739 | 744 | 638.0 | 6054.55 | 5214.29 | 4807.69 | url | contain: good-no-sellers | 100.0|| \n",
      " ||295210 | 2021-10-16 | 13417795 | 22 | 12 | 12.0 | 1255 | 1010 | 850.0 | 5604.55 | 8316.67 | 6983.33 | url | contain: dnld | 100.0|| \n",
      " ||295210 | 2021-10-16 | 101335 | 22 | 12 | 12.0 | 1255 | 969 | 849.0 | 5604.55 | 7975.0 | 6975.0 | url | exact: dnld_fx | 100.0|| \n",
      " ||78060 | 2021-10-16 | 24811260 | 74 | 8 | 3.0 | 4236 | 590 | 163.0 | 5624.32 | 7275.0 | 5333.33 | composite url | contain: /v-korziny/ | 100.0|| \n",
      " ||115251 | 2021-10-16 | 5420216 | 16 | 7 | 1.0 | 895 | 265 | 75.0 | 5493.75 | 3685.71 | 7400.0 | url | contain: neighboursmetroload | 100.0|| \n",
      " ||387225 | 2021-10-16 | 1152499 | 77 | 7 | 4.0 | 4739 | 270 | 217.0 | 6054.55 | 3757.14 | 5325.0 | url | contain: -pricefilter- | 100.0|| \n",
      " ||144146 | 2021-10-16 | 701086 | 3 | 6 | 3.0 | 255 | 754 | 226.0 | 8400.0 | 12466.67 | 7433.33 | url | contain: order | 99.04|| \n",
      " ||76989841 | 2021-10-16 | 203751943 | 151 | 5 | 4.0 | 9261 | 524 | 348.0 | 6033.11 | 10380.0 | 8600.0 | url | contain: goal__ecf_new__click__link;catalog_more_about;подробнее | 100.0|| \n",
      " ||387225 | 2021-10-16 | 2392381 | 77 | 3 | 2.0 | 4739 | 362 | 256.0 | 6054.55 | 11966.67 | 12700.0 | url | contain: gotosite | 100.0|| \n",
      " ||85840508 | 2021-10-16 | 222461929 | 9 | 3 | 3.0 | 0 | 0 | 0.0 | -100.0 | -100.0 | -100.0 | url | contain: marquiz-step5 | 100.0|| \n",
      " ||44243349 | 2021-10-16 | 30794229 | 1 | 2 | 1.0 | 9 | 10 | 4.0 | 800.0 | 400.0 | 300.0 | url | contain: /contacts, contain: company_contacts_hovered, contain: company_contacts_viewed, contain: contacts_view_on_company_site | 75.03|| \n",
      " ||4024648 | 2021-10-16 | 134015395 | 63 | 2 | 2.0 | 4405 | 207 | 151.0 | 6892.06 | 10250.0 | 7450.0 | url | contain: signuppasswordblur | 100.0|| \n",
      " |#\n"
     ]
    }
   ],
   "source": [
    "df_to_wiki(\n",
    "    changed_tmp_df.head(20))"
   ]
  },
  {
   "cell_type": "code",
   "execution_count": 208,
   "metadata": {},
   "outputs": [
    {
     "name": "stdout",
     "output_type": "stream",
     "text": [
      "goals: 10001 , matched goals: 10001\n",
      "total visits: 5089862 vs 302366316 (5840.56%)\n",
      "conversion: 542892 vs 31442189 (5691.61%)\n",
      "conversion visits: 204158 vs 11624872 (5594.06%)\n"
     ]
    }
   ],
   "source": [
    "good_tmp_df = cmp_df[~cmp_df.goal_id.isin(bad_goals_cube_df.goal_id.map(int).values)]\n",
    "good_tmp_df = good_tmp_df[(good_tmp_df.total_visits_test != 0) & (good_tmp_df.total_visits_prod != 0)]\n",
    "good_tmp_df = get_coefs(good_tmp_df)"
   ]
  },
  {
   "cell_type": "code",
   "execution_count": 209,
   "metadata": {},
   "outputs": [],
   "source": [
    "good_tmp_df['conversions_abs_diff'] = good_tmp_df.conversions_test - good_tmp_df.conversions_prod"
   ]
  },
  {
   "cell_type": "code",
   "execution_count": 210,
   "metadata": {},
   "outputs": [
    {
     "name": "stdout",
     "output_type": "stream",
     "text": [
      "#|\n",
      " ||counter_id | date | goal_id | total_visits_prod | conversions_prod | conversion_visits_prod | total_visits_test | conversions_test | conversion_visits_test | visits_diff | conversions_diff | conversion_visits_diff | goal_types | pattern | bad_goals_share | conversions_abs_diff|| \n",
      " ||152220 | 2021-10-16 | 9904910 | 5411 | 171 | 98.0 | 317397 | 15 | 6.0 | 5765.77 | -91.23 | -93.88 |  |  |  | -156|| \n",
      " ||62990695 | 2021-10-16 | 105008053 | 1 | 1 | 1.0 | 33 | 1 | 1.0 | 3200.0 | 0.0 | 0.0 |  |  |  | 0|| \n",
      " ||71397556 | 2021-10-16 | 154856395 | 2 | 1 | 1.0 | 4 | 1 | 1.0 | 100.0 | 0.0 | 0.0 |  |  |  | 0|| \n",
      " ||52133725 | 2021-10-16 | 222052012 | 2 | 2 | 2.0 | 3 | 2 | 2.0 | 50.0 | 0.0 | 0.0 |  |  |  | 0|| \n",
      " ||60593689 | 2021-10-16 | 104280205 | 1 | 1 | 1.0 | 5 | 1 | 1.0 | 400.0 | 0.0 | 0.0 |  |  |  | 0|| \n",
      " ||56688235 | 2021-10-16 | 219300850 | 1 | 3 | 1.0 | 110 | 3 | 1.0 | 10900.0 | 0.0 | 0.0 |  |  |  | 0|| \n",
      " ||202289 | 2021-10-16 | 126771985 | 8 | 1 | 1.0 | 446 | 1 | 1.0 | 5475.0 | 0.0 | 0.0 |  |  |  | 0|| \n",
      " ||52976668 | 2021-10-16 | 48400345 | 1 | 1 | 1.0 | 3 | 1 | 1.0 | 200.0 | 0.0 | 0.0 |  |  |  | 0|| \n",
      " ||59782933 | 2021-10-16 | 82507375 | 1 | 1 | 1.0 | 8 | 1 | 1.0 | 700.0 | 0.0 | 0.0 |  |  |  | 0|| \n",
      " ||60461284 | 2021-10-16 | 87234766 | 3 | 1 | 1.0 | 7 | 1 | 1.0 | 133.33 | 0.0 | 0.0 |  |  |  | 0|| \n",
      " ||47916539 | 2021-10-16 | 145691842 | 3 | 1 | 1.0 | 28 | 1 | 1.0 | 833.33 | 0.0 | 0.0 |  |  |  | 0|| \n",
      " ||50740108 | 2021-10-16 | 42060856 | 5 | 1 | 1.0 | 165 | 1 | 1.0 | 3200.0 | 0.0 | 0.0 |  |  |  | 0|| \n",
      " ||64018798 | 2021-10-16 | 112257121 | 2 | 1 | 1.0 | 23 | 1 | 1.0 | 1050.0 | 0.0 | 0.0 |  |  |  | 0|| \n",
      " ||49734436 | 2021-10-16 | 168150253 | 2 | 1 | 1.0 | 23 | 1 | 1.0 | 1050.0 | 0.0 | 0.0 |  |  |  | 0|| \n",
      " ||52249987 | 2021-10-16 | 175575673 | 1 | 2 | 1.0 | 6 | 2 | 1.0 | 500.0 | 0.0 | 0.0 |  |  |  | 0|| \n",
      " ||62387938 | 2021-10-16 | 173467843 | 1 | 3 | 1.0 | 5 | 3 | 1.0 | 400.0 | 0.0 | 0.0 |  |  |  | 0|| \n",
      " ||48780392 | 2021-10-16 | 38314541 | 1 | 1 | 1.0 | 7 | 1 | 1.0 | 600.0 | 0.0 | 0.0 |  |  |  | 0|| \n",
      " ||56831203 | 2021-10-16 | 64415779 | 1 | 1 | 1.0 | 7 | 1 | 1.0 | 600.0 | 0.0 | 0.0 |  |  |  | 0|| \n",
      " ||71129983 | 2021-10-16 | 183909250 | 53 | 1 | 1.0 | 3754 | 1 | 1.0 | 6983.02 | 0.0 | 0.0 |  |  |  | 0|| \n",
      " ||346303 | 2021-10-16 | 58461541 | 1 | 1 | 1.0 | 119 | 1 | 1.0 | 11800.0 | 0.0 | 0.0 |  |  |  | 0|| \n",
      " |#\n"
     ]
    }
   ],
   "source": [
    "df_to_wiki(good_tmp_df.sort_values('conversions_abs_diff').head(20))"
   ]
  },
  {
   "cell_type": "code",
   "execution_count": 211,
   "metadata": {},
   "outputs": [],
   "source": [
    "yql_query = '''\n",
    "select goal_id\n",
    "from `//home/metrika/data-transfer/prod/mtacs-metrikamain/conv_main_ad_goals`\n",
    "where goal_type = 'step';\n",
    "'''\n",
    "\n",
    "step_goals_df = run_yql_wait_and_return(yql_query)"
   ]
  },
  {
   "cell_type": "code",
   "execution_count": 212,
   "metadata": {},
   "outputs": [
    {
     "name": "stdout",
     "output_type": "stream",
     "text": [
      "goals: 9789 , matched goals: 9789\n",
      "total visits: 4728326 vs 281168015 (5846.46%)\n",
      "conversion: 534610 vs 31241832 (5743.85%)\n",
      "conversion visits: 199334 vs 11492794 (5665.60%)\n"
     ]
    }
   ],
   "source": [
    "filt_good_tmp_df = cmp_df[~cmp_df.goal_id.isin(bad_goals_cube_df.goal_id.map(int).values)]\n",
    "filt_good_tmp_df = filt_good_tmp_df[(filt_good_tmp_df.total_visits_test != 0) & (filt_good_tmp_df.total_visits_prod != 0)]\n",
    "filt_good_tmp_df = filt_good_tmp_df[~filt_good_tmp_df.goal_id.isin(step_goals_df.goal_id.map(str).values)]\n",
    "filt_good_tmp_df = get_coefs(filt_good_tmp_df)"
   ]
  },
  {
   "cell_type": "code",
   "execution_count": 213,
   "metadata": {},
   "outputs": [],
   "source": [
    "filt_good_tmp_df['conversions_abs_diff'] = filt_good_tmp_df.conversions_test - filt_good_tmp_df.conversions_prod"
   ]
  },
  {
   "cell_type": "code",
   "execution_count": 214,
   "metadata": {},
   "outputs": [
    {
     "name": "stdout",
     "output_type": "stream",
     "text": [
      "#|\n",
      " ||counter_id | date | goal_id | total_visits_prod | conversions_prod | conversion_visits_prod | total_visits_test | conversions_test | conversion_visits_test | visits_diff | conversions_diff | conversion_visits_diff | goal_types | pattern | bad_goals_share | conversions_abs_diff|| \n",
      " ||57035416 | 2021-10-16 | 214310758 | 2 | 1 | 1.0 | 26 | 1 | 1.0 | 1200.0 | 0.0 | 0.0 |  |  |  | 0|| \n",
      " ||65673955 | 2021-10-16 | 126234868 | 1 | 1 | 1.0 | 15 | 1 | 1.0 | 1400.0 | 0.0 | 0.0 |  |  |  | 0|| \n",
      " ||60269626 | 2021-10-16 | 85904065 | 1 | 1 | 1.0 | 6 | 1 | 1.0 | 500.0 | 0.0 | 0.0 |  |  |  | 0|| \n",
      " ||76324525 | 2021-10-16 | 206672749 | 3 | 1 | 1.0 | 71 | 1 | 1.0 | 2266.67 | 0.0 | 0.0 |  |  |  | 0|| \n",
      " ||62387938 | 2021-10-16 | 173467843 | 1 | 3 | 1.0 | 5 | 3 | 1.0 | 400.0 | 0.0 | 0.0 |  |  |  | 0|| \n",
      " ||41807069 | 2021-10-16 | 176522065 | 3 | 1 | 1.0 | 204 | 1 | 1.0 | 6700.0 | 0.0 | 0.0 |  |  |  | 0|| \n",
      " ||45455397 | 2021-10-16 | 57308563 | 3 | 1 | 1.0 | 209 | 1 | 1.0 | 6866.67 | 0.0 | 0.0 |  |  |  | 0|| \n",
      " ||65872378 | 2021-10-16 | 196573099 | 4 | 1 | 1.0 | 123 | 1 | 1.0 | 2975.0 | 0.0 | 0.0 |  |  |  | 0|| \n",
      " ||52976668 | 2021-10-16 | 48400366 | 1 | 1 | 1.0 | 3 | 1 | 1.0 | 200.0 | 0.0 | 0.0 |  |  |  | 0|| \n",
      " ||82879516 | 2021-10-16 | 199120336 | 1 | 1 | 1.0 | 3 | 1 | 1.0 | 200.0 | 0.0 | 0.0 |  |  |  | 0|| \n",
      " ||52902220 | 2021-10-16 | 175088311 | 1 | 1 | 1.0 | 58 | 1 | 1.0 | 5700.0 | 0.0 | 0.0 |  |  |  | 0|| \n",
      " ||100123 | 2021-10-16 | 28362859 | 2 | 1 | 1.0 | 39 | 1 | 1.0 | 1850.0 | 0.0 | 0.0 |  |  |  | 0|| \n",
      " ||52976668 | 2021-10-16 | 48400363 | 1 | 1 | 1.0 | 3 | 1 | 1.0 | 200.0 | 0.0 | 0.0 |  |  |  | 0|| \n",
      " ||144326 | 2021-10-16 | 26743524 | 52 | 5 | 2.0 | 2913 | 5 | 2.0 | 5501.92 | 0.0 | 0.0 |  |  |  | 0|| \n",
      " ||40587105 | 2021-10-16 | 26502354 | 1 | 1 | 1.0 | 1 | 1 | 1.0 | 0.0 | 0.0 | 0.0 |  |  |  | 0|| \n",
      " ||56038492 | 2021-10-16 | 197613751 | 1 | 1 | 1.0 | 2 | 1 | 1.0 | 100.0 | 0.0 | 0.0 |  |  |  | 0|| \n",
      " ||55188622 | 2021-10-16 | 175296574 | 1 | 2 | 1.0 | 25 | 2 | 1.0 | 2400.0 | 0.0 | 0.0 |  |  |  | 0|| \n",
      " ||80409220 | 2021-10-16 | 193056085 | 3 | 1 | 1.0 | 40 | 1 | 1.0 | 1233.33 | 0.0 | 0.0 |  |  |  | 0|| \n",
      " ||56691280 | 2021-10-16 | 174526999 | 7 | 1 | 1.0 | 126 | 1 | 1.0 | 1700.0 | 0.0 | 0.0 |  |  |  | 0|| \n",
      " ||52908589 | 2021-10-16 | 175368061 | 1 | 1 | 1.0 | 6 | 1 | 1.0 | 500.0 | 0.0 | 0.0 |  |  |  | 0|| \n",
      " |#\n"
     ]
    }
   ],
   "source": [
    "df_to_wiki(filt_good_tmp_df.sort_values('conversions_abs_diff').head(20))"
   ]
  },
  {
   "cell_type": "code",
   "execution_count": 215,
   "metadata": {},
   "outputs": [],
   "source": [
    "# tmp_df = cmp_df[cmp_df.goal_id.isin(bad_goals_cube_df.goal_id.map(int).values)]\n",
    "# get_coefs(tmp_df)"
   ]
  },
  {
   "cell_type": "code",
   "execution_count": 216,
   "metadata": {},
   "outputs": [
    {
     "name": "stdout",
     "output_type": "stream",
     "text": [
      "goals: 702 , matched goals: 272\n",
      "total visits: 217709 vs 12837078 (5796.44%)\n",
      "conversion: 115879 vs 4978687 (4196.45%)\n",
      "conversion visits: 40713 vs 1911671 (4595.48%)\n"
     ]
    },
    {
     "name": "stderr",
     "output_type": "stream",
     "text": [
      "/home/miptgirl/jupyterenv/lib/python3.7/site-packages/ipykernel_launcher.py:24: SettingWithCopyWarning: \n",
      "A value is trying to be set on a copy of a slice from a DataFrame.\n",
      "Try using .loc[row_indexer,col_indexer] = value instead\n",
      "\n",
      "See the caveats in the documentation: https://pandas.pydata.org/pandas-docs/stable/user_guide/indexing.html#returning-a-view-versus-a-copy\n"
     ]
    }
   ],
   "source": [
    "other_bad_tmp_df = cmp_df[cmp_df.goal_id.isin(bad_goals_cube_df.goal_id.map(int).values) & (~cmp_df.goal_id.isin(updated_goals))]\n",
    "other_bad_tmp_df = get_coefs(other_bad_tmp_df)"
   ]
  },
  {
   "cell_type": "code",
   "execution_count": 217,
   "metadata": {},
   "outputs": [],
   "source": [
    "other_bad_tmp_df['pred_conversions_test'] = ((100. - other_bad_tmp_df.bad_goals_share)/100 * other_bad_tmp_df.conversions_prod) \\\n",
    "    .map(lambda x: int(round(x)))"
   ]
  },
  {
   "cell_type": "code",
   "execution_count": 218,
   "metadata": {},
   "outputs": [],
   "source": [
    "other_bad_tmp_df['pred_conversions_diff'] = (other_bad_tmp_df.pred_conversions_test - other_bad_tmp_df.conversions_test)\\\n",
    "    .map(lambda x: abs(x))"
   ]
  },
  {
   "cell_type": "code",
   "execution_count": 219,
   "metadata": {},
   "outputs": [
    {
     "name": "stdout",
     "output_type": "stream",
     "text": [
      "#|\n",
      " ||counter_id | date | goal_id | total_visits_prod | conversions_prod | conversion_visits_prod | total_visits_test | conversions_test | conversion_visits_test | visits_diff | conversions_diff | conversion_visits_diff | goal_types | pattern | bad_goals_share | pred_conversions_test | pred_conversions_diff|| \n",
      " ||45727869 | 2021-10-16 | 42528902 | 12588 | 22830 | 12591.0 | 750430 | 1366686 | 747566.0 | 5861.47 | 5886.36 | 5837.3 | url | contain: / | 0.0 | 22830 | 1343856|| \n",
      " ||55027 | 2021-10-16 | 35983435 | 1581 | 22984 | 1580.0 | 97798 | 1188655 | 98500.0 | 6085.83 | 5071.66 | 6134.18 | url | contain: sima-land.ru | 23.18 | 17656 | 1170999|| \n",
      " ||153166 | 2021-10-16 | 23887485 | 8083 | 18285 | 8022.0 | 478126 | 1015567 | 472490.0 | 5815.2 | 5454.1 | 5789.93 | url | contain: kommersant.ru | 5.2 | 17334 | 998233|| \n",
      " ||34 | 2021-10-16 | 2918974 | 890 | 6317 | 857.0 | 51642 | 279911 | 50381.0 | 5702.47 | 4331.07 | 5778.76 | url | contain: direct.yandex.ru | 37.51 | 3947 | 275964|| \n",
      " ||115080 | 2021-10-16 | 26350179 | 15793 | 8472 | 1969.0 | 953968 | 144433 | 121293.0 | 5940.45 | 1604.83 | 6060.13 | url | contain: nowcast | 84.37 | 1324 | 143109|| \n",
      " ||88259 | 2021-10-16 | 20067025 | 995 | 1812 | 827.0 | 59064 | 107603 | 48300.0 | 5836.08 | 5838.36 | 5740.39 | composite url | contain: blizko.ru | 6.26 | 1699 | 105904|| \n",
      " ||72321 | 2021-10-16 | 13240105 | 457 | 1518 | 457.0 | 27761 | 81673 | 27787.0 | 5974.62 | 5280.3 | 5980.31 | url | contain: techport.ru | 0.23 | 1515 | 80158|| \n",
      " ||152220 | 2021-10-16 | 32050262 | 5411 | 2771 | 599.0 | 317397 | 72473 | 32786.0 | 5765.77 | 2515.41 | 5373.46 | composite url | contain: /transfer | 69.8 | 837 | 71636|| \n",
      " ||50039545 | 2021-10-16 | 41158645 | 459 | 1333 | 459.0 | 26327 | 72394 | 26349.0 | 5635.73 | 5330.91 | 5640.52 | url | contain: / | 6.44 | 1247 | 71147|| \n",
      " ||152220 | 2021-10-16 | 168876715 | 5411 | 1139 | 553.0 | 317397 | 66526 | 32742.0 | 5765.77 | 5740.74 | 5820.8 | composite url | contain: /main? | 3.42 | 1100 | 65426|| \n",
      " ||40602745 | 2021-10-16 | 25515769 | 361 | 875 | 360.0 | 22159 | 64141 | 22094.0 | 6038.23 | 7230.4 | 6037.22 | url | contain: platformaofd.ru | 2.81 | 850 | 63291|| \n",
      " ||92290 | 2021-10-16 | 21493055 | 251 | 817 | 251.0 | 14827 | 48913 | 14838.0 | 5807.17 | 5886.9 | 5811.55 | url | contain: blacktyres.ru | 2.58 | 796 | 48117|| \n",
      " ||37317 | 2021-10-16 | 6139884 | 149 | 808 | 149.0 | 9003 | 34718 | 9007.0 | 5942.28 | 4196.78 | 5944.97 | url | contain: av.ru | 25.69 | 600 | 34118|| \n",
      " ||88259 | 2021-10-16 | 32312373 | 995 | 497 | 294.0 | 59064 | 31706 | 18735.0 | 5836.08 | 6279.48 | 6272.45 | composite url | contain: products | 0.0 | 497 | 31209|| \n",
      " ||66149392 | 2021-10-16 | 176518660 | 319 | 565 | 319.0 | 18264 | 30724 | 18288.0 | 5625.39 | 5337.88 | 5632.92 | url | contain: / | 3.16 | 547 | 30177|| \n",
      " ||152220 | 2021-10-16 | 141775477 | 5411 | 4924 | 2566.0 | 317397 | 25851 | 19440.0 | 5765.77 | 425.0 | 657.6 | composite action, url | action: transfers_contractform_success, contain: /ac_result, contain: /cc_result, contain: /pc_result | 90.12 | 486 | 25365|| \n",
      " ||152220 | 2021-10-16 | 6402111 | 5411 | 377 | 117.0 | 317397 | 16182 | 6207.0 | 5765.77 | 4192.31 | 5205.13 | composite url | contain: /cards | 9.71 | 340 | 15842|| \n",
      " ||152220 | 2021-10-16 | 42110122 | 5411 | 377 | 117.0 | 317397 | 16181 | 6207.0 | 5765.77 | 4192.04 | 5205.13 | composite url | contain: /cards | 9.71 | 340 | 15841|| \n",
      " ||71096 | 2021-10-16 | 57132781 | 60 | 302 | 60.0 | 4161 | 15032 | 4165.0 | 6835.0 | 4877.48 | 6841.67 | composite url | contain: electro-mpo.ru | 0.37 | 301 | 14731|| \n",
      " ||39269 | 2021-10-16 | 28959179 | 31 | 173 | 31.0 | 1989 | 11651 | 1989.0 | 6316.13 | 6634.68 | 6316.13 | composite url | contain: /www.mebelaero.ru/ | 14.46 | 148 | 11503|| \n",
      " |#\n"
     ]
    }
   ],
   "source": [
    "df_to_wiki(other_bad_tmp_df.sort_values('pred_conversions_diff', ascending = False).head(20))"
   ]
  },
  {
   "cell_type": "code",
   "execution_count": 220,
   "metadata": {},
   "outputs": [
    {
     "name": "stdout",
     "output_type": "stream",
     "text": [
      "#|\n",
      " ||counter_id | date | goal_id | total_visits_prod | conversions_prod | conversion_visits_prod | total_visits_test | conversions_test | conversion_visits_test | visits_diff | conversions_diff | conversion_visits_diff | goal_types | pattern | bad_goals_share | pred_conversions_test | pred_conversions_diff|| \n",
      " ||55027 | 2021-10-16 | 35983435 | 1581 | 22984 | 1580.0 | 97798 | 1188655 | 98500.0 | 6085.83 | 5071.66 | 6134.18 | url | contain: sima-land.ru | 23.18 | 17656 | 1170999|| \n",
      " ||45727869 | 2021-10-16 | 42528902 | 12588 | 22830 | 12591.0 | 750430 | 1366686 | 747566.0 | 5861.47 | 5886.36 | 5837.3 | url | contain: / | 0.0 | 22830 | 1343856|| \n",
      " ||153166 | 2021-10-16 | 23887485 | 8083 | 18285 | 8022.0 | 478126 | 1015567 | 472490.0 | 5815.2 | 5454.1 | 5789.93 | url | contain: kommersant.ru | 5.2 | 17334 | 998233|| \n",
      " ||115080 | 2021-10-16 | 26350179 | 15793 | 8472 | 1969.0 | 953968 | 144433 | 121293.0 | 5940.45 | 1604.83 | 6060.13 | url | contain: nowcast | 84.37 | 1324 | 143109|| \n",
      " ||34 | 2021-10-16 | 2918974 | 890 | 6317 | 857.0 | 51642 | 279911 | 50381.0 | 5702.47 | 4331.07 | 5778.76 | url | contain: direct.yandex.ru | 37.51 | 3947 | 275964|| \n",
      " ||152220 | 2021-10-16 | 141775477 | 5411 | 4924 | 2566.0 | 317397 | 25851 | 19440.0 | 5765.77 | 425.0 | 657.6 | composite action, url | action: transfers_contractform_success, contain: /ac_result, contain: /cc_result, contain: /pc_result | 90.12 | 486 | 25365|| \n",
      " ||152220 | 2021-10-16 | 11268852 | 5411 | 4482 | 2247.0 | 0 | 0 | 0.0 | -100.0 | -100.0 | -100.0 | composite url | contain: /ac_result, contain: /cc_result, contain: /pc_result | 100.0 | 0 | 0|| \n",
      " ||152220 | 2021-10-16 | 32050262 | 5411 | 2771 | 599.0 | 317397 | 72473 | 32786.0 | 5765.77 | 2515.41 | 5373.46 | composite url | contain: /transfer | 69.8 | 837 | 71636|| \n",
      " ||115081 | 2021-10-16 | 34035090 | 3111 | 2485 | 980.0 | 0 | 0 | 0.0 | -100.0 | -100.0 | -100.0 | url | contain: event.cinema.schedule.scroll, contain: event.other.schedule.scroll, contain: mobtickets-widget_open, contain: tickets-widget_open | 100.0 | 0 | 0|| \n",
      " ||88259 | 2021-10-16 | 20067025 | 995 | 1812 | 827.0 | 59064 | 107603 | 48300.0 | 5836.08 | 5838.36 | 5740.39 | composite url | contain: blizko.ru | 6.26 | 1699 | 105904|| \n",
      " ||115081 | 2021-10-16 | 30581369 | 3111 | 1543 | 716.0 | 0 | 0 | 0.0 | -100.0 | -100.0 | -100.0 | url | contain: mobtickets-widget_open, contain: tickets-widget_open | 100.0 | 0 | 0|| \n",
      " ||72321 | 2021-10-16 | 13240105 | 457 | 1518 | 457.0 | 27761 | 81673 | 27787.0 | 5974.62 | 5280.3 | 5980.31 | url | contain: techport.ru | 0.23 | 1515 | 80158|| \n",
      " ||115081 | 2021-10-16 | 30581399 | 3111 | 1446 | 701.0 | 0 | 0 | 0.0 | -100.0 | -100.0 | -100.0 | url | contain: mobtickets-widget_session, contain: tickets-widget_session | 100.0 | 0 | 0|| \n",
      " ||50039545 | 2021-10-16 | 41158645 | 459 | 1333 | 459.0 | 26327 | 72394 | 26349.0 | 5635.73 | 5330.91 | 5640.52 | url | contain: / | 6.44 | 1247 | 71147|| \n",
      " ||152220 | 2021-10-16 | 168876715 | 5411 | 1139 | 553.0 | 317397 | 66526 | 32742.0 | 5765.77 | 5740.74 | 5820.8 | composite url | contain: /main? | 3.42 | 1100 | 65426|| \n",
      " ||40602745 | 2021-10-16 | 25515769 | 361 | 875 | 360.0 | 22159 | 64141 | 22094.0 | 6038.23 | 7230.4 | 6037.22 | url | contain: platformaofd.ru | 2.81 | 850 | 63291|| \n",
      " ||92290 | 2021-10-16 | 21493055 | 251 | 817 | 251.0 | 14827 | 48913 | 14838.0 | 5807.17 | 5886.9 | 5811.55 | url | contain: blacktyres.ru | 2.58 | 796 | 48117|| \n",
      " ||37317 | 2021-10-16 | 6139884 | 149 | 808 | 149.0 | 9003 | 34718 | 9007.0 | 5942.28 | 4196.78 | 5944.97 | url | contain: av.ru | 25.69 | 600 | 34118|| \n",
      " ||66149392 | 2021-10-16 | 176518660 | 319 | 565 | 319.0 | 18264 | 30724 | 18288.0 | 5625.39 | 5337.88 | 5632.92 | url | contain: / | 3.16 | 547 | 30177|| \n",
      " ||152220 | 2021-10-16 | 9904915 | 5411 | 526 | 381.0 | 317397 | 731 | 460.0 | 5765.77 | 38.97 | 20.73 | composite url | contain: /start? | 46.54 | 281 | 450|| \n",
      " |#\n"
     ]
    }
   ],
   "source": [
    "df_to_wiki(other_bad_tmp_df.head(20))"
   ]
  },
  {
   "cell_type": "code",
   "execution_count": 221,
   "metadata": {},
   "outputs": [],
   "source": [
    "pd.set_option('display.max_colwidth', 5000)"
   ]
  },
  {
   "cell_type": "code",
   "execution_count": 222,
   "metadata": {},
   "outputs": [
    {
     "data": {
      "text/html": [
       "<div>\n",
       "<style scoped>\n",
       "    .dataframe tbody tr th:only-of-type {\n",
       "        vertical-align: middle;\n",
       "    }\n",
       "\n",
       "    .dataframe tbody tr th {\n",
       "        vertical-align: top;\n",
       "    }\n",
       "\n",
       "    .dataframe thead th {\n",
       "        text-align: right;\n",
       "    }\n",
       "</style>\n",
       "<table border=\"1\" class=\"dataframe\">\n",
       "  <thead>\n",
       "    <tr style=\"text-align: right;\">\n",
       "      <th></th>\n",
       "      <th>bad_goals</th>\n",
       "      <th>bad_goals_share</th>\n",
       "      <th>counter_id</th>\n",
       "      <th>goal_id</th>\n",
       "      <th>goal_types</th>\n",
       "      <th>is_yandex_counter</th>\n",
       "      <th>layer_id</th>\n",
       "      <th>num_conditions</th>\n",
       "      <th>pattern</th>\n",
       "      <th>total_goals</th>\n",
       "    </tr>\n",
       "  </thead>\n",
       "  <tbody>\n",
       "    <tr>\n",
       "      <th>128112</th>\n",
       "      <td>16</td>\n",
       "      <td>88.89</td>\n",
       "      <td>82709953</td>\n",
       "      <td>198184135</td>\n",
       "      <td>url</td>\n",
       "      <td>0</td>\n",
       "      <td>1</td>\n",
       "      <td>4</td>\n",
       "      <td>contain: /contacts, contain: company_contacts_hovered, contain: company_contacts_viewed, contain: contacts_view_on_company_site</td>\n",
       "      <td>18</td>\n",
       "    </tr>\n",
       "  </tbody>\n",
       "</table>\n",
       "</div>"
      ],
      "text/plain": [
       "        bad_goals  bad_goals_share counter_id    goal_id goal_types  \\\n",
       "128112         16            88.89   82709953  198184135        url   \n",
       "\n",
       "        is_yandex_counter  layer_id  num_conditions  \\\n",
       "128112                  0         1               4   \n",
       "\n",
       "                                                                                                                                pattern  \\\n",
       "128112  contain: /contacts, contain: company_contacts_hovered, contain: company_contacts_viewed, contain: contacts_view_on_company_site   \n",
       "\n",
       "        total_goals  \n",
       "128112           18  "
      ]
     },
     "execution_count": 222,
     "metadata": {},
     "output_type": "execute_result"
    }
   ],
   "source": [
    "bad_goals_cube_df[bad_goals_cube_df.goal_id == '198184135']"
   ]
  },
  {
   "cell_type": "code",
   "execution_count": 223,
   "metadata": {},
   "outputs": [],
   "source": [
    "tiu_bad_goals = bad_goals_cube_df[list(map(\n",
    "    lambda x: x == 'contain: /contacts, contain: company_contacts_hovered, contain: company_contacts_viewed, contain: contacts_view_on_company_site',\n",
    "    bad_goals_cube_df.pattern\n",
    "))].goal_id.values"
   ]
  },
  {
   "cell_type": "code",
   "execution_count": 224,
   "metadata": {},
   "outputs": [
    {
     "name": "stdout",
     "output_type": "stream",
     "text": [
      "goals: 187 , matched goals: 8\n",
      "total visits: 25 vs 1248 (4892.00%)\n",
      "conversion: 10 vs 722 (7120.00%)\n",
      "conversion visits: 9 vs 486 (5300.00%)\n"
     ]
    },
    {
     "name": "stderr",
     "output_type": "stream",
     "text": [
      "/home/miptgirl/jupyterenv/lib/python3.7/site-packages/ipykernel_launcher.py:24: SettingWithCopyWarning: \n",
      "A value is trying to be set on a copy of a slice from a DataFrame.\n",
      "Try using .loc[row_indexer,col_indexer] = value instead\n",
      "\n",
      "See the caveats in the documentation: https://pandas.pydata.org/pandas-docs/stable/user_guide/indexing.html#returning-a-view-versus-a-copy\n"
     ]
    }
   ],
   "source": [
    "tiu_tmp_df = cmp_df[cmp_df.goal_id.isin(tiu_bad_goals)]\n",
    "tiu_tmp_df = get_coefs(tiu_tmp_df)"
   ]
  },
  {
   "cell_type": "code",
   "execution_count": null,
   "metadata": {},
   "outputs": [],
   "source": []
  },
  {
   "cell_type": "code",
   "execution_count": null,
   "metadata": {},
   "outputs": [],
   "source": []
  },
  {
   "cell_type": "code",
   "execution_count": null,
   "metadata": {},
   "outputs": [],
   "source": []
  },
  {
   "cell_type": "code",
   "execution_count": null,
   "metadata": {},
   "outputs": [],
   "source": []
  },
  {
   "cell_type": "code",
   "execution_count": null,
   "metadata": {},
   "outputs": [],
   "source": []
  },
  {
   "cell_type": "code",
   "execution_count": null,
   "metadata": {},
   "outputs": [],
   "source": []
  },
  {
   "cell_type": "code",
   "execution_count": null,
   "metadata": {},
   "outputs": [],
   "source": []
  }
 ],
 "metadata": {
  "kernelspec": {
   "display_name": "jupyterenv",
   "language": "python",
   "name": "jupyterenv"
  },
  "language_info": {
   "codemirror_mode": {
    "name": "ipython",
    "version": 3
   },
   "file_extension": ".py",
   "mimetype": "text/x-python",
   "name": "python",
   "nbconvert_exporter": "python",
   "pygments_lexer": "ipython3",
   "version": "3.7.8"
  }
 },
 "nbformat": 4,
 "nbformat_minor": 4
}
