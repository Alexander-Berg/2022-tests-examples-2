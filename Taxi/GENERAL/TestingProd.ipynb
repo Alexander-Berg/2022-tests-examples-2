{
 "cells": [
  {
   "cell_type": "code",
   "execution_count": 35,
   "metadata": {},
   "outputs": [],
   "source": [
    "import mylib\n",
    "import pandas as pd\n",
    "\n",
    "from datetime import datetime, timedelta\n",
    "from MyReportClass import MyReportClass"
   ]
  },
  {
   "cell_type": "code",
   "execution_count": 36,
   "metadata": {},
   "outputs": [],
   "source": [
    "def get_last_dt(file_name):\n",
    "    with open(file_name, 'r') as f:\n",
    "        tmp = f.read().strip()\n",
    "    return datetime.strptime(tmp, '%Y-%m-%d')"
   ]
  },
  {
   "cell_type": "code",
   "execution_count": 37,
   "metadata": {},
   "outputs": [],
   "source": [
    "main_yql_file = 'main.yql'\n",
    "last_dt_file = 'last_uploaded_dt.txt'\n",
    "result_table = '//home/taxi-analytics/kis/tmp/drivers_activity_report'"
   ]
  },
  {
   "cell_type": "code",
   "execution_count": 38,
   "metadata": {},
   "outputs": [],
   "source": [
    "last_dttm = get_last_dt(last_dt_file)\n",
    "yesterday_dttm = datetime.now() - timedelta(days=1)"
   ]
  },
  {
   "cell_type": "code",
   "execution_count": 39,
   "metadata": {},
   "outputs": [],
   "source": [
    "my_report = MyReportClass(\n",
    "    global_file_name='DriversActivityReport_ex_Pugachev.py',\n",
    "\n",
    "    main_yql_script=main_yql_file,\n",
    "    yql_params_dict={\n",
    "        'start_dt': last_dttm.strftime('%Y-%m-%d'),\n",
    "        'end_dt': yesterday_dttm.strftime('%Y-%m-%d'),\n",
    "        'result_table': result_table\n",
    "    },\n",
    "    yt_yql_result_table=result_table,\n",
    "\n",
    "    stat_report_name='taxi.yandex.ru/Others/kpugachev/drivers_categories_d',\n",
    "    stat_report_scale='d'\n",
    ")"
   ]
  },
  {
   "cell_type": "code",
   "execution_count": 41,
   "metadata": {
    "scrolled": false
   },
   "outputs": [
    {
     "name": "stdout",
     "output_type": "stream",
     "text": [
      "IKARS:\n",
      "\n",
      "Starting \"DriversActivityReport_ex_Pugachev.py\"!:\n"
     ]
    },
    {
     "name": "stderr",
     "output_type": "stream",
     "text": [
      "Selected from YT, 0:00:05.947547"
     ]
    },
    {
     "name": "stdout",
     "output_type": "stream",
     "text": [
      "Sending to Statface...\n",
      "Finishing \"DriversActivityReport_ex_Pugachev.py\"!:\n",
      "0:00:27.353308\n"
     ]
    }
   ],
   "source": [
    "my_report.evaluate_full_report()"
   ]
  },
  {
   "cell_type": "code",
   "execution_count": 42,
   "metadata": {},
   "outputs": [],
   "source": [
    "with open(last_dt_file, 'w') as f:\n",
    "    f.write(yesterday_dttm.strftime('%Y-%m-%d'))"
   ]
  },
  {
   "cell_type": "code",
   "execution_count": null,
   "metadata": {},
   "outputs": [],
   "source": []
  }
 ],
 "metadata": {
  "kernelspec": {
   "display_name": "Python 2",
   "language": "python",
   "name": "python2"
  },
  "language_info": {
   "codemirror_mode": {
    "name": "ipython",
    "version": 2
   },
   "file_extension": ".py",
   "mimetype": "text/x-python",
   "name": "python",
   "nbconvert_exporter": "python",
   "pygments_lexer": "ipython2",
   "version": "2.7.6"
  }
 },
 "nbformat": 4,
 "nbformat_minor": 2
}
