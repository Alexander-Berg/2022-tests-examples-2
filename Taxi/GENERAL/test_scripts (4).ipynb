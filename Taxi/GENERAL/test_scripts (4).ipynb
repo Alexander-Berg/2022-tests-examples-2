{
 "cells": [
  {
   "cell_type": "code",
   "execution_count": null,
   "metadata": {
    "ExecuteTime": {
     "end_time": "2020-04-10T08:16:41.186356Z",
     "start_time": "2020-04-10T08:16:41.182463Z"
    }
   },
   "outputs": [],
   "source": [
    "workflow_id = 'b1cabca8-7712-49c9-958f-1966058d54f5'\n",
    "model_name = 'model_econom_v0.bin'\n",
    "scoring_config_version = '0'\n",
    "date = '2020-04-06'"
   ]
  },
  {
   "cell_type": "code",
   "execution_count": null,
   "metadata": {
    "ExecuteTime": {
     "end_time": "2020-04-10T08:21:13.147414Z",
     "start_time": "2020-04-10T08:21:05.227149Z"
    }
   },
   "outputs": [],
   "source": [
    "!python -m projects.driver_scoring.nirvana.score_drivers \\\n",
    "--date=$date \\\n",
    "--model-name=$model_name \\\n",
    "--scoring-config-version=$scoring_config_version \\\n",
    "--catboost-workflow-id=$workflow_id"
   ]
  },
  {
   "cell_type": "code",
   "execution_count": null,
   "metadata": {},
   "outputs": [],
   "source": []
  }
 ],
 "metadata": {
  "kernelspec": {
   "display_name": "Python 3",
   "language": "python",
   "name": "python3"
  },
  "language_info": {
   "codemirror_mode": {
    "name": "ipython",
    "version": 3
   },
   "file_extension": ".py",
   "mimetype": "text/x-python",
   "name": "python",
   "nbconvert_exporter": "python",
   "pygments_lexer": "ipython3",
   "version": "3.7.3"
  }
 },
 "nbformat": 4,
 "nbformat_minor": 2
}
