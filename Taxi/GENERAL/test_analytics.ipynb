{
 "cells": [
  {
   "cell_type": "code",
   "execution_count": null,
   "metadata": {
    "ExecuteTime": {
     "end_time": "2020-03-21T10:23:05.283717Z",
     "start_time": "2020-03-21T10:23:04.465375Z"
    }
   },
   "outputs": [],
   "source": [
    "import importlib\n",
    "import json\n",
    "import datetime\n",
    "\n",
    "import numpy as np\n",
    "import pandas as pd\n",
    "import tqdm\n",
    "\n",
    "from nile.api.v1 import filters as nf\n",
    "from nile.api.v1 import aggregators as na\n",
    "from nile.api.v1 import extractors as ne\n",
    "from qb2.api.v1 import filters as qf\n",
    "from qb2.api.v1 import extractors as qe\n",
    "import matplotlib.pyplot as plt\n",
    "import matplotlib.lines as mlines\n",
    "\n",
    "from projects.common.nile import dates\n",
    "from projects.common.nile import test_utils\n",
    "from projects.driver_scoring import default_values\n",
    "from projects.driver_scoring import project_config\n",
    "from projects.driver_scoring import common as common_ds"
   ]
  },
  {
   "cell_type": "code",
   "execution_count": null,
   "metadata": {
    "ExecuteTime": {
     "end_time": "2020-03-21T10:23:05.289670Z",
     "start_time": "2020-03-21T10:23:05.286308Z"
    }
   },
   "outputs": [],
   "source": [
    "pd.options.display.max_rows=500\n",
    "pd.options.display.max_columns=500"
   ]
  },
  {
   "cell_type": "code",
   "execution_count": null,
   "metadata": {
    "ExecuteTime": {
     "end_time": "2020-03-21T10:23:05.925865Z",
     "start_time": "2020-03-21T10:23:05.291771Z"
    }
   },
   "outputs": [],
   "source": [
    "import modin.pandas as mpd"
   ]
  },
  {
   "cell_type": "code",
   "execution_count": null,
   "metadata": {
    "ExecuteTime": {
     "end_time": "2020-03-21T10:23:05.948773Z",
     "start_time": "2020-03-21T10:23:05.929356Z"
    }
   },
   "outputs": [],
   "source": [
    "importlib.reload(project_config)\n",
    "importlib.reload(default_values)\n",
    "importlib.reload(common_ds)"
   ]
  },
  {
   "cell_type": "code",
   "execution_count": null,
   "metadata": {
    "ExecuteTime": {
     "end_time": "2020-03-21T10:23:07.860985Z",
     "start_time": "2020-03-21T10:23:05.951476Z"
    }
   },
   "outputs": [],
   "source": [
    "cluster = project_config.get_project_cluster(parallel_operations_limit=5)"
   ]
  },
  {
   "cell_type": "code",
   "execution_count": null,
   "metadata": {},
   "outputs": [],
   "source": [
    "DATES = sorted(\n",
    "    [\n",
    "        '2020-10-04',\n",
    "        '2020-10-11',\n",
    "        '2020-10-18',\n",
    "        '2020-10-25',\n",
    "        '2020-11-01',\n",
    "        '2020-11-08',\n",
    "        '2020-11-15',\n",
    "    ]\n",
    ")\n",
    "LAST_DATE = DATES[-1]\n",
    "TEST_DATES = [LAST_DATE]"
   ]
  },
  {
   "cell_type": "markdown",
   "metadata": {},
   "source": [
    "### Reduce memory consumption"
   ]
  },
  {
   "cell_type": "code",
   "execution_count": null,
   "metadata": {
    "ExecuteTime": {
     "end_time": "2020-03-21T10:23:16.069949Z",
     "start_time": "2020-03-21T10:23:08.265703Z"
    }
   },
   "outputs": [],
   "source": [
    "feature_cols_features = [\n",
    "    test_utils.to_string(fc) for fc in list(set(cluster.read(\n",
    "        f'//home/taxi_ml/dev/driver_scoring/driver_features_{DATES[0]}'\n",
    "    )[:10000].as_dataframe().columns))\n",
    "]"
   ]
  },
  {
   "cell_type": "code",
   "execution_count": null,
   "metadata": {
    "ExecuteTime": {
     "end_time": "2020-03-21T10:23:16.088487Z",
     "start_time": "2020-03-21T10:23:16.073365Z"
    }
   },
   "outputs": [],
   "source": [
    "str_cols = {'unique_driver_id': np.object, 'utc_last_order_dttm': np.object}\n",
    "int_cols = {}\n",
    "float_cols = {}\n",
    "dtypes_features = {}\n",
    "\n",
    "for standart in ['econom', 'higher', 'ultima', 'child', 'all', 'other']:\n",
    "    for window in ['35', '70', '140']:\n",
    "        \n",
    "        int_cols.update(\n",
    "            {     \n",
    "                'telemetry_order_cnt_{}'.format(window): np.uint16,\n",
    "                'success_order_cnt_{}_{}'.format(standart, window): np.uint16,\n",
    "                'order_total_cnt_{}'.format(window): np.uint16,\n",
    "                'order_actual_cnt_{}'.format(window): np.uint16\n",
    "            }\n",
    "        )\n",
    "        \n",
    "        str_cols.update({'city_most_freq_{}'.format(window): np.object})\n",
    "        \n",
    "for feat in feature_cols_features:\n",
    "    float_cols.update({feat: np.float32})\n",
    "for feat in (list(str_cols.keys()) + list(int_cols.keys())):\n",
    "    float_cols.pop(feat)\n",
    "            \n",
    "dtypes_features.update(float_cols)\n",
    "dtypes_features.update(str_cols)\n",
    "dtypes_features.update(int_cols)"
   ]
  },
  {
   "cell_type": "code",
   "execution_count": null,
   "metadata": {
    "ExecuteTime": {
     "end_time": "2020-03-21T10:23:26.186832Z",
     "start_time": "2020-03-21T10:23:16.090627Z"
    }
   },
   "outputs": [],
   "source": [
    "feature_cols_target = [\n",
    "    test_utils.to_string(fc) for fc in list(set(cluster.read(\n",
    "        f'//home/taxi_ml/dev/driver_scoring/driver_targets_{LAST_DATE}_v1'\n",
    "    )[:10000].as_dataframe().columns))\n",
    "]"
   ]
  },
  {
   "cell_type": "code",
   "execution_count": null,
   "metadata": {
    "ExecuteTime": {
     "end_time": "2020-03-21T10:23:26.203748Z",
     "start_time": "2020-03-21T10:23:26.189565Z"
    }
   },
   "outputs": [],
   "source": [
    "str_cols = {'unique_driver_id': np.object, 'utc_last_order_dttm': np.object}\n",
    "int_cols = {}\n",
    "float_cols = {}\n",
    "dtypes_target = {}\n",
    "\n",
    "for standart in ['econom', 'higher', 'ultima', 'child', 'all', 'other']:\n",
    "    for window in ['35', '70', '140', '280', '560']:\n",
    "        \n",
    "        int_cols.update(\n",
    "            {     \n",
    "                'telemetry_order_cnt_{}'.format(window): np.uint16,\n",
    "                'success_order_cnt_{}_{}'.format(standart, window): np.uint16,\n",
    "                'order_total_cnt_{}'.format(window): np.uint16,\n",
    "                'order_actual_cnt_{}'.format(window): np.uint16\n",
    "            }\n",
    "        )\n",
    "        \n",
    "        str_cols.update({'city_most_freq_{}'.format(window): np.object})\n",
    "        \n",
    "for feat in feature_cols_target:\n",
    "    float_cols.update({feat: np.float32})\n",
    "for feat in (list(str_cols.keys()) + list(int_cols.keys())):\n",
    "    float_cols.pop(feat)\n",
    "            \n",
    "dtypes_target.update(float_cols)\n",
    "dtypes_target.update(str_cols)\n",
    "dtypes_target.update(int_cols)"
   ]
  },
  {
   "cell_type": "markdown",
   "metadata": {},
   "source": [
    "### Analyze drivers metrics"
   ]
  },
  {
   "cell_type": "code",
   "execution_count": null,
   "metadata": {
    "ExecuteTime": {
     "end_time": "2020-03-21T10:32:15.838569Z",
     "start_time": "2020-03-21T10:23:26.206009Z"
    }
   },
   "outputs": [],
   "source": [
    "features = cluster.read(\n",
    "    f'//home/taxi_ml/dev/driver_scoring/driver_features_{LAST_DATE}'\n",
    ").as_dataframe(dtypes=dtypes_features)\n",
    "\n",
    "for col in str_cols:\n",
    "    if col in features.columns:\n",
    "        features[col] = features[col].apply(lambda x: test_utils.to_string(x))"
   ]
  },
  {
   "cell_type": "code",
   "execution_count": null,
   "metadata": {
    "ExecuteTime": {
     "end_time": "2020-03-21T10:41:01.391522Z",
     "start_time": "2020-03-21T10:32:15.841474Z"
    }
   },
   "outputs": [],
   "source": [
    "targets = cluster.read(\n",
    "    f'//home/taxi_ml/dev/driver_scoring/driver_targets_{LAST_DATE}_v1'\n",
    ").as_dataframe(dtypes=dtypes_target)\n",
    "\n",
    "for col in str_cols:\n",
    "    if col in targets.columns:\n",
    "        targets[col] = targets[col].apply(lambda x: test_utils.to_string(x))"
   ]
  },
  {
   "cell_type": "code",
   "execution_count": null,
   "metadata": {
    "ExecuteTime": {
     "end_time": "2020-03-21T10:41:01.397119Z",
     "start_time": "2020-03-21T10:41:01.394118Z"
    }
   },
   "outputs": [],
   "source": [
    "score_version = 'v1'"
   ]
  },
  {
   "cell_type": "code",
   "execution_count": null,
   "metadata": {
    "ExecuteTime": {
     "end_time": "2020-03-21T10:45:31.269397Z",
     "start_time": "2020-03-21T10:41:01.399615Z"
    }
   },
   "outputs": [],
   "source": [
    "scores_econom = (\n",
    "    cluster\n",
    "    .read(f'//home/taxi_ml/dev/driver_scoring/predictions/econom_{LAST_DATE}_{score_version}')\n",
    "    .as_dataframe(dtypes={'DocId': np.object, 'Probability': np.float32})\n",
    "    .rename({'DocId': 'unique_driver_id', 'Probability': 'score_econom'}, axis=1)\n",
    ")\n",
    "\n",
    "scores_higher = (\n",
    "    cluster\n",
    "    .read(f'//home/taxi_ml/dev/driver_scoring/predictions/higher_{LAST_DATE}_{score_version}')\n",
    "    .as_dataframe(dtypes={'DocId': np.object, 'Probability': np.float32})\n",
    "    .rename({'DocId': 'unique_driver_id', 'Probability': 'score_higher'}, axis=1)\n",
    ")\n",
    "\n",
    "scores_ultima = (\n",
    "    cluster\n",
    "    .read(f'//home/taxi_ml/dev/driver_scoring/predictions/ultima_{LAST_DATE}_{score_version}')\n",
    "    .as_dataframe(dtypes={'DocId': np.object, 'Probability': np.float32})\n",
    "    .rename({'DocId': 'unique_driver_id', 'Probability': 'score_ultima'}, axis=1)\n",
    ")\n",
    "\n",
    "scores_child = (\n",
    "    cluster\n",
    "    .read(f'//home/taxi_ml/dev/driver_scoring/predictions/child_{LAST_DATE}_{score_version}')\n",
    "    .as_dataframe(dtypes={'DocId': np.object, 'Probability': np.float32})\n",
    "    .rename({'DocId': 'unique_driver_id', 'Probability': 'score_child'}, axis=1)\n",
    ")\n",
    "\n",
    "scores_all = (\n",
    "    cluster\n",
    "    .read(f'//home/taxi_ml/dev/driver_scoring/predictions/all_{LAST_DATE}_{score_version}')\n",
    "    .as_dataframe(dtypes={'DocId': np.object, 'Probability': np.float32})\n",
    "    .rename({'DocId': 'unique_driver_id', 'Probability': 'score_all'}, axis=1)\n",
    ")\n",
    "\n",
    "scores = pd.merge(scores_econom, scores_higher, how='inner', on='unique_driver_id')\n",
    "scores = pd.merge(scores, scores_ultima, how='inner', on='unique_driver_id')\n",
    "scores = pd.merge(scores, scores_child, how='inner', on='unique_driver_id')\n",
    "scores = pd.merge(scores, scores_all, how='inner', on='unique_driver_id')\n",
    "\n",
    "scores['unique_driver_id'] = scores['unique_driver_id'].apply(\n",
    "    lambda x: x.decode('utf-8').split('_')[0]\n",
    ")"
   ]
  },
  {
   "cell_type": "code",
   "execution_count": null,
   "metadata": {
    "ExecuteTime": {
     "end_time": "2020-03-21T10:45:49.231327Z",
     "start_time": "2020-03-21T10:45:31.272028Z"
    }
   },
   "outputs": [],
   "source": [
    "df = pd.merge(features,\n",
    "              targets,\n",
    "              how='left',\n",
    "              on='unique_driver_id',\n",
    "              suffixes=('_feature', '_target'))\n",
    "\n",
    "df = pd.merge(df,\n",
    "              scores,\n",
    "              how='left',\n",
    "              on='unique_driver_id')"
   ]
  },
  {
   "cell_type": "code",
   "execution_count": null,
   "metadata": {
    "ExecuteTime": {
     "end_time": "2020-03-21T10:47:04.022992Z",
     "start_time": "2020-03-21T10:46:58.137611Z"
    }
   },
   "outputs": [],
   "source": [
    "city_df = df[['city_most_freq_140_feature',\n",
    "              'success_order_cnt_higher_140_feature',\n",
    "              'success_order_cnt_econom_140_feature']].groupby(\n",
    "    'city_most_freq_140_feature'\n",
    ").sum(\n",
    ").sort_values(\n",
    "    'success_order_cnt_higher_140_feature', ascending=False\n",
    ")"
   ]
  },
  {
   "cell_type": "code",
   "execution_count": null,
   "metadata": {
    "ExecuteTime": {
     "end_time": "2020-03-21T10:47:06.187323Z",
     "start_time": "2020-03-21T10:47:06.183461Z"
    }
   },
   "outputs": [],
   "source": [
    "# for row in city_df.itertuples():\n",
    "#     print(row.Index.decode('utf-8'),\n",
    "#           row.success_order_cnt_higher_140_feature,\n",
    "#           row.success_order_cnt_econom_140_feature)"
   ]
  },
  {
   "cell_type": "code",
   "execution_count": null,
   "metadata": {
    "ExecuteTime": {
     "end_time": "2020-03-21T10:47:06.422618Z",
     "start_time": "2020-03-21T10:47:06.417050Z"
    }
   },
   "outputs": [],
   "source": [
    "higher_cities = set(\n",
    "    city_df[city_df['success_order_cnt_higher_140_feature'] >= 100].index.values.tolist()\n",
    ")"
   ]
  },
  {
   "cell_type": "code",
   "execution_count": null,
   "metadata": {
    "ExecuteTime": {
     "end_time": "2020-03-21T10:47:07.529514Z",
     "start_time": "2020-03-21T10:47:07.526294Z"
    }
   },
   "outputs": [],
   "source": [
    "# with open('higher_cities.json', 'w') as f:\n",
    "#     json.dump(list(higher_cities), f)"
   ]
  },
  {
   "cell_type": "code",
   "execution_count": null,
   "metadata": {
    "ExecuteTime": {
     "end_time": "2020-03-21T10:47:13.526606Z",
     "start_time": "2020-03-21T10:47:13.465108Z"
    }
   },
   "outputs": [],
   "source": [
    "for col in df.columns:\n",
    "    if col.startswith('score_'):\n",
    "        df[col + '_reverse'] = 1-df[col]\n",
    "df['score_random'] = np.random.uniform(size=len(df))"
   ]
  },
  {
   "cell_type": "code",
   "execution_count": null,
   "metadata": {
    "ExecuteTime": {
     "end_time": "2020-03-21T10:47:15.030499Z",
     "start_time": "2020-03-21T10:47:15.026837Z"
    }
   },
   "outputs": [],
   "source": [
    "# for col in df.columns:\n",
    "#     if col.startswith('less_5_'):\n",
    "#         postfix = col.replace('less_5_order_frac', '')\n",
    "#         df['rating_4_order_frac' + postfix] = df[col]\n",
    "#         df[col] = (\n",
    "#             df[col] + df['bad_order_frac' + postfix]\n",
    "#         )"
   ]
  },
  {
   "cell_type": "markdown",
   "metadata": {},
   "source": [
    "#### Common stats about dataset"
   ]
  },
  {
   "cell_type": "code",
   "execution_count": null,
   "metadata": {
    "ExecuteTime": {
     "end_time": "2020-03-19T15:00:00.569184Z",
     "start_time": "2020-03-19T15:00:00.561986Z"
    }
   },
   "outputs": [],
   "source": [
    "# print(df.shape[0], 'drivers total\\n')\n",
    "\n",
    "# print(\n",
    "#     df[(df['success_order_cnt_all_140_feature']>10)].shape[0],\n",
    "#     'drivers with at least 1 trip in the last 140 days\\n'\n",
    "# )\n",
    "\n",
    "# print(\n",
    "#     df[(df['success_order_cnt_all_70_feature']>10)].shape[0],\n",
    "#     'drivers with at least 1 trip in the last 70 days\\n'\n",
    "# )\n",
    "\n",
    "# print(\n",
    "#     df[(df['success_order_cnt_all_35_feature']>10)].shape[0],\n",
    "#     'drivers with at least 1 trip in the last 35 days\\n'\n",
    "# )\n",
    "\n",
    "# print(\n",
    "#     df[(df['success_order_cnt_all_140_target']>10)].shape[0],\n",
    "#     'drivers with at least 1 trip from 2020-02-09 to 2020-03-09\\n'\n",
    "# )\n",
    "\n",
    "# print(\n",
    "#     df[(df['success_order_cnt_econom_140_target']>0)].shape[0],\n",
    "#     'drivers with at least 1 econom trip from 2020-02-09 to 2020-03-09\\n'\n",
    "# )\n",
    "\n",
    "# print(\n",
    "#     df[(df['success_order_cnt_higher_140_target']>0)].shape[0],\n",
    "#     'drivers with at least 1 higher trip from 2020-02-09 to 2020-03-09\\n'\n",
    "# )\n",
    "\n",
    "# print(\n",
    "#     df[(df['success_order_cnt_ultima_140_target']>0)].shape[0],\n",
    "#     'drivers with at least 1 ultima trip from 2020-02-09 to 2020-03-09\\n',\n",
    "# )"
   ]
  },
  {
   "cell_type": "code",
   "execution_count": null,
   "metadata": {
    "ExecuteTime": {
     "end_time": "2020-03-21T10:47:20.965595Z",
     "start_time": "2020-03-21T10:47:20.450749Z"
    }
   },
   "outputs": [],
   "source": [
    "df.head()"
   ]
  },
  {
   "cell_type": "code",
   "execution_count": null,
   "metadata": {
    "ExecuteTime": {
     "end_time": "2020-03-21T10:49:11.097806Z",
     "start_time": "2020-03-21T10:49:11.093017Z"
    }
   },
   "outputs": [],
   "source": [
    "rename_dict = {}\n",
    "for col in df.columns:\n",
    "    if '280' in col or '560' in col:\n",
    "        rename_dict[col] = col + '_target'"
   ]
  },
  {
   "cell_type": "code",
   "execution_count": null,
   "metadata": {
    "ExecuteTime": {
     "end_time": "2020-03-21T10:50:07.107365Z",
     "start_time": "2020-03-21T10:50:04.039275Z"
    }
   },
   "outputs": [],
   "source": [
    "df.rename(rename_dict, axis=1, inplace=True)"
   ]
  },
  {
   "cell_type": "code",
   "execution_count": null,
   "metadata": {
    "ExecuteTime": {
     "end_time": "2020-03-21T10:50:13.685114Z",
     "start_time": "2020-03-21T10:50:12.466690Z"
    }
   },
   "outputs": [],
   "source": [
    "unconstrained_clean_df = df[\n",
    "    (df['success_order_cnt_all_140_feature']>=0)\n",
    "    & (df['success_order_cnt_econom_140_feature']>=0)\n",
    "    & (df['success_order_cnt_all_140_target']>=0)\n",
    "    & (df['success_order_cnt_higher_560_target']>=1)\n",
    "    & (~pd.isnull(df['current_rating_feature']))\n",
    "    & (~pd.isnull(df['score_econom_reverse']))\n",
    "    & (~pd.isnull(df['score_higher_reverse']))\n",
    "    & (~pd.isnull(df['score_random']))\n",
    "    & (df['city_most_freq_140_feature'].apply(lambda x: x in higher_cities))\n",
    "    & (df['current_rating_feature']>=4.8)\n",
    "]"
   ]
  },
  {
   "cell_type": "code",
   "execution_count": null,
   "metadata": {
    "ExecuteTime": {
     "end_time": "2020-03-21T10:50:16.454029Z",
     "start_time": "2020-03-21T10:50:16.448599Z"
    }
   },
   "outputs": [],
   "source": [
    "unconstrained_clean_df.shape"
   ]
  },
  {
   "cell_type": "code",
   "execution_count": null,
   "metadata": {
    "ExecuteTime": {
     "end_time": "2020-03-21T10:57:00.008941Z",
     "start_time": "2020-03-21T10:56:59.990314Z"
    }
   },
   "outputs": [],
   "source": [
    "def calculate_metric(df, perc, score_name, metric_names, total_drivers, total_orders):\n",
    "    \n",
    "    min_score = np.percentile(df[score_name], perc)\n",
    "    \n",
    "    filtered_df = df[(df[score_name] >= min_score)]\n",
    "\n",
    "    \n",
    "    order_cnt = filtered_df['success_order_cnt_all_560_target'].sum()\n",
    "    order_frac = filtered_df['success_order_cnt_all_560_target'].sum() / total_orders\n",
    "    \n",
    "    metric_value = {}\n",
    "    order_metric_cnt = {}\n",
    "    for metric_name in metric_names:\n",
    "        metric_value[metric_name+'_metric_value'] = round(\n",
    "            (filtered_df[metric_name]\n",
    "             * filtered_df['success_order_cnt_all_560_target']).sum()\n",
    "            / filtered_df['success_order_cnt_all_560_target'].sum(),\n",
    "            4\n",
    "        )\n",
    "        order_metric_cnt[metric_name+'_order_cnt'] = int(\n",
    "            (filtered_df[metric_name]\n",
    "             * filtered_df['success_order_cnt_all_560_target']).sum()\n",
    "        )\n",
    "    \n",
    "    driver_frac = filtered_df.shape[0] / total_drivers\n",
    "    driver_cnt = filtered_df.shape[0]\n",
    "    \n",
    "    result_dict = {'min_score': round(min_score, 4),\n",
    "                   'driver_frac': round(driver_frac, 4),\n",
    "                   'driver_cnt': round(driver_cnt, 4),\n",
    "                   'order_cnt': int(order_cnt),\n",
    "                   'order_frac': round(order_frac, 4),\n",
    "                   'score_name': score_name}\n",
    "    result_dict.update(metric_value)\n",
    "    result_dict.update(order_metric_cnt)\n",
    "    \n",
    "    return result_dict"
   ]
  },
  {
   "cell_type": "code",
   "execution_count": null,
   "metadata": {
    "ExecuteTime": {
     "end_time": "2020-03-21T10:57:00.807926Z",
     "start_time": "2020-03-21T10:57:00.388449Z"
    }
   },
   "outputs": [],
   "source": [
    "calculate_metric(df=unconstrained_clean_df,\n",
    "                 perc=0,\n",
    "                 score_name='score_higher_reverse',\n",
    "                 metric_names=['bad_order_frac_all_560_target',\n",
    "                               'less_5_order_frac_all_560_target'],\n",
    "                 total_drivers=unconstrained_clean_df.shape[0],\n",
    "                 total_orders=unconstrained_clean_df['success_order_cnt_all_560_target'].sum())"
   ]
  },
  {
   "cell_type": "code",
   "execution_count": null,
   "metadata": {
    "ExecuteTime": {
     "end_time": "2020-03-21T10:59:30.398648Z",
     "start_time": "2020-03-21T10:57:06.099442Z"
    },
    "scrolled": true
   },
   "outputs": [],
   "source": [
    "result_list = []\n",
    "metric_names = ['bad_order_frac_all_560_target',\n",
    "                'less_5_order_frac_all_560_target']\n",
    "total_drivers = unconstrained_clean_df.shape[0]\n",
    "total_orders = unconstrained_clean_df['success_order_cnt_all_560_target'].sum()\n",
    "\n",
    "for min_rating in tqdm.tqdm_notebook(range(4800, 4801, 25)):\n",
    "    min_rating = min_rating / 1000\n",
    "    for min_orders in tqdm.tqdm_notebook(range(0, 141, 10)):\n",
    "        \n",
    "        clean_df = unconstrained_clean_df[\n",
    "            (unconstrained_clean_df['success_order_cnt_all_140_feature']>=min_orders)\n",
    "            & (unconstrained_clean_df['current_rating_feature']>=min_rating)\n",
    "        ]\n",
    "        \n",
    "        update_dict = {'min_orders': min_orders, 'min_rating': min_rating}\n",
    "        \n",
    "        for perc in tqdm.tqdm_notebook(range(0, 101, 10)):\n",
    "            result_random = calculate_metric(\n",
    "                df=clean_df,\n",
    "                perc=perc,\n",
    "                score_name='score_random',\n",
    "                metric_names=metric_names,\n",
    "                total_drivers=total_drivers,\n",
    "                total_orders=total_orders\n",
    "            )\n",
    "            result_random.update(update_dict)\n",
    "\n",
    "            result_heur = calculate_metric(\n",
    "                df=clean_df,\n",
    "                perc=perc,\n",
    "                score_name='current_rating_feature',\n",
    "                metric_names=metric_names,\n",
    "                total_drivers=total_drivers,\n",
    "                total_orders=total_orders\n",
    "            )\n",
    "            result_heur.update(update_dict)\n",
    "            \n",
    "            result_ml_econom = calculate_metric(\n",
    "                df=clean_df,\n",
    "                perc=perc,\n",
    "                score_name='score_econom_reverse',\n",
    "                metric_names=metric_names,\n",
    "                total_drivers=total_drivers,\n",
    "                total_orders=total_orders\n",
    "            )\n",
    "            result_ml_econom.update(update_dict)\n",
    "            \n",
    "            result_ml_higher = calculate_metric(\n",
    "                df=clean_df,\n",
    "                perc=perc,\n",
    "                score_name='score_higher_reverse',\n",
    "                metric_names=metric_names,\n",
    "                total_drivers=total_drivers,\n",
    "                total_orders=total_orders\n",
    "            )\n",
    "            result_ml_higher.update(update_dict)\n",
    "\n",
    "            result_list.append(result_random)\n",
    "            result_list.append(result_heur)\n",
    "            result_list.append(result_ml_econom)\n",
    "            result_list.append(result_ml_higher)"
   ]
  },
  {
   "cell_type": "code",
   "execution_count": null,
   "metadata": {
    "ExecuteTime": {
     "end_time": "2020-03-21T11:04:08.146511Z",
     "start_time": "2020-03-21T11:04:08.137646Z"
    }
   },
   "outputs": [],
   "source": [
    "result_df = pd.DataFrame(result_list)"
   ]
  },
  {
   "cell_type": "code",
   "execution_count": null,
   "metadata": {
    "ExecuteTime": {
     "end_time": "2020-03-21T11:04:08.330645Z",
     "start_time": "2020-03-21T11:04:08.324916Z"
    }
   },
   "outputs": [],
   "source": [
    "result_df.rename({\n",
    "    'bad_order_frac_all_560_target_metric_value': 'bad_order_frac',\n",
    "    'less_5_order_frac_all_560_target_metric_value': 'less_5_order_frac',\n",
    "    'bad_order_frac_all_560_target_order_cnt': 'bad_order_cnt',\n",
    "    'less_5_order_frac_all_560_target_order_cnt': 'less_5_order_cnt'\n",
    "}, axis=1, inplace=True)"
   ]
  },
  {
   "cell_type": "code",
   "execution_count": null,
   "metadata": {
    "ExecuteTime": {
     "end_time": "2020-03-21T11:04:08.521565Z",
     "start_time": "2020-03-21T11:04:08.515304Z"
    }
   },
   "outputs": [],
   "source": [
    "result_df = result_df[[\n",
    "    'score_name', 'min_score', 'min_rating', 'min_orders',\n",
    "    'bad_order_cnt', 'bad_order_frac', 'less_5_order_cnt', 'less_5_order_frac',\n",
    "    'order_cnt', 'order_frac', 'driver_cnt', 'driver_frac'\n",
    "]]"
   ]
  },
  {
   "cell_type": "code",
   "execution_count": null,
   "metadata": {
    "ExecuteTime": {
     "end_time": "2020-03-21T11:04:09.896176Z",
     "start_time": "2020-03-21T11:04:09.892564Z"
    }
   },
   "outputs": [],
   "source": [
    "rename_dict = {'score_econom_reverse': 'ml',\n",
    "               'current_rating_feature': 'rating',\n",
    "               'score_random': 'random'}"
   ]
  },
  {
   "cell_type": "code",
   "execution_count": null,
   "metadata": {
    "ExecuteTime": {
     "end_time": "2020-03-21T11:04:10.109907Z",
     "start_time": "2020-03-21T11:04:10.104947Z"
    }
   },
   "outputs": [],
   "source": [
    "result_df = result_df[result_df['score_name']!='score_higher_reverse']"
   ]
  },
  {
   "cell_type": "code",
   "execution_count": null,
   "metadata": {
    "ExecuteTime": {
     "end_time": "2020-03-21T11:04:10.577224Z",
     "start_time": "2020-03-21T11:04:10.572407Z"
    }
   },
   "outputs": [],
   "source": [
    "result_df['score_name'] = result_df['score_name'].apply(lambda x: rename_dict[x])"
   ]
  },
  {
   "cell_type": "code",
   "execution_count": null,
   "metadata": {
    "ExecuteTime": {
     "end_time": "2020-03-23T15:04:52.696761Z",
     "start_time": "2020-03-23T15:04:52.676251Z"
    }
   },
   "outputs": [],
   "source": [
    "result_df[\n",
    "    (result_df['min_rating']==4.8)\n",
    "    & (result_df['order_frac']==1)]"
   ]
  },
  {
   "cell_type": "code",
   "execution_count": null,
   "metadata": {
    "ExecuteTime": {
     "end_time": "2020-03-23T15:05:04.821710Z",
     "start_time": "2020-03-23T15:05:04.724848Z"
    }
   },
   "outputs": [],
   "source": [
    "result_df[\n",
    "    (result_df['min_rating']==4.8)\n",
    "#     & (result_df['order_frac']>=0.75)\n",
    "    & (result_df['bad_order_frac']<=0.0064)\n",
    "].sort_values('order_frac', ascending=False)"
   ]
  },
  {
   "cell_type": "code",
   "execution_count": null,
   "metadata": {
    "ExecuteTime": {
     "end_time": "2020-03-23T15:26:22.444081Z",
     "start_time": "2020-03-23T15:26:22.327223Z"
    }
   },
   "outputs": [],
   "source": [
    "result_df[\n",
    "    (result_df['min_rating']==4.8)\n",
    "#     & (result_df['order_frac']>=0.75)\n",
    "    & (result_df['bad_order_frac']<=0.007)\n",
    "].sort_values('order_frac', ascending=False)"
   ]
  },
  {
   "cell_type": "code",
   "execution_count": null,
   "metadata": {
    "ExecuteTime": {
     "end_time": "2020-03-21T11:05:46.186901Z",
     "start_time": "2020-03-21T11:05:46.003384Z"
    }
   },
   "outputs": [],
   "source": [
    "# result_df.to_excel('scoring_constraints_analytics.xls')"
   ]
  },
  {
   "cell_type": "code",
   "execution_count": null,
   "metadata": {
    "ExecuteTime": {
     "end_time": "2020-03-21T11:09:24.858948Z",
     "start_time": "2020-03-21T11:09:24.834016Z"
    }
   },
   "outputs": [],
   "source": [
    "min_rating = 4.8\n",
    "min_orders = 140\n",
    "\n",
    "rating = result_df[\n",
    "    (result_df['min_rating']==min_rating)\n",
    "    & (result_df['score_name']=='rating')\n",
    "    & (result_df['min_orders']==min_orders)\n",
    "].sort_values('min_score')\n",
    "\n",
    "random = result_df[\n",
    "    (result_df['min_rating']==min_rating)\n",
    "    & (result_df['score_name']=='random')\n",
    "    & (result_df['min_orders']==min_orders)\n",
    "].sort_values('min_score')\n",
    "\n",
    "ml_econom = result_df[\n",
    "    (result_df['min_rating']==min_rating)\n",
    "    & (result_df['score_name']=='ml')\n",
    "    & (result_df['min_orders']==min_orders)\n",
    "].sort_values('min_score')\n",
    "\n",
    "# ml_higher = result_df[\n",
    "#     (result_df['min_rating']==min_rating)\n",
    "#     & (result_df['score_name']=='score_higher_reverse')\n",
    "#     & (result_df['min_orders']==min_orders)\n",
    "# ].sort_values('min_score')"
   ]
  },
  {
   "cell_type": "code",
   "execution_count": null,
   "metadata": {
    "ExecuteTime": {
     "end_time": "2020-03-21T11:09:25.052749Z",
     "start_time": "2020-03-21T11:09:25.049619Z"
    }
   },
   "outputs": [],
   "source": [
    "# ml_econom"
   ]
  },
  {
   "cell_type": "code",
   "execution_count": null,
   "metadata": {
    "ExecuteTime": {
     "end_time": "2020-03-21T11:09:25.313630Z",
     "start_time": "2020-03-21T11:09:25.310716Z"
    }
   },
   "outputs": [],
   "source": [
    "# rating"
   ]
  },
  {
   "cell_type": "code",
   "execution_count": null,
   "metadata": {
    "ExecuteTime": {
     "end_time": "2020-03-21T11:09:26.127237Z",
     "start_time": "2020-03-21T11:09:25.593299Z"
    }
   },
   "outputs": [],
   "source": [
    "# econom min rating 0\n",
    "fig, ax = plt.subplots(figsize=(16, 12))\n",
    "ax.grid()\n",
    "ax.set_yticks(np.arange(0, 1, step=0.05))\n",
    "\n",
    "x_min = min(\n",
    "    rating['bad_order_frac'][:-2].min(),\n",
    "    ml_econom['bad_order_frac'][:-2].min(),\n",
    "    random['bad_order_frac'][:-2].min(),\n",
    ")\n",
    "x_max = max(\n",
    "    rating['bad_order_frac'][:-2].max(),\n",
    "    ml_econom['bad_order_frac'][:-2].max(),\n",
    "    random['bad_order_frac'][:-2].max(),\n",
    ")\n",
    "length = x_max - x_min\n",
    "\n",
    "ax.set_xlim((x_min - length / 3, x_max + length / 3))\n",
    "\n",
    "ax.set_title(f'Algorithm Comparison ({LAST_DATE})', fontsize=20)\n",
    "ax.set_xlabel(\n",
    "    'Defect Rate (#trips with rating < 4 / #trips)',\n",
    "    fontsize=18,\n",
    ")\n",
    "ax.set_ylabel(\n",
    "    f'Fraction of Total Supply ({total_orders / 1e6:.1f}M orders)',\n",
    "    fontsize=18,\n",
    ")\n",
    "\n",
    "ax.plot(\n",
    "    rating['bad_order_frac'][:-2],\n",
    "    rating['order_frac'][:-2],\n",
    "    color='b',\n",
    "    lw=2,\n",
    "    label='Rating',\n",
    ")\n",
    "ax.plot(\n",
    "    ml_econom['bad_order_frac'][:-2],\n",
    "    ml_econom['order_frac'][:-2],\n",
    "    color='g',\n",
    "    lw=2,\n",
    "    label='ML',\n",
    ")\n",
    "ax.plot(\n",
    "    random['bad_order_frac'][:-2],\n",
    "    random['order_frac'][:-2],\n",
    "    color='r',\n",
    "    lw=2,\n",
    "    label='Random',\n",
    ")\n",
    "\n",
    "ax.legend(fontsize=20, loc=2)\n",
    "ax.grid(ls='-.')\n",
    "\n",
    "plt.savefig(f'supply_vs_dr_{LAST_DATE}.png', dpi=150)"
   ]
  },
  {
   "cell_type": "code",
   "execution_count": null,
   "metadata": {
    "ExecuteTime": {
     "end_time": "2020-03-19T10:35:58.819772Z",
     "start_time": "2020-03-19T10:34:15.756353Z"
    }
   },
   "outputs": [],
   "source": [
    "corr_df = unconstrained_clean_df.corr('pearson')[[\n",
    "    'bad_order_frac_higher_140_target',\n",
    "    'bad_order_frac_econom_140_target',\n",
    "    'bad_order_frac_ultima_140_target',\n",
    "    'bad_order_frac_child_140_target',\n",
    "    'bad_order_frac_all_140_target'\n",
    "]]"
   ]
  },
  {
   "cell_type": "code",
   "execution_count": null,
   "metadata": {
    "ExecuteTime": {
     "end_time": "2020-03-19T10:36:42.475930Z",
     "start_time": "2020-03-19T10:36:42.459695Z"
    }
   },
   "outputs": [],
   "source": [
    "corr_df['bad_order_frac_all_140_target'].apply(\n",
    "    lambda x: abs(x)\n",
    ").loc[\n",
    "    [i for i in corr_df['bad_order_frac_all_140_target'].index if not i.endswith('target')]\n",
    "].sort_values(ascending=False).round(4)"
   ]
  },
  {
   "cell_type": "code",
   "execution_count": null,
   "metadata": {},
   "outputs": [],
   "source": []
  },
  {
   "cell_type": "markdown",
   "metadata": {},
   "source": [
    "### Choose min num orders"
   ]
  },
  {
   "cell_type": "code",
   "execution_count": null,
   "metadata": {
    "ExecuteTime": {
     "end_time": "2020-03-15T12:26:05.784553Z",
     "start_time": "2020-03-15T12:26:05.193843Z"
    }
   },
   "outputs": [],
   "source": [
    "df['success_order_cnt_econom_140_feature'].hist(bins=100)"
   ]
  },
  {
   "cell_type": "code",
   "execution_count": null,
   "metadata": {
    "ExecuteTime": {
     "end_time": "2020-03-15T12:49:23.753624Z",
     "start_time": "2020-03-15T12:48:44.114731Z"
    }
   },
   "outputs": [],
   "source": [
    "for standart in ['econom', 'higher', 'ultima', 'all']:\n",
    "    for perc in [5, 25, 50, 75, 95]:\n",
    "        print(\n",
    "            standart,\n",
    "            perc,\n",
    "            np.percentile(\n",
    "                df[df['success_order_cnt_{}_140_feature'.format(standart)]>0]['success_order_cnt_{}_140_feature'.format(standart)],\n",
    "                perc\n",
    "            )\n",
    "        )"
   ]
  },
  {
   "cell_type": "code",
   "execution_count": null,
   "metadata": {
    "ExecuteTime": {
     "end_time": "2020-03-15T12:47:57.403230Z",
     "start_time": "2020-03-15T12:47:56.742854Z"
    }
   },
   "outputs": [],
   "source": [
    "df[df['success_order_cnt_ultima_140_feature']>0]['success_order_cnt_ultima_140_feature'].hist(bins=100)"
   ]
  },
  {
   "cell_type": "code",
   "execution_count": null,
   "metadata": {
    "ExecuteTime": {
     "end_time": "2020-03-16T16:54:38.505484Z",
     "start_time": "2020-03-16T16:54:02.865776Z"
    }
   },
   "outputs": [],
   "source": [
    "num_trips_list = []\n",
    "less_dr_list = []\n",
    "more_dr_list = []\n",
    "diff_list = []\n",
    "less_drivers_list = []\n",
    "more_drivers_list = []\n",
    "success_orders_less_list = []\n",
    "success_orders_more_list = []\n",
    "\n",
    "for i in range(1, 147, 5):\n",
    "    less_df = unconstrained_clean_df[\n",
    "        (unconstrained_clean_df['success_order_cnt_all_140_feature']<i)\n",
    "        & (unconstrained_clean_df['current_rating_feature']>=4.8)\n",
    "    ]\n",
    "    more_df = unconstrained_clean_df[\n",
    "        (unconstrained_clean_df['success_order_cnt_all_140_feature']>=i)\n",
    "        & (unconstrained_clean_df['current_rating_feature']>=4.8)\n",
    "    ]\n",
    "    less_dr = (\n",
    "        (less_df['bad_order_frac_all_140_target']\n",
    "         * less_df['success_order_cnt_all_140_target']).sum()\n",
    "        / less_df['success_order_cnt_all_140_target'].sum()\n",
    "    )\n",
    "    more_dr = (\n",
    "        (more_df['bad_order_frac_all_140_target']\n",
    "         * more_df['success_order_cnt_all_140_target']).sum()\n",
    "        / more_df['success_order_cnt_all_140_target'].sum()\n",
    "    )\n",
    "    num_trips_list.append(i)\n",
    "    less_dr_list.append(round(less_dr, 5))\n",
    "    more_dr_list.append(round(more_dr, 5))\n",
    "    diff_list.append(round(round(less_dr, 5) - round(more_dr, 5), 3))\n",
    "    less_drivers_list.append(less_df.shape[0])\n",
    "    more_drivers_list.append(more_df.shape[0])\n",
    "    success_orders_less_list.append(less_df['success_order_cnt_all_140_feature'].sum())\n",
    "    success_orders_more_list.append(more_df['success_order_cnt_all_140_feature'].sum())\n",
    "    \n",
    "    "
   ]
  },
  {
   "cell_type": "code",
   "execution_count": null,
   "metadata": {
    "ExecuteTime": {
     "end_time": "2020-03-16T16:55:37.479749Z",
     "start_time": "2020-03-16T16:55:37.455169Z"
    }
   },
   "outputs": [],
   "source": [
    "analytics_df = pd.DataFrame({'min_orders': num_trips_list,\n",
    "              'defect_rate_less': less_dr_list,\n",
    "              'defect_rate_more': more_dr_list,\n",
    "              'diff': diff_list,\n",
    "              'num_drivers_less': less_drivers_list,\n",
    "              'num_drivers_more': more_drivers_list,\n",
    "              'success_orders_less': success_orders_less_list,\n",
    "              'success_orders_more': success_orders_more_list,})"
   ]
  },
  {
   "cell_type": "code",
   "execution_count": null,
   "metadata": {},
   "outputs": [],
   "source": [
    "analytics_df.to_csv(f'analytics_{LAST_DATE}.csv', index=False)"
   ]
  }
 ],
 "metadata": {
  "kernelspec": {
   "display_name": "Python 3",
   "language": "python",
   "name": "python3"
  },
  "language_info": {
   "codemirror_mode": {
    "name": "ipython",
    "version": 3
   },
   "file_extension": ".py",
   "mimetype": "text/x-python",
   "name": "python",
   "nbconvert_exporter": "python",
   "pygments_lexer": "ipython3",
   "version": "3.7.3"
  }
 },
 "nbformat": 4,
 "nbformat_minor": 4
}
