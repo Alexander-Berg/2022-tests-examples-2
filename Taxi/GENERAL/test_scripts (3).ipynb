{
 "cells": [
  {
   "cell_type": "code",
   "execution_count": null,
   "metadata": {
    "ExecuteTime": {
     "end_time": "2020-07-08T16:15:25.064513Z",
     "start_time": "2020-07-08T16:15:24.389783Z"
    }
   },
   "outputs": [],
   "source": [
    "import importlib\n",
    "\n",
    "import numpy as np\n",
    "import pandas as pd\n",
    "\n",
    "from projects.branding_control.classifier_check import project_config as config\n",
    "from projects.branding import common as common_br"
   ]
  },
  {
   "cell_type": "code",
   "execution_count": null,
   "metadata": {
    "ExecuteTime": {
     "end_time": "2020-07-08T16:15:26.980363Z",
     "start_time": "2020-07-08T16:15:26.967668Z"
    }
   },
   "outputs": [],
   "source": [
    "importlib.reload(config)"
   ]
  },
  {
   "cell_type": "code",
   "execution_count": null,
   "metadata": {
    "ExecuteTime": {
     "end_time": "2020-07-08T16:15:28.647104Z",
     "start_time": "2020-07-08T16:15:27.109538Z"
    }
   },
   "outputs": [],
   "source": [
    "cluster = config.get_project_cluster(parallel_operations_limit=5)"
   ]
  },
  {
   "cell_type": "markdown",
   "metadata": {},
   "source": [
    "### Get city_list"
   ]
  },
  {
   "cell_type": "code",
   "execution_count": null,
   "metadata": {
    "ExecuteTime": {
     "end_time": "2020-07-08T17:19:30.084003Z",
     "start_time": "2020-07-08T17:19:30.057188Z"
    }
   },
   "outputs": [],
   "source": [
    "city_df = pd.read_excel('./city_size_district_region.xlsx')"
   ]
  },
  {
   "cell_type": "code",
   "execution_count": null,
   "metadata": {
    "ExecuteTime": {
     "end_time": "2020-01-23T22:23:34.913929Z",
     "start_time": "2020-01-23T22:23:34.906023Z"
    }
   },
   "outputs": [],
   "source": [
    "# City list for Russia.\n",
    "city_df['city_transformed'] = city_df['city'].apply(\n",
    "    lambda x: x.lower().strip(' ').replace(' ', '_')\n",
    ")\n",
    "city_list = '\"' + ' '.join(sorted(city_df['city_transformed'].values)) + ' москва\"'"
   ]
  },
  {
   "cell_type": "code",
   "execution_count": null,
   "metadata": {
    "ExecuteTime": {
     "end_time": "2020-01-24T06:10:01.588138Z",
     "start_time": "2020-01-24T06:10:01.585259Z"
    }
   },
   "outputs": [],
   "source": [
    "# city_list"
   ]
  },
  {
   "cell_type": "code",
   "execution_count": null,
   "metadata": {
    "ExecuteTime": {
     "end_time": "2020-01-23T15:48:10.898057Z",
     "start_time": "2020-01-23T15:48:10.895045Z"
    }
   },
   "outputs": [],
   "source": [
    "# Custom city_list\n",
    "# city_list = '\"казань набережные_челны чебоксары йошкар-ола\"'"
   ]
  },
  {
   "cell_type": "markdown",
   "metadata": {},
   "source": [
    "### Test get_cars.py"
   ]
  },
  {
   "cell_type": "code",
   "execution_count": null,
   "metadata": {
    "ExecuteTime": {
     "end_time": "2020-01-23T15:48:49.859462Z",
     "start_time": "2020-01-23T15:48:49.854816Z"
    }
   },
   "outputs": [],
   "source": [
    "datetime_start = '2020-01-13Z00:00:00'\n",
    "datetime_end = '2020-01-14Z00:00:00'\n",
    "date_field_value = '2020-01-13'\n",
    "output_table_name = '2020-01-13_all_russia_v1'\n",
    "threshold = '0.95'\n",
    "classificator_version = '1'"
   ]
  },
  {
   "cell_type": "code",
   "execution_count": null,
   "metadata": {
    "ExecuteTime": {
     "end_time": "2020-01-23T16:08:58.424826Z",
     "start_time": "2020-01-23T15:48:51.106503Z"
    },
    "scrolled": false
   },
   "outputs": [],
   "source": [
    "!python -m projects.branding_control.classifier_check.nirvana.get_cars \\\n",
    "--datetime-start=$datetime_start \\\n",
    "--datetime-end=$datetime_end \\\n",
    "--city-list=$city_list \\\n",
    "--threshold=$threshold \\\n",
    "--classificator-version=$classificator_version \\\n",
    "--output-table-name=$output_table_name \\\n",
    "--date-field-value=$date_field_value"
   ]
  },
  {
   "cell_type": "markdown",
   "metadata": {},
   "source": [
    "### Test get_dashboard_table.py"
   ]
  },
  {
   "cell_type": "code",
   "execution_count": null,
   "metadata": {
    "ExecuteTime": {
     "end_time": "2020-01-20T16:06:01.475534Z",
     "start_time": "2020-01-20T16:06:01.472465Z"
    }
   },
   "outputs": [],
   "source": [
    "# cluster.write('home/taxi_ml/dev/branding_control/classifier_check/dashboard', [])"
   ]
  },
  {
   "cell_type": "code",
   "execution_count": null,
   "metadata": {
    "ExecuteTime": {
     "end_time": "2020-01-23T16:18:13.235125Z",
     "start_time": "2020-01-23T16:15:25.509034Z"
    }
   },
   "outputs": [],
   "source": [
    "!python -m projects.branding_control.classifier_check.nirvana.get_dashboard_table \\\n",
    "--original-table-name=2020-01-13_all_russia_v1 \\\n",
    "--date=2020-01-13"
   ]
  },
  {
   "cell_type": "markdown",
   "metadata": {},
   "source": [
    "### Test compress_tables.py"
   ]
  },
  {
   "cell_type": "code",
   "execution_count": null,
   "metadata": {
    "ExecuteTime": {
     "end_time": "2020-01-27T13:41:27.455311Z",
     "start_time": "2020-01-27T13:41:27.451207Z"
    }
   },
   "outputs": [],
   "source": [
    "from projects.common.nile import dates as pdt"
   ]
  },
  {
   "cell_type": "code",
   "execution_count": null,
   "metadata": {
    "ExecuteTime": {
     "end_time": "2020-01-27T14:19:42.841711Z",
     "start_time": "2020-01-27T14:19:42.835225Z"
    }
   },
   "outputs": [],
   "source": [
    "table_path_format = '%Y-%m-%d_all_russia'\n",
    "input_table_names = pdt.get_range(\n",
    "    '2020-01-13', '2020-01-19', table_path_format\n",
    ")\n",
    "input_tables_string = '\"' + ' '.join(input_table_names) + '\"'\n",
    "\n",
    "output_table_name = '2020-01_all_russia'"
   ]
  },
  {
   "cell_type": "code",
   "execution_count": null,
   "metadata": {
    "ExecuteTime": {
     "end_time": "2020-01-27T14:20:11.243639Z",
     "start_time": "2020-01-27T14:20:03.152685Z"
    }
   },
   "outputs": [],
   "source": [
    "!python -m projects.branding_control.classifier_check.nirvana.compress_tables \\\n",
    "--input-table-names-list=$input_tables_string \\\n",
    "--output-table-name=$output_table_name"
   ]
  },
  {
   "cell_type": "markdown",
   "metadata": {},
   "source": [
    "### Test create_action_table.py"
   ]
  },
  {
   "cell_type": "code",
   "execution_count": null,
   "metadata": {
    "ExecuteTime": {
     "end_time": "2020-07-08T17:32:50.193406Z",
     "start_time": "2020-07-08T17:31:19.288315Z"
    }
   },
   "outputs": [],
   "source": [
    "!python -m projects.branding_control.classifier_check.nirvana.create_action_table \\\n",
    "--date=2020-07-07 \\\n",
    "--input-table-name=2020-07-07_all_russia \\\n",
    "--action-config-version=4 \\\n",
    "--startrek-ticket=TAXIML-2323 \\\n",
    "--startrek-useragent=stleznev"
   ]
  },
  {
   "cell_type": "code",
   "execution_count": null,
   "metadata": {},
   "outputs": [],
   "source": []
  }
 ],
 "metadata": {
  "kernelspec": {
   "display_name": "Python 3",
   "language": "python",
   "name": "python3"
  },
  "language_info": {
   "codemirror_mode": {
    "name": "ipython",
    "version": 3
   },
   "file_extension": ".py",
   "mimetype": "text/x-python",
   "name": "python",
   "nbconvert_exporter": "python",
   "pygments_lexer": "ipython3",
   "version": "3.7.3"
  }
 },
 "nbformat": 4,
 "nbformat_minor": 2
}
