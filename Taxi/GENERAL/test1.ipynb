{
 "cells": [
  {
   "cell_type": "code",
   "execution_count": 17,
   "metadata": {},
   "outputs": [],
   "source": [
    "from datetime import datetime"
   ]
  },
  {
   "cell_type": "code",
   "execution_count": 154,
   "metadata": {},
   "outputs": [],
   "source": [
    "from data_load import solomon_load"
   ]
  },
  {
   "cell_type": "code",
   "execution_count": 18,
   "metadata": {},
   "outputs": [],
   "source": [
    "program = \"alias({'cluster'='production', 'group'='dorblu_rtc_taxi_metadata-storage_stable', 'host'='Vla', 'object'='metadata-storage_taxi_yandex_net', 'project'='taxi', 'sensor'='ok_rps', 'service'='dorblu'}/{'cluster'='production', 'group'='dorblu_rtc_taxi_metadata-storage_stable', 'host'='cluster', 'object'='metadata-storage_taxi_yandex_net', 'project'='taxi', 'sensor'='ok_rps', 'service'='dorblu'}, \\\"Vla\\\")\""
   ]
  },
  {
   "cell_type": "code",
   "execution_count": 19,
   "metadata": {},
   "outputs": [],
   "source": [
    "# \n",
    "solomon_token = '<solomon-token>'"
   ]
  },
  {
   "cell_type": "code",
   "execution_count": 20,
   "metadata": {},
   "outputs": [],
   "source": [
    "time_from = datetime(2020, 3, 13, 11, 0, 0)\n",
    "time_to = datetime(2020, 3, 20, 11, 0, 0)"
   ]
  },
  {
   "cell_type": "code",
   "execution_count": 155,
   "metadata": {},
   "outputs": [
    {
     "name": "stdout",
     "output_type": "stream",
     "text": [
      "{'from': '2020-03-13T11:00:00Z', 'to': '2020-03-20T11:00:00Z', 'program': 'alias({\\'cluster\\'=\\'production\\', \\'group\\'=\\'dorblu_rtc_taxi_metadata-storage_stable\\', \\'host\\'=\\'Vla\\', \\'object\\'=\\'metadata-storage_taxi_yandex_net\\', \\'project\\'=\\'taxi\\', \\'sensor\\'=\\'ok_rps\\', \\'service\\'=\\'dorblu\\'}/{\\'cluster\\'=\\'production\\', \\'group\\'=\\'dorblu_rtc_taxi_metadata-storage_stable\\', \\'host\\'=\\'cluster\\', \\'object\\'=\\'metadata-storage_taxi_yandex_net\\', \\'project\\'=\\'taxi\\', \\'sensor\\'=\\'ok_rps\\', \\'service\\'=\\'dorblu\\'}, \"Vla\")', 'useNewFormat': False}\n"
     ]
    },
    {
     "data": {
      "text/plain": [
       "[{'df':                        values\n",
       "  2020-03-13 11:00:00  0.521715\n",
       "  2020-03-13 11:01:00  0.538779\n",
       "  2020-03-13 11:02:00  0.534505\n",
       "  2020-03-13 11:03:00  0.527690\n",
       "  2020-03-13 11:04:00  0.538764\n",
       "  2020-03-13 11:05:00  0.525943\n",
       "  2020-03-13 11:06:00  0.541083\n",
       "  2020-03-13 11:07:00  0.534014\n",
       "  2020-03-13 11:08:00  0.544269\n",
       "  2020-03-13 11:09:00  0.542962\n",
       "  2020-03-13 11:10:00  0.531274\n",
       "  2020-03-13 11:11:00  0.568001\n",
       "  2020-03-13 11:12:00  0.547474\n",
       "  2020-03-13 11:13:00  0.553799\n",
       "  2020-03-13 11:14:00  0.535117\n",
       "  2020-03-13 11:15:00  0.521849\n",
       "  2020-03-13 11:16:00  0.552274\n",
       "  2020-03-13 11:17:00  0.540126\n",
       "  2020-03-13 11:18:00  0.520701\n",
       "  2020-03-13 11:19:00  0.550944\n",
       "  2020-03-13 11:20:00  0.531216\n",
       "  2020-03-13 11:21:00  0.539149\n",
       "  2020-03-13 11:22:00  0.556202\n",
       "  2020-03-13 11:23:00  0.541435\n",
       "  2020-03-13 11:24:00  0.522971\n",
       "  2020-03-13 11:25:00  0.554270\n",
       "  2020-03-13 11:26:00  0.527495\n",
       "  2020-03-13 11:27:00  0.543486\n",
       "  2020-03-13 11:28:00  0.535716\n",
       "  2020-03-13 11:29:00  0.529705\n",
       "  ...                       ...\n",
       "  2020-03-20 10:30:00  0.541323\n",
       "  2020-03-20 10:31:00  0.528176\n",
       "  2020-03-20 10:32:00  0.523074\n",
       "  2020-03-20 10:33:00  0.528830\n",
       "  2020-03-20 10:34:01  0.535000\n",
       "  2020-03-20 10:35:01  0.520024\n",
       "  2020-03-20 10:36:01  0.505820\n",
       "  2020-03-20 10:37:01  0.528768\n",
       "  2020-03-20 10:38:01  0.523498\n",
       "  2020-03-20 10:39:01  0.512073\n",
       "  2020-03-20 10:40:01  0.541089\n",
       "  2020-03-20 10:41:01  0.561070\n",
       "  2020-03-20 10:42:01  0.557382\n",
       "  2020-03-20 10:43:01  0.502422\n",
       "  2020-03-20 10:44:01  0.535445\n",
       "  2020-03-20 10:45:01  0.532847\n",
       "  2020-03-20 10:46:01  0.505099\n",
       "  2020-03-20 10:47:01  0.536985\n",
       "  2020-03-20 10:48:01  0.504905\n",
       "  2020-03-20 10:49:01  0.525263\n",
       "  2020-03-20 10:50:00  0.538417\n",
       "  2020-03-20 10:51:00  0.495770\n",
       "  2020-03-20 10:52:00  0.516529\n",
       "  2020-03-20 10:53:01  0.510804\n",
       "  2020-03-20 10:54:01  0.506965\n",
       "  2020-03-20 10:55:01  0.527422\n",
       "  2020-03-20 10:56:01  0.528570\n",
       "  2020-03-20 10:57:01  0.536322\n",
       "  2020-03-20 10:58:01  0.520520\n",
       "  2020-03-20 10:59:01  0.520339\n",
       "  \n",
       "  [9784 rows x 1 columns],\n",
       "  'labels': {'cluster': 'production',\n",
       "   'project': 'taxi',\n",
       "   'sensor': 'ok_rps',\n",
       "   'service': 'dorblu',\n",
       "   'group': 'dorblu_rtc_taxi_metadata-storage_stable',\n",
       "   'object': 'metadata-storage_taxi_yandex_net'},\n",
       "  'alias': 'Vla',\n",
       "  'kind': 'DGAUGE',\n",
       "  'type': 'DGAUGE'}]"
      ]
     },
     "execution_count": 155,
     "metadata": {},
     "output_type": "execute_result"
    }
   ],
   "source": [
    "\n",
    "res = solomon_load.dl_data(program, time_from, time_to, solomon_token)\n",
    "res"
   ]
  },
  {
   "cell_type": "code",
   "execution_count": 26,
   "metadata": {},
   "outputs": [
    {
     "data": {
      "text/html": [
       "<div>\n",
       "<style scoped>\n",
       "    .dataframe tbody tr th:only-of-type {\n",
       "        vertical-align: middle;\n",
       "    }\n",
       "\n",
       "    .dataframe tbody tr th {\n",
       "        vertical-align: top;\n",
       "    }\n",
       "\n",
       "    .dataframe thead th {\n",
       "        text-align: right;\n",
       "    }\n",
       "</style>\n",
       "<table border=\"1\" class=\"dataframe\">\n",
       "  <thead>\n",
       "    <tr style=\"text-align: right;\">\n",
       "      <th></th>\n",
       "      <th>values</th>\n",
       "    </tr>\n",
       "  </thead>\n",
       "  <tbody>\n",
       "    <tr>\n",
       "      <th>2020-03-13 11:00:00</th>\n",
       "      <td>0.521715</td>\n",
       "    </tr>\n",
       "    <tr>\n",
       "      <th>2020-03-13 11:01:00</th>\n",
       "      <td>0.538779</td>\n",
       "    </tr>\n",
       "    <tr>\n",
       "      <th>2020-03-13 11:02:00</th>\n",
       "      <td>0.534505</td>\n",
       "    </tr>\n",
       "    <tr>\n",
       "      <th>2020-03-13 11:03:00</th>\n",
       "      <td>0.527690</td>\n",
       "    </tr>\n",
       "    <tr>\n",
       "      <th>2020-03-13 11:04:00</th>\n",
       "      <td>0.538764</td>\n",
       "    </tr>\n",
       "    <tr>\n",
       "      <th>2020-03-13 11:05:00</th>\n",
       "      <td>0.525943</td>\n",
       "    </tr>\n",
       "    <tr>\n",
       "      <th>2020-03-13 11:06:00</th>\n",
       "      <td>0.541083</td>\n",
       "    </tr>\n",
       "    <tr>\n",
       "      <th>2020-03-13 11:07:00</th>\n",
       "      <td>0.534014</td>\n",
       "    </tr>\n",
       "    <tr>\n",
       "      <th>2020-03-13 11:08:00</th>\n",
       "      <td>0.544269</td>\n",
       "    </tr>\n",
       "    <tr>\n",
       "      <th>2020-03-13 11:09:00</th>\n",
       "      <td>0.542962</td>\n",
       "    </tr>\n",
       "    <tr>\n",
       "      <th>2020-03-13 11:10:00</th>\n",
       "      <td>0.531274</td>\n",
       "    </tr>\n",
       "    <tr>\n",
       "      <th>2020-03-13 11:11:00</th>\n",
       "      <td>0.568001</td>\n",
       "    </tr>\n",
       "    <tr>\n",
       "      <th>2020-03-13 11:12:00</th>\n",
       "      <td>0.547474</td>\n",
       "    </tr>\n",
       "    <tr>\n",
       "      <th>2020-03-13 11:13:00</th>\n",
       "      <td>0.553799</td>\n",
       "    </tr>\n",
       "    <tr>\n",
       "      <th>2020-03-13 11:14:00</th>\n",
       "      <td>0.535117</td>\n",
       "    </tr>\n",
       "    <tr>\n",
       "      <th>2020-03-13 11:15:00</th>\n",
       "      <td>0.521849</td>\n",
       "    </tr>\n",
       "    <tr>\n",
       "      <th>2020-03-13 11:16:00</th>\n",
       "      <td>0.552274</td>\n",
       "    </tr>\n",
       "    <tr>\n",
       "      <th>2020-03-13 11:17:00</th>\n",
       "      <td>0.540126</td>\n",
       "    </tr>\n",
       "    <tr>\n",
       "      <th>2020-03-13 11:18:00</th>\n",
       "      <td>0.520701</td>\n",
       "    </tr>\n",
       "    <tr>\n",
       "      <th>2020-03-13 11:19:00</th>\n",
       "      <td>0.550944</td>\n",
       "    </tr>\n",
       "    <tr>\n",
       "      <th>2020-03-13 11:20:00</th>\n",
       "      <td>0.531216</td>\n",
       "    </tr>\n",
       "    <tr>\n",
       "      <th>2020-03-13 11:21:00</th>\n",
       "      <td>0.539149</td>\n",
       "    </tr>\n",
       "    <tr>\n",
       "      <th>2020-03-13 11:22:00</th>\n",
       "      <td>0.556202</td>\n",
       "    </tr>\n",
       "    <tr>\n",
       "      <th>2020-03-13 11:23:00</th>\n",
       "      <td>0.541435</td>\n",
       "    </tr>\n",
       "    <tr>\n",
       "      <th>2020-03-13 11:24:00</th>\n",
       "      <td>0.522971</td>\n",
       "    </tr>\n",
       "    <tr>\n",
       "      <th>2020-03-13 11:25:00</th>\n",
       "      <td>0.554270</td>\n",
       "    </tr>\n",
       "    <tr>\n",
       "      <th>2020-03-13 11:26:00</th>\n",
       "      <td>0.527495</td>\n",
       "    </tr>\n",
       "    <tr>\n",
       "      <th>2020-03-13 11:27:00</th>\n",
       "      <td>0.543486</td>\n",
       "    </tr>\n",
       "    <tr>\n",
       "      <th>2020-03-13 11:28:00</th>\n",
       "      <td>0.535716</td>\n",
       "    </tr>\n",
       "    <tr>\n",
       "      <th>2020-03-13 11:29:00</th>\n",
       "      <td>0.529705</td>\n",
       "    </tr>\n",
       "    <tr>\n",
       "      <th>...</th>\n",
       "      <td>...</td>\n",
       "    </tr>\n",
       "    <tr>\n",
       "      <th>2020-03-20 10:30:00</th>\n",
       "      <td>0.541323</td>\n",
       "    </tr>\n",
       "    <tr>\n",
       "      <th>2020-03-20 10:31:00</th>\n",
       "      <td>0.528176</td>\n",
       "    </tr>\n",
       "    <tr>\n",
       "      <th>2020-03-20 10:32:00</th>\n",
       "      <td>0.523074</td>\n",
       "    </tr>\n",
       "    <tr>\n",
       "      <th>2020-03-20 10:33:00</th>\n",
       "      <td>0.528830</td>\n",
       "    </tr>\n",
       "    <tr>\n",
       "      <th>2020-03-20 10:34:01</th>\n",
       "      <td>0.535000</td>\n",
       "    </tr>\n",
       "    <tr>\n",
       "      <th>2020-03-20 10:35:01</th>\n",
       "      <td>0.520024</td>\n",
       "    </tr>\n",
       "    <tr>\n",
       "      <th>2020-03-20 10:36:01</th>\n",
       "      <td>0.505820</td>\n",
       "    </tr>\n",
       "    <tr>\n",
       "      <th>2020-03-20 10:37:01</th>\n",
       "      <td>0.528768</td>\n",
       "    </tr>\n",
       "    <tr>\n",
       "      <th>2020-03-20 10:38:01</th>\n",
       "      <td>0.523498</td>\n",
       "    </tr>\n",
       "    <tr>\n",
       "      <th>2020-03-20 10:39:01</th>\n",
       "      <td>0.512073</td>\n",
       "    </tr>\n",
       "    <tr>\n",
       "      <th>2020-03-20 10:40:01</th>\n",
       "      <td>0.541089</td>\n",
       "    </tr>\n",
       "    <tr>\n",
       "      <th>2020-03-20 10:41:01</th>\n",
       "      <td>0.561070</td>\n",
       "    </tr>\n",
       "    <tr>\n",
       "      <th>2020-03-20 10:42:01</th>\n",
       "      <td>0.557382</td>\n",
       "    </tr>\n",
       "    <tr>\n",
       "      <th>2020-03-20 10:43:01</th>\n",
       "      <td>0.502422</td>\n",
       "    </tr>\n",
       "    <tr>\n",
       "      <th>2020-03-20 10:44:01</th>\n",
       "      <td>0.535445</td>\n",
       "    </tr>\n",
       "    <tr>\n",
       "      <th>2020-03-20 10:45:01</th>\n",
       "      <td>0.532847</td>\n",
       "    </tr>\n",
       "    <tr>\n",
       "      <th>2020-03-20 10:46:01</th>\n",
       "      <td>0.505099</td>\n",
       "    </tr>\n",
       "    <tr>\n",
       "      <th>2020-03-20 10:47:01</th>\n",
       "      <td>0.536985</td>\n",
       "    </tr>\n",
       "    <tr>\n",
       "      <th>2020-03-20 10:48:01</th>\n",
       "      <td>0.504905</td>\n",
       "    </tr>\n",
       "    <tr>\n",
       "      <th>2020-03-20 10:49:01</th>\n",
       "      <td>0.525263</td>\n",
       "    </tr>\n",
       "    <tr>\n",
       "      <th>2020-03-20 10:50:00</th>\n",
       "      <td>0.538417</td>\n",
       "    </tr>\n",
       "    <tr>\n",
       "      <th>2020-03-20 10:51:00</th>\n",
       "      <td>0.495770</td>\n",
       "    </tr>\n",
       "    <tr>\n",
       "      <th>2020-03-20 10:52:00</th>\n",
       "      <td>0.516529</td>\n",
       "    </tr>\n",
       "    <tr>\n",
       "      <th>2020-03-20 10:53:01</th>\n",
       "      <td>0.510804</td>\n",
       "    </tr>\n",
       "    <tr>\n",
       "      <th>2020-03-20 10:54:01</th>\n",
       "      <td>0.506965</td>\n",
       "    </tr>\n",
       "    <tr>\n",
       "      <th>2020-03-20 10:55:01</th>\n",
       "      <td>0.527422</td>\n",
       "    </tr>\n",
       "    <tr>\n",
       "      <th>2020-03-20 10:56:01</th>\n",
       "      <td>0.528570</td>\n",
       "    </tr>\n",
       "    <tr>\n",
       "      <th>2020-03-20 10:57:01</th>\n",
       "      <td>0.536322</td>\n",
       "    </tr>\n",
       "    <tr>\n",
       "      <th>2020-03-20 10:58:01</th>\n",
       "      <td>0.520520</td>\n",
       "    </tr>\n",
       "    <tr>\n",
       "      <th>2020-03-20 10:59:01</th>\n",
       "      <td>0.520339</td>\n",
       "    </tr>\n",
       "  </tbody>\n",
       "</table>\n",
       "<p>9784 rows × 1 columns</p>\n",
       "</div>"
      ],
      "text/plain": [
       "                       values\n",
       "2020-03-13 11:00:00  0.521715\n",
       "2020-03-13 11:01:00  0.538779\n",
       "2020-03-13 11:02:00  0.534505\n",
       "2020-03-13 11:03:00  0.527690\n",
       "2020-03-13 11:04:00  0.538764\n",
       "2020-03-13 11:05:00  0.525943\n",
       "2020-03-13 11:06:00  0.541083\n",
       "2020-03-13 11:07:00  0.534014\n",
       "2020-03-13 11:08:00  0.544269\n",
       "2020-03-13 11:09:00  0.542962\n",
       "2020-03-13 11:10:00  0.531274\n",
       "2020-03-13 11:11:00  0.568001\n",
       "2020-03-13 11:12:00  0.547474\n",
       "2020-03-13 11:13:00  0.553799\n",
       "2020-03-13 11:14:00  0.535117\n",
       "2020-03-13 11:15:00  0.521849\n",
       "2020-03-13 11:16:00  0.552274\n",
       "2020-03-13 11:17:00  0.540126\n",
       "2020-03-13 11:18:00  0.520701\n",
       "2020-03-13 11:19:00  0.550944\n",
       "2020-03-13 11:20:00  0.531216\n",
       "2020-03-13 11:21:00  0.539149\n",
       "2020-03-13 11:22:00  0.556202\n",
       "2020-03-13 11:23:00  0.541435\n",
       "2020-03-13 11:24:00  0.522971\n",
       "2020-03-13 11:25:00  0.554270\n",
       "2020-03-13 11:26:00  0.527495\n",
       "2020-03-13 11:27:00  0.543486\n",
       "2020-03-13 11:28:00  0.535716\n",
       "2020-03-13 11:29:00  0.529705\n",
       "...                       ...\n",
       "2020-03-20 10:30:00  0.541323\n",
       "2020-03-20 10:31:00  0.528176\n",
       "2020-03-20 10:32:00  0.523074\n",
       "2020-03-20 10:33:00  0.528830\n",
       "2020-03-20 10:34:01  0.535000\n",
       "2020-03-20 10:35:01  0.520024\n",
       "2020-03-20 10:36:01  0.505820\n",
       "2020-03-20 10:37:01  0.528768\n",
       "2020-03-20 10:38:01  0.523498\n",
       "2020-03-20 10:39:01  0.512073\n",
       "2020-03-20 10:40:01  0.541089\n",
       "2020-03-20 10:41:01  0.561070\n",
       "2020-03-20 10:42:01  0.557382\n",
       "2020-03-20 10:43:01  0.502422\n",
       "2020-03-20 10:44:01  0.535445\n",
       "2020-03-20 10:45:01  0.532847\n",
       "2020-03-20 10:46:01  0.505099\n",
       "2020-03-20 10:47:01  0.536985\n",
       "2020-03-20 10:48:01  0.504905\n",
       "2020-03-20 10:49:01  0.525263\n",
       "2020-03-20 10:50:00  0.538417\n",
       "2020-03-20 10:51:00  0.495770\n",
       "2020-03-20 10:52:00  0.516529\n",
       "2020-03-20 10:53:01  0.510804\n",
       "2020-03-20 10:54:01  0.506965\n",
       "2020-03-20 10:55:01  0.527422\n",
       "2020-03-20 10:56:01  0.528570\n",
       "2020-03-20 10:57:01  0.536322\n",
       "2020-03-20 10:58:01  0.520520\n",
       "2020-03-20 10:59:01  0.520339\n",
       "\n",
       "[9784 rows x 1 columns]"
      ]
     },
     "execution_count": 26,
     "metadata": {},
     "output_type": "execute_result"
    }
   ],
   "source": [
    "res[0]['df']"
   ]
  },
  {
   "cell_type": "code",
   "execution_count": 27,
   "metadata": {},
   "outputs": [
    {
     "data": {
      "text/plain": [
       "<matplotlib.axes._subplots.AxesSubplot at 0x7f3f355172b0>"
      ]
     },
     "execution_count": 27,
     "metadata": {},
     "output_type": "execute_result"
    },
    {
     "data": {
      "image/png": "[encoded data removed]",
      "text/plain": [
       "<matplotlib.figure.Figure at 0x7f3f37bd7978>"
      ]
     },
     "metadata": {
      "needs_background": "light"
     },
     "output_type": "display_data"
    }
   ],
   "source": [
    "%matplotlib inline\n",
    "rps_share_vla = res[0]['df']\n",
    "rps_share_vla.plot()"
   ]
  },
  {
   "cell_type": "code",
   "execution_count": 28,
   "metadata": {},
   "outputs": [
    {
     "data": {
      "text/plain": [
       "<matplotlib.axes._subplots.AxesSubplot at 0x7f3f35537cf8>"
      ]
     },
     "execution_count": 28,
     "metadata": {},
     "output_type": "execute_result"
    },
    {
     "data": {
      "image/png": "[encoded data removed]",
      "text/plain": [
       "<matplotlib.figure.Figure at 0x7f3f37e2aac8>"
      ]
     },
     "metadata": {
      "needs_background": "light"
     },
     "output_type": "display_data"
    }
   ],
   "source": [
    "rps_share_vla['values'].hist(bins=100)"
   ]
  },
  {
   "cell_type": "code",
   "execution_count": 29,
   "metadata": {},
   "outputs": [],
   "source": [
    "from matplotlib import pyplot"
   ]
  },
  {
   "cell_type": "code",
   "execution_count": 30,
   "metadata": {},
   "outputs": [],
   "source": [
    "import scipy.stats"
   ]
  },
  {
   "cell_type": "code",
   "execution_count": 31,
   "metadata": {},
   "outputs": [
    {
     "data": {
      "text/plain": [
       "((array([-3.80520827, -3.57975535, -3.45596634, ...,  3.45596634,\n",
       "          3.57975535,  3.80520827]),\n",
       "  array([0.        , 0.04052829, 0.04183886, ..., 0.78227806, 0.8915537 ,\n",
       "         0.94799653])),\n",
       " (0.02904392272030873, 0.518406644655866, 0.9361941373929674))"
      ]
     },
     "execution_count": 31,
     "metadata": {},
     "output_type": "execute_result"
    },
    {
     "data": {
      "image/png": "[encoded data removed]",
      "text/plain": [
       "<matplotlib.figure.Figure at 0x7f3f2a9c1ac8>"
      ]
     },
     "metadata": {
      "needs_background": "light"
     },
     "output_type": "display_data"
    }
   ],
   "source": [
    "scipy.stats.probplot(rps_share_vla['values'], plot=pyplot)"
   ]
  },
  {
   "cell_type": "code",
   "execution_count": 149,
   "metadata": {},
   "outputs": [],
   "source": [
    "window_std = '30min'\n",
    "window_mean = '2min'\n",
    "k = 3\n",
    "rps_share_vla['mean'] = rps_share_vla['values'].rolling(window_mean).mean()\n",
    "rps_share_vla_mean_for_std = rps_share_vla['values'].rolling(window_std).mean()\n",
    "rps_share_vla_std = rps_share_vla['values'].rolling(window_std).std()\n",
    "rps_share_vla['upper'] = rps_share_vla_mean_for_std + k*rps_share_vla_std\n",
    "rps_share_vla['lower'] = rps_share_vla_mean_for_std - k*rps_share_vla_std"
   ]
  },
  {
   "cell_type": "code",
   "execution_count": 150,
   "metadata": {},
   "outputs": [],
   "source": [
    "rps_share_vla_anomalies = rps_share_vla[(rps_share_vla['mean'] > rps_share_vla['upper']) | (rps_share_vla['mean'] < rps_share_vla['lower'])]"
   ]
  },
  {
   "cell_type": "code",
   "execution_count": 153,
   "metadata": {},
   "outputs": [
    {
     "data": {
      "image/png": "[encoded data removed]",
      "text/plain": [
       "<matplotlib.figure.Figure at 0x7f3f22212438>"
      ]
     },
     "metadata": {
      "needs_background": "light"
     },
     "output_type": "display_data"
    }
   ],
   "source": [
    "ax = rps_share_vla.plot(y=['mean', 'upper', 'lower'], style={'mean': 'b', 'upper': 'r', 'lower': 'r'}, figsize=(16,8))\n",
    "if rps_share_vla_anomalies.shape[0]:\n",
    "    rps_share_vla_anomalies.plot(y='mean', ax=ax, style='go')"
   ]
  },
  {
   "cell_type": "code",
   "execution_count": 152,
   "metadata": {},
   "outputs": [
    {
     "data": {
      "text/plain": [
       "DatetimeIndex(['2020-03-17 12:55:01', '2020-03-18 15:01:01',\n",
       "               '2020-03-18 20:30:01', '2020-03-19 01:00:01',\n",
       "               '2020-03-19 02:51:01', '2020-03-19 04:45:01',\n",
       "               '2020-03-19 11:16:01'],\n",
       "              dtype='datetime64[ns]', freq=None)"
      ]
     },
     "execution_count": 152,
     "metadata": {},
     "output_type": "execute_result"
    }
   ],
   "source": [
    "rps_share_vla_anomalies.index"
   ]
  },
  {
   "cell_type": "code",
   "execution_count": null,
   "metadata": {},
   "outputs": [],
   "source": []
  }
 ],
 "metadata": {
  "kernelspec": {
   "display_name": "Python 3",
   "language": "python",
   "name": "python3"
  },
  "language_info": {
   "codemirror_mode": {
    "name": "ipython",
    "version": 3
   },
   "file_extension": ".py",
   "mimetype": "text/x-python",
   "name": "python",
   "nbconvert_exporter": "python",
   "pygments_lexer": "ipython3",
   "version": "3.6.8"
  }
 },
 "nbformat": 4,
 "nbformat_minor": 2
}
