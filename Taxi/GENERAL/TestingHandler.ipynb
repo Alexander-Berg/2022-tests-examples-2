{
 "cells": [
  {
   "cell_type": "code",
   "execution_count": 1,
   "metadata": {},
   "outputs": [],
   "source": [
    "from IPython.display import display, Image\n",
    "import requests\n",
    "import json\n",
    "import pprint\n",
    "\n",
    "from PIL import Image as Img\n",
    "import numpy as np"
   ]
  },
  {
   "cell_type": "code",
   "execution_count": 5,
   "metadata": {
    "scrolled": false
   },
   "outputs": [
    {
     "name": "stdout",
     "output_type": "stream",
     "text": [
      "<Response [400]> Value for key == \"front_binary\" was not supplied in request\n"
     ]
    },
    {
     "ename": "JSONDecodeError",
     "evalue": "Expecting value: line 1 column 1 (char 0)",
     "output_type": "error",
     "traceback": [
      "\u001b[0;31m---------------------------------------------------------------------------\u001b[0m",
      "\u001b[0;31mJSONDecodeError\u001b[0m                           Traceback (most recent call last)",
      "\u001b[0;32m<timed exec>\u001b[0m in \u001b[0;36m<module>\u001b[0;34m()\u001b[0m\n",
      "\u001b[0;32m~/anaconda2/envs/py36/lib/python3.6/json/__init__.py\u001b[0m in \u001b[0;36mloads\u001b[0;34m(s, encoding, cls, object_hook, parse_float, parse_int, parse_constant, object_pairs_hook, **kw)\u001b[0m\n\u001b[1;32m    352\u001b[0m             \u001b[0mparse_int\u001b[0m \u001b[0;32mis\u001b[0m \u001b[0;32mNone\u001b[0m \u001b[0;32mand\u001b[0m \u001b[0mparse_float\u001b[0m \u001b[0;32mis\u001b[0m \u001b[0;32mNone\u001b[0m \u001b[0;32mand\u001b[0m\u001b[0;34m\u001b[0m\u001b[0m\n\u001b[1;32m    353\u001b[0m             parse_constant is None and object_pairs_hook is None and not kw):\n\u001b[0;32m--> 354\u001b[0;31m         \u001b[0;32mreturn\u001b[0m \u001b[0m_default_decoder\u001b[0m\u001b[0;34m.\u001b[0m\u001b[0mdecode\u001b[0m\u001b[0;34m(\u001b[0m\u001b[0ms\u001b[0m\u001b[0;34m)\u001b[0m\u001b[0;34m\u001b[0m\u001b[0m\n\u001b[0m\u001b[1;32m    355\u001b[0m     \u001b[0;32mif\u001b[0m \u001b[0mcls\u001b[0m \u001b[0;32mis\u001b[0m \u001b[0;32mNone\u001b[0m\u001b[0;34m:\u001b[0m\u001b[0;34m\u001b[0m\u001b[0m\n\u001b[1;32m    356\u001b[0m         \u001b[0mcls\u001b[0m \u001b[0;34m=\u001b[0m \u001b[0mJSONDecoder\u001b[0m\u001b[0;34m\u001b[0m\u001b[0m\n",
      "\u001b[0;32m~/anaconda2/envs/py36/lib/python3.6/json/decoder.py\u001b[0m in \u001b[0;36mdecode\u001b[0;34m(self, s, _w)\u001b[0m\n\u001b[1;32m    337\u001b[0m \u001b[0;34m\u001b[0m\u001b[0m\n\u001b[1;32m    338\u001b[0m         \"\"\"\n\u001b[0;32m--> 339\u001b[0;31m         \u001b[0mobj\u001b[0m\u001b[0;34m,\u001b[0m \u001b[0mend\u001b[0m \u001b[0;34m=\u001b[0m \u001b[0mself\u001b[0m\u001b[0;34m.\u001b[0m\u001b[0mraw_decode\u001b[0m\u001b[0;34m(\u001b[0m\u001b[0ms\u001b[0m\u001b[0;34m,\u001b[0m \u001b[0midx\u001b[0m\u001b[0;34m=\u001b[0m\u001b[0m_w\u001b[0m\u001b[0;34m(\u001b[0m\u001b[0ms\u001b[0m\u001b[0;34m,\u001b[0m \u001b[0;36m0\u001b[0m\u001b[0;34m)\u001b[0m\u001b[0;34m.\u001b[0m\u001b[0mend\u001b[0m\u001b[0;34m(\u001b[0m\u001b[0;34m)\u001b[0m\u001b[0;34m)\u001b[0m\u001b[0;34m\u001b[0m\u001b[0m\n\u001b[0m\u001b[1;32m    340\u001b[0m         \u001b[0mend\u001b[0m \u001b[0;34m=\u001b[0m \u001b[0m_w\u001b[0m\u001b[0;34m(\u001b[0m\u001b[0ms\u001b[0m\u001b[0;34m,\u001b[0m \u001b[0mend\u001b[0m\u001b[0;34m)\u001b[0m\u001b[0;34m.\u001b[0m\u001b[0mend\u001b[0m\u001b[0;34m(\u001b[0m\u001b[0;34m)\u001b[0m\u001b[0;34m\u001b[0m\u001b[0m\n\u001b[1;32m    341\u001b[0m         \u001b[0;32mif\u001b[0m \u001b[0mend\u001b[0m \u001b[0;34m!=\u001b[0m \u001b[0mlen\u001b[0m\u001b[0;34m(\u001b[0m\u001b[0ms\u001b[0m\u001b[0;34m)\u001b[0m\u001b[0;34m:\u001b[0m\u001b[0;34m\u001b[0m\u001b[0m\n",
      "\u001b[0;32m~/anaconda2/envs/py36/lib/python3.6/json/decoder.py\u001b[0m in \u001b[0;36mraw_decode\u001b[0;34m(self, s, idx)\u001b[0m\n\u001b[1;32m    355\u001b[0m             \u001b[0mobj\u001b[0m\u001b[0;34m,\u001b[0m \u001b[0mend\u001b[0m \u001b[0;34m=\u001b[0m \u001b[0mself\u001b[0m\u001b[0;34m.\u001b[0m\u001b[0mscan_once\u001b[0m\u001b[0;34m(\u001b[0m\u001b[0ms\u001b[0m\u001b[0;34m,\u001b[0m \u001b[0midx\u001b[0m\u001b[0;34m)\u001b[0m\u001b[0;34m\u001b[0m\u001b[0m\n\u001b[1;32m    356\u001b[0m         \u001b[0;32mexcept\u001b[0m \u001b[0mStopIteration\u001b[0m \u001b[0;32mas\u001b[0m \u001b[0merr\u001b[0m\u001b[0;34m:\u001b[0m\u001b[0;34m\u001b[0m\u001b[0m\n\u001b[0;32m--> 357\u001b[0;31m             \u001b[0;32mraise\u001b[0m \u001b[0mJSONDecodeError\u001b[0m\u001b[0;34m(\u001b[0m\u001b[0;34m\"Expecting value\"\u001b[0m\u001b[0;34m,\u001b[0m \u001b[0ms\u001b[0m\u001b[0;34m,\u001b[0m \u001b[0merr\u001b[0m\u001b[0;34m.\u001b[0m\u001b[0mvalue\u001b[0m\u001b[0;34m)\u001b[0m \u001b[0;32mfrom\u001b[0m \u001b[0;32mNone\u001b[0m\u001b[0;34m\u001b[0m\u001b[0m\n\u001b[0m\u001b[1;32m    358\u001b[0m         \u001b[0;32mreturn\u001b[0m \u001b[0mobj\u001b[0m\u001b[0;34m,\u001b[0m \u001b[0mend\u001b[0m\u001b[0;34m\u001b[0m\u001b[0m\n",
      "\u001b[0;31mJSONDecodeError\u001b[0m: Expecting value: line 1 column 1 (char 0)"
     ]
    }
   ],
   "source": [
    "%%time\n",
    "\n",
    "files = {\n",
    "         'country': 'rus',\n",
    "        }\n",
    "\n",
    "headers = {'Host': 'pyml.taxi.dev.yandex.net'}\n",
    "\n",
    "# download and provide link to image of driver license here\n",
    "img_file = './rus1.jpg'\n",
    "with open(img_file, 'rb') as f:\n",
    "    files['front_binary'] = f.read()\n",
    "\n",
    "# url = 'http://127.0.0.1:5000/parse_driver_license'\n",
    "# url = 'http://pyml.taxi.dev.yandex.net/parse_driver_license'\n",
    "# url = 'http://pyml.taxi.tst.yandex.net/parse_driver_license'\n",
    "url = 'http://pyml.taxi.yandex.net/parse_driver_license'\n",
    "# url = 'http://target076i.load.yandex.net/parse_driver_license'\n",
    "\n",
    "request = requests.post(url, files=files, headers=headers)\n",
    "print(request, request.text)\n",
    "\n",
    "recognized = json.loads(request.text)\n",
    "display(recognized)\n",
    "\n",
    "display(Image(img_file))"
   ]
  },
  {
   "cell_type": "code",
   "execution_count": 85,
   "metadata": {},
   "outputs": [
    {
     "name": "stdout",
     "output_type": "stream",
     "text": [
      "{\"due_date\": {\"confidence\": 0.7114081979, \"value\": \"2025-01-21\"}, \"first_name\": {\"confidence\": 0.010445749274600746, \"value\": \"\\u041a\\u043e\\u043d\\u0441\\u0442\\u0430\\u043d\\u0442\\u0438\\u043d\"}, \"last_name\": {\"confidence\": 9.138888254243871e-07, \"value\": \"\\u0427\\u0438\\u0447\\u0443\\u043d\\u043e\\u0432\"}, \"middle_name\": {\"confidence\": 0.03066553953711531, \"value\": \"\\u0410\\u043d\\u0430\\u0442\\u043e\\u043b\\u044c\\u0435\\u0432\\u0438\\u0447\"}, \"series\": {\"confidence\": 0.820898056, \"value\": \"5021\"}, \"number\": {\"confidence\": 0.820898056, \"value\": \"201811\"}, \"issue_date\": {\"confidence\": 0.8247492313, \"value\": \"2015-01-21\"}, \"country\": \"rus\", \"birth_date\": {\"confidence\": 0.8185016513, \"value\": \"1996-09-23\"}}"
     ]
    }
   ],
   "source": [
    "!curl {url} -F\"front_binary=@{img_file}\" -F\"country=rus\" -H \"Host: pyml.taxi.dev.yandex.net\""
   ]
  },
  {
   "cell_type": "code",
   "execution_count": 34,
   "metadata": {},
   "outputs": [
    {
     "name": "stdout",
     "output_type": "stream",
     "text": [
      "{'birth_date': {'confidence': 0.8337495923, 'value': '1986-09-19'},\n",
      " 'country': 'rus',\n",
      " 'due_date': {'confidence': 0.7818428278, 'value': '2021-10-11'},\n",
      " 'first_name': {'confidence': 0.01585803584630606,\n",
      "                'value': '\\\\u0420\\\\u043e\\\\u043c\\\\u0430\\\\u043d'},\n",
      " 'issue_date': {'confidence': 0.7065529823, 'value': '2011-10-11'},\n",
      " 'last_name': {'confidence': 7.938941600153221e-06,\n",
      "               'value': '\\\\u0421\\\\u0430\\\\u0442\\\\u0430\\\\u043b\\\\u043a\\\\u0438\\\\u043d'},\n",
      " 'middle_name': {'confidence': 0.07352551526211905,\n",
      "                 'value': '\\\\u0412\\\\u043b\\\\u0430\\\\u0434\\\\u0438\\\\u043c\\\\u0438\\\\u0440\\\\u043e\\\\u0432\\\\u0438\\\\u0447'},\n",
      " 'number': {'confidence': 0.8297998905, 'value': '813919'},\n",
      " 'series': {'confidence': 0.8297998905, 'value': '2202'}}\n"
     ]
    }
   ],
   "source": [
    "pprint.pprint({\"due_date\": {\"confidence\": 0.7818428278, \"value\": \"2021-10-11\"}, \"first_name\": {\"confidence\": 0.01585803584630606, \"value\": \"\\u0420\\u043e\\u043c\\u0430\\u043d\"}, \"last_name\": {\"confidence\": 7.938941600153221e-06, \"value\": \"\\u0421\\u0430\\u0442\\u0430\\u043b\\u043a\\u0438\\u043d\"}, \"middle_name\": {\"confidence\": 0.07352551526211905, \"value\": \"\\u0412\\u043b\\u0430\\u0434\\u0438\\u043c\\u0438\\u0440\\u043e\\u0432\\u0438\\u0447\"}, \"series\": {\"confidence\": 0.8297998905, \"value\": \"2202\"}, \"number\": {\"confidence\": 0.8297998905, \"value\": \"813919\"}, \"issue_date\": {\"confidence\": 0.7065529823, \"value\": \"2011-10-11\"}, \"country\": \"rus\", \"birth_date\": {\"confidence\": 0.8337495923, \"value\": \"1986-09-19\"}})"
   ]
  },
  {
   "cell_type": "markdown",
   "metadata": {},
   "source": [
    "# preparing ammo"
   ]
  },
  {
   "cell_type": "code",
   "execution_count": 1,
   "metadata": {},
   "outputs": [],
   "source": [
    "from PIL import Image\n",
    "import io\n",
    "import werkzeug"
   ]
  },
  {
   "cell_type": "code",
   "execution_count": 2,
   "metadata": {},
   "outputs": [],
   "source": [
    "img_str_dict = {}\n",
    "\n",
    "with open('./rus1.jpg', 'rb') as f:\n",
    "    img_str  = f.read()\n",
    "    img = Image.open(io.BytesIO(img_str))\n",
    "    img_str_dict['front'] = img_str\n",
    "\n",
    "img_str_dict['country'] = 'rus'"
   ]
  },
  {
   "cell_type": "code",
   "execution_count": 3,
   "metadata": {},
   "outputs": [],
   "source": [
    "ammo_str = \\\n",
    "\"\"\" \n",
    "POST /parse_driver_license HTTP/1.1\n",
    "Host: pyml.taxi.yandex.net\n",
    "Accept: */*\n",
    "User-Agent: Tank\n",
    "Content-Type: multipart/form-data; boundary=----WebKitFormBoundary7MA4YWxkTrZu0gW\n",
    "Content-Length:\n",
    "\n",
    "------WebKitFormBoundary7MA4YWxkTrZu0gW\n",
    "Content-Disposition: form-data; name=\"front_binary\"; filename=\"front.jpg\"\n",
    "Content-Type: image/jpeg\n",
    "\n",
    "{front}\n",
    "------WebKitFormBoundary7MA4YWxkTrZu0gW\n",
    "Content-Disposition: form-data; name=\"country\"; filename=\"country.txt\"\n",
    "Content-Type: application/json\n",
    "\n",
    "{country}\n",
    "------WebKitFormBoundary7MA4YWxkTrZu0gW--\n",
    "\n",
    "\"\"\".format(**img_str_dict)"
   ]
  },
  {
   "cell_type": "code",
   "execution_count": 4,
   "metadata": {},
   "outputs": [],
   "source": [
    "index = ammo_str.find('Content-Length:') + len('Content-Length:')\n",
    "content_length = len(ammo_str[index:]) - 2\n",
    "ammo_str = ammo_str[:index] + b' ' + str(content_length) + ammo_str[index:]\n",
    "total_length = len(b'' + ammo_str.lstrip('\\n')) - 2\n",
    "ammo_str = b'' + str(total_length) + '' + ammo_str"
   ]
  },
  {
   "cell_type": "code",
   "execution_count": 5,
   "metadata": {},
   "outputs": [],
   "source": [
    "with open('ammo_trial.txt', 'wb') as f:\n",
    "    f.write(ammo_str.lstrip('\\n'))"
   ]
  },
  {
   "cell_type": "code",
   "execution_count": null,
   "metadata": {},
   "outputs": [],
   "source": []
  },
  {
   "cell_type": "code",
   "execution_count": null,
   "metadata": {},
   "outputs": [],
   "source": []
  },
  {
   "cell_type": "code",
   "execution_count": null,
   "metadata": {},
   "outputs": [],
   "source": []
  },
  {
   "cell_type": "code",
   "execution_count": null,
   "metadata": {},
   "outputs": [],
   "source": []
  },
  {
   "cell_type": "code",
   "execution_count": null,
   "metadata": {},
   "outputs": [],
   "source": []
  },
  {
   "cell_type": "code",
   "execution_count": null,
   "metadata": {},
   "outputs": [],
   "source": []
  },
  {
   "cell_type": "code",
   "execution_count": null,
   "metadata": {},
   "outputs": [],
   "source": []
  }
 ],
 "metadata": {
  "kernelspec": {
   "display_name": "py36",
   "language": "python",
   "name": "py36"
  },
  "language_info": {
   "codemirror_mode": {
    "name": "ipython",
    "version": 3
   },
   "file_extension": ".py",
   "mimetype": "text/x-python",
   "name": "python",
   "nbconvert_exporter": "python",
   "pygments_lexer": "ipython3",
   "version": "3.6.4"
  }
 },
 "nbformat": 4,
 "nbformat_minor": 2
}
