{
 "cells": [
  {
   "cell_type": "code",
   "execution_count": null,
   "metadata": {
    "ExecuteTime": {
     "end_time": "2020-06-25T16:49:11.445277Z",
     "start_time": "2020-06-25T16:49:11.439280Z"
    }
   },
   "outputs": [],
   "source": [
    "DATE = '2020-06-24'\n",
    "BRANDING_BATCH_SIZE = 64\n",
    "DETECTION_BATCH_SIZE = 16\n",
    "MDS_BUCKET_NAME = 'branding-control-ros'\n",
    "MDS_PREFIXES = 'XavierTelegramBot'\n",
    "PATH_TO_RESAVE = (\n",
    "    '//home/taxi_ml/dev/real_time_branding_control/pilot_tests/'\n",
    "    'recognition_results/ml/fraud/branding-control-ros_{}'.format(DATE)\n",
    ")\n",
    "SUMMONEES = \"stleznev\"\n",
    "STARTREK_TICKET = 'TAXIML-1760'\n",
    "STARTREK_USERAGENT = 'stleznev'"
   ]
  },
  {
   "cell_type": "code",
   "execution_count": null,
   "metadata": {
    "ExecuteTime": {
     "end_time": "2020-05-06T11:34:46.434108Z",
     "start_time": "2020-05-06T11:26:02.177448Z"
    },
    "scrolled": true
   },
   "outputs": [],
   "source": [
    "!python -m projects.branding_control.cameras.nirvana.run_simple_recognition \\\n",
    "--date=$DATE \\\n",
    "--branding-batch-size=$BRANDING_BATCH_SIZE \\\n",
    "--detection-batch-size=$DETECTION_BATCH_SIZE \\\n",
    "--mds-bucket-name=$MDS_BUCKET_NAME \\\n",
    "--mds-prefixes=$MDS_PREFIXES"
   ]
  },
  {
   "cell_type": "code",
   "execution_count": null,
   "metadata": {
    "ExecuteTime": {
     "start_time": "2020-04-23T20:39:26.533Z"
    }
   },
   "outputs": [],
   "source": [
    "!python -m projects.branding_control.cameras.nirvana.run_simple_analytics \\\n",
    "--date=$DATE \\\n",
    "--mds-bucket-name=$MDS_BUCKET_NAME"
   ]
  },
  {
   "cell_type": "code",
   "execution_count": null,
   "metadata": {
    "ExecuteTime": {
     "end_time": "2020-05-06T23:27:32.434313Z",
     "start_time": "2020-05-06T23:22:01.041698Z"
    }
   },
   "outputs": [],
   "source": [
    "!python -m projects.branding_control.cameras.nirvana.resave_cropped_photos \\\n",
    "--mds-bucket-name=$MDS_BUCKET_NAME \\\n",
    "--yt-table-path=$PATH_TO_RESAVE"
   ]
  },
  {
   "cell_type": "code",
   "execution_count": null,
   "metadata": {},
   "outputs": [],
   "source": [
    "!python -m projects.branding_control.cameras.nirvana.resave_fraud_control \\\n",
    "--mds-bucket-name=$MDS_BUCKET_NAME \\\n",
    "--date=$DATE"
   ]
  },
  {
   "cell_type": "code",
   "execution_count": null,
   "metadata": {
    "ExecuteTime": {
     "end_time": "2020-04-23T14:39:22.830104Z",
     "start_time": "2020-04-23T14:39:18.301113Z"
    }
   },
   "outputs": [],
   "source": [
    "!python -m projects.branding_control.cameras.nirvana.get_confirmed_results \\\n",
    "--mds-bucket-name=$MDS_BUCKET_NAME \\\n",
    "--date=$DATE"
   ]
  },
  {
   "cell_type": "code",
   "execution_count": null,
   "metadata": {
    "ExecuteTime": {
     "end_time": "2020-04-23T15:39:28.948628Z",
     "start_time": "2020-04-23T14:55:34.390140Z"
    }
   },
   "outputs": [],
   "source": [
    "!python -m projects.branding_control.cameras.nirvana.get_dashboard_row \\\n",
    "--mds-bucket-name=$MDS_BUCKET_NAME \\\n",
    "--date=$DATE"
   ]
  },
  {
   "cell_type": "code",
   "execution_count": null,
   "metadata": {},
   "outputs": [],
   "source": [
    "!python -m projects.branding_control.cameras.nirvana.upload_to_startrek \\\n",
    "--date=$DATE \\\n",
    "--mds-bucket-name=$MDS_BUCKET_NAME \\\n",
    "--startrek-ticket=$STARTREK_TICKET \\\n",
    "--summonees=$SUMMONEES \\\n",
    "--startrek-useragent=$STARTREK_USERAGENT"
   ]
  },
  {
   "cell_type": "code",
   "execution_count": null,
   "metadata": {},
   "outputs": [],
   "source": [
    "!python -m projects.branding_control.cameras.nirvana.compress_tables \\\n",
    "--mds-bucket-name=$MDS_BUCKET_NAME \\\n",
    "--date=$DATE"
   ]
  },
  {
   "cell_type": "code",
   "execution_count": null,
   "metadata": {
    "ExecuteTime": {
     "end_time": "2020-06-25T16:55:01.317300Z",
     "start_time": "2020-06-25T16:54:14.594807Z"
    }
   },
   "outputs": [],
   "source": [
    "!python -m projects.branding_control.cameras.nirvana.create_action_table \\\n",
    "--mds-bucket-name=$MDS_BUCKET_NAME \\\n",
    "--date=$DATE \\\n",
    "--startrek-ticket=TAXIML-1658"
   ]
  },
  {
   "cell_type": "code",
   "execution_count": null,
   "metadata": {},
   "outputs": [],
   "source": []
  }
 ],
 "metadata": {
  "kernelspec": {
   "display_name": "Python 3",
   "language": "python",
   "name": "python3"
  },
  "language_info": {
   "codemirror_mode": {
    "name": "ipython",
    "version": 3
   },
   "file_extension": ".py",
   "mimetype": "text/x-python",
   "name": "python",
   "nbconvert_exporter": "python",
   "pygments_lexer": "ipython3",
   "version": "3.7.3"
  }
 },
 "nbformat": 4,
 "nbformat_minor": 2
}
