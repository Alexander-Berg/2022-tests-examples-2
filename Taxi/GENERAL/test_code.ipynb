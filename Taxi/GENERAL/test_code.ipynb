{
 "cells": [
  {
   "cell_type": "code",
   "execution_count": null,
   "metadata": {
    "ExecuteTime": {
     "end_time": "2020-07-20T13:11:56.959287Z",
     "start_time": "2020-07-20T13:11:56.017544Z"
    }
   },
   "outputs": [],
   "source": [
    "import importlib\n",
    "import datetime\n",
    "\n",
    "import pandas as pd\n",
    "import yt.wrapper as yt\n",
    "from nile.api.v1 import Record\n",
    "from qb2.api.v1 import typing as qt\n",
    "\n",
    "from projects.branding.antifraud_database import project_config\n",
    "from projects.branding.antifraud_database import default_values\n",
    "from projects.branding.antifraud_database.nirvana import write_exams\n",
    "from projects.branding import common as common_br\n",
    "from projects.common.nile import test_utils"
   ]
  },
  {
   "cell_type": "code",
   "execution_count": null,
   "metadata": {
    "ExecuteTime": {
     "end_time": "2020-07-10T11:55:54.413927Z",
     "start_time": "2020-07-10T11:55:54.410602Z"
    }
   },
   "outputs": [],
   "source": [
    "pd.options.display.max_columns = 100"
   ]
  },
  {
   "cell_type": "code",
   "execution_count": null,
   "metadata": {
    "ExecuteTime": {
     "end_time": "2020-07-10T11:55:54.552101Z",
     "start_time": "2020-07-10T11:55:54.543958Z"
    }
   },
   "outputs": [],
   "source": [
    "importlib.reload(default_values)\n",
    "importlib.reload(write_exams)"
   ]
  },
  {
   "cell_type": "code",
   "execution_count": null,
   "metadata": {
    "ExecuteTime": {
     "end_time": "2020-07-10T11:55:55.595278Z",
     "start_time": "2020-07-10T11:55:55.591938Z"
    }
   },
   "outputs": [],
   "source": [
    "yt.config['proxy']['url'] = 'hahn.yt.yandex.net'"
   ]
  },
  {
   "cell_type": "code",
   "execution_count": null,
   "metadata": {
    "ExecuteTime": {
     "end_time": "2020-07-10T11:55:56.500704Z",
     "start_time": "2020-07-10T11:55:55.713501Z"
    }
   },
   "outputs": [],
   "source": [
    "cluster = project_config.get_project_cluster()"
   ]
  },
  {
   "cell_type": "code",
   "execution_count": null,
   "metadata": {
    "ExecuteTime": {
     "end_time": "2020-06-23T07:08:49.644356Z",
     "start_time": "2020-06-23T07:08:48.662Z"
    }
   },
   "outputs": [],
   "source": [
    "RECORD_DICT = {\n",
    "\t\t'car_number': 'A999AA777',\n",
    "\t\t'exam_dttm': '2020-01-01T00:00:00',\n",
    "\t\t'fraud_flag': True,\n",
    "\t\t'block_start_dttm': '2020-01-02T00:00:00',\n",
    "\t\t'block_end_dttm': '2020-01-16T00:00:00',\n",
    "\t\t'block_reason': 'fraud_sticker',\n",
    "\t\t'block_tanker_key': 'dkb_temp_block',\n",
    "\t\t'exam_ticket': 'TAXIML-1658',\n",
    "\t}"
   ]
  },
  {
   "cell_type": "code",
   "execution_count": null,
   "metadata": {
    "ExecuteTime": {
     "end_time": "2020-06-23T07:08:49.645519Z",
     "start_time": "2020-06-23T07:08:48.665Z"
    }
   },
   "outputs": [],
   "source": [
    "records = [Record.from_dict(RECORD_DICT)]*10"
   ]
  },
  {
   "cell_type": "code",
   "execution_count": null,
   "metadata": {
    "ExecuteTime": {
     "end_time": "2020-06-23T07:08:49.646735Z",
     "start_time": "2020-06-23T07:08:48.667Z"
    }
   },
   "outputs": [],
   "source": [
    "for i, record in enumerate(records):\n",
    "    \n",
    "    write_exams.validate_record(record, i)"
   ]
  },
  {
   "cell_type": "code",
   "execution_count": null,
   "metadata": {
    "ExecuteTime": {
     "end_time": "2020-05-29T12:00:37.791137Z",
     "start_time": "2020-05-29T12:00:37.785996Z"
    }
   },
   "outputs": [],
   "source": []
  },
  {
   "cell_type": "markdown",
   "metadata": {},
   "source": [
    "### Make fake table"
   ]
  },
  {
   "cell_type": "code",
   "execution_count": null,
   "metadata": {
    "ExecuteTime": {
     "end_time": "2020-06-25T16:38:21.599713Z",
     "start_time": "2020-06-25T16:38:14.956975Z"
    }
   },
   "outputs": [],
   "source": [
    "df = common_br.decode_dataframe(cluster.read(\n",
    "    '//home/taxi_ml/dev/real_time_branding_control/pilot_tests/recognition_results/confirmed/fraud/branding-control-ros_2020-06-24'\n",
    ").as_dataframe())"
   ]
  },
  {
   "cell_type": "code",
   "execution_count": null,
   "metadata": {
    "ExecuteTime": {
     "end_time": "2020-06-25T16:38:22.194283Z",
     "start_time": "2020-06-25T16:38:22.139587Z"
    }
   },
   "outputs": [],
   "source": [
    "df.head()"
   ]
  },
  {
   "cell_type": "code",
   "execution_count": null,
   "metadata": {
    "ExecuteTime": {
     "end_time": "2020-06-25T16:38:24.619188Z",
     "start_time": "2020-06-25T16:38:24.611320Z"
    }
   },
   "outputs": [],
   "source": [
    "df['city'].value_counts()"
   ]
  },
  {
   "cell_type": "code",
   "execution_count": null,
   "metadata": {
    "ExecuteTime": {
     "end_time": "2020-06-25T16:38:31.787341Z",
     "start_time": "2020-06-25T16:38:31.783357Z"
    }
   },
   "outputs": [],
   "source": [
    "city_mapping = {\n",
    "    'saint_petersburg': 'Санкт-Петербург',\n",
    "    'moscow': 'Москва',\n",
    "    'rostov-on-don': 'Ростов-на-Дону',\n",
    "    'omsk': 'Омск',\n",
    "}"
   ]
  },
  {
   "cell_type": "code",
   "execution_count": null,
   "metadata": {
    "ExecuteTime": {
     "end_time": "2020-06-25T16:39:50.644014Z",
     "start_time": "2020-06-25T16:39:50.633633Z"
    }
   },
   "outputs": [],
   "source": [
    "df[df['city']=='samara']['probability'].value_counts()"
   ]
  },
  {
   "cell_type": "code",
   "execution_count": null,
   "metadata": {
    "ExecuteTime": {
     "end_time": "2020-06-25T16:39:47.415417Z",
     "start_time": "2020-06-25T16:39:47.406096Z"
    }
   },
   "outputs": [],
   "source": [
    "df[df['city']=='omsk']['probability'].value_counts()"
   ]
  },
  {
   "cell_type": "code",
   "execution_count": null,
   "metadata": {
    "ExecuteTime": {
     "end_time": "2020-06-25T16:39:44.662938Z",
     "start_time": "2020-06-25T16:39:44.653294Z"
    }
   },
   "outputs": [],
   "source": [
    "df[df['city']=='rostov-on-don']['probability'].value_counts()"
   ]
  },
  {
   "cell_type": "code",
   "execution_count": null,
   "metadata": {
    "ExecuteTime": {
     "end_time": "2020-06-25T16:39:37.099809Z",
     "start_time": "2020-06-25T16:39:37.089290Z"
    }
   },
   "outputs": [],
   "source": [
    "df[df['city']=='saint_petersburg']['probability'].value_counts()"
   ]
  },
  {
   "cell_type": "code",
   "execution_count": null,
   "metadata": {
    "ExecuteTime": {
     "end_time": "2020-06-25T16:39:59.726263Z",
     "start_time": "2020-06-25T16:39:59.638329Z"
    }
   },
   "outputs": [],
   "source": [
    "records = []\n",
    "for row in df.itertuples():\n",
    "    if row.city in ['samara', 'xavier_imp_telegram_bot']:\n",
    "        continue\n",
    "    record_dict = {}\n",
    "    record_dict['car_number'] = row.number_normalized\n",
    "    record_dict['car_number_normalized'] = row.number_normalized\n",
    "    record_dict['exam_dttm'] = row.datetime_local.replace(' ', 'T')\n",
    "    record_dict['fraud_sticker_flag'] = 'sticker' in row.reasons\n",
    "    record_dict['fraud_lightbox_flag'] = 'lightbox' in row.reasons\n",
    "    record_dict['block_start_dttm'] = row.datetime_local.replace(' ', 'T')\n",
    "    record_dict['block_end_dttm'] = (\n",
    "        (datetime.datetime.strptime(row.datetime_local.replace(' ', 'T'),\n",
    "                                    default_values.YT.DTTM_FORMAT)\n",
    "         + datetime.timedelta(days=14)).strftime(default_values.YT.DTTM_FORMAT)\n",
    "    )\n",
    "    record_dict['block_reason'] = 'rostelekom_cameras'\n",
    "    record_dict['block_tanker_key'] = 'dkb_temp_block'\n",
    "    record_dict['exam_ticket'] = 'TAXIML-1658'\n",
    "    record_dict['city'] = city_mapping.get(row.city, row.city)\n",
    "    record_dict['responsible_staff_login'] = 'stleznev'\n",
    "    record_dict['source_specific_attributes'] = {'photo_link': row.image}\n",
    "    records.append(Record.from_dict(record_dict))"
   ]
  },
  {
   "cell_type": "code",
   "execution_count": null,
   "metadata": {
    "ExecuteTime": {
     "end_time": "2020-06-25T16:40:04.068238Z",
     "start_time": "2020-06-25T16:40:04.063249Z"
    }
   },
   "outputs": [],
   "source": [
    "row.address"
   ]
  },
  {
   "cell_type": "code",
   "execution_count": null,
   "metadata": {
    "ExecuteTime": {
     "end_time": "2020-06-25T16:40:05.252237Z",
     "start_time": "2020-06-25T16:40:05.247507Z"
    }
   },
   "outputs": [],
   "source": [
    "len(records)"
   ]
  },
  {
   "cell_type": "code",
   "execution_count": null,
   "metadata": {
    "ExecuteTime": {
     "end_time": "2020-06-25T16:44:17.524478Z",
     "start_time": "2020-06-25T16:44:16.161314Z"
    }
   },
   "outputs": [],
   "source": [
    "cluster.write('//home/taxi-fraud/import/production/qc_photos/branding/antifraud_database/test_upload',\n",
    "              records)"
   ]
  },
  {
   "cell_type": "code",
   "execution_count": null,
   "metadata": {
    "ExecuteTime": {
     "end_time": "2020-06-23T07:08:49.659992Z",
     "start_time": "2020-06-23T07:08:48.694Z"
    }
   },
   "outputs": [],
   "source": [
    "# fraud_park_set = set(df['park_id'].value_counts()[df['park_id'].value_counts() > 10].index)"
   ]
  },
  {
   "cell_type": "code",
   "execution_count": null,
   "metadata": {
    "ExecuteTime": {
     "end_time": "2020-06-23T07:08:49.661164Z",
     "start_time": "2020-06-23T07:08:48.696Z"
    }
   },
   "outputs": [],
   "source": [
    "# for key, group in df[df['park_id'].apply(lambda x: x in fraud_park_set)].groupby('park_id'):\n",
    "#     for row in group.itertuples():\n",
    "#         print(row.reasons)\n",
    "#     print('')"
   ]
  },
  {
   "cell_type": "code",
   "execution_count": null,
   "metadata": {
    "ExecuteTime": {
     "end_time": "2020-06-23T07:08:49.662355Z",
     "start_time": "2020-06-23T07:08:48.698Z"
    }
   },
   "outputs": [],
   "source": [
    "# records_parks = []\n",
    "# for park_id in fraud_park_set:\n",
    "#     record = Record.from_dict({\n",
    "#         'park_id': '',\n",
    "#         'city': 'saint-petersburg',\n",
    "#         'exam_dttm': '2020-06-07T00:00:00',\n",
    "#         'fraud_sticker_flag': True,\n",
    "#         'fraud_lightbox_flag': True,\n",
    "#         'block_start_dttm': '2020-06-08T00:00:00',\n",
    "#         'block_end_dttm': '2020-06-22T00:00:00',\n",
    "#         'block_reason': 'park_exam',\n",
    "#         'block_tanker_key': 'unedfined',\n",
    "#         'exam_ticket': 'TAXIBRANDINGOPS-311',\n",
    "#         'modified_dttm': '2020-06-09T18:00:00',\n",
    "#     })\n",
    "#     records_parks.append(record)"
   ]
  },
  {
   "cell_type": "code",
   "execution_count": null,
   "metadata": {
    "ExecuteTime": {
     "end_time": "2020-06-23T07:08:49.663486Z",
     "start_time": "2020-06-23T07:08:48.700Z"
    }
   },
   "outputs": [],
   "source": [
    "# cluster.write(default_values.YT.PARK_LOG_PATH, records_parks, append=True)"
   ]
  },
  {
   "cell_type": "code",
   "execution_count": null,
   "metadata": {
    "ExecuteTime": {
     "end_time": "2020-06-23T07:08:49.664702Z",
     "start_time": "2020-06-23T07:08:48.702Z"
    }
   },
   "outputs": [],
   "source": [
    "df_ids = cluster.read('//home/taxi_ml/dev/branding/antifraud_database/block_ids').as_dataframe()"
   ]
  },
  {
   "cell_type": "code",
   "execution_count": null,
   "metadata": {
    "ExecuteTime": {
     "end_time": "2020-06-23T07:08:49.665914Z",
     "start_time": "2020-06-23T07:08:48.704Z"
    }
   },
   "outputs": [],
   "source": [
    "df_ids['source']"
   ]
  },
  {
   "cell_type": "code",
   "execution_count": null,
   "metadata": {
    "ExecuteTime": {
     "end_time": "2020-06-23T07:08:49.667101Z",
     "start_time": "2020-06-23T07:08:48.706Z"
    }
   },
   "outputs": [],
   "source": [
    "df_ids['park_id'].value_counts()"
   ]
  },
  {
   "cell_type": "code",
   "execution_count": null,
   "metadata": {
    "ExecuteTime": {
     "end_time": "2020-06-23T07:08:49.668312Z",
     "start_time": "2020-06-23T07:08:48.709Z"
    }
   },
   "outputs": [],
   "source": [
    "df_ids['sticker_assumed'].value_counts()"
   ]
  },
  {
   "cell_type": "code",
   "execution_count": null,
   "metadata": {
    "ExecuteTime": {
     "end_time": "2020-06-23T07:08:49.669578Z",
     "start_time": "2020-06-23T07:08:48.711Z"
    }
   },
   "outputs": [],
   "source": [
    "df_ids['lightbox_assumed'].value_counts()"
   ]
  },
  {
   "cell_type": "code",
   "execution_count": null,
   "metadata": {
    "ExecuteTime": {
     "end_time": "2020-06-23T07:08:49.670726Z",
     "start_time": "2020-06-23T07:08:48.713Z"
    }
   },
   "outputs": [],
   "source": [
    "((df_ids['lightbox_assumed']) & (df_ids['sticker_assumed'])).value_counts()"
   ]
  },
  {
   "cell_type": "markdown",
   "metadata": {},
   "source": [
    "### Test hitman"
   ]
  },
  {
   "cell_type": "code",
   "execution_count": null,
   "metadata": {
    "ExecuteTime": {
     "end_time": "2020-06-23T07:08:49.672265Z",
     "start_time": "2020-06-23T07:08:48.715Z"
    }
   },
   "outputs": [],
   "source": [
    "import requests\n",
    "\n",
    "def hitman_process_starter():\n",
    "    \"\"\"hitman process starter\"\"\"\n",
    "    headers = {\n",
    "        'Content-Type': 'application/json',\n",
    "        'Authorization': ''\n",
    "        }\n",
    "\n",
    "    hitman = 'https://hitman.yandex-team.ru/'\n",
    "    start_proc = 'api/v1/execution/start/'\n",
    "    service = \"score_drivers\"\n",
    "    start_proc_url = hitman + start_proc + service\n",
    "\n",
    "    data = {}\n",
    "#     data['requester'] = 'stleznev'\n",
    "    data['requester'] = 'robot-taxi-rqc'\n",
    "    data['properties'] = {}\n",
    "\n",
    "    resp = requests.post(start_proc_url, headers=headers, json=data, verify=False)\n",
    "    print(resp.text)"
   ]
  },
  {
   "cell_type": "code",
   "execution_count": null,
   "metadata": {
    "ExecuteTime": {
     "end_time": "2020-06-23T07:08:49.673428Z",
     "start_time": "2020-06-23T07:08:48.716Z"
    }
   },
   "outputs": [],
   "source": [
    "hitman_process_starter()"
   ]
  },
  {
   "cell_type": "markdown",
   "metadata": {},
   "source": [
    "### Test action log"
   ]
  },
  {
   "cell_type": "code",
   "execution_count": null,
   "metadata": {},
   "outputs": [],
   "source": []
  }
 ],
 "metadata": {
  "kernelspec": {
   "display_name": "Python 3",
   "language": "python",
   "name": "python3"
  },
  "language_info": {
   "codemirror_mode": {
    "name": "ipython",
    "version": 3
   },
   "file_extension": ".py",
   "mimetype": "text/x-python",
   "name": "python",
   "nbconvert_exporter": "python",
   "pygments_lexer": "ipython3",
   "version": "3.7.3"
  }
 },
 "nbformat": 4,
 "nbformat_minor": 2
}
