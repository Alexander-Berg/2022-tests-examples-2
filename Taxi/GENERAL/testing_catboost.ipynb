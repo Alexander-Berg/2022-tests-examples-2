{
 "cells": [
  {
   "cell_type": "code",
   "execution_count": null,
   "metadata": {},
   "outputs": [
    {
     "name": "stdout",
     "output_type": "stream",
     "text": [
      "Init BaseAction: action_id 5643c835-ae30-4a9e-a8fe-f9177f65ac06\n",
      "\n",
      "Perform BaseAction: action_id 5643c835-ae30-4a9e-a8fe-f9177f65ac06\n",
      "Start catboost graph: https://nirvana.yandex-team.ru/flow/30290e38-215f-4bb6-8c0b-9dd0f772db6a/57f93d32-3eed-45fd-8438-42833ea5e9a2/graph\n",
      "\n"
     ]
    },
    {
     "name": "stderr",
     "output_type": "stream",
     "text": [
      "Current instances: [57f93d32-3eed-45fd-8438-42833ea5e9a2]\n",
      "Sleep for 60 seconds\n",
      "\n"
     ]
    }
   ],
   "source": [
    "from zoo.driver_targets.uplift.nirvana_catboost import NirvanaCatBoostRegressor\n",
    "import os\n",
    "os.environ['NIRVANA_API_OAUTH'] = 'your token here'\n",
    "\n",
    "model = NirvanaCatBoostRegressor(iterations=100, workflow_id='30290e38-215f-4bb6-8c0b-9dd0f772db6a')\n",
    "model.fit('//home/taxi_ml/dev/drivers_churn/models/debug/churn_train_mxnet_upd')"
   ]
  },
  {
   "cell_type": "code",
   "execution_count": 4,
   "metadata": {},
   "outputs": [
    {
     "data": {
      "text/plain": [
       "array([0.59400956, 0.29394634, 0.28277113, 0.3574409 , 0.55515202,\n",
       "       0.55515202, 0.3081764 , 0.28429445, 0.32408376, 0.52146916,\n",
       "       0.50058481, 0.44673705, 0.55515202, 0.39779777, 0.55515202,\n",
       "       0.47187465, 0.55515202, 0.28218168, 0.4664519 , 0.55515202,\n",
       "       0.50851385, 0.27489421, 0.32587012, 0.55515202, 0.52146916,\n",
       "       0.47970103, 0.34441034, 0.40463009, 0.27981634, 0.50664573,\n",
       "       0.28652632, 0.34801788, 0.31071484, 0.41650877, 0.28255892,\n",
       "       0.52146916, 0.55515202, 0.33589516, 0.29233136, 0.56495756,\n",
       "       0.52146916, 0.55515202, 0.55515202, 0.30298295, 0.32968902,\n",
       "       0.41795701, 0.28940134, 0.43330083, 0.31760725, 0.42002514,\n",
       "       0.31672238, 0.55515202, 0.35764252, 0.54301125, 0.29342506,\n",
       "       0.43682687, 0.29996726, 0.45746805, 0.28812297, 0.33475813,\n",
       "       0.55515202, 0.55515202, 0.46588136, 0.50094361, 0.36742159,\n",
       "       0.30704533, 0.44729909, 0.52146916, 0.35523553, 0.39950546,\n",
       "       0.3168712 , 0.47476115, 0.44329874, 0.46975405, 0.35812333,\n",
       "       0.30936141, 0.30081377, 0.55515202, 0.30510041, 0.55515202,\n",
       "       0.55515202, 0.55515202, 0.4328896 , 0.34428102, 0.30920709,\n",
       "       0.53600624, 0.37626865, 0.51440902, 0.55515202, 0.44856142,\n",
       "       0.55515202, 0.55515202, 0.50058481, 0.50058481, 0.43568344,\n",
       "       0.29701033, 0.44088577, 0.31453557, 0.46745162, 0.55515202])"
      ]
     },
     "execution_count": 4,
     "metadata": {},
     "output_type": "execute_result"
    }
   ],
   "source": [
    "from catboost import Pool\n",
    "\n",
    "import yt.wrapper as yt\n",
    "ytclient = yt.YtClient(\"hahn\")\n",
    "table = ytclient.read_table('//home/taxi_ml/dev/drivers_churn/models/debug/churn_train_mxnet_upd')\n",
    "\n",
    "with open('test_pool.tsv', 'w') as pool:\n",
    "    for i, r in enumerate(table):\n",
    "        if i >= 100:\n",
    "            break\n",
    "        nx = table.next()\n",
    "        pool.write(nx['value'] + '\\n')\n",
    "\n",
    "model.predict(Pool('test_pool.tsv'))"
   ]
  },
  {
   "cell_type": "code",
   "execution_count": null,
   "metadata": {},
   "outputs": [],
   "source": []
  }
 ],
 "metadata": {
  "kernelspec": {
   "display_name": "mlaas",
   "language": "python",
   "name": "mlaas"
  },
  "language_info": {
   "codemirror_mode": {
    "name": "ipython",
    "version": 2
   },
   "file_extension": ".py",
   "mimetype": "text/x-python",
   "name": "python",
   "nbconvert_exporter": "python",
   "pygments_lexer": "ipython2",
   "version": "2.7.12"
  }
 },
 "nbformat": 4,
 "nbformat_minor": 2
}
