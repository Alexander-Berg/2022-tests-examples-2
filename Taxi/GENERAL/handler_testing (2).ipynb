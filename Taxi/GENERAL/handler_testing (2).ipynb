{
 "cells": [
  {
   "cell_type": "code",
   "execution_count": null,
   "metadata": {
    "ExecuteTime": {
     "end_time": "2019-04-10T12:41:02.415386Z",
     "start_time": "2019-04-10T12:41:02.401613Z"
    }
   },
   "outputs": [],
   "source": [
    "import json\n",
    "from time import time\n",
    "from pprint import pprint\n",
    "\n",
    "import requests\n",
    "import grequests\n",
    "import cv2\n",
    "import matplotlib.pyplot as plt\n",
    "import numpy as np\n",
    "\n",
    "import handler_testing_utils\n",
    "reload(handler_testing_utils)"
   ]
  },
  {
   "cell_type": "code",
   "execution_count": null,
   "metadata": {
    "ExecuteTime": {
     "end_time": "2019-04-03T13:14:41.590758Z",
     "start_time": "2019-04-03T13:14:41.583900Z"
    }
   },
   "outputs": [],
   "source": [
    "# URL = 'http://pyml.taxi.tst.yandex.net/remote_quality_control'\n",
    "# PING_URL = 'http://pyml.taxi.tst.yandex.net/ping'\n",
    "\n",
    "URL = 'http://pyml-rqc.taxi.dev.yandex.net/remote_quality_control'\n",
    "PING_URL = 'http://pyml-rqc.taxi.dev.yandex.net/ping'\n",
    "\n",
    "# URL = 'http://127.0.0.1:5000/remote_quality_control'\n",
    "# PING_URL = 'http://127.0.0.1:5000/ping'\n",
    "\n",
    "# URL = 'http://target076i.load.yandex.net/models/remote_quality_control'\n",
    "# PING_URL = 'http://target076i.load.yandex.net/models/ping'"
   ]
  },
  {
   "cell_type": "code",
   "execution_count": null,
   "metadata": {
    "ExecuteTime": {
     "end_time": "2019-04-03T13:14:45.949088Z",
     "start_time": "2019-04-03T13:14:41.756107Z"
    }
   },
   "outputs": [],
   "source": [
    "# Check whether server is up\n",
    "!curl $PING_URL -H \"Host: pyml.taxi.yandex.net\""
   ]
  },
  {
   "cell_type": "markdown",
   "metadata": {},
   "source": [
    "### Define function that sends a request to rqc handler"
   ]
  },
  {
   "cell_type": "code",
   "execution_count": null,
   "metadata": {
    "ExecuteTime": {
     "end_time": "2019-04-02T11:02:27.344347Z",
     "start_time": "2019-04-02T11:02:27.289441Z"
    }
   },
   "outputs": [],
   "source": [
    "def construct_check_history(num_checks, comments, dates, results, check_types):\n",
    "    assert len(comments) == num_checks\n",
    "    assert len(dates) == num_checks\n",
    "    assert len(results) == num_checks\n",
    "    assert len(results) == num_checks\n",
    "    assert len(check_types) == num_checks\n",
    "    check_history = []\n",
    "    for i in range(num_checks):\n",
    "        check = {u\"comment\": comments[i],\n",
    "                 u\"pass_datetime\": dates[i],\n",
    "                 u\"id\": \"\",\n",
    "                 u\"result\": results[i],\n",
    "                 u\"check_type\": check_types[i]}\n",
    "        check_history.append(check)\n",
    "    return check_history\n",
    "\n",
    "def send_request(use_ml, car_brand, car_model, car_color, car_lp_number, exam_country, exam_city,\n",
    "                 num_checks, comments, dates, results, check_types, pass_id, options,\n",
    "                 front, back, left, right, salon_back, salon_front,\n",
    "                 url, folder, exam_info_path):\n",
    "    check_history = construct_check_history(num_checks=num_checks,\n",
    "                                            comments=comments,\n",
    "                                            dates=dates,\n",
    "                                            results=results,\n",
    "                                            check_types=check_types)\n",
    "    exam_info = {\n",
    "        'use_ml': use_ml,\n",
    "        'exam_id': 'dkk',\n",
    "        'exam_type': 'dkk',\n",
    "        'pass_id': pass_id,\n",
    "        'exam_country': exam_country,\n",
    "        'exam_city': exam_city,\n",
    "        'car_brand': car_brand,\n",
    "        'car_model': car_model,\n",
    "        'car_year': 2017,\n",
    "        'car_color': car_color,\n",
    "        'car_license_plate_number': car_lp_number,\n",
    "        'check_history': check_history,\n",
    "        'options': options\n",
    "    }\n",
    "    \n",
    "    exam_info = handler_testing_utils.to_utf(exam_info)\n",
    "    \n",
    "    with open(exam_info_path, mode='wb') as f:\n",
    "        json.dump(exam_info, f, ensure_ascii=False, indent=2)\n",
    "    \n",
    "    \n",
    "    front_value = \"'front=@\" + folder + '/' + front + \".jpg;type=image/jpeg'\"\n",
    "    back_value = \"'back=@\" + folder + '/' + back + \".jpg;type=image/jpeg'\"\n",
    "    left_value = \"'left=@\" + folder + '/' + left + \".jpg;type=image/jpeg'\"\n",
    "    right_value = \"'right=@\" + folder + '/' + right + \".jpg;type=image/jpeg'\"\n",
    "    salon_front_value = \"'salon_front=@\" + folder + \\\n",
    "        '/' + salon_front + \".jpg;type=image/jpeg'\"\n",
    "    salon_back_value = \"'salon_back=@\" + folder + \\\n",
    "        '/' + salon_back + \".jpg;type=image/jpeg'\"\n",
    "    trunk_value = \"'trunk=@\" + folder + '/' + \"trunk.jpg;type=image/jpeg'\"\n",
    "    blank_value = \"'blank=@\" + folder + '/' + \"blank.jpg;type=image/jpeg'\"\n",
    "\n",
    "    start = time()\n",
    "    file_option = ' -F '\n",
    "    command = ('curl' + ' ' + '-H \"Host: pyml.taxi.yandex.net\"'\n",
    "               + file_option + front_value\n",
    "               + file_option + back_value\n",
    "               + file_option + left_value\n",
    "               + file_option + right_value\n",
    "               + file_option + salon_front_value\n",
    "               + file_option + salon_back_value\n",
    "               + file_option + blank_value\n",
    "               + file_option + trunk_value\n",
    "               + file_option + \"'exam_info=@\" + exam_info_path + \";type=application/json'\"\n",
    "               + ' ' + url)\n",
    "    resp = !$command\n",
    "    finish = time()\n",
    "    time_elapsed = finish - start\n",
    "    \n",
    "    try:\n",
    "        return time_elapsed, command, json.loads(resp[-1])\n",
    "    except ValueError:\n",
    "        return time_elapsed, command, resp[-1]"
   ]
  },
  {
   "cell_type": "markdown",
   "metadata": {},
   "source": [
    "### Test responses"
   ]
  },
  {
   "cell_type": "code",
   "execution_count": null,
   "metadata": {
    "ExecuteTime": {
     "end_time": "2019-04-02T11:02:28.158154Z",
     "start_time": "2019-04-02T11:02:28.153304Z"
    }
   },
   "outputs": [],
   "source": [
    "# id for experiment: 'o'"
   ]
  },
  {
   "cell_type": "code",
   "execution_count": null,
   "metadata": {
    "ExecuteTime": {
     "end_time": "2019-04-02T11:02:46.184058Z",
     "start_time": "2019-04-02T11:02:28.359342Z"
    }
   },
   "outputs": [],
   "source": [
    "# Case 1: correct number, correct brand-model, correct color, no trash, fair block\n",
    "time_elapded, command, resp =\\\n",
    "    send_request(use_ml=True, car_brand='Volkswagen', car_model='Jetta', car_color='Белый', \n",
    "                 car_lp_number='M449TK123', exam_country='Россия', exam_city='Москва',\n",
    "                 pass_id='i', options=None,\n",
    "                 num_checks=3,\n",
    "                 comments=[u'очень грязное тс']*3,\n",
    "                 dates=[u\"2018-04-1\" + unicode(i) + \"T16:27:18\" for i in range(0, 3)],\n",
    "                 results=[u'block']*3,\n",
    "                 check_types=[u'human']*3,\n",
    "                 front='front', back='back', left='left', right='right',\n",
    "                 salon_back='salon_back', salon_front='salon_front',\n",
    "                 url=URL, folder='./example_photos/',\n",
    "                 exam_info_path='./exam_info_files/exam_info_case_1.json')\n",
    "print 'Time elapsed:', time_elapded, '\\n'\n",
    "pprint(resp)\n",
    "print command + ' -v | python -m json.tool'"
   ]
  },
  {
   "cell_type": "code",
   "execution_count": null,
   "metadata": {
    "ExecuteTime": {
     "end_time": "2019-04-02T11:03:22.019554Z",
     "start_time": "2019-04-02T11:03:03.914379Z"
    }
   },
   "outputs": [],
   "source": [
    "# Case 1.1: correct number, correct brand-model, correct color, no trash, fair block, experiment\n",
    "time_elapded, command, resp =\\\n",
    "    send_request(use_ml=True, car_brand='Volkswagen', car_model='Jetta', car_color='Белый', \n",
    "                 car_lp_number='M449TK123', exam_country='Россия', exam_city='Москва',\n",
    "                 pass_id='o', options=None,\n",
    "                 num_checks=3,\n",
    "                 comments=[u'очень грязное тс']*3,\n",
    "                 dates=[u\"2018-04-1\" + unicode(i) + \"T16:27:18\" for i in range(0, 3)],\n",
    "                 results=[u'block']*3,\n",
    "                 check_types=[u'human']*3,\n",
    "                 front='front', back='back', left='left', right='right',\n",
    "                 salon_back='salon_back', salon_front='salon_front',\n",
    "                 url=URL, folder='./example_photos/',\n",
    "                 exam_info_path='./exam_info_files/exam_info_case_1_1.json')\n",
    "print 'Time elapsed:', time_elapded, '\\n'\n",
    "pprint(resp)\n",
    "print command + ' -v | python -m json.tool'"
   ]
  },
  {
   "cell_type": "code",
   "execution_count": null,
   "metadata": {
    "ExecuteTime": {
     "end_time": "2019-04-01T23:37:30.676462Z",
     "start_time": "2019-04-01T23:37:12.449173Z"
    }
   },
   "outputs": [],
   "source": [
    "# Case 1.2: correct number, correct brand-model, correct color, no trash, fair block,\n",
    "# unsupported counrty for car number\n",
    "time_elapded, command, resp =\\\n",
    "    send_request(use_ml=True, car_brand='Volkswagen', car_model='Jetta', car_color='Белый', \n",
    "                 car_lp_number='M449TK123', exam_country='Казахстан', exam_city='Москва',\n",
    "                 pass_id='i', options=['block'],\n",
    "                 num_checks=3,\n",
    "                 comments=[u'очень грязное тс']*3,\n",
    "                 dates=[u\"2018-04-1\" + unicode(i) + \"T16:27:18\" for i in range(0, 3)],\n",
    "                 results=[u'block']*3,\n",
    "                 check_types=[u'human']*3,\n",
    "                 front='front', back='back', left='left', right='right',\n",
    "                 salon_back='salon_back', salon_front='salon_front',\n",
    "                 url=URL, folder='./example_photos/',\n",
    "                 exam_info_path='./exam_info_files/exam_info_case_1_2.json')\n",
    "print 'Time elapsed:', time_elapded, '\\n'\n",
    "pprint(resp)\n",
    "print command + ' -v | python -m json.tool'"
   ]
  },
  {
   "cell_type": "code",
   "execution_count": null,
   "metadata": {
    "ExecuteTime": {
     "end_time": "2019-04-01T23:01:25.322906Z",
     "start_time": "2019-04-01T23:01:24.044587Z"
    }
   },
   "outputs": [],
   "source": [
    "# Case 2: incorrect number, correct brand-model, correct color, no trash, fair block\n",
    "time_elapded, command, resp =\\\n",
    "    send_request(use_ml=True, car_brand='Volkswagen', car_model='Jetta', car_color='Белый', \n",
    "                 car_lp_number='Y445KB123', exam_country='Россия', exam_city='Москва',\n",
    "                 pass_id='i', options=None,\n",
    "                 num_checks=3,\n",
    "                 comments=[u'очень грязное тс']*3,\n",
    "                 dates=[u\"2018-04-1\" + unicode(i) + \"T16:27:18\" for i in range(0, 3)],\n",
    "                 results=[u'block']*3,\n",
    "                 check_types=[u'asessor']*3,\n",
    "                 front='front', back='back', left='left', right='right',\n",
    "                 salon_back='salon_back', salon_front='salon_front',\n",
    "                 url=URL, folder='./example_photos/',\n",
    "                 exam_info_path='./exam_info_files/exam_info_case_2.json')\n",
    "print 'Time elapsed:', time_elapded, '\\n'\n",
    "pprint(resp)\n",
    "print command + ' -v | python -m json.tool'"
   ]
  },
  {
   "cell_type": "code",
   "execution_count": null,
   "metadata": {
    "ExecuteTime": {
     "end_time": "2019-04-01T23:01:26.481784Z",
     "start_time": "2019-04-01T23:01:25.407095Z"
    }
   },
   "outputs": [],
   "source": [
    "# Case 3: correct number, incorrect brand-model, correct color, no trash, fair block\n",
    "time_elapded, command, resp =\\\n",
    "    send_request(use_ml=True, car_brand='Kia', car_model='Rio', car_color='Белый', \n",
    "                 car_lp_number='M449TK123', exam_country='Россия', exam_city='Москва',\n",
    "                 pass_id='i', options=None,\n",
    "                 num_checks=3,\n",
    "                 comments=[u'очень грязное тс']*3,\n",
    "                 dates=[u\"2018-04-1\" + unicode(i) + \"T16:27:18\" for i in range(0, 3)],\n",
    "                 results=[u'block']*3,\n",
    "                 check_types=[u'asessor']*3,\n",
    "                 front='front', back='back', left='left', right='right',\n",
    "                 salon_back='salon_back', salon_front='salon_front',\n",
    "                 url=URL, folder='./example_photos/',\n",
    "                 exam_info_path='./exam_info_files/exam_info_case_3.json')\n",
    "print 'Time elapsed:', time_elapded, '\\n'\n",
    "pprint(resp)\n",
    "print command + ' -v | python -m json.tool'"
   ]
  },
  {
   "cell_type": "code",
   "execution_count": null,
   "metadata": {
    "ExecuteTime": {
     "end_time": "2019-04-01T23:01:27.643989Z",
     "start_time": "2019-04-01T23:01:26.561022Z"
    }
   },
   "outputs": [],
   "source": [
    "# Case 4: correct number, correct brand-model, incorrect color, no trash, fair block\n",
    "time_elapded, command, resp =\\\n",
    "    send_request(use_ml=True, car_brand='Volkswagen', car_model='Jetta', car_color='Желтый', \n",
    "                 car_lp_number='M449TK123', exam_country='Россия', exam_city='Москва',\n",
    "                 pass_id='i', options=None,\n",
    "                 num_checks=3,\n",
    "                 comments=[u'очень грязное тс']*3,\n",
    "                 dates=[u\"2018-04-1\" + unicode(i) + \"T16:27:18\" for i in range(0, 3)],\n",
    "                 results=[u'block']*3,\n",
    "                 check_types=[u'asessor']*3,\n",
    "                 front='front', back='back', left='left', right='right',\n",
    "                 salon_back='salon_back', salon_front='salon_front',\n",
    "                 url=URL, folder='./example_photos/',\n",
    "                 exam_info_path='./exam_info_files/exam_info_case_4.json')\n",
    "print 'Time elapsed:', time_elapded, '\\n'\n",
    "pprint(resp)\n",
    "print command + ' -v | python -m json.tool'"
   ]
  },
  {
   "cell_type": "code",
   "execution_count": null,
   "metadata": {
    "ExecuteTime": {
     "end_time": "2019-04-01T23:01:28.783975Z",
     "start_time": "2019-04-01T23:01:27.723574Z"
    }
   },
   "outputs": [],
   "source": [
    "# Case 5: correct number, correct brand-model, correct color, trash, fair block\n",
    "time_elapded, command, resp =\\\n",
    "    send_request(use_ml=True, car_brand='Volkswagen', car_model='Jetta', car_color='Белый', \n",
    "                 car_lp_number='M449TK123', exam_country='Россия', exam_city='Москва',\n",
    "                 pass_id='i', options=None,\n",
    "                 num_checks=3,\n",
    "                 comments=[u'очень грязное тс']*3,\n",
    "                 dates=[u\"2018-04-1\" + unicode(i) + \"T16:27:18\" for i in range(0, 3)],\n",
    "                 results=[u'block']*3,\n",
    "                 check_types=[u'asessor']*3,\n",
    "                 front='black', back='black', left='black', right='black',\n",
    "                 salon_back='salon_back', salon_front='salon_front',\n",
    "                 url=URL, folder='./example_photos/',\n",
    "                 exam_info_path='./exam_info_files/exam_info_case_5.json')\n",
    "print 'Time elapsed:', time_elapded, '\\n'\n",
    "pprint(resp)\n",
    "print command + ' -v | python -m json.tool'"
   ]
  },
  {
   "cell_type": "code",
   "execution_count": null,
   "metadata": {
    "ExecuteTime": {
     "end_time": "2019-04-01T23:01:29.946986Z",
     "start_time": "2019-04-01T23:01:28.872467Z"
    }
   },
   "outputs": [],
   "source": [
    "# Case 6: incorrect number, correct brand-model, correct color, no trash, unfair block\n",
    "time_elapded, command, resp =\\\n",
    "    send_request(use_ml=True, car_brand='Volkswagen', car_model='Jetta', car_color='Белый', \n",
    "                 car_lp_number='Y442KB123', exam_country='Россия', exam_city='Москва',\n",
    "                 pass_id='i', options=None,\n",
    "                 num_checks=3,\n",
    "                 comments=[u'очень грязное тс']*3,\n",
    "                 dates=[u\"2018-04-1\" + unicode(i) + \"T16:27:18\" for i in range(0, 3)],\n",
    "                 results=[u'block']*3,\n",
    "                 check_types=[u'ml']*3,\n",
    "                 front='front', back='back', left='left', right='right',\n",
    "                 salon_back='salon_back', salon_front='salon_front',\n",
    "                 url=URL, folder='./example_photos/',\n",
    "                 exam_info_path='./exam_info_files/exam_info_case_6.json')\n",
    "print 'Time elapsed:', time_elapded, '\\n'\n",
    "pprint(resp)\n",
    "print command + ' -v | python -m json.tool'"
   ]
  },
  {
   "cell_type": "code",
   "execution_count": null,
   "metadata": {
    "ExecuteTime": {
     "end_time": "2019-04-01T23:01:31.101085Z",
     "start_time": "2019-04-01T23:01:30.023560Z"
    }
   },
   "outputs": [],
   "source": [
    "# Case 7: incorrect number, correct brand-model, correct color, no trash, fair block, use_ml=False\n",
    "time_elapded, command, resp =\\\n",
    "    send_request(use_ml=False, car_brand='Volkswagen', car_model='Jetta', car_color='Белый', \n",
    "                 car_lp_number='Y442KB123', exam_country='Россия', exam_city='Москва',\n",
    "                 pass_id='i', options=None,\n",
    "                 num_checks=3,\n",
    "                 comments=[u'очень грязное тс']*3,\n",
    "                 dates=[u\"2018-04-1\" + unicode(i) + \"T16:27:18\" for i in range(0, 3)],\n",
    "                 results=[u'block']*3,\n",
    "                 check_types=[u'asessor']*3,\n",
    "                 front='front', back='back', left='left', right='right',\n",
    "                 salon_back='salon_back', salon_front='salon_front',\n",
    "                 url=URL, folder='./example_photos/',\n",
    "                 exam_info_path='./exam_info_files/exam_info_case_7.json')\n",
    "print 'Time elapsed:', time_elapded, '\\n'\n",
    "pprint(resp)\n",
    "print command + ' -v | python -m json.tool'"
   ]
  },
  {
   "cell_type": "code",
   "execution_count": null,
   "metadata": {
    "ExecuteTime": {
     "end_time": "2019-04-01T23:01:32.254743Z",
     "start_time": "2019-04-01T23:01:31.180540Z"
    }
   },
   "outputs": [],
   "source": [
    "# Case 8: correct number, correct brand-model, correct color, no trash, fair block, no lp number on photos\n",
    "time_elapded, command, resp =\\\n",
    "    send_request(use_ml=True, car_brand='Volkswagen', car_model='Jetta', car_color='Белый', \n",
    "                 car_lp_number='M449TK123', exam_country='Россия', exam_city='Москва',\n",
    "                 pass_id='i', options=None,\n",
    "                 num_checks=3,\n",
    "                 comments=[u'очень грязное тс']*3,\n",
    "                 dates=[u\"2018-04-1\" + unicode(i) + \"T16:27:18\" for i in range(0, 3)],\n",
    "                 results=[u'block']*3,\n",
    "                 check_types=[u'asessor']*3,\n",
    "                 front='black', back='black', left='left', right='right',\n",
    "                 salon_back='salon_back', salon_front='salon_front',\n",
    "                 url=URL, folder='./example_photos/',\n",
    "                 exam_info_path='./exam_info_files/exam_info_case_8.json')\n",
    "print 'Time elapsed:', time_elapded, '\\n'\n",
    "pprint(resp)\n",
    "print command + ' -v | python -m json.tool'"
   ]
  },
  {
   "cell_type": "code",
   "execution_count": null,
   "metadata": {
    "ExecuteTime": {
     "end_time": "2019-04-01T23:01:33.414173Z",
     "start_time": "2019-04-01T23:01:32.339084Z"
    }
   },
   "outputs": [],
   "source": [
    "# Case 9: correct number, correct brand-model, correct color, no trash, fair block, no lp number on front photo\n",
    "time_elapded, command, resp =\\\n",
    "    send_request(use_ml=True, car_brand='Volkswagen', car_model='Jetta', car_color='Белый', \n",
    "                 car_lp_number='M449TK123', exam_country='Россия', exam_city='Москва',\n",
    "                 pass_id='i', options=None,\n",
    "                 num_checks=3,\n",
    "                 comments=[u'очень грязное тс']*3,\n",
    "                 dates=[u\"2018-04-1\" + unicode(i) + \"T16:27:18\" for i in range(0, 3)],\n",
    "                 results=[u'block']*3,\n",
    "                 check_types=[u'asessor']*3,\n",
    "                 front='black', back='back', left='left', right='right',\n",
    "                 salon_back='salon_back', salon_front='salon_front',\n",
    "                 url=URL, folder='./example_photos/',\n",
    "                 exam_info_path='./exam_info_files/exam_info_case_9.json')\n",
    "print 'Time elapsed:', time_elapded, '\\n'\n",
    "pprint(resp)\n",
    "print command + ' -v | python -m json.tool'"
   ]
  },
  {
   "cell_type": "code",
   "execution_count": null,
   "metadata": {
    "ExecuteTime": {
     "end_time": "2019-04-01T23:01:34.570964Z",
     "start_time": "2019-04-01T23:01:33.490230Z"
    }
   },
   "outputs": [],
   "source": [
    "# Case 10: correct number, correct brand-model, correct color, no trash, \n",
    "# incorrect interior, interior_exam=True, fair block\n",
    "time_elapded, command, resp =\\\n",
    "    send_request(use_ml=True, car_brand='Volkswagen', car_model='Jetta', car_color='Белый', \n",
    "                 car_lp_number='M449TK123', exam_country='Россия', exam_city='Санкт-Петербург',\n",
    "                 pass_id='i', options=None,\n",
    "                 num_checks=3,\n",
    "                 comments=[u'очень грязное тс']*3,\n",
    "                 dates=[u\"2018-04-1\" + unicode(i) + \"T16:27:18\" for i in range(0, 3)],\n",
    "                 results=[u'block']*3,\n",
    "                 check_types=[u'human']*3,\n",
    "                 front='front', back='back', left='left', right='right',\n",
    "                 salon_back='black', salon_front='black',\n",
    "                 url=URL, folder='./example_photos/',\n",
    "                 exam_info_path='./exam_info_files/exam_info_case_10.json')\n",
    "print 'Time elapsed:', time_elapded, '\\n'\n",
    "pprint(resp)\n",
    "print command + ' -v | python -m json.tool'"
   ]
  },
  {
   "cell_type": "code",
   "execution_count": null,
   "metadata": {
    "ExecuteTime": {
     "end_time": "2019-04-01T23:01:35.716458Z",
     "start_time": "2019-04-01T23:01:34.654345Z"
    }
   },
   "outputs": [],
   "source": [
    "# Case 11: correct number, correct brand-model, correct color, no trash, \n",
    "# incorrect interior, interior_exam=False, fair block\n",
    "time_elapded, command, resp =\\\n",
    "    send_request(use_ml=True, car_brand='Volkswagen', car_model='Jetta', car_color='Белый', \n",
    "                 car_lp_number='M449TK123', exam_country='Россия', exam_city='Екатеринбург',\n",
    "                 pass_id='i', options=None,\n",
    "                 num_checks=3,\n",
    "                 comments=[u'очень грязное тс']*3,\n",
    "                 dates=[u\"2018-04-1\" + unicode(i) + \"T16:27:18\" for i in range(0, 3)],\n",
    "                 results=[u'block']*3,\n",
    "                 check_types=[u'human']*3,\n",
    "                 front='front', back='back', left='left', right='right',\n",
    "                 salon_back='black', salon_front='black',\n",
    "                 url=URL, folder='./example_photos/',\n",
    "                 exam_info_path='./exam_info_files/exam_info_case_11.json')\n",
    "print 'Time elapsed:', time_elapded, '\\n'\n",
    "pprint(resp)\n",
    "print command + ' -v | python -m json.tool'"
   ]
  },
  {
   "cell_type": "code",
   "execution_count": null,
   "metadata": {
    "ExecuteTime": {
     "end_time": "2019-04-02T11:02:50.633655Z",
     "start_time": "2019-04-02T11:02:50.362498Z"
    }
   },
   "outputs": [],
   "source": [
    "# CASE 0: test of models/remote_quality_control handler\n",
    "exam_info = {\n",
    "    'right': '',\n",
    "    'back': '',\n",
    "    'front': '',\n",
    "    'left': '',\n",
    "    'salon_back': '',\n",
    "    'salon_front': '',\n",
    "    'recognized_license_plates': {\"back\": \"M449TK123\", \"front\": \"M449TK123\"},\n",
    "    'dirt_score': 0.1,\n",
    "    'damage_score': 0.1,\n",
    "    'seats_score': 0.1,\n",
    "    'rugs_score': 0.1,\n",
    "    'seatcase_score': 0.1,\n",
    "    'interior_trash_score': 0.1,\n",
    "    'predicted_probabilities_trash': \n",
    "    {\"front\": {\"missType\": 0.9920274615287781, \"trash\": 4.6169848499921784e-10, \"cropped\": 0.9870995879173279, \"blurry\": 0.004888891242444515},\n",
    "     \"right\": {\"missType\": 0.46031615138053894, \"trash\": 1.5586203118075903e-13, \"cropped\": 0.9941107630729675, \"blurry\": 0.011293338611721992},\n",
    "     \"back\": {\"missType\": 0.9712460041046143, \"trash\": 2.721851046771917e-07, \"cropped\": 0.9869416356086731, \"blurry\": 0.004127767402678728},\n",
    "     \"left\": {\"missType\": 0.3868817687034607, \"trash\": 1.3242436661120571e-12, \"cropped\": 0.9586029648780823, \"blurry\": 0.07527575641870499}},\n",
    "    'brand_color_recognition': {'color': {'class': u'белый', 'confidence': 1.0}, \n",
    "                                'brand': {'class': u'volkswagen jetta', 'confidence': 1.0}},\n",
    "    'branding_score': 0.1,\n",
    "    'meta_scores': {u'meta_score_exterior': 0.2785622473647427,\n",
    "                    u'meta_score_full_exam': 0.3204572585896411,\n",
    "                    u'meta_score_interior': 0.024516476569602062},\n",
    "    \"use_ml\": True,\n",
    "    \"pass_id\": 'test_rqc_id',\n",
    "    \"exam_id\": \"test_rqc_id\",\n",
    "    \"options\": ['self_employed', 'self_reg'],\n",
    "    \"exam_country\": \"Россия\",\n",
    "    \"exam_city\": \"Москва\",\n",
    "    \"car_brand\": \"Volkswagen\",\n",
    "    \"car_model\": \"Jetta\",\n",
    "    \"car_year\": 2017,\n",
    "    \"car_color\": \"Белый\",\n",
    "    \"car_license_plate_number\": \"M449TK123\",\n",
    "    \"check_history\": [{\"id\": \"b0bd5efac9994a3f84fa92be8ba67c95\",\n",
    "                      \"pass_datetime\": \"2018-08-15T09:52:11.415811Z\",\n",
    "                      \"comment\": \"госномер указан неверно. Обновить данные в вашем профиле может таксопарк\",\n",
    "                      \"result\": \"block\",\n",
    "                      'check_type': 'human'}, \n",
    "                     {\"id\": \"c37d7a5bfa5b42e49e23c16fc967a4e5\",\n",
    "                      \"pass_datetime\": \"2018-08-15T09:50:55.167526Z\",\n",
    "                      \"result\": \"success\",\n",
    "                      \"check_type\": \"human\"},\n",
    "                      {\"id\": \"392405c237df47ea8fc9afc130610c31\", \n",
    "                       \"pass_datetime\": \"2018-08-15T08:52:12.203816Z\",\n",
    "                       \"result\": \"success\",\n",
    "                       \"check_type\": \"human\"},\n",
    "                      {\"id\": \"0fa612243a694a51b099f1a240e119e9\",\n",
    "                       \"pass_datetime\": \"2018-08-13T13:20:16.660407Z\",\n",
    "                       \"result\": \"success\",\n",
    "                       \"check_type\": \"human\"},\n",
    "                      {\"id\": \"691702d826834447b5027f75bc652514\",\n",
    "                       \"pass_datetime\": \"2018-08-07T11:57:25.230205Z\",\n",
    "                       \"result\": \"success\",\n",
    "                       \"check_type\": \"human\"},\n",
    "                      {\"id\": \"6a4a59f0a4e349d192335b2f821a8ee7\",\n",
    "                       \"pass_datetime\": \"2018-08-01T09:48:45.895766Z\",\n",
    "                       \"result\": \"success\",\n",
    "                       \"check_type\": \"human\"},\n",
    "                      {\"id\": \"5b0dc3e067ce4c6c9cb47821d80f0989\",\n",
    "                       \"pass_datetime\": \"2018-07-27T05:57:16.985684Z\",\n",
    "                       \"result\": \"success\",\n",
    "                       \"check_type\": \"human\"}]}\n",
    "\n",
    "exam_info = handler_testing_utils.to_utf(exam_info)\n",
    "    \n",
    "with open('./exam_info_files/exam_info_case_0.json', mode='wb') as f:\n",
    "    json.dump(exam_info, f, ensure_ascii=False, indent=2)\n",
    "\n",
    "start = time()\n",
    "resp = !curl -F 'exam_info=@./exam_info_files/exam_info_case_0.json;type=application/json' -H \"Host: pyml.taxi.yandex.net\" http://pyml-rqc.taxi.dev.yandex.net/models/remote_quality_control\n",
    "# resp = !curl -F 'exam_info=@./exam_info_files/exam_info_case_0.json;type=application/json' -H \"Host: pyml.taxi.yandex.net\" http://127.0.0.1:5000/models/remote_quality_control\n",
    "finish = time()\n",
    "print 'Time elapsed:', finish - start, '\\n'\n",
    "try:\n",
    "    pprint(json.loads(resp[-1]))\n",
    "except:\n",
    "    print resp[-1]"
   ]
  },
  {
   "cell_type": "markdown",
   "metadata": {},
   "source": [
    "### Check response times with threads and without them"
   ]
  },
  {
   "cell_type": "code",
   "execution_count": null,
   "metadata": {
    "ExecuteTime": {
     "end_time": "2019-04-01T15:41:30.823463Z",
     "start_time": "2019-04-01T15:41:09.047408Z"
    }
   },
   "outputs": [],
   "source": [
    "# Case 1: correct number, correct brand-model, correct color, no trash, fair block\n",
    "for i in range(20):\n",
    "    time_elapsed, command, resp =\\\n",
    "        send_request(use_ml=True, car_brand='Volkswagen', car_model='Jetta', car_color='Белый', \n",
    "                     car_lp_number='M449TK123', exam_country='Россия', exam_city='Москва',\n",
    "                     pass_id='o', options=['self_employed', 'self_reg', 'newbie'],\n",
    "                     num_checks=3,\n",
    "                     comments=[u'очень грязное тс']*3,\n",
    "                     dates=[u\"2018-04-1\" + unicode(i) + \"T16:27:18\" for i in range(0, 3)],\n",
    "                     results=[u'block']*3,\n",
    "                     check_types=[u'human']*3,\n",
    "                     front='front', back='back', left='left', right='right',\n",
    "                     salon_back='salon_back', salon_front='salon_front',\n",
    "                     url=URL, folder='./example_photos/',\n",
    "                     exam_info_path='./exam_info_files/exam_info_case_1.json')\n",
    "    print time_elapsed"
   ]
  },
  {
   "cell_type": "markdown",
   "metadata": {},
   "source": [
    "### Make ammo"
   ]
  },
  {
   "cell_type": "code",
   "execution_count": null,
   "metadata": {
    "ExecuteTime": {
     "end_time": "2019-04-01T17:59:45.258588Z",
     "start_time": "2019-04-01T17:59:45.239140Z"
    }
   },
   "outputs": [],
   "source": [
    "ammo_str = handler_testing_utils.make_ammo(\n",
    "    folder_images='./example_photos',\n",
    "    exam_info_path='./exam_info_files/exam_info_case_1.json'\n",
    ")"
   ]
  },
  {
   "cell_type": "code",
   "execution_count": null,
   "metadata": {
    "ExecuteTime": {
     "end_time": "2019-04-01T17:59:46.604532Z",
     "start_time": "2019-04-01T17:59:46.597403Z"
    }
   },
   "outputs": [],
   "source": [
    "with open('ammo_trial.txt', 'wb') as f:\n",
    "    f.write(ammo_str.lstrip('\\n'))"
   ]
  },
  {
   "cell_type": "markdown",
   "metadata": {},
   "source": [
    "### Requests checks"
   ]
  },
  {
   "cell_type": "markdown",
   "metadata": {},
   "source": [
    "### Trivial Checks"
   ]
  },
  {
   "cell_type": "code",
   "execution_count": null,
   "metadata": {},
   "outputs": [],
   "source": [
    "data = {}\n",
    "for view in ['front', 'back', 'left', 'right']:\n",
    "    with open('./example_photos/' + view + '.jpg', 'rb') as f:\n",
    "        img_str = f.read()\n",
    "    data[view] = img_str\n",
    "\n",
    "PHOTO_TO_NUMBER_MAPPING = {\n",
    "    'back': '0',\n",
    "    'front': '1',\n",
    "    'left': '2',\n",
    "    'right': '3'\n",
    "}\n",
    "session_trash = grequests.Session()\n",
    "session_trash.mount('http://', requests.adapters.HTTPAdapter(\n",
    "    max_retries=requests.packages.urllib3.util.Retry(\n",
    "        total=(3),\n",
    "        backoff_factor=0,\n",
    "        method_whitelist=frozenset(['POST']),\n",
    "        status_forcelist=[500],\n",
    "        raise_on_redirect=True,\n",
    "        raise_on_status=True\n",
    "    )\n",
    "))\n",
    "\n",
    "session_lp = grequests.Session()\n",
    "session_trash.mount('http://', requests.adapters.HTTPAdapter(\n",
    "    max_retries=requests.packages.urllib3.util.Retry(\n",
    "        total=(3),\n",
    "        backoff_factor=0,\n",
    "        method_whitelist=frozenset(['POST']),\n",
    "        status_forcelist=[500],\n",
    "        raise_on_redirect=True,\n",
    "        raise_on_status=True\n",
    "    )\n",
    "))"
   ]
  },
  {
   "cell_type": "code",
   "execution_count": null,
   "metadata": {},
   "outputs": [],
   "source": [
    "resps = handler_testing_utils.send_parallel_requests_mlaas(data, session_trash)\n",
    "resps = handler_testing_utils.send_parallel_requests_cv(data, session_lp)"
   ]
  },
  {
   "cell_type": "markdown",
   "metadata": {},
   "source": [
    "### parse_driver_license checks"
   ]
  },
  {
   "cell_type": "code",
   "execution_count": null,
   "metadata": {
    "ExecuteTime": {
     "end_time": "2019-04-03T16:22:14.263447Z",
     "start_time": "2019-04-03T16:22:14.257112Z"
    }
   },
   "outputs": [],
   "source": [
    "from copy import deepcopy\n",
    "\n",
    "import requests\n",
    "import grequests"
   ]
  },
  {
   "cell_type": "code",
   "execution_count": null,
   "metadata": {
    "ExecuteTime": {
     "end_time": "2019-04-12T08:45:56.961239Z",
     "start_time": "2019-04-12T08:45:56.955237Z"
    }
   },
   "outputs": [],
   "source": [
    "# url_pymlaas_dl = 'http://127.0.0.1:5000/parse_driver_license'\n",
    "url_pymlaas_dl = 'http://pyml.taxi.dev.yandex.net/parse_driver_license'"
   ]
  },
  {
   "cell_type": "code",
   "execution_count": null,
   "metadata": {
    "ExecuteTime": {
     "end_time": "2019-04-12T08:45:57.339531Z",
     "start_time": "2019-04-12T08:45:57.333452Z"
    }
   },
   "outputs": [],
   "source": [
    "prod = '8b3818d4-259d-46e6-89be-cd266f5ae81f'\n",
    "test = '49f1d123-e803-4fda-b727-62ed0e3c7a4a'"
   ]
  },
  {
   "cell_type": "code",
   "execution_count": null,
   "metadata": {
    "ExecuteTime": {
     "end_time": "2019-04-12T08:46:13.731872Z",
     "start_time": "2019-04-12T08:46:12.956349Z"
    }
   },
   "outputs": [],
   "source": [
    "resp = !curl $url_pymlaas_dl \\\n",
    "        -F \"front_binary=@./example_photos/driver_license_ru.jpg\" \\\n",
    "        -F \"country=rus\" \\\n",
    "        -H \"Host: pyml.taxi.yandex.net\" -v\n",
    "try:\n",
    "    pprint(json.loads(resp[-1]))\n",
    "except:\n",
    "    pprint(resp[-1])"
   ]
  },
  {
   "cell_type": "code",
   "execution_count": null,
   "metadata": {
    "ExecuteTime": {
     "end_time": "2019-04-12T08:46:14.405184Z",
     "start_time": "2019-04-12T08:46:14.392367Z"
    }
   },
   "outputs": [],
   "source": [
    "print 'first_name:', json.loads(resp[-1])['first_name']['value']\n",
    "print 'last_name:', json.loads(resp[-1])['last_name']['value']\n",
    "print 'middle_name:', json.loads(resp[-1])['middle_name']['value']\n",
    "print 'number:', json.loads(resp[-1])['number']['value']\n",
    "print 'series:', json.loads(resp[-1])['series']['value']\n",
    "print 'due_date:', json.loads(resp[-1])['due_date']['value']\n",
    "print 'issue_date:', json.loads(resp[-1])['issue_date']['value']\n",
    "print 'birth_date:', json.loads(resp[-1])['birth_date']['value']"
   ]
  },
  {
   "cell_type": "code",
   "execution_count": null,
   "metadata": {
    "ExecuteTime": {
     "end_time": "2019-04-12T08:46:22.419862Z",
     "start_time": "2019-04-12T08:46:22.038241Z"
    },
    "scrolled": true
   },
   "outputs": [],
   "source": [
    "for i in range(1):\n",
    "    resp = !curl $url_pymlaas_dl \\\n",
    "            -F \"front_binary=@./example_photos/blank.jpg\" \\\n",
    "            -F \"country=rus\" \\\n",
    "            -H \"Host: pyml.taxi.yandex.net\" -v\n",
    "    try:\n",
    "        pprint(json.loads(resp[-1]))\n",
    "    except:\n",
    "        pprint(resp[-1])"
   ]
  },
  {
   "cell_type": "code",
   "execution_count": null,
   "metadata": {
    "ExecuteTime": {
     "end_time": "2019-04-12T08:46:50.543651Z",
     "start_time": "2019-04-12T08:46:49.564385Z"
    }
   },
   "outputs": [],
   "source": [
    "files = {}\n",
    "with open('./example_photos/blank.jpg', 'rb') as f:\n",
    "    photo_binary = f.read()\n",
    "\n",
    "files['file'] = photo_binary\n",
    "files['langName'] = 'eng,rus'\n",
    "files['apikey'] = test\n",
    "files['meta'] = json.dumps({\"StrategyName\": \"FullOcrVU\"})\n",
    "files_no_api = deepcopy(files)\n",
    "\n",
    "req_success = grequests.request(\n",
    "    method='post',\n",
    "    url='https://api-translate.ocr.yandex.net:443/recognize',\n",
    "    files=files,\n",
    "    timeout=3\n",
    ")\n",
    "\n",
    "req_timeout = grequests.request(\n",
    "    method='post',\n",
    "    url='https://api-translate.ocr.yandex.net:443/recognize',\n",
    "    files=files,\n",
    "    timeout=0.1\n",
    ")\n",
    "\n",
    "files_no_api.pop('apikey')\n",
    "req_no_api = grequests.request(\n",
    "    method='post',\n",
    "    url='https://api-translate.ocr.yandex.net:443/recognize',\n",
    "    files=files_no_api,\n",
    "    timeout=3\n",
    ")\n",
    "\n",
    "glist = grequests.map([req_timeout]*2 + [req_no_api]*2 + [req_success]*2,\n",
    "                      exception_handler=exception_handler)\n",
    "# glist = grequests.map([req_success]*2, exception_handler=exception_handler)"
   ]
  },
  {
   "cell_type": "code",
   "execution_count": null,
   "metadata": {
    "ExecuteTime": {
     "end_time": "2019-04-12T08:46:52.606934Z",
     "start_time": "2019-04-12T08:46:52.597631Z"
    }
   },
   "outputs": [],
   "source": [
    "glist"
   ]
  },
  {
   "cell_type": "code",
   "execution_count": null,
   "metadata": {
    "ExecuteTime": {
     "end_time": "2019-04-03T16:36:38.544178Z",
     "start_time": "2019-04-03T16:36:38.020144Z"
    }
   },
   "outputs": [],
   "source": [
    "!curl -kD - \"https://api-translate.ocr.yandex.net:443/recognize\" \\\n",
    "-F \"file=@./example_photos/blank.jpg\" \\\n",
    "-F \"apikey=49f1d123-e803-4fda-b727-62ed0e3c7a4a\" \\\n",
    "-F \"langName=eng,rus\" \\\n",
    "-H \"Expect:\" \\\n",
    "-F \"meta={\\\"StrategyName\\\":\\\"FullOcrVU\\\"}\""
   ]
  },
  {
   "cell_type": "markdown",
   "metadata": {
    "ExecuteTime": {
     "end_time": "2019-02-22T08:21:25.468529Z",
     "start_time": "2019-02-22T08:21:25.459998Z"
    }
   },
   "source": [
    "### Trivia"
   ]
  },
  {
   "cell_type": "code",
   "execution_count": null,
   "metadata": {},
   "outputs": [],
   "source": []
  }
 ],
 "metadata": {
  "kernelspec": {
   "display_name": "Python 2",
   "language": "python",
   "name": "python2"
  },
  "language_info": {
   "codemirror_mode": {
    "name": "ipython",
    "version": 2
   },
   "file_extension": ".py",
   "mimetype": "text/x-python",
   "name": "python",
   "nbconvert_exporter": "python",
   "pygments_lexer": "ipython2",
   "version": "2.7.12"
  },
  "varInspector": {
   "cols": {
    "lenName": 16,
    "lenType": 16,
    "lenVar": 40
   },
   "kernels_config": {
    "python": {
     "delete_cmd_postfix": "",
     "delete_cmd_prefix": "del ",
     "library": "var_list.py",
     "varRefreshCmd": "print(var_dic_list())"
    },
    "r": {
     "delete_cmd_postfix": ") ",
     "delete_cmd_prefix": "rm(",
     "library": "var_list.r",
     "varRefreshCmd": "cat(var_dic_list()) "
    }
   },
   "types_to_exclude": [
    "module",
    "function",
    "builtin_function_or_method",
    "instance",
    "_Feature"
   ],
   "window_display": false
  }
 },
 "nbformat": 4,
 "nbformat_minor": 2
}
