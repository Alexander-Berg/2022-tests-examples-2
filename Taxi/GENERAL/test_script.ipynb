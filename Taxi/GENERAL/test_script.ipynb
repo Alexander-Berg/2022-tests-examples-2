{
 "cells": [
  {
   "cell_type": "code",
   "execution_count": null,
   "metadata": {
    "ExecuteTime": {
     "start_time": "2020-03-30T10:46:18.794Z"
    },
    "scrolled": false
   },
   "outputs": [],
   "source": [
    "!python -m projects.automl.look_alike.nirvana.look_alike \\\n",
    "--input-table-path=/home/taxi_ml/dev/automl/look_alike/test_input_table \\\n",
    "--output-table-path=/home/taxi_ml/dev/automl/look_alike/test_output_table_path \\\n",
    "--object-id-column-name=unique_driver_id \\\n",
    "--object-id-type=unique_driver_id \\\n",
    "--experiment-date=2019-12-30 \\\n",
    "--experiment-name=selfemployed"
   ]
  },
  {
   "cell_type": "code",
   "execution_count": null,
   "metadata": {},
   "outputs": [],
   "source": []
  }
 ],
 "metadata": {
  "kernelspec": {
   "display_name": "Python 3",
   "language": "python",
   "name": "python3"
  },
  "language_info": {
   "codemirror_mode": {
    "name": "ipython",
    "version": 3
   },
   "file_extension": ".py",
   "mimetype": "text/x-python",
   "name": "python",
   "nbconvert_exporter": "python",
   "pygments_lexer": "ipython3",
   "version": "3.7.3"
  }
 },
 "nbformat": 4,
 "nbformat_minor": 2
}
