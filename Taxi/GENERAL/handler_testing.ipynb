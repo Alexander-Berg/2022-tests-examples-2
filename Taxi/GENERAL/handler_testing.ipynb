{
 "cells": [
  {
   "cell_type": "code",
   "execution_count": null,
   "metadata": {
    "ExecuteTime": {
     "end_time": "2019-06-29T15:01:22.731039Z",
     "start_time": "2019-06-29T15:01:22.312631Z"
    }
   },
   "outputs": [],
   "source": [
    "from pprint import pprint\n",
    "from copy import deepcopy\n",
    "\n",
    "import requests\n",
    "import grequests\n",
    "\n",
    "from pymlaas.util import request_helpers"
   ]
  },
  {
   "cell_type": "code",
   "execution_count": null,
   "metadata": {
    "ExecuteTime": {
     "end_time": "2019-06-29T15:01:23.383340Z",
     "start_time": "2019-06-29T15:01:23.377458Z"
    }
   },
   "outputs": [],
   "source": [
    "# url_pymlaas_dl = 'http://127.0.0.1:5000/parse_driver_license'\n",
    "url_pymlaas_dl = 'http://pyml.taxi.dev.yandex.net/parse_driver_license'"
   ]
  },
  {
   "cell_type": "code",
   "execution_count": null,
   "metadata": {
    "ExecuteTime": {
     "end_time": "2019-06-29T15:01:23.846195Z",
     "start_time": "2019-06-29T15:01:23.840189Z"
    }
   },
   "outputs": [],
   "source": [
    "prod = '8b3818d4-259d-46e6-89be-cd266f5ae81f'\n",
    "test = '49f1d123-e803-4fda-b727-62ed0e3c7a4a'"
   ]
  },
  {
   "cell_type": "markdown",
   "metadata": {},
   "source": [
    "### Single response checks"
   ]
  },
  {
   "cell_type": "code",
   "execution_count": null,
   "metadata": {
    "ExecuteTime": {
     "end_time": "2019-06-29T16:27:57.949054Z",
     "start_time": "2019-06-29T16:27:57.943001Z"
    }
   },
   "outputs": [],
   "source": [
    "photo_name_to_test = 'dl_rotated_270.jpg'"
   ]
  },
  {
   "cell_type": "code",
   "execution_count": null,
   "metadata": {
    "ExecuteTime": {
     "end_time": "2019-06-29T16:27:59.359670Z",
     "start_time": "2019-06-29T16:27:58.467115Z"
    }
   },
   "outputs": [],
   "source": [
    "front_binary_string = \"front_binary=@./example_photos/{}\".format(\n",
    "    photo_name_to_test\n",
    ")\n",
    "resp = !curl $url_pymlaas_dl \\\n",
    "        -F  $front_binary_string \\\n",
    "        -F \"country=rus\" \\\n",
    "        -H \"Host: pyml.taxi.yandex.net\" -v\n",
    "try:\n",
    "    pprint(json.loads(resp[-1]))\n",
    "except:\n",
    "    pprint(resp[-1])"
   ]
  },
  {
   "cell_type": "code",
   "execution_count": null,
   "metadata": {
    "ExecuteTime": {
     "end_time": "2019-06-29T16:28:00.447409Z",
     "start_time": "2019-06-29T16:28:00.433662Z"
    },
    "scrolled": true
   },
   "outputs": [],
   "source": [
    "print 'first_name:', json.loads(resp[-1])['first_name']['value']\n",
    "print 'last_name:', json.loads(resp[-1])['last_name']['value']\n",
    "print 'middle_name:', json.loads(resp[-1])['middle_name']['value']\n",
    "print 'number:', json.loads(resp[-1])['number']['value']\n",
    "print 'series:', json.loads(resp[-1])['series']['value']\n",
    "print 'due_date:', json.loads(resp[-1])['due_date']['value']\n",
    "print 'issue_date:', json.loads(resp[-1])['issue_date']['value']\n",
    "print 'birth_date:', json.loads(resp[-1])['birth_date']['value']"
   ]
  },
  {
   "cell_type": "code",
   "execution_count": null,
   "metadata": {
    "ExecuteTime": {
     "end_time": "2019-06-29T16:28:01.782431Z",
     "start_time": "2019-06-29T16:28:00.941173Z"
    }
   },
   "outputs": [],
   "source": [
    "files = {}\n",
    "with open('./example_photos/' + photo_name_to_test, 'rb') as f:\n",
    "    photo_binary = f.read()\n",
    "\n",
    "files['file'] = photo_binary\n",
    "files['langName'] = 'eng,rus'\n",
    "files['apikey'] = test\n",
    "files['meta'] = json.dumps({\"StrategyName\": \"FullOcrVU\"})\n",
    "files['rotate'] = 'auto'\n",
    "\n",
    "req_success = requests.request(\n",
    "    method='post',\n",
    "    url='https://api-translate.ocr.yandex.net:443/recognize',\n",
    "    files=files,\n",
    "    timeout=3\n",
    ")"
   ]
  },
  {
   "cell_type": "code",
   "execution_count": null,
   "metadata": {
    "ExecuteTime": {
     "end_time": "2019-06-29T16:28:01.878033Z",
     "start_time": "2019-06-29T16:28:01.732Z"
    }
   },
   "outputs": [],
   "source": [
    "resp_text = req_success.json()"
   ]
  },
  {
   "cell_type": "code",
   "execution_count": null,
   "metadata": {
    "ExecuteTime": {
     "end_time": "2019-06-29T16:28:02.718888Z",
     "start_time": "2019-06-29T16:28:02.712981Z"
    }
   },
   "outputs": [],
   "source": [
    "# resp_text"
   ]
  },
  {
   "cell_type": "code",
   "execution_count": null,
   "metadata": {
    "ExecuteTime": {
     "end_time": "2019-06-29T16:28:02.945164Z",
     "start_time": "2019-06-29T16:28:02.932192Z"
    }
   },
   "outputs": [],
   "source": [
    "for block in resp_text['data']['blocks']:\n",
    "    for box in block['boxes']:\n",
    "        for language in box['languages']:\n",
    "            for text in language['texts']:\n",
    "                for word in text['words']:\n",
    "                    print word['word']"
   ]
  },
  {
   "cell_type": "markdown",
   "metadata": {},
   "source": [
    "### Response consistency checks"
   ]
  },
  {
   "cell_type": "code",
   "execution_count": null,
   "metadata": {
    "ExecuteTime": {
     "end_time": "2019-06-03T11:15:53.379867Z",
     "start_time": "2019-06-03T11:15:52.893915Z"
    }
   },
   "outputs": [],
   "source": [
    "for i in range(1):\n",
    "    resp = !curl $url_pymlaas_dl \\\n",
    "            -F \"front_binary=@./example_photos/blank.jpg\" \\\n",
    "            -F \"country=rus\" \\\n",
    "            -H \"Host: pyml.taxi.yandex.net\" -v\n",
    "    try:\n",
    "        pprint(json.loads(resp[-1]))\n",
    "    except:\n",
    "        pprint(resp[-1])"
   ]
  },
  {
   "cell_type": "code",
   "execution_count": null,
   "metadata": {
    "ExecuteTime": {
     "end_time": "2019-04-17T16:47:13.375693Z",
     "start_time": "2019-04-17T16:47:12.433090Z"
    }
   },
   "outputs": [],
   "source": [
    "files = {}\n",
    "with open('./example_photos/blank.jpg', 'rb') as f:\n",
    "    photo_binary = f.read()\n",
    "\n",
    "files['file'] = photo_binary\n",
    "files['langName'] = 'eng,rus'\n",
    "files['apikey'] = test\n",
    "files['meta'] = json.dumps({\"StrategyName\": \"FullOcrVU\"})\n",
    "files_no_api = deepcopy(files)\n",
    "\n",
    "req_success = grequests.request(\n",
    "    method='post',\n",
    "    url='https://api-translate.ocr.yandex.net:443/recognize',\n",
    "    files=files,\n",
    "    timeout=3\n",
    ")\n",
    "\n",
    "req_timeout = grequests.request(\n",
    "    method='post',\n",
    "    url='https://api-translate.ocr.yandex.net:443/recognize',\n",
    "    files=files,\n",
    "    timeout=0.1\n",
    ")\n",
    "\n",
    "files_no_api.pop('apikey')\n",
    "req_no_api = grequests.request(\n",
    "    method='post',\n",
    "    url='https://api-translate.ocr.yandex.net:443/recognize',\n",
    "    files=files_no_api,\n",
    "    timeout=3\n",
    ")\n",
    "\n",
    "glist = grequests.map([req_timeout]*2 + [req_no_api]*2 + [req_success]*2,\n",
    "                      exception_handler=request_helpers.default_exception_handler)\n",
    "# glist = grequests.map([req_success]*2, exception_handler=exception_handler)"
   ]
  },
  {
   "cell_type": "code",
   "execution_count": null,
   "metadata": {
    "ExecuteTime": {
     "end_time": "2019-06-29T16:41:28.949816Z",
     "start_time": "2019-06-29T16:41:27.849484Z"
    }
   },
   "outputs": [],
   "source": [
    "!curl -kD - \"https://api-translate.ocr.yandex.net:443/recognize\" \\\n",
    "-F \"file=@./example_photos/sergey_larin_dl_bright.jpg\" \\\n",
    "-F \"apikey=49f1d123-e803-4fda-b727-62ed0e3c7a4a\" \\\n",
    "-F \"langName=eng,rus\" \\\n",
    "-H \"Expect:\" \\\n",
    "-F \"meta={\\\"StrategyName\\\":\\\"FullOcrVU\\\"}\" \\\n",
    "-F \"rotate=auto\""
   ]
  },
  {
   "cell_type": "code",
   "execution_count": null,
   "metadata": {},
   "outputs": [],
   "source": []
  }
 ],
 "metadata": {
  "kernelspec": {
   "display_name": "Python 2",
   "language": "python",
   "name": "python2"
  },
  "language_info": {
   "codemirror_mode": {
    "name": "ipython",
    "version": 2
   },
   "file_extension": ".py",
   "mimetype": "text/x-python",
   "name": "python",
   "nbconvert_exporter": "python",
   "pygments_lexer": "ipython2",
   "version": "2.7.12"
  },
  "varInspector": {
   "cols": {
    "lenName": 16,
    "lenType": 16,
    "lenVar": 40
   },
   "kernels_config": {
    "python": {
     "delete_cmd_postfix": "",
     "delete_cmd_prefix": "del ",
     "library": "var_list.py",
     "varRefreshCmd": "print(var_dic_list())"
    },
    "r": {
     "delete_cmd_postfix": ") ",
     "delete_cmd_prefix": "rm(",
     "library": "var_list.r",
     "varRefreshCmd": "cat(var_dic_list()) "
    }
   },
   "types_to_exclude": [
    "module",
    "function",
    "builtin_function_or_method",
    "instance",
    "_Feature"
   ],
   "window_display": false
  }
 },
 "nbformat": 4,
 "nbformat_minor": 2
}
