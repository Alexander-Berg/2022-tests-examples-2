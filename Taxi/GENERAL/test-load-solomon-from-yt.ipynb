{
 "cells": [
  {
   "cell_type": "code",
   "execution_count": 157,
   "id": "2a895017",
   "metadata": {},
   "outputs": [],
   "source": [
    "import pandas as pd\n",
    "from business_models.databases.hahn import HahnDataLoader\n",
    "from functools import reduce"
   ]
  },
  {
   "cell_type": "code",
   "execution_count": null,
   "id": "bfc4352f",
   "metadata": {},
   "outputs": [],
   "source": [
    "from buisn"
   ]
  },
  {
   "cell_type": "code",
   "execution_count": 2,
   "id": "d7a0edcf",
   "metadata": {},
   "outputs": [],
   "source": [
    "with open('/home/victorshch/data/my-yql-token.txt', 'r') as f:\n",
    "    yql_token = f.read().strip()"
   ]
  },
  {
   "cell_type": "code",
   "execution_count": 3,
   "id": "5fcfcabb",
   "metadata": {},
   "outputs": [],
   "source": [
    "hahn = HahnDataLoader(yql_token)"
   ]
  },
  {
   "cell_type": "code",
   "execution_count": 9,
   "id": "8b675deb",
   "metadata": {},
   "outputs": [
    {
     "data": {
      "text/plain": [
       "\u001b[0;31mSignature:\u001b[0m\n",
       "\u001b[0mhahn\u001b[0m\u001b[0;34m.\u001b[0m\u001b[0myt\u001b[0m\u001b[0;34m.\u001b[0m\u001b[0mselect_rows\u001b[0m\u001b[0;34m(\u001b[0m\u001b[0;34m\u001b[0m\n",
       "\u001b[0;34m\u001b[0m    \u001b[0mquery\u001b[0m\u001b[0;34m,\u001b[0m\u001b[0;34m\u001b[0m\n",
       "\u001b[0;34m\u001b[0m    \u001b[0mtimestamp\u001b[0m\u001b[0;34m=\u001b[0m\u001b[0;32mNone\u001b[0m\u001b[0;34m,\u001b[0m\u001b[0;34m\u001b[0m\n",
       "\u001b[0;34m\u001b[0m    \u001b[0minput_row_limit\u001b[0m\u001b[0;34m=\u001b[0m\u001b[0;32mNone\u001b[0m\u001b[0;34m,\u001b[0m\u001b[0;34m\u001b[0m\n",
       "\u001b[0;34m\u001b[0m    \u001b[0moutput_row_limit\u001b[0m\u001b[0;34m=\u001b[0m\u001b[0;32mNone\u001b[0m\u001b[0;34m,\u001b[0m\u001b[0;34m\u001b[0m\n",
       "\u001b[0;34m\u001b[0m    \u001b[0mrange_expansion_limit\u001b[0m\u001b[0;34m=\u001b[0m\u001b[0;32mNone\u001b[0m\u001b[0;34m,\u001b[0m\u001b[0;34m\u001b[0m\n",
       "\u001b[0;34m\u001b[0m    \u001b[0mfail_on_incomplete_result\u001b[0m\u001b[0;34m=\u001b[0m\u001b[0;32mNone\u001b[0m\u001b[0;34m,\u001b[0m\u001b[0;34m\u001b[0m\n",
       "\u001b[0;34m\u001b[0m    \u001b[0mverbose_logging\u001b[0m\u001b[0;34m=\u001b[0m\u001b[0;32mNone\u001b[0m\u001b[0;34m,\u001b[0m\u001b[0;34m\u001b[0m\n",
       "\u001b[0;34m\u001b[0m    \u001b[0menable_code_cache\u001b[0m\u001b[0;34m=\u001b[0m\u001b[0;32mNone\u001b[0m\u001b[0;34m,\u001b[0m\u001b[0;34m\u001b[0m\n",
       "\u001b[0;34m\u001b[0m    \u001b[0mmax_subqueries\u001b[0m\u001b[0;34m=\u001b[0m\u001b[0;32mNone\u001b[0m\u001b[0;34m,\u001b[0m\u001b[0;34m\u001b[0m\n",
       "\u001b[0;34m\u001b[0m    \u001b[0mworkload_descriptor\u001b[0m\u001b[0;34m=\u001b[0m\u001b[0;32mNone\u001b[0m\u001b[0;34m,\u001b[0m\u001b[0;34m\u001b[0m\n",
       "\u001b[0;34m\u001b[0m    \u001b[0mallow_full_scan\u001b[0m\u001b[0;34m=\u001b[0m\u001b[0;32mNone\u001b[0m\u001b[0;34m,\u001b[0m\u001b[0;34m\u001b[0m\n",
       "\u001b[0;34m\u001b[0m    \u001b[0mallow_join_without_index\u001b[0m\u001b[0;34m=\u001b[0m\u001b[0;32mNone\u001b[0m\u001b[0;34m,\u001b[0m\u001b[0;34m\u001b[0m\n",
       "\u001b[0;34m\u001b[0m    \u001b[0mformat\u001b[0m\u001b[0;34m=\u001b[0m\u001b[0;32mNone\u001b[0m\u001b[0;34m,\u001b[0m\u001b[0;34m\u001b[0m\n",
       "\u001b[0;34m\u001b[0m    \u001b[0mraw\u001b[0m\u001b[0;34m=\u001b[0m\u001b[0;32mNone\u001b[0m\u001b[0;34m,\u001b[0m\u001b[0;34m\u001b[0m\n",
       "\u001b[0;34m\u001b[0m    \u001b[0mexecution_pool\u001b[0m\u001b[0;34m=\u001b[0m\u001b[0;32mNone\u001b[0m\u001b[0;34m,\u001b[0m\u001b[0;34m\u001b[0m\n",
       "\u001b[0;34m\u001b[0m    \u001b[0mresponse_parameters\u001b[0m\u001b[0;34m=\u001b[0m\u001b[0;32mNone\u001b[0m\u001b[0;34m,\u001b[0m\u001b[0;34m\u001b[0m\n",
       "\u001b[0;34m\u001b[0m    \u001b[0mclient\u001b[0m\u001b[0;34m=\u001b[0m\u001b[0;32mNone\u001b[0m\u001b[0;34m,\u001b[0m\u001b[0;34m\u001b[0m\n",
       "\u001b[0;34m\u001b[0m\u001b[0;34m)\u001b[0m\u001b[0;34m\u001b[0m\u001b[0;34m\u001b[0m\u001b[0m\n",
       "\u001b[0;31mDocstring:\u001b[0m\n",
       "Executes a SQL-like query on dynamic table.\n",
       "\n",
       ".. seealso:: `supported features <https://yt.yandex-team.ru/docs/description/dynamic_tables/dyn_query_language>`_\n",
       "\n",
       ":param str query: for example \"<columns> [as <alias>], ... from \\[<table>\\]                   [where <predicate> [group by <columns> [as <alias>], ...]]\".\n",
       ":param int timestamp: timestamp.\n",
       ":param format: output format.\n",
       ":type format: str or descendant of :class:`Format <yt.wrapper.format.Format>`\n",
       ":param bool raw: don't parse response to rows.\n",
       "\u001b[0;31mFile:\u001b[0m      /usr/local/lib/python3.7/dist-packages/yt/wrapper/dynamic_table_commands.py\n",
       "\u001b[0;31mType:\u001b[0m      function\n"
      ]
     },
     "metadata": {},
     "output_type": "display_data"
    }
   ],
   "source": [
    "hahn.yt.select_rows?"
   ]
  },
  {
   "cell_type": "code",
   "execution_count": 17,
   "id": "f4050007",
   "metadata": {},
   "outputs": [],
   "source": [
    "result = hahn('select count(*) from range(`//home/taxi/home/kokokosttn/taxi-devops-data/solomon/data`)')"
   ]
  },
  {
   "cell_type": "code",
   "execution_count": 19,
   "id": "303159a2",
   "metadata": {},
   "outputs": [
    {
     "data": {
      "text/plain": [
       "pandas.core.frame.DataFrame"
      ]
     },
     "execution_count": 19,
     "metadata": {},
     "output_type": "execute_result"
    }
   ],
   "source": [
    "type(result)"
   ]
  },
  {
   "cell_type": "code",
   "execution_count": 26,
   "id": "5b320c05",
   "metadata": {},
   "outputs": [],
   "source": [
    "def make_label_filter(**label_dict):\n",
    "    term_list = []\n",
    "    for key, value in label_dict.items():\n",
    "        term_list.append(\n",
    "            f'labels[\"{key}\"] = \"{value}\"'\n",
    "        )\n",
    "    return \" and \".join(term_list)"
   ]
  },
  {
   "cell_type": "code",
   "execution_count": 27,
   "id": "a52a4b01",
   "metadata": {},
   "outputs": [
    {
     "data": {
      "text/plain": [
       "'labels[\"a\"] = \"1\" and labels[\"b\"] = \"2\"'"
      ]
     },
     "execution_count": 27,
     "metadata": {},
     "output_type": "execute_result"
    }
   ],
   "source": [
    "make_label_filter(a=1, b=2)"
   ]
  },
  {
   "cell_type": "code",
   "execution_count": 22,
   "id": "e8cbb7d9",
   "metadata": {},
   "outputs": [],
   "source": []
  },
  {
   "cell_type": "code",
   "execution_count": 28,
   "id": "06e48e9a",
   "metadata": {},
   "outputs": [],
   "source": [
    "sample_query = query_tpl.format(label_filter = make_label_filter(**{'a': '1', 'b': '2'}))"
   ]
  },
  {
   "cell_type": "code",
   "execution_count": 29,
   "id": "8bb7cd21",
   "metadata": {},
   "outputs": [
    {
     "data": {
      "text/plain": [
       "'select labels, timestamps, values from range(`//home/taxi/home/kokokosttn/taxi-devops-data/solomon/data`) where labels[\"a\"] = \"1\" and labels[\"b\"] = \"2\"'"
      ]
     },
     "execution_count": 29,
     "metadata": {},
     "output_type": "execute_result"
    }
   ],
   "source": [
    "sample_query"
   ]
  },
  {
   "cell_type": "code",
   "execution_count": 41,
   "id": "3e1e6545",
   "metadata": {},
   "outputs": [],
   "source": [
    "DATA_DIR = '//home/taxi/home/victorshch/solomon_data_sample_dir'"
   ]
  },
  {
   "cell_type": "code",
   "execution_count": 127,
   "id": "caae7316",
   "metadata": {},
   "outputs": [],
   "source": [
    "QUERY_TPL = 'select labels, ListFilter(ListZip(timestamps, `values`), ($x) -> {{ RETURN {ts_from} < $x.0 AND $x.0 <= {ts_to}; }}) as tuples from range(`{data_dir}`) where {label_filter}'\n",
    "def make_query(data_dir, time_from, time_to, **label_dict):\n",
    "    ts_from = int(time_from.timestamp())\n",
    "    ts_to = int(time_to.timestamp())\n",
    "    query = QUERY_TPL.format(data_dir=data_dir, ts_from=ts_from, ts_to=ts_to, label_filter=make_label_filter(**label_dict))\n",
    "    return query"
   ]
  },
  {
   "cell_type": "code",
   "execution_count": 128,
   "id": "72ae94c5",
   "metadata": {},
   "outputs": [
    {
     "name": "stdout",
     "output_type": "stream",
     "text": [
      "select labels, ListFilter(ListZip(timestamps, `values`), ($x) -> { RETURN 0 < $x.0 AND $x.0 < 1640908800; }) as tuples from range(`//home/taxi/home/victorshch/solomon_data_sample_dir`) where labels[\"a\"] = \"1\" and labels[\"b\"] = \"2\"\n"
     ]
    }
   ],
   "source": [
    "print(make_query(DATA_DIR, pd.to_datetime(0), pd.to_datetime('2021-12-31'), a=1, b=2))"
   ]
  },
  {
   "cell_type": "code",
   "execution_count": 69,
   "id": "f2eac786",
   "metadata": {},
   "outputs": [],
   "source": [
    "pre_result = hahn(make_query(cluster='production', object='corp-clients_taxi_yandex_net_v1_cards_list_GET'))"
   ]
  },
  {
   "cell_type": "code",
   "execution_count": 142,
   "id": "4e48e7b9",
   "metadata": {},
   "outputs": [
    {
     "data": {
      "text/html": [
       "<div>\n",
       "<style scoped>\n",
       "    .dataframe tbody tr th:only-of-type {\n",
       "        vertical-align: middle;\n",
       "    }\n",
       "\n",
       "    .dataframe tbody tr th {\n",
       "        vertical-align: top;\n",
       "    }\n",
       "\n",
       "    .dataframe thead th {\n",
       "        text-align: right;\n",
       "    }\n",
       "</style>\n",
       "<table border=\"1\" class=\"dataframe\">\n",
       "  <thead>\n",
       "    <tr style=\"text-align: right;\">\n",
       "      <th></th>\n",
       "      <th>labels</th>\n",
       "      <th>tuples</th>\n",
       "    </tr>\n",
       "  </thead>\n",
       "  <tbody>\n",
       "    <tr>\n",
       "      <th>0</th>\n",
       "      <td>{'object': 'corp-clients_taxi_yandex_net_v1_ca...</td>\n",
       "      <td>[(1635792600, 0.0)]</td>\n",
       "    </tr>\n",
       "    <tr>\n",
       "      <th>1</th>\n",
       "      <td>{'object': 'corp-clients_taxi_yandex_net_v1_ca...</td>\n",
       "      <td>[(1635792600, 0.0)]</td>\n",
       "    </tr>\n",
       "  </tbody>\n",
       "</table>\n",
       "</div>"
      ],
      "text/plain": [
       "                                              labels               tuples\n",
       "0  {'object': 'corp-clients_taxi_yandex_net_v1_ca...  [(1635792600, 0.0)]\n",
       "1  {'object': 'corp-clients_taxi_yandex_net_v1_ca...  [(1635792600, 0.0)]"
      ]
     },
     "execution_count": 142,
     "metadata": {},
     "output_type": "execute_result"
    }
   ],
   "source": [
    "pre_result"
   ]
  },
  {
   "cell_type": "code",
   "execution_count": null,
   "id": "052e4fb6",
   "metadata": {},
   "outputs": [],
   "source": []
  },
  {
   "cell_type": "code",
   "execution_count": 143,
   "id": "aeec240c",
   "metadata": {},
   "outputs": [
    {
     "data": {
      "text/plain": [
       "labels    {'object': 'corp-clients_taxi_yandex_net_v1_ca...\n",
       "tuples                                  [(1635792600, 0.0)]\n",
       "Name: 0, dtype: object"
      ]
     },
     "execution_count": 143,
     "metadata": {},
     "output_type": "execute_result"
    }
   ],
   "source": [
    "pre_result.loc[0, :]"
   ]
  },
  {
   "cell_type": "code",
   "execution_count": 138,
   "id": "772fd9fe",
   "metadata": {},
   "outputs": [],
   "source": [
    "def make_ts_df_from_series(s):\n",
    "    multiindex_tuples = list(s['labels'].items())\n",
    "    multiindex_unzipped = list(zip(*multiindex_tuples))\n",
    "    multiindex = pd.MultiIndex.from_tuples([multiindex_unzipped[1]], names=multiindex_unzipped[0])\n",
    "    timestamps, values = zip(*s['tuples'])\n",
    "    result = pd.DataFrame(values, index=pd.to_datetime(timestamps, unit='s'), columns=multiindex)\n",
    "    return result"
   ]
  },
  {
   "cell_type": "code",
   "execution_count": 144,
   "id": "fff52b38",
   "metadata": {},
   "outputs": [
    {
     "data": {
      "text/html": [
       "<div>\n",
       "<style scoped>\n",
       "    .dataframe tbody tr th:only-of-type {\n",
       "        vertical-align: middle;\n",
       "    }\n",
       "\n",
       "    .dataframe tbody tr th {\n",
       "        vertical-align: top;\n",
       "    }\n",
       "\n",
       "    .dataframe thead tr th {\n",
       "        text-align: left;\n",
       "    }\n",
       "</style>\n",
       "<table border=\"1\" class=\"dataframe\">\n",
       "  <thead>\n",
       "    <tr>\n",
       "      <th>object</th>\n",
       "      <th>corp-clients_taxi_yandex_net_v1_cards_list_GET</th>\n",
       "    </tr>\n",
       "    <tr>\n",
       "      <th>sensor</th>\n",
       "      <th>ok_rps</th>\n",
       "    </tr>\n",
       "    <tr>\n",
       "      <th>group</th>\n",
       "      <th>dorblu_rtc_taxi_corp-clients_stable</th>\n",
       "    </tr>\n",
       "    <tr>\n",
       "      <th>host</th>\n",
       "      <th>cluster</th>\n",
       "    </tr>\n",
       "    <tr>\n",
       "      <th>project</th>\n",
       "      <th>taxi</th>\n",
       "    </tr>\n",
       "    <tr>\n",
       "      <th>service</th>\n",
       "      <th>dorblu</th>\n",
       "    </tr>\n",
       "    <tr>\n",
       "      <th>cluster</th>\n",
       "      <th>production</th>\n",
       "    </tr>\n",
       "  </thead>\n",
       "  <tbody>\n",
       "    <tr>\n",
       "      <th>2021-11-01 18:50:00</th>\n",
       "      <td>0.0</td>\n",
       "    </tr>\n",
       "  </tbody>\n",
       "</table>\n",
       "</div>"
      ],
      "text/plain": [
       "object              corp-clients_taxi_yandex_net_v1_cards_list_GET\n",
       "sensor                                                      ok_rps\n",
       "group                          dorblu_rtc_taxi_corp-clients_stable\n",
       "host                                                       cluster\n",
       "project                                                       taxi\n",
       "service                                                     dorblu\n",
       "cluster                                                 production\n",
       "2021-11-01 18:50:00                                            0.0"
      ]
     },
     "execution_count": 144,
     "metadata": {},
     "output_type": "execute_result"
    }
   ],
   "source": [
    "df0 = make_ts_df_from_series(pre_result.loc[0, :])\n",
    "df0"
   ]
  },
  {
   "cell_type": "code",
   "execution_count": 145,
   "id": "54d4b466",
   "metadata": {},
   "outputs": [
    {
     "data": {
      "text/html": [
       "<div>\n",
       "<style scoped>\n",
       "    .dataframe tbody tr th:only-of-type {\n",
       "        vertical-align: middle;\n",
       "    }\n",
       "\n",
       "    .dataframe tbody tr th {\n",
       "        vertical-align: top;\n",
       "    }\n",
       "\n",
       "    .dataframe thead tr th {\n",
       "        text-align: left;\n",
       "    }\n",
       "</style>\n",
       "<table border=\"1\" class=\"dataframe\">\n",
       "  <thead>\n",
       "    <tr>\n",
       "      <th>object</th>\n",
       "      <th>corp-clients_taxi_yandex_net_v1_cards_list_GET</th>\n",
       "    </tr>\n",
       "    <tr>\n",
       "      <th>sensor</th>\n",
       "      <th>ok_rps</th>\n",
       "    </tr>\n",
       "    <tr>\n",
       "      <th>group</th>\n",
       "      <th>dorblu_rtc_taxi_corp-clients_pre_stable</th>\n",
       "    </tr>\n",
       "    <tr>\n",
       "      <th>host</th>\n",
       "      <th>cluster</th>\n",
       "    </tr>\n",
       "    <tr>\n",
       "      <th>project</th>\n",
       "      <th>taxi</th>\n",
       "    </tr>\n",
       "    <tr>\n",
       "      <th>service</th>\n",
       "      <th>dorblu</th>\n",
       "    </tr>\n",
       "    <tr>\n",
       "      <th>cluster</th>\n",
       "      <th>production</th>\n",
       "    </tr>\n",
       "  </thead>\n",
       "  <tbody>\n",
       "    <tr>\n",
       "      <th>2021-11-01 18:50:00</th>\n",
       "      <td>0.0</td>\n",
       "    </tr>\n",
       "  </tbody>\n",
       "</table>\n",
       "</div>"
      ],
      "text/plain": [
       "object              corp-clients_taxi_yandex_net_v1_cards_list_GET\n",
       "sensor                                                      ok_rps\n",
       "group                      dorblu_rtc_taxi_corp-clients_pre_stable\n",
       "host                                                       cluster\n",
       "project                                                       taxi\n",
       "service                                                     dorblu\n",
       "cluster                                                 production\n",
       "2021-11-01 18:50:00                                            0.0"
      ]
     },
     "execution_count": 145,
     "metadata": {},
     "output_type": "execute_result"
    }
   ],
   "source": [
    "df1 = make_ts_df_from_series(pre_result.loc[1, :])\n",
    "df1"
   ]
  },
  {
   "cell_type": "code",
   "execution_count": 152,
   "id": "a3b1f58e",
   "metadata": {},
   "outputs": [
    {
     "data": {
      "text/html": [
       "<div>\n",
       "<style scoped>\n",
       "    .dataframe tbody tr th:only-of-type {\n",
       "        vertical-align: middle;\n",
       "    }\n",
       "\n",
       "    .dataframe tbody tr th {\n",
       "        vertical-align: top;\n",
       "    }\n",
       "\n",
       "    .dataframe thead tr th {\n",
       "        text-align: left;\n",
       "    }\n",
       "</style>\n",
       "<table border=\"1\" class=\"dataframe\">\n",
       "  <thead>\n",
       "    <tr>\n",
       "      <th>object</th>\n",
       "      <th colspan=\"2\" halign=\"left\">corp-clients_taxi_yandex_net_v1_cards_list_GET</th>\n",
       "    </tr>\n",
       "    <tr>\n",
       "      <th>sensor</th>\n",
       "      <th colspan=\"2\" halign=\"left\">ok_rps</th>\n",
       "    </tr>\n",
       "    <tr>\n",
       "      <th>group</th>\n",
       "      <th>dorblu_rtc_taxi_corp-clients_stable</th>\n",
       "      <th>dorblu_rtc_taxi_corp-clients_pre_stable</th>\n",
       "    </tr>\n",
       "    <tr>\n",
       "      <th>host</th>\n",
       "      <th>cluster</th>\n",
       "      <th>cluster</th>\n",
       "    </tr>\n",
       "    <tr>\n",
       "      <th>project</th>\n",
       "      <th>taxi</th>\n",
       "      <th>taxi</th>\n",
       "    </tr>\n",
       "    <tr>\n",
       "      <th>service</th>\n",
       "      <th>dorblu</th>\n",
       "      <th>dorblu</th>\n",
       "    </tr>\n",
       "    <tr>\n",
       "      <th>cluster</th>\n",
       "      <th>production</th>\n",
       "      <th>production</th>\n",
       "    </tr>\n",
       "  </thead>\n",
       "  <tbody>\n",
       "    <tr>\n",
       "      <th>2021-11-01 18:50:00</th>\n",
       "      <td>0.0</td>\n",
       "      <td>0.0</td>\n",
       "    </tr>\n",
       "  </tbody>\n",
       "</table>\n",
       "</div>"
      ],
      "text/plain": [
       "object              corp-clients_taxi_yandex_net_v1_cards_list_GET  \\\n",
       "sensor                                                      ok_rps   \n",
       "group                          dorblu_rtc_taxi_corp-clients_stable   \n",
       "host                                                       cluster   \n",
       "project                                                       taxi   \n",
       "service                                                     dorblu   \n",
       "cluster                                                 production   \n",
       "2021-11-01 18:50:00                                            0.0   \n",
       "\n",
       "object                                                       \n",
       "sensor                                                       \n",
       "group               dorblu_rtc_taxi_corp-clients_pre_stable  \n",
       "host                                                cluster  \n",
       "project                                                taxi  \n",
       "service                                              dorblu  \n",
       "cluster                                          production  \n",
       "2021-11-01 18:50:00                                     0.0  "
      ]
     },
     "execution_count": 152,
     "metadata": {},
     "output_type": "execute_result"
    }
   ],
   "source": [
    "df0.join(df1, how='outer')"
   ]
  },
  {
   "cell_type": "code",
   "execution_count": 160,
   "id": "c426c670",
   "metadata": {},
   "outputs": [
    {
     "data": {
      "text/html": [
       "<div>\n",
       "<style scoped>\n",
       "    .dataframe tbody tr th:only-of-type {\n",
       "        vertical-align: middle;\n",
       "    }\n",
       "\n",
       "    .dataframe tbody tr th {\n",
       "        vertical-align: top;\n",
       "    }\n",
       "\n",
       "    .dataframe thead tr th {\n",
       "        text-align: left;\n",
       "    }\n",
       "</style>\n",
       "<table border=\"1\" class=\"dataframe\">\n",
       "  <thead>\n",
       "    <tr>\n",
       "      <th>object</th>\n",
       "      <th colspan=\"2\" halign=\"left\">corp-clients_taxi_yandex_net_v1_cards_list_GET</th>\n",
       "    </tr>\n",
       "    <tr>\n",
       "      <th>sensor</th>\n",
       "      <th colspan=\"2\" halign=\"left\">ok_rps</th>\n",
       "    </tr>\n",
       "    <tr>\n",
       "      <th>group</th>\n",
       "      <th>dorblu_rtc_taxi_corp-clients_stable</th>\n",
       "      <th>dorblu_rtc_taxi_corp-clients_pre_stable</th>\n",
       "    </tr>\n",
       "    <tr>\n",
       "      <th>host</th>\n",
       "      <th>cluster</th>\n",
       "      <th>cluster</th>\n",
       "    </tr>\n",
       "    <tr>\n",
       "      <th>project</th>\n",
       "      <th>taxi</th>\n",
       "      <th>taxi</th>\n",
       "    </tr>\n",
       "    <tr>\n",
       "      <th>service</th>\n",
       "      <th>dorblu</th>\n",
       "      <th>dorblu</th>\n",
       "    </tr>\n",
       "    <tr>\n",
       "      <th>cluster</th>\n",
       "      <th>production</th>\n",
       "      <th>production</th>\n",
       "    </tr>\n",
       "  </thead>\n",
       "  <tbody>\n",
       "    <tr>\n",
       "      <th>2021-11-01 18:50:00</th>\n",
       "      <td>0.0</td>\n",
       "      <td>0.0</td>\n",
       "    </tr>\n",
       "  </tbody>\n",
       "</table>\n",
       "</div>"
      ],
      "text/plain": [
       "object              corp-clients_taxi_yandex_net_v1_cards_list_GET  \\\n",
       "sensor                                                      ok_rps   \n",
       "group                          dorblu_rtc_taxi_corp-clients_stable   \n",
       "host                                                       cluster   \n",
       "project                                                       taxi   \n",
       "service                                                     dorblu   \n",
       "cluster                                                 production   \n",
       "2021-11-01 18:50:00                                            0.0   \n",
       "\n",
       "object                                                       \n",
       "sensor                                                       \n",
       "group               dorblu_rtc_taxi_corp-clients_pre_stable  \n",
       "host                                                cluster  \n",
       "project                                                taxi  \n",
       "service                                              dorblu  \n",
       "cluster                                          production  \n",
       "2021-11-01 18:50:00                                     0.0  "
      ]
     },
     "execution_count": 160,
     "metadata": {},
     "output_type": "execute_result"
    }
   ],
   "source": [
    "reduce(lambda left, right: left.join(right, how='outer'), [df0, df1])"
   ]
  },
  {
   "cell_type": "code",
   "execution_count": 161,
   "id": "f0e267d8",
   "metadata": {},
   "outputs": [],
   "source": [
    "def make_ts_df(yt_df):\n",
    "    series_list = [make_ts_df_from_series(row[1]) for row in yt_df.iterrows()]\n",
    "    return reduce(lambda left, right: left.join(right, how='outer'), series_list)"
   ]
  },
  {
   "cell_type": "code",
   "execution_count": 162,
   "id": "3c3fde5f",
   "metadata": {},
   "outputs": [],
   "source": [
    "ts_df = make_ts_df(pre_result)"
   ]
  },
  {
   "cell_type": "code",
   "execution_count": 163,
   "id": "60cbb6df",
   "metadata": {},
   "outputs": [
    {
     "data": {
      "text/html": [
       "<div>\n",
       "<style scoped>\n",
       "    .dataframe tbody tr th:only-of-type {\n",
       "        vertical-align: middle;\n",
       "    }\n",
       "\n",
       "    .dataframe tbody tr th {\n",
       "        vertical-align: top;\n",
       "    }\n",
       "\n",
       "    .dataframe thead tr th {\n",
       "        text-align: left;\n",
       "    }\n",
       "</style>\n",
       "<table border=\"1\" class=\"dataframe\">\n",
       "  <thead>\n",
       "    <tr>\n",
       "      <th>object</th>\n",
       "      <th colspan=\"2\" halign=\"left\">corp-clients_taxi_yandex_net_v1_cards_list_GET</th>\n",
       "    </tr>\n",
       "    <tr>\n",
       "      <th>sensor</th>\n",
       "      <th colspan=\"2\" halign=\"left\">ok_rps</th>\n",
       "    </tr>\n",
       "    <tr>\n",
       "      <th>group</th>\n",
       "      <th>dorblu_rtc_taxi_corp-clients_stable</th>\n",
       "      <th>dorblu_rtc_taxi_corp-clients_pre_stable</th>\n",
       "    </tr>\n",
       "    <tr>\n",
       "      <th>host</th>\n",
       "      <th>cluster</th>\n",
       "      <th>cluster</th>\n",
       "    </tr>\n",
       "    <tr>\n",
       "      <th>project</th>\n",
       "      <th>taxi</th>\n",
       "      <th>taxi</th>\n",
       "    </tr>\n",
       "    <tr>\n",
       "      <th>service</th>\n",
       "      <th>dorblu</th>\n",
       "      <th>dorblu</th>\n",
       "    </tr>\n",
       "    <tr>\n",
       "      <th>cluster</th>\n",
       "      <th>production</th>\n",
       "      <th>production</th>\n",
       "    </tr>\n",
       "  </thead>\n",
       "  <tbody>\n",
       "    <tr>\n",
       "      <th>2021-11-01 18:50:00</th>\n",
       "      <td>0.0</td>\n",
       "      <td>0.0</td>\n",
       "    </tr>\n",
       "  </tbody>\n",
       "</table>\n",
       "</div>"
      ],
      "text/plain": [
       "object              corp-clients_taxi_yandex_net_v1_cards_list_GET  \\\n",
       "sensor                                                      ok_rps   \n",
       "group                          dorblu_rtc_taxi_corp-clients_stable   \n",
       "host                                                       cluster   \n",
       "project                                                       taxi   \n",
       "service                                                     dorblu   \n",
       "cluster                                                 production   \n",
       "2021-11-01 18:50:00                                            0.0   \n",
       "\n",
       "object                                                       \n",
       "sensor                                                       \n",
       "group               dorblu_rtc_taxi_corp-clients_pre_stable  \n",
       "host                                                cluster  \n",
       "project                                                taxi  \n",
       "service                                              dorblu  \n",
       "cluster                                          production  \n",
       "2021-11-01 18:50:00                                     0.0  "
      ]
     },
     "execution_count": 163,
     "metadata": {},
     "output_type": "execute_result"
    }
   ],
   "source": [
    "ts_df"
   ]
  },
  {
   "cell_type": "code",
   "execution_count": 60,
   "id": "7398a7f3",
   "metadata": {},
   "outputs": [
    {
     "data": {
      "text/plain": [
       "[('cluster', 'production'),\n",
       " ('service', 'dorblu'),\n",
       " ('project', 'taxi'),\n",
       " ('host', 'cluster'),\n",
       " ('group', 'dorblu_rtc_taxi_corp-clients_stable'),\n",
       " ('sensor', 'ok_rps'),\n",
       " ('object', 'corp-clients_taxi_yandex_net_v1_cards_list_GET')]"
      ]
     },
     "execution_count": 60,
     "metadata": {},
     "output_type": "execute_result"
    }
   ],
   "source": [
    "multiindex_tuples = list(pre_result['labels'][0].items())\n",
    "multiindex_tuples"
   ]
  },
  {
   "cell_type": "code",
   "execution_count": 64,
   "id": "5460b875",
   "metadata": {},
   "outputs": [],
   "source": [
    "multiindex_unzipped = list(zip(*multiindex_tuples))"
   ]
  },
  {
   "cell_type": "code",
   "execution_count": 66,
   "id": "ca1e4880",
   "metadata": {},
   "outputs": [
    {
     "data": {
      "text/plain": [
       "MultiIndex([('production', 'dorblu', 'taxi', 'cluster', ...)],\n",
       "           names=['cluster', 'service', 'project', 'host', 'group', 'sensor', 'object'])"
      ]
     },
     "execution_count": 66,
     "metadata": {},
     "output_type": "execute_result"
    }
   ],
   "source": [
    "multiindex = pd.MultiIndex.from_tuples([multiindex_unzipped[1]], names=multiindex_unzipped[0])\n",
    "multiindex"
   ]
  },
  {
   "cell_type": "code",
   "execution_count": 67,
   "id": "1e88b10a",
   "metadata": {},
   "outputs": [],
   "source": [
    "result = pd.DataFrame(pre_result['values'][0], index=pd.to_datetime(pre_result['timestamps'][0], unit='s'), columns=multiindex)"
   ]
  },
  {
   "cell_type": "code",
   "execution_count": 68,
   "id": "3a9cd052",
   "metadata": {},
   "outputs": [
    {
     "data": {
      "text/html": [
       "<div>\n",
       "<style scoped>\n",
       "    .dataframe tbody tr th:only-of-type {\n",
       "        vertical-align: middle;\n",
       "    }\n",
       "\n",
       "    .dataframe tbody tr th {\n",
       "        vertical-align: top;\n",
       "    }\n",
       "\n",
       "    .dataframe thead tr th {\n",
       "        text-align: left;\n",
       "    }\n",
       "</style>\n",
       "<table border=\"1\" class=\"dataframe\">\n",
       "  <thead>\n",
       "    <tr>\n",
       "      <th>cluster</th>\n",
       "      <th>production</th>\n",
       "    </tr>\n",
       "    <tr>\n",
       "      <th>service</th>\n",
       "      <th>dorblu</th>\n",
       "    </tr>\n",
       "    <tr>\n",
       "      <th>project</th>\n",
       "      <th>taxi</th>\n",
       "    </tr>\n",
       "    <tr>\n",
       "      <th>host</th>\n",
       "      <th>cluster</th>\n",
       "    </tr>\n",
       "    <tr>\n",
       "      <th>group</th>\n",
       "      <th>dorblu_rtc_taxi_corp-clients_stable</th>\n",
       "    </tr>\n",
       "    <tr>\n",
       "      <th>sensor</th>\n",
       "      <th>ok_rps</th>\n",
       "    </tr>\n",
       "    <tr>\n",
       "      <th>object</th>\n",
       "      <th>corp-clients_taxi_yandex_net_v1_cards_list_GET</th>\n",
       "    </tr>\n",
       "  </thead>\n",
       "  <tbody>\n",
       "    <tr>\n",
       "      <th>2021-11-01 18:40:00</th>\n",
       "      <td>0.0</td>\n",
       "    </tr>\n",
       "    <tr>\n",
       "      <th>2021-11-01 18:45:00</th>\n",
       "      <td>0.0</td>\n",
       "    </tr>\n",
       "    <tr>\n",
       "      <th>2021-11-01 18:50:00</th>\n",
       "      <td>0.0</td>\n",
       "    </tr>\n",
       "    <tr>\n",
       "      <th>2021-11-01 18:55:00</th>\n",
       "      <td>0.0</td>\n",
       "    </tr>\n",
       "    <tr>\n",
       "      <th>2021-11-01 19:00:00</th>\n",
       "      <td>0.0</td>\n",
       "    </tr>\n",
       "    <tr>\n",
       "      <th>...</th>\n",
       "      <td>...</td>\n",
       "    </tr>\n",
       "    <tr>\n",
       "      <th>2021-12-07 20:35:00</th>\n",
       "      <td>0.0</td>\n",
       "    </tr>\n",
       "    <tr>\n",
       "      <th>2021-12-07 20:40:00</th>\n",
       "      <td>0.0</td>\n",
       "    </tr>\n",
       "    <tr>\n",
       "      <th>2021-12-07 20:45:00</th>\n",
       "      <td>0.0</td>\n",
       "    </tr>\n",
       "    <tr>\n",
       "      <th>2021-12-07 20:50:00</th>\n",
       "      <td>0.0</td>\n",
       "    </tr>\n",
       "    <tr>\n",
       "      <th>2021-12-07 20:55:00</th>\n",
       "      <td>0.0</td>\n",
       "    </tr>\n",
       "  </tbody>\n",
       "</table>\n",
       "<p>10042 rows × 1 columns</p>\n",
       "</div>"
      ],
      "text/plain": [
       "cluster                                                 production\n",
       "service                                                     dorblu\n",
       "project                                                       taxi\n",
       "host                                                       cluster\n",
       "group                          dorblu_rtc_taxi_corp-clients_stable\n",
       "sensor                                                      ok_rps\n",
       "object              corp-clients_taxi_yandex_net_v1_cards_list_GET\n",
       "2021-11-01 18:40:00                                            0.0\n",
       "2021-11-01 18:45:00                                            0.0\n",
       "2021-11-01 18:50:00                                            0.0\n",
       "2021-11-01 18:55:00                                            0.0\n",
       "2021-11-01 19:00:00                                            0.0\n",
       "...                                                            ...\n",
       "2021-12-07 20:35:00                                            0.0\n",
       "2021-12-07 20:40:00                                            0.0\n",
       "2021-12-07 20:45:00                                            0.0\n",
       "2021-12-07 20:50:00                                            0.0\n",
       "2021-12-07 20:55:00                                            0.0\n",
       "\n",
       "[10042 rows x 1 columns]"
      ]
     },
     "execution_count": 68,
     "metadata": {},
     "output_type": "execute_result"
    }
   ],
   "source": [
    "result"
   ]
  },
  {
   "cell_type": "code",
   "execution_count": 164,
   "id": "16aaf72e",
   "metadata": {},
   "outputs": [],
   "source": [
    "def load_ts_df_from_yt(hahn, time_from, time_to, data_dir=DATA_DIR, **labels):\n",
    "    pre_result = hahn(make_query(data_dir, time_from, time_to, **labels))\n",
    "    return make_ts_df(pre_result)"
   ]
  },
  {
   "cell_type": "code",
   "execution_count": 165,
   "id": "8e4e52db",
   "metadata": {},
   "outputs": [
    {
     "name": "stdout",
     "output_type": "stream",
     "text": [
      "CPU times: user 108 ms, sys: 0 ns, total: 108 ms\n",
      "Wall time: 15.9 s\n"
     ]
    }
   ],
   "source": [
    "%%time\n",
    "ts_df = load_ts_df_from_yt(hahn, pd.to_datetime('2021-11-01 18:45:00'), pd.to_datetime('2021-11-01 18:55:00'),\n",
    "                           DATA_DIR,\n",
    "                           cluster='production', object='corp-clients_taxi_yandex_net_v1_cards_list_GET')"
   ]
  },
  {
   "cell_type": "code",
   "execution_count": 166,
   "id": "acd53964",
   "metadata": {},
   "outputs": [
    {
     "data": {
      "text/html": [
       "<div>\n",
       "<style scoped>\n",
       "    .dataframe tbody tr th:only-of-type {\n",
       "        vertical-align: middle;\n",
       "    }\n",
       "\n",
       "    .dataframe tbody tr th {\n",
       "        vertical-align: top;\n",
       "    }\n",
       "\n",
       "    .dataframe thead tr th {\n",
       "        text-align: left;\n",
       "    }\n",
       "</style>\n",
       "<table border=\"1\" class=\"dataframe\">\n",
       "  <thead>\n",
       "    <tr>\n",
       "      <th>object</th>\n",
       "      <th colspan=\"2\" halign=\"left\">corp-clients_taxi_yandex_net_v1_cards_list_GET</th>\n",
       "    </tr>\n",
       "    <tr>\n",
       "      <th>sensor</th>\n",
       "      <th colspan=\"2\" halign=\"left\">ok_rps</th>\n",
       "    </tr>\n",
       "    <tr>\n",
       "      <th>group</th>\n",
       "      <th>dorblu_rtc_taxi_corp-clients_stable</th>\n",
       "      <th>dorblu_rtc_taxi_corp-clients_pre_stable</th>\n",
       "    </tr>\n",
       "    <tr>\n",
       "      <th>host</th>\n",
       "      <th>cluster</th>\n",
       "      <th>cluster</th>\n",
       "    </tr>\n",
       "    <tr>\n",
       "      <th>project</th>\n",
       "      <th>taxi</th>\n",
       "      <th>taxi</th>\n",
       "    </tr>\n",
       "    <tr>\n",
       "      <th>service</th>\n",
       "      <th>dorblu</th>\n",
       "      <th>dorblu</th>\n",
       "    </tr>\n",
       "    <tr>\n",
       "      <th>cluster</th>\n",
       "      <th>production</th>\n",
       "      <th>production</th>\n",
       "    </tr>\n",
       "  </thead>\n",
       "  <tbody>\n",
       "    <tr>\n",
       "      <th>2021-11-01 18:50:00</th>\n",
       "      <td>0.0</td>\n",
       "      <td>0.0</td>\n",
       "    </tr>\n",
       "  </tbody>\n",
       "</table>\n",
       "</div>"
      ],
      "text/plain": [
       "object              corp-clients_taxi_yandex_net_v1_cards_list_GET  \\\n",
       "sensor                                                      ok_rps   \n",
       "group                          dorblu_rtc_taxi_corp-clients_stable   \n",
       "host                                                       cluster   \n",
       "project                                                       taxi   \n",
       "service                                                     dorblu   \n",
       "cluster                                                 production   \n",
       "2021-11-01 18:50:00                                            0.0   \n",
       "\n",
       "object                                                       \n",
       "sensor                                                       \n",
       "group               dorblu_rtc_taxi_corp-clients_pre_stable  \n",
       "host                                                cluster  \n",
       "project                                                taxi  \n",
       "service                                              dorblu  \n",
       "cluster                                          production  \n",
       "2021-11-01 18:50:00                                     0.0  "
      ]
     },
     "execution_count": 166,
     "metadata": {},
     "output_type": "execute_result"
    }
   ],
   "source": [
    "ts_df"
   ]
  },
  {
   "cell_type": "code",
   "execution_count": 129,
   "id": "1af2a8a7",
   "metadata": {},
   "outputs": [],
   "source": [
    "pre_result = hahn(make_query(DATA_DIR, pd.to_datetime('2021-11-01 18:45:00'), pd.to_datetime('2021-11-01 18:55:00'), cluster='production', object='corp-clients_taxi_yandex_net_v1_cards_list_GET'))"
   ]
  },
  {
   "cell_type": "code",
   "execution_count": 130,
   "id": "3f825716",
   "metadata": {},
   "outputs": [
    {
     "data": {
      "text/html": [
       "<div>\n",
       "<style scoped>\n",
       "    .dataframe tbody tr th:only-of-type {\n",
       "        vertical-align: middle;\n",
       "    }\n",
       "\n",
       "    .dataframe tbody tr th {\n",
       "        vertical-align: top;\n",
       "    }\n",
       "\n",
       "    .dataframe thead th {\n",
       "        text-align: right;\n",
       "    }\n",
       "</style>\n",
       "<table border=\"1\" class=\"dataframe\">\n",
       "  <thead>\n",
       "    <tr style=\"text-align: right;\">\n",
       "      <th></th>\n",
       "      <th>labels</th>\n",
       "      <th>tuples</th>\n",
       "    </tr>\n",
       "  </thead>\n",
       "  <tbody>\n",
       "    <tr>\n",
       "      <th>0</th>\n",
       "      <td>{'object': 'corp-clients_taxi_yandex_net_v1_ca...</td>\n",
       "      <td>[(1635792600, 0.0)]</td>\n",
       "    </tr>\n",
       "    <tr>\n",
       "      <th>1</th>\n",
       "      <td>{'object': 'corp-clients_taxi_yandex_net_v1_ca...</td>\n",
       "      <td>[(1635792600, 0.0)]</td>\n",
       "    </tr>\n",
       "  </tbody>\n",
       "</table>\n",
       "</div>"
      ],
      "text/plain": [
       "                                              labels               tuples\n",
       "0  {'object': 'corp-clients_taxi_yandex_net_v1_ca...  [(1635792600, 0.0)]\n",
       "1  {'object': 'corp-clients_taxi_yandex_net_v1_ca...  [(1635792600, 0.0)]"
      ]
     },
     "execution_count": 130,
     "metadata": {},
     "output_type": "execute_result"
    }
   ],
   "source": [
    "pre_result"
   ]
  },
  {
   "cell_type": "code",
   "execution_count": null,
   "id": "849b321e",
   "metadata": {},
   "outputs": [],
   "source": []
  }
 ],
 "metadata": {
  "kernelspec": {
   "display_name": "Python 3",
   "language": "python",
   "name": "python3"
  },
  "language_info": {
   "codemirror_mode": {
    "name": "ipython",
    "version": 3
   },
   "file_extension": ".py",
   "mimetype": "text/x-python",
   "name": "python",
   "nbconvert_exporter": "python",
   "pygments_lexer": "ipython3",
   "version": "3.7.5"
  }
 },
 "nbformat": 4,
 "nbformat_minor": 5
}
