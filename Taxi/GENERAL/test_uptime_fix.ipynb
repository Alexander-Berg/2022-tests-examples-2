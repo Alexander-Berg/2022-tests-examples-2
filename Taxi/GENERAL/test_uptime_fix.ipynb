{
 "cells": [
  {
   "cell_type": "code",
   "execution_count": 1,
   "metadata": {},
   "outputs": [],
   "source": [
    "from datetime import datetime\n",
    "import os\n",
    "import pandas as pd\n",
    "import pickle\n",
    "from tqdm import tqdm\n",
    "\n",
    "import time\n",
    "import sys\n",
    "from data_load import tariff_editor_client"
   ]
  },
  {
   "cell_type": "code",
   "execution_count": 2,
   "metadata": {},
   "outputs": [],
   "source": [
    "home_path = os.path.expanduser('~')\n",
    "with open(os.path.join(home_path,'.tariff_editor_token.txt'), 'r') as f:\n",
    "    tariff_editor_token = f.read().strip()"
   ]
  },
  {
   "cell_type": "code",
   "execution_count": 4,
   "metadata": {},
   "outputs": [],
   "source": [
    "stable_client = tariff_editor_client.TariffEditorClient(tariff_editor_token, environment='production')\n",
    "testing_client = tariff_editor_client.TariffEditorClient(tariff_editor_token, environment='testing')"
   ]
  },
  {
   "cell_type": "code",
   "execution_count": 18,
   "metadata": {},
   "outputs": [
    {
     "data": {
      "text/plain": [
       "{'uptime': [{'period': '1d', 'value': 0.9999999503662339},\n",
       "  {'period': '7d', 'value': 0.9999982020613495},\n",
       "  {'period': '30d', 'value': 0.9999994159963925}]}"
      ]
     },
     "execution_count": 18,
     "metadata": {},
     "output_type": "execute_result"
    }
   ],
   "source": [
    "stable_client.get_uptime(354458)"
   ]
  },
  {
   "cell_type": "code",
   "execution_count": 19,
   "metadata": {},
   "outputs": [
    {
     "data": {
      "text/plain": [
       "{'uptime': [{'period': '1d', 'value': 0.9999999631341662},\n",
       "  {'period': '7d', 'value': 0.9999981235567044},\n",
       "  {'period': '30d', 'value': 0.9999994133305524}]}"
      ]
     },
     "execution_count": 19,
     "metadata": {},
     "output_type": "execute_result"
    }
   ],
   "source": [
    "testing_client.get_uptime(354458)"
   ]
  },
  {
   "cell_type": "code",
   "execution_count": null,
   "metadata": {},
   "outputs": [],
   "source": []
  }
 ],
 "metadata": {
  "kernelspec": {
   "display_name": "Python 3",
   "language": "python",
   "name": "python3"
  },
  "language_info": {
   "codemirror_mode": {
    "name": "ipython",
    "version": 3
   },
   "file_extension": ".py",
   "mimetype": "text/x-python",
   "name": "python",
   "nbconvert_exporter": "python",
   "pygments_lexer": "ipython3",
   "version": "3.6.9"
  }
 },
 "nbformat": 4,
 "nbformat_minor": 2
}
