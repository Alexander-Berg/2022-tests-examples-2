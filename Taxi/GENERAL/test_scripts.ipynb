{
 "cells": [
  {
   "cell_type": "code",
   "execution_count": null,
   "metadata": {
    "ExecuteTime": {
     "end_time": "2020-07-10T12:17:45.260367Z",
     "start_time": "2020-07-10T12:17:45.256671Z"
    }
   },
   "outputs": [],
   "source": [
    "YT_TABLE_PATH = '//home/taxi_ml/dev/branding/antifraud_database/test_upload'\n",
    "STARTREK_TICKET = 'TAXIBRANDINGOPS-311'\n",
    "SUMMONEES = 'stleznev'\n",
    "STARTREK_USERAGENT = 'stleznev'"
   ]
  },
  {
   "cell_type": "code",
   "execution_count": null,
   "metadata": {
    "ExecuteTime": {
     "end_time": "2020-06-17T13:31:18.965490Z",
     "start_time": "2020-06-17T13:29:37.565849Z"
    }
   },
   "outputs": [],
   "source": [
    "!python -m projects.branding.antifraud_database.nirvana.write_exams \\\n",
    "--yt-table-path=$YT_TABLE_PATH \\\n",
    "--startrek-ticket=$STARTREK_TICKET \\\n",
    "--summonees=$SUMMONEES \\\n",
    "--startrek-useragent=$STARTREK_USERAGENT"
   ]
  },
  {
   "cell_type": "code",
   "execution_count": null,
   "metadata": {
    "ExecuteTime": {
     "end_time": "2020-07-10T13:52:34.158343Z",
     "start_time": "2020-07-10T13:39:37.777462Z"
    }
   },
   "outputs": [],
   "source": [
    "!python -m projects.branding.antifraud_database.nirvana.find_ids"
   ]
  },
  {
   "cell_type": "code",
   "execution_count": null,
   "metadata": {
    "ExecuteTime": {
     "end_time": "2020-07-10T12:25:57.436200Z",
     "start_time": "2020-07-10T12:25:57.433042Z"
    }
   },
   "outputs": [],
   "source": [
    "# !python -m projects.branding.antifraud_database.nirvana.block_ids"
   ]
  },
  {
   "cell_type": "code",
   "execution_count": null,
   "metadata": {},
   "outputs": [],
   "source": []
  }
 ],
 "metadata": {
  "kernelspec": {
   "display_name": "Python 3",
   "language": "python",
   "name": "python3"
  },
  "language_info": {
   "codemirror_mode": {
    "name": "ipython",
    "version": 3
   },
   "file_extension": ".py",
   "mimetype": "text/x-python",
   "name": "python",
   "nbconvert_exporter": "python",
   "pygments_lexer": "ipython3",
   "version": "3.7.3"
  }
 },
 "nbformat": 4,
 "nbformat_minor": 2
}
