{
 "cells": [
  {
   "cell_type": "code",
   "execution_count": null,
   "metadata": {},
   "outputs": [],
   "source": [
    "import numpy as np\n",
    "import pandas as pd\n",
    "import tqdm\n",
    "from statsmodels.stats.proportion import proportions_ztest\n",
    "from scipy.stats import mannwhitneyu, ttest_ind "
   ]
  },
  {
   "cell_type": "markdown",
   "metadata": {},
   "source": [
    "Функция для генерации выборки:"
   ]
  },
  {
   "cell_type": "code",
   "execution_count": null,
   "metadata": {},
   "outputs": [],
   "source": [
    "def generate_data(size, group_size, p_base, p_delta):\n",
    "    group_count = size / group_size\n",
    "    p_group = p_base + p_delta * (np.random.random(group_count) * 2 - 1)\n",
    "    p_repeated = np.repeat(p_group, group_size)\n",
    "    \n",
    "    events = np.random.rand(size) < p_repeated\n",
    "    users = np.repeat(np.arange(group_count), group_size)\n",
    "\n",
    "    return pd.DataFrame.from_dict({'events': events, 'users': users})"
   ]
  },
  {
   "cell_type": "markdown",
   "metadata": {},
   "source": [
    "Локальная линеаризация:"
   ]
  },
  {
   "cell_type": "code",
   "execution_count": null,
   "metadata": {},
   "outputs": [],
   "source": [
    "def linearization(control_df, test_df):\n",
    "    f_u = control_df.groupby('users').events.sum()\n",
    "    g_u = control_df.groupby('users').events.count()\n",
    "    a_coef = f_u.sum() / g_u.sum()\n",
    "    control_new_metric = np.array(f_u - a_coef * g_u)\n",
    "    \n",
    "    f_u = test_df.groupby('users').events.sum()\n",
    "    g_u = test_df.groupby('users').events.count()\n",
    "    test_new_metric = np.array(f_u - a_coef * g_u)\n",
    "    \n",
    "    return control_new_metric, test_new_metric"
   ]
  },
  {
   "cell_type": "markdown",
   "metadata": {},
   "source": [
    "Функия для проведения одного эксперимента и подсчёта статзначимости в нём:"
   ]
  },
  {
   "cell_type": "code",
   "execution_count": null,
   "metadata": {},
   "outputs": [],
   "source": [
    "def calc_one_time(\n",
    "    control_size, test_size, group_size,\n",
    "    control_cr, test_cr, delta_cr):\n",
    "    \n",
    "    data_control = generate_data(\n",
    "            size=control_size,\n",
    "            group_size=group_size,\n",
    "            p_base=control_cr,\n",
    "            p_delta=delta_cr)\n",
    "\n",
    "    data_test = generate_data(\n",
    "        size=test_size,\n",
    "        group_size=group_size,\n",
    "        p_base=test_cr,\n",
    "        p_delta=delta_cr)\n",
    "    \n",
    "    new_control, new_test = linearization(data_control, data_test)\n",
    "\n",
    "    return (\n",
    "        proportions_ztest(\n",
    "            count=[sum(data_control.events), sum(data_test.events)],\n",
    "            nobs=[control_size, test_size])[1],\n",
    "        mannwhitneyu(\n",
    "            data_control.events, data_test.events, alternative='two-sided').pvalue,\n",
    "        ttest_ind(new_control, new_test).pvalue,\n",
    "        mannwhitneyu(new_control, new_test, alternative='two-sided').pvalue)"
   ]
  },
  {
   "cell_type": "markdown",
   "metadata": {},
   "source": [
    "Функция для оценки на большом количестве экспериментов:"
   ]
  },
  {
   "cell_type": "code",
   "execution_count": null,
   "metadata": {},
   "outputs": [],
   "source": [
    "def calc_pvalue(control_size, test_size, group_size,\n",
    "                control_cr, test_cr, delta_cr, num_random_steps):\n",
    "    \n",
    "    p_values = {\n",
    "        'base': {\n",
    "            'ztest': [],\n",
    "            'mhu': []},\n",
    "        'linearization': {\n",
    "            'ttest': [],\n",
    "            'mhu': []}}\n",
    "\n",
    "    for _ in tqdm.tqdm_notebook(xrange(num_random_steps)):\n",
    "\n",
    "        a, b, c, d = calc_one_time(control_size, test_size, group_size,\n",
    "                                   control_cr, test_cr, delta_cr)\n",
    "\n",
    "        p_values['base']['ztest'].append(a)\n",
    "        p_values['base']['mhu'].append(b)\n",
    "\n",
    "        p_values['linearization']['ttest'].append(c)\n",
    "        p_values['linearization']['mhu'].append(d)\n",
    "    \n",
    "    return p_values"
   ]
  },
  {
   "cell_type": "markdown",
   "metadata": {},
   "source": [
    "## Ложные прокраски"
   ]
  },
  {
   "cell_type": "code",
   "execution_count": null,
   "metadata": {},
   "outputs": [],
   "source": [
    "base_size = 1000000\n",
    "test_group = 0.2\n",
    "\n",
    "control_size = int(base_size * (1 - test_group))\n",
    "test_size = int(base_size * test_group)\n",
    "\n",
    "cr_control = 0.8\n",
    "cr_test = 0.8\n",
    "cr_delta = 0.2\n",
    "\n",
    "num_random_steps = 10000"
   ]
  },
  {
   "cell_type": "code",
   "execution_count": null,
   "metadata": {},
   "outputs": [],
   "source": [
    "p_values = calc_pvalue(control_size=control_size, test_size=test_size,\n",
    "                       group_size=1, control_cr=cr_control, test_cr=cr_test,\n",
    "                       delta_cr=cr_delta, num_random_steps=num_random_steps)\n",
    "\n",
    "print np.mean(np.array(p_values['base']['ztest']) < 0.05)\n",
    "print np.mean(np.array(p_values['base']['mhu']) < 0.05)\n",
    "print np.mean(np.array(p_values['linearization']['ttest']) < 0.05)\n",
    "print np.mean(np.array(p_values['linearization']['mhu']) < 0.05)"
   ]
  },
  {
   "cell_type": "code",
   "execution_count": null,
   "metadata": {},
   "outputs": [],
   "source": [
    "p_values = calc_pvalue(control_size=control_size, test_size=test_size,\n",
    "                       group_size=5, control_cr=cr_control, test_cr=cr_test,\n",
    "                       delta_cr=cr_delta, num_random_steps=num_random_steps)\n",
    "\n",
    "print np.mean(np.array(p_values['base']['ztest']) < 0.05)\n",
    "print np.mean(np.array(p_values['base']['mhu']) < 0.05)\n",
    "print np.mean(np.array(p_values['linearization']['ttest']) < 0.05)\n",
    "print np.mean(np.array(p_values['linearization']['mhu']) < 0.05)"
   ]
  },
  {
   "cell_type": "code",
   "execution_count": null,
   "metadata": {},
   "outputs": [],
   "source": [
    "p_values = calc_pvalue(control_size=control_size, test_size=test_size,\n",
    "                       group_size=10, control_cr=cr_control, test_cr=cr_test,\n",
    "                       delta_cr=cr_delta, num_random_steps=num_random_steps)\n",
    "\n",
    "print np.mean(np.array(p_values['base']['ztest']) < 0.05)\n",
    "print np.mean(np.array(p_values['base']['mhu']) < 0.05)\n",
    "print np.mean(np.array(p_values['linearization']['ttest']) < 0.05)\n",
    "print np.mean(np.array(p_values['linearization']['mhu']) < 0.05)"
   ]
  },
  {
   "cell_type": "markdown",
   "metadata": {},
   "source": [
    "## Оценка мощности"
   ]
  },
  {
   "cell_type": "code",
   "execution_count": null,
   "metadata": {},
   "outputs": [],
   "source": [
    "result = []"
   ]
  },
  {
   "cell_type": "code",
   "execution_count": null,
   "metadata": {},
   "outputs": [],
   "source": [
    "base_size = 1000000\n",
    "test_group = 0.2\n",
    "\n",
    "control_size = int(base_size * (1 - test_group))\n",
    "test_size = int(base_size * test_group)\n",
    "\n",
    "group_size = 5\n",
    "\n",
    "cr_control = 0.8\n",
    "cr_delta = 0.15\n",
    "\n",
    "num_random_steps = 10000"
   ]
  },
  {
   "cell_type": "code",
   "execution_count": null,
   "metadata": {},
   "outputs": [],
   "source": [
    "cr_test = cr_control + 0.001\n",
    "p_values = calc_pvalue(control_size=control_size, test_size=test_size,\n",
    "                       group_size=group_size, control_cr=cr_control,\n",
    "                       test_cr=cr_test, delta_cr=cr_delta,\n",
    "                       num_random_steps=num_random_steps)\n",
    "result.append(p_values)\n",
    "\n",
    "print np.mean(np.array(p_values['base']['ztest']) < 0.05)\n",
    "print np.mean(np.array(p_values['base']['mhu']) < 0.05)\n",
    "print np.mean(np.array(p_values['linearization']['ttest']) < 0.05)\n",
    "print np.mean(np.array(p_values['linearization']['mhu']) < 0.05)"
   ]
  },
  {
   "cell_type": "code",
   "execution_count": null,
   "metadata": {},
   "outputs": [],
   "source": [
    "cr_test = cr_control + 0.002\n",
    "p_values = calc_pvalue(control_size=control_size, test_size=test_size,\n",
    "                       group_size=group_size, control_cr=cr_control,\n",
    "                       test_cr=cr_test, delta_cr=cr_delta,\n",
    "                       num_random_steps=num_random_steps)\n",
    "result.append(p_values)\n",
    "\n",
    "print np.mean(np.array(p_values['base']['ztest']) < 0.05)\n",
    "print np.mean(np.array(p_values['base']['mhu']) < 0.05)\n",
    "print np.mean(np.array(p_values['linearization']['ttest']) < 0.05)\n",
    "print np.mean(np.array(p_values['linearization']['mhu']) < 0.05)"
   ]
  },
  {
   "cell_type": "code",
   "execution_count": null,
   "metadata": {},
   "outputs": [],
   "source": [
    "cr_test = cr_control + 0.003\n",
    "p_values = calc_pvalue(control_size=control_size, test_size=test_size,\n",
    "                       group_size=group_size, control_cr=cr_control,\n",
    "                       test_cr=cr_test, delta_cr=cr_delta,\n",
    "                       num_random_steps=num_random_steps)\n",
    "result.append(p_values)\n",
    "\n",
    "print np.mean(np.array(p_values['base']['ztest']) < 0.05)\n",
    "print np.mean(np.array(p_values['base']['mhu']) < 0.05)\n",
    "print np.mean(np.array(p_values['linearization']['ttest']) < 0.05)\n",
    "print np.mean(np.array(p_values['linearization']['mhu']) < 0.05)"
   ]
  },
  {
   "cell_type": "code",
   "execution_count": null,
   "metadata": {},
   "outputs": [],
   "source": [
    "cr_test = cr_control + 0.004\n",
    "p_values = calc_pvalue(control_size=control_size, test_size=test_size,\n",
    "                       group_size=group_size, control_cr=cr_control,\n",
    "                       test_cr=cr_test, delta_cr=cr_delta,\n",
    "                       num_random_steps=num_random_steps)\n",
    "result.append(p_values)\n",
    "\n",
    "print np.mean(np.array(p_values['base']['ztest']) < 0.05)\n",
    "print np.mean(np.array(p_values['base']['mhu']) < 0.05)\n",
    "print np.mean(np.array(p_values['linearization']['ttest']) < 0.05)\n",
    "print np.mean(np.array(p_values['linearization']['mhu']) < 0.05)"
   ]
  },
  {
   "cell_type": "code",
   "execution_count": null,
   "metadata": {},
   "outputs": [],
   "source": [
    "cr_test = cr_control + 0.005\n",
    "p_values = calc_pvalue(control_size=control_size, test_size=test_size,\n",
    "                       group_size=group_size, control_cr=cr_control,\n",
    "                       test_cr=cr_test, delta_cr=cr_delta,\n",
    "                       num_random_steps=num_random_steps)\n",
    "result.append(p_values)\n",
    "\n",
    "print np.mean(np.array(p_values['base']['ztest']) < 0.05)\n",
    "print np.mean(np.array(p_values['base']['mhu']) < 0.05)\n",
    "print np.mean(np.array(p_values['linearization']['ttest']) < 0.05)\n",
    "print np.mean(np.array(p_values['linearization']['mhu']) < 0.05)"
   ]
  }
 ],
 "metadata": {
  "kernelspec": {
   "display_name": "pymlaas",
   "language": "python",
   "name": "pymlaas"
  },
  "language_info": {
   "codemirror_mode": {
    "name": "ipython",
    "version": 2
   },
   "file_extension": ".py",
   "mimetype": "text/x-python",
   "name": "python",
   "nbconvert_exporter": "python",
   "pygments_lexer": "ipython2",
   "version": "2.7.6"
  },
  "toc": {
   "base_numbering": 1,
   "nav_menu": {},
   "number_sections": true,
   "sideBar": true,
   "skip_h1_title": false,
   "title_cell": "Table of Contents",
   "title_sidebar": "Contents",
   "toc_cell": false,
   "toc_position": {},
   "toc_section_display": true,
   "toc_window_display": false
  },
  "varInspector": {
   "cols": {
    "lenName": 16,
    "lenType": 16,
    "lenVar": 40
   },
   "kernels_config": {
    "python": {
     "delete_cmd_postfix": "",
     "delete_cmd_prefix": "del ",
     "library": "var_list.py",
     "varRefreshCmd": "print(var_dic_list())"
    },
    "r": {
     "delete_cmd_postfix": ") ",
     "delete_cmd_prefix": "rm(",
     "library": "var_list.r",
     "varRefreshCmd": "cat(var_dic_list()) "
    }
   },
   "position": {
    "height": "343px",
    "left": "910px",
    "right": "20px",
    "top": "120px",
    "width": "324px"
   },
   "types_to_exclude": [
    "module",
    "function",
    "builtin_function_or_method",
    "instance",
    "_Feature"
   ],
   "window_display": false
  }
 },
 "nbformat": 4,
 "nbformat_minor": 2
}
