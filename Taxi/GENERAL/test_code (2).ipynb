{
 "cells": [
  {
   "cell_type": "code",
   "execution_count": null,
   "metadata": {
    "ExecuteTime": {
     "end_time": "2020-10-02T15:06:23.334441Z",
     "start_time": "2020-10-02T15:06:23.328972Z"
    }
   },
   "outputs": [],
   "source": [
    "import datetime\n",
    "import importlib\n",
    "import json\n",
    "from pprint import pprint\n",
    "from collections import Counter\n",
    "\n",
    "import pandas as pd\n",
    "import requests\n",
    "\n",
    "from projects.branding import common as common_br\n",
    "from projects.branding.antifraud_yang import default_values, common, project_config"
   ]
  },
  {
   "cell_type": "code",
   "execution_count": null,
   "metadata": {
    "ExecuteTime": {
     "end_time": "2020-10-02T15:08:57.075053Z",
     "start_time": "2020-10-02T15:08:57.068001Z"
    }
   },
   "outputs": [],
   "source": [
    "importlib.reload(default_values)\n",
    "importlib.reload(common)"
   ]
  },
  {
   "cell_type": "code",
   "execution_count": null,
   "metadata": {
    "ExecuteTime": {
     "end_time": "2020-10-02T15:06:24.904178Z",
     "start_time": "2020-10-02T15:06:23.946524Z"
    }
   },
   "outputs": [],
   "source": [
    "cluster = project_config.get_project_cluster()"
   ]
  },
  {
   "cell_type": "code",
   "execution_count": null,
   "metadata": {
    "ExecuteTime": {
     "end_time": "2020-10-02T15:06:24.912880Z",
     "start_time": "2020-10-02T15:06:24.906975Z"
    }
   },
   "outputs": [],
   "source": [
    "input_example = json.loads('{\"\"history_rbc\"\":[{\"\"photo_left\"\":\"\"https://img1.fonwall.ru/o/to/bridge-scenic-twilight-modern-architecture.jpeg?route=mid&h=750\"\",\"\"photo_right\"\":\"\"https://avatars.mds.yandex.net/get-pdb/2768989/756d2c45-cb47-4d06-b045-4c984048051c/s1200\"\",\"\"photo_front\"\":\"\"https://avatars.mds.yandex.net/get-pdb/1054037/f9b699d3-fb9b-4ce3-891c-837e5ab96416/s1200\"\",\"\"photo_back\"\":\"\"https://avatars.mds.yandex.net/get-pdb/245485/ed08f476-e81d-45f3-a5ac-7f61a4d2d5a2/s1200\"\",\"\"brand\"\":\"\"hyundai\"\",\"\"model\"\":\"\"solaris\"\",\"\"color\"\":\"\"белый\"\",\"\"car_number\"\":\"\"A111AA999\"\",\"\"city_exam\"\":\"\"Москва\"\",\"\"city_orders\"\":\"\"Москва\"\",\"\"city_park\"\":\"\"Москва\"\",\"\"sticker_assumed\"\":true,\"\"lightbox_assumed\"\":false,\"\"exam_date\"\":\"\"2020-07-11 17:00:00\"\"},{\"\"photo_left\"\":\"\"https://get.wallhere.com/photo/landscape-forest-nature-reflection-bridge-river-stream-walkway-tree-autumn-leaf-season-watercourse-woodland-habitat-natural-environment-waterway-118787.jpg\"\",\"\"photo_right\"\":\"\"https://i.pinimg.com/originals/ab/5b/8e/ab5b8e709585e978ba2c6585e40b0a03.jpg\"\",\"\"photo_front\"\":\"\"https://img3.akspic.ru/image/33593-fruktovoe_derevo-mestnoe_blyudo-apelsin-kozhura-pishha-1920x1080.jpg\"\",\"\"photo_back\"\":\"\"https://avatars.mds.yandex.net/get-pdb/25978/bda39215-c1ba-466e-9013-5302650a3d4f/s1200?webp=false\"\",\"\"brand\"\":\"\"hyundai\"\",\"\"model\"\":\"\"solaris\"\",\"\"color\"\":\"\"белый\"\",\"\"car_number\"\":\"\"A111AA999\"\",\"\"city_exam\"\":\"\"Москва\"\",\"\"city_orders\"\":\"\"Москва\"\",\"\"city_park\"\":\"\"Москва\"\",\"\"sticker_assumed\"\":false,\"\"lightbox_assumed\"\":true,\"\"exam_date\"\":\"\"2020-07-11 17:00:00\"\"}],\"\"history_rqc\"\":[{\"\"photo_left\"\":\"\"https://i.pinimg.com/originals/41/9f/e3/419fe3784c01c9219643730e9d68017d.jpg\"\",\"\"photo_right\"\":\"\"https://wallbox.ru/wallpapers/main2/201724/14974246195940e2eb8d6380.19661285.jpg\"\",\"\"photo_front\"\":\"\"https://st4.depositphotos.com/19370772/21720/i/1600/depositphotos_217202844-stock-photo-perspective-view-glowing-bright-bridge.jpg\"\",\"\"photo_back\"\":\"\"https://img2.goodfon.ru/original/2048x1284/9/23/soedinennye-shtaty-nyu-york-3328.jpg\"\",\"\"brand\"\":\"\"hyundai1\"\",\"\"model\"\":\"\"solaris1\"\",\"\"color\"\":\"\"белый1\"\",\"\"car_number\"\":\"\"A111AA99911111\"\",\"\"city_exam\"\":\"\"Москва\"\",\"\"city_orders\"\":\"\"Москва\"\",\"\"city_park\"\":\"\"Москва\"\",\"\"sticker_assumed\"\":true,\"\"exam_date\"\":\"\"2020-07-11 17:00:01\"\"},{\"\"photo_left\"\":\"\"https://img1.fonwall.ru/o/to/bridge-scenic-twilight-modern-architecture.jpeg?route=mid&h=750\"\",\"\"photo_right\"\":\"\"https://avatars.mds.yandex.net/get-pdb/2768989/756d2c45-cb47-4d06-b045-4c984048051c/s1200\"\",\"\"photo_front\"\":\"\"https://avatars.mds.yandex.net/get-pdb/1054037/f9b699d3-fb9b-4ce3-891c-837e5ab96416/s1200\"\",\"\"photo_back\"\":\"\"https://avatars.mds.yandex.net/get-pdb/245485/ed08f476-e81d-45f3-a5ac-7f61a4d2d5a2/s1200\"\",\"\"brand\"\":\"\"hyundai2\"\",\"\"model\"\":\"\"solaris2\"\",\"\"color\"\":\"\"белый2\"\",\"\"lightbox_assumed\"\":true,\"\"car_number\"\":\"\"A111AA999222222222\"\",\"\"city_exam\"\":\"\"Москва\"\",\"\"city_orders\"\":\"\"Москва\"\",\"\"city_park\"\":\"\"Москва2\"\",\"\"exam_date\"\":\"\"2020-07-11 17:00:02\"\"},{\"\"photo_left\"\":\"\"https://s1.1zoom.ru/big3/317/404660-svetik.jpg\"\",\"\"photo_right\"\":\"\"https://www.liguriaviamare.it/easyUp/eBanner/1_cinqueterre_8pqy.jpg\"\",\"\"photo_front\"\":\"\"https://i.redd.it/lxh5mkcxfs031.jpg\"\",\"\"photo_back\"\":\"\"https://avatars.mds.yandex.net/get-pdb/1604606/391b00c8-44ee-4eef-ab70-cf41a8548c17/s1200?webp=false\"\",\"\"brand\"\":\"\"hyundai3\"\",\"\"model\"\":\"\"solaris3\"\",\"\"color\"\":\"\"белый4\"\",\"\"car_number\"\":\"\"A111AA999333333333\"\",\"\"city_exam\"\":\"\"Москва\"\",\"\"city_orders\"\":\"\"Москва\"\",\"\"city_park\"\":\"\"Москва3\"\",\"\"exam_date\"\":\"\"2020-07-11 17:00:03\"\"}]}'.replace('\"\"', '\"'))\n",
    "\n",
    "# with open('./test_input_from_project.json', 'w') as f:\n",
    "#     json.dump(input_example, f, indent=3, ensure_ascii=False)\n"
   ]
  },
  {
   "cell_type": "code",
   "execution_count": null,
   "metadata": {
    "ExecuteTime": {
     "end_time": "2020-10-02T15:06:24.918593Z",
     "start_time": "2020-10-02T15:06:24.915723Z"
    }
   },
   "outputs": [],
   "source": [
    "session = common_br.create_session(5, 3)"
   ]
  },
  {
   "cell_type": "code",
   "execution_count": null,
   "metadata": {
    "ExecuteTime": {
     "end_time": "2020-10-02T15:06:24.923643Z",
     "start_time": "2020-10-02T15:06:24.920746Z"
    }
   },
   "outputs": [],
   "source": [
    "tvm_ticket = (\n",
    "    ''\n",
    "\n"
   ]
  },
  {
   "cell_type": "code",
   "execution_count": null,
   "metadata": {
    "ExecuteTime": {
     "end_time": "2020-10-02T15:06:25.292943Z",
     "start_time": "2020-10-02T15:06:25.289468Z"
    }
   },
   "outputs": [],
   "source": [
    "# uuid = 'b3aae4c3400b6baef08fbb4484dd5a69'\n",
    "# unique_driver_id = '5d9718a7b8e3f87968948316'\n",
    "# park_id = '7ad36bc7560449998acbe2c57a75c293'\n",
    "# car_id = '19b52e980bb4470fbda7d66d76395f14'\n",
    "# park_id = '4b224cbc6d9146de9367b809293c7ed7'\n",
    "# car_id = '4d50ca9dfefdebef3fa84ba7ec5e66d6'"
   ]
  },
  {
   "cell_type": "code",
   "execution_count": null,
   "metadata": {
    "ExecuteTime": {
     "end_time": "2020-10-02T15:06:25.771377Z",
     "start_time": "2020-10-02T15:06:25.761190Z"
    }
   },
   "outputs": [],
   "source": [
    "def send_request(tvm_ticket, session, car_number, type_var, exam, limit):\n",
    "    url = 'http://quality-control.taxi.tst.yandex.net/api/v1/pass/history'\n",
    "\n",
    "    headers_post = {\n",
    "        'X-Ya-Service-Ticket': tvm_ticket,\n",
    "        'Content-Type': 'application/json',\n",
    "    }\n",
    "    params = {\n",
    "        'type': type_var,\n",
    "        'exam': exam,\n",
    "        'options': ['urls'],\n",
    "    }\n",
    "    filter_dict = {}\n",
    "    if car_number:\n",
    "        filter_dict = {'car_number': car_number}\n",
    "    data = {\n",
    "      \"limit\": limit,\n",
    "      \"direction\": \"desc\",\n",
    "      \"filter\": filter_dict,\n",
    "    }\n",
    "    data = json.dumps(data)\n",
    "    \n",
    "    response = session.post(\n",
    "        url=url,\n",
    "        params=params,\n",
    "        headers=headers_post,\n",
    "        data=data,\n",
    "        verify=False,\n",
    "    )\n",
    "    \n",
    "    return response"
   ]
  },
  {
   "cell_type": "code",
   "execution_count": null,
   "metadata": {
    "ExecuteTime": {
     "end_time": "2020-09-27T13:42:00.295750Z",
     "start_time": "2020-09-27T13:42:00.290977Z"
    }
   },
   "outputs": [],
   "source": []
  },
  {
   "cell_type": "code",
   "execution_count": null,
   "metadata": {
    "ExecuteTime": {
     "end_time": "2020-10-02T15:06:28.653814Z",
     "start_time": "2020-10-02T15:06:28.407728Z"
    }
   },
   "outputs": [],
   "source": [
    "resp_rbc = send_request(\n",
    "    tvm_ticket=tvm_ticket,\n",
    "    session=session,\n",
    "    type_var=default_values.HistoryHandler.RBC_TYPE_VAR,\n",
    "    exam=default_values.HistoryHandler.RBC_EXAM,\n",
    "    limit=default_values.HistoryHandler.RBC_LIMIT,\n",
    "    car_number='A355A077',\n",
    ")\n",
    "print(resp_rbc.status_code)"
   ]
  },
  {
   "cell_type": "code",
   "execution_count": null,
   "metadata": {
    "ExecuteTime": {
     "end_time": "2020-10-02T15:06:29.196122Z",
     "start_time": "2020-10-02T15:06:28.656172Z"
    }
   },
   "outputs": [],
   "source": [
    "resp_rqc = send_request(\n",
    "    tvm_ticket=tvm_ticket,\n",
    "    session=session,\n",
    "    type_var=default_values.HistoryHandler.RQC_TYPE_VAR,\n",
    "    exam=default_values.HistoryHandler.RQC_EXAM,\n",
    "    limit=default_values.HistoryHandler.RQC_LIMIT,\n",
    "    car_number='A355A077',\n",
    ")\n",
    "print(resp_rqc.status_code)"
   ]
  },
  {
   "cell_type": "code",
   "execution_count": null,
   "metadata": {
    "ExecuteTime": {
     "end_time": "2020-10-02T15:06:29.558469Z",
     "start_time": "2020-10-02T15:06:29.552275Z"
    }
   },
   "outputs": [],
   "source": [
    "print(len(list(filter(lambda x: x['status'] == 'RESOLVED', resp_rbc.json()['items']))))\n",
    "print(len(list(filter(lambda x: x['status'] == 'RESOLVED', resp_rqc.json()['items']))))"
   ]
  },
  {
   "cell_type": "code",
   "execution_count": null,
   "metadata": {
    "ExecuteTime": {
     "end_time": "2020-10-02T15:06:31.399582Z",
     "start_time": "2020-10-02T15:06:31.380021Z"
    }
   },
   "outputs": [],
   "source": [
    "resp_rbc.json()['items']"
   ]
  },
  {
   "cell_type": "markdown",
   "metadata": {},
   "source": [
    "### Test script"
   ]
  },
  {
   "cell_type": "code",
   "execution_count": null,
   "metadata": {
    "ExecuteTime": {
     "end_time": "2020-09-27T23:14:08.712341Z",
     "start_time": "2020-09-27T23:14:08.705911Z"
    }
   },
   "outputs": [],
   "source": [
    "# test_list = [\n",
    "#     {'car_number_normalized': 'A355A077',\n",
    "#      'city': 'Москва',\n",
    "#      'driver_id_list': [park_id + '_' + uuid],\n",
    "#      'park_id_car_id_list': [park_id + '_' + car_id],}\n",
    "# ]\n",
    "\n",
    "\n",
    "# test_df = pd.DataFrame(test_list)"
   ]
  },
  {
   "cell_type": "code",
   "execution_count": null,
   "metadata": {
    "ExecuteTime": {
     "end_time": "2020-10-02T15:06:46.240496Z",
     "start_time": "2020-10-02T15:06:46.237425Z"
    }
   },
   "outputs": [],
   "source": [
    "# cluster.write('//home/taxi_ml/dev/branding/antifraud/yang/test_table', test_df)"
   ]
  },
  {
   "cell_type": "code",
   "execution_count": null,
   "metadata": {
    "ExecuteTime": {
     "end_time": "2020-10-02T15:06:48.103035Z",
     "start_time": "2020-10-02T15:06:47.328953Z"
    }
   },
   "outputs": [],
   "source": [
    "# ! python -m projects.branding.antifraud_yang.nirvana.create_exam_table \\\n",
    "# --input-table-name=test_table \\\n",
    "# --output-table-name=test_table_exams \\\n",
    "# --tvm-src-id=100 \\\n",
    "# --tvm-dst-id=100"
   ]
  },
  {
   "cell_type": "code",
   "execution_count": null,
   "metadata": {},
   "outputs": [],
   "source": []
  }
 ],
 "metadata": {
  "kernelspec": {
   "display_name": "Python 3",
   "language": "python",
   "name": "python3"
  },
  "language_info": {
   "codemirror_mode": {
    "name": "ipython",
    "version": 3
   },
   "file_extension": ".py",
   "mimetype": "text/x-python",
   "name": "python",
   "nbconvert_exporter": "python",
   "pygments_lexer": "ipython3",
   "version": "3.7.3"
  }
 },
 "nbformat": 4,
 "nbformat_minor": 2
}
